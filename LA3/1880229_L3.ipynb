{
  "cells": [
    {
      "cell_type": "markdown",
      "metadata": {
        "deletable": false,
        "editable": false,
        "id": "B0MkdUIPFAvT",
        "nbgrader": {
          "cell_type": "markdown",
          "checksum": "063009415b8ed3a123ecea0931bcae38",
          "grade": false,
          "grade_id": "cell-72f3550ab325cb1e",
          "locked": true,
          "schema_version": 3,
          "solution": false,
          "task": false
        }
      },
      "source": [
        "# Lab 3: Data Science Basics"
      ]
    },
    {
      "cell_type": "markdown",
      "metadata": {
        "id": "Uk3ABrxA3zrw"
      },
      "source": [
        "***\n",
        "- **FIRST name**: Abimbola\n",
        "- **LAST name**: Olarinde\n",
        "- **Student ID**: 1880229\n",
        "\n",
        "Leave blank if individual:\n",
        "- **Collaborator names**:\n",
        "- **Collaborator student IDs**:\n",
        "***"
      ]
    },
    {
      "cell_type": "markdown",
      "metadata": {
        "deletable": false,
        "editable": false,
        "id": "tlwmaaVW3zrx",
        "nbgrader": {
          "cell_type": "markdown",
          "checksum": "2b520a195734fbfc0108dada47b8573c",
          "grade": false,
          "grade_id": "cell-ccfb1277e672a64a",
          "locked": true,
          "schema_version": 3,
          "solution": false,
          "task": false
        }
      },
      "source": [
        "In today's lab, you will learn how to:\n",
        "\n",
        "1.   define and call functions;\n",
        "2.   visualize data;\n",
        "3.   use NumPy and Pandas to simulate randomness and probabilities.\n",
        "\n",
        "For this lab, you will need three datasets: <code>imdb.csv</code>, <code>canada_population.csv</code>, and <code>exam_scores.csv</code>.\n",
        "\n",
        "### Instructions\n",
        "\n",
        "- **Collaboration**: You must submit your own work. The collaboration policy for the labs is Consultation Collaboration. You may verbally discuss concepts with your classmates, without exchanging written text, code, or detailed advice. You must develop your own solution and submit your own work. All sources of information used including books, websites, students you talked to, must be cited in the submission. Please see the course FAQ document for details on this collaboration policy. We will adhere to current Faculty of Science guidelines on dealing with suspected cases of plagiarism.\n",
        "- **Software**: We highly recommend that students use Google Colab for completing labs and assignments. This is the software used by the TAs in the course, and we can guarantee that there will be no issues with incompatible environments or imports.\n",
        "- **Filling out the Notebook**: You must use this notebook to complete your lab. You will execute the questions in the notebook. The questions might ask for a short answer in text form or for you to write and execute a piece of code. Make sure you enter your answer in either case only in the cell provided.\n",
        "- **Important**:  Do not use a different cell, do not delete cells, and do not create a new cell. Creating new cells for your code is not compatible with the auto-grading system we are using and thus your assignment will not get grading properly and you will lose marks for that question. As a reminder you must remove the raise NotImplementedError() statements from each question when answering.\n",
        "- **Rules for Datasets**: Any datasets used in the lab cannot be imported from cloud storage, e.g google drive, and must be read from a file either on your local computer or uploaded to the google colab notebook. Importing from cloud storage will result in a zero.\n",
        "- **Submission Formatting**: When you are done, you will submit your work from the notebook. Make sure to save your notebook before running it, and then submit on Canvas the notebook file with your work completed. Name your file with your Student ID number, followed by an underscore and L plus the lab number (ex: 1234567_L3.ipynb). Failure to do so will result in your final score being reduced by 50%! Finally your name must be written at the top of the lab or assignment document."
      ]
    },
    {
      "cell_type": "markdown",
      "metadata": {
        "deletable": false,
        "editable": false,
        "id": "809zttoWFyaU",
        "nbgrader": {
          "cell_type": "markdown",
          "checksum": "48906bc72278d820f85274d2547f24d4",
          "grade": false,
          "grade_id": "cell-9942ebc489e49cad",
          "locked": true,
          "schema_version": 3,
          "solution": false,
          "task": false
        }
      },
      "source": [
        "# 1. Functions\n",
        "\n",
        "In the first lab, we learned that Python has built in functions, such as <code>abs</code> and <code>max</code> that make writing code easier. We can also write our own functions that we can call later in our code.  \n",
        "\n"
      ]
    },
    {
      "cell_type": "markdown",
      "metadata": {
        "deletable": false,
        "editable": false,
        "id": "UskVQRaEVclA",
        "nbgrader": {
          "cell_type": "markdown",
          "checksum": "e4d620b5425c7b8cc879685fa3e6513b",
          "grade": false,
          "grade_id": "cell-646804322006281d",
          "locked": true,
          "schema_version": 3,
          "solution": false,
          "task": false
        }
      },
      "source": [
        "<p> Let's make a function that adds two numbers. To do this, we have to understand the different parts of a function: </p>\n",
        "\n",
        "#### <code>def</code>\n",
        "Functions always start with <code>def</code> (short for **def**ine):\n",
        "\n",
        "> def\n",
        "\n",
        "#### Name\n",
        "The name is what we want to call our function. The same rules that apply to naming variables apply to naming functions. Let's name our function <code>number_sum</code>.\n",
        "\n",
        ">def number_sum\n",
        "\n",
        "#### Signature\n",
        "The signature tells Python how many arguments your function has and what names you'll refer to those arguments in the function's code. A function can have any number of arguments and are always inclosed with round brackets. <code>number_sum</code> should take in two arguments, which we'll name <code>a</code> and <code>b</code>.\n",
        "\n",
        ">def number_sum(a, b)\n",
        "\n",
        "The arguments are always followed by a colon. This tells Python that the next lines are the body of the function. Python automatically indents these lines for us.\n",
        "\n",
        ">def number_sum(a, b):\n",
        "\n",
        "#### Body\n",
        "\n",
        "The body contains the code that will be run when the function is called. Every line in the body must be indented or else it will not be considered a part of the function. When writing the body of a function, we generally only use the variables in the signature; if we want to use a variable outside of the function, we should define it in the signature!\n",
        "\n",
        "<p> Finally, it's useful to include some documentation that describes what the function does. This makes it easier for others who are reading our code to understand what we're doing. Documentation usually uses a triple-quoted string. </p>\n",
        "\n",
        ">def number_sum(a, b):\n",
        ">>\"\"\"Sums numbers a and b\"\"\"\n",
        ">><p> two_sum = a + b </p>\n",
        "\n",
        "#### <code>return</code>\n",
        "If you expect your function to return a value, then the last line of your body should always be a <code>return</code> statement. Once Python encounters a <code>return</code>, it stops executing the code in the function, so it makes sense to only have it at the end. If your function does not have a <code>return</code> statement, it will not return anything.\n",
        "\n",
        ">def number_sum(a, b):\n",
        ">>\"\"\"Sums numbers a and b\"\"\"\n",
        ">><p> two_sum = a + b </p>\n",
        ">> <p> return two_sum </p>\n",
        "\n",
        "**Note**: If we don't use a <code>return</code> in our function, there are other statements we can use, such as the <code>print</code> statement. If we use <code>print</code>, the value will be printed to the console. <code>return</code> and <code>print</code> are **very** different: the value that is passed to <code>print</code> cannot be used outside of the function."
      ]
    },
    {
      "cell_type": "markdown",
      "metadata": {
        "deletable": false,
        "editable": false,
        "id": "rxAv4-N6e0e4",
        "nbgrader": {
          "cell_type": "markdown",
          "checksum": "0eae020152bd0cbc6b16ecd549ebdb38",
          "grade": false,
          "grade_id": "cell-9b49938fac533723",
          "locked": true,
          "schema_version": 3,
          "solution": false,
          "task": false
        }
      },
      "source": [
        "<p> Let's go through an example of calling our function: </p>\n",
        "\n",
        "<p> If we call <code>number_sum(1, 2)</code>, the argument <code>a</code> in our signature will be assigned to 1, while the argument <code>b</code> in our signature will be assigned to 2. </p>\n",
        "\n",
        "<p> Our definition will be ignored since it's in quotes. Next, the expression <code>two_sum = a + b</code> will be evaluated as <code>two_sum = 1 + 2</code>. </p>\n",
        "\n",
        "Finally, the value of <code>two_sum</code> will be returned, which is three. Once the <code>return</code> statement is finished, Python will stop executing the code inside the function block and will resume executing any other code that we may have."
      ]
    },
    {
      "cell_type": "markdown",
      "metadata": {
        "deletable": false,
        "editable": false,
        "id": "DGWEozqNg4qr",
        "nbgrader": {
          "cell_type": "markdown",
          "checksum": "e26fe058c462b40efef972f22598b3c3",
          "grade": false,
          "grade_id": "cell-8cc030641438683a",
          "locked": true,
          "schema_version": 3,
          "solution": false,
          "task": false
        }
      },
      "source": [
        "**Question 1.1.** Define <code>number_sum</code> in the cell below. Instead of summing two numbers, the signature will include a third number called <code>c</code>. Change the body of the function so that it adds three numbers instead of two."
      ]
    },
    {
      "cell_type": "code",
      "execution_count": 88,
      "metadata": {
        "deletable": false,
        "id": "dE8aacdVVbuX",
        "nbgrader": {
          "cell_type": "code",
          "checksum": "db69d35c1a94dee49bec12a09dad8388",
          "grade": false,
          "grade_id": "cell-ccd7821a44181df1",
          "locked": false,
          "schema_version": 3,
          "solution": true,
          "task": false
        }
      },
      "outputs": [],
      "source": [
        "def number_sum(a, b, c):\n",
        "    # YOUR CODE HERE\n",
        "    \"Sums numbers a, b and c\"\n",
        "    three_sum = a + b + c\n",
        "\n",
        "    return three_sum\n",
        "\n",
        "    "
      ]
    },
    {
      "cell_type": "markdown",
      "metadata": {
        "deletable": false,
        "editable": false,
        "id": "kf0mebt-3zr2",
        "nbgrader": {
          "cell_type": "markdown",
          "checksum": "3e3182a7071bcd71280704c6859ec041",
          "grade": false,
          "grade_id": "cell-8d46afef15a617d6",
          "locked": true,
          "schema_version": 3,
          "solution": false,
          "task": false
        }
      },
      "source": [
        "Run the cell below to test your function. The built-in function <code>assert</code> checks to see the the return value of your function is correct. You will get an error message if your function is wrong. If your function is correct, you shouldn't get any output. There are hidden tests to check other cases so don't hardcode the answer!"
      ]
    },
    {
      "cell_type": "code",
      "execution_count": 89,
      "metadata": {
        "deletable": false,
        "editable": false,
        "id": "ymVWxnVq3zr3",
        "nbgrader": {
          "cell_type": "code",
          "checksum": "60e5fec953ebd6146c1382a3e5b994b5",
          "grade": true,
          "grade_id": "cell-755112490b73536f",
          "locked": true,
          "points": 8,
          "schema_version": 3,
          "solution": false,
          "task": false
        }
      },
      "outputs": [],
      "source": [
        "#TEST CELL: do not delete!\n",
        "### TESTS\n",
        "assert(number_sum(5, 7, 10) == 22)\n"
      ]
    },
    {
      "cell_type": "markdown",
      "metadata": {
        "deletable": false,
        "editable": false,
        "id": "p8R6IuE7h38O",
        "nbgrader": {
          "cell_type": "markdown",
          "checksum": "f3eb55173130cd2ef59c8f77780f35c5",
          "grade": false,
          "grade_id": "cell-2ca7d53876b604f1",
          "locked": true,
          "schema_version": 3,
          "solution": false,
          "task": false
        }
      },
      "source": [
        "You can use built-in functions (abs, min, etc) just like you did in previous labs."
      ]
    },
    {
      "cell_type": "markdown",
      "metadata": {
        "deletable": false,
        "editable": false,
        "id": "UVE3V4imjRqW",
        "nbgrader": {
          "cell_type": "markdown",
          "checksum": "4fe1e4b69eb254beea3a056920533933",
          "grade": false,
          "grade_id": "cell-1852eb4b9eff877d",
          "locked": true,
          "schema_version": 3,
          "solution": false,
          "task": false
        }
      },
      "source": [
        "**Question 1.2.** Suppose you have three sets of numbers and you want to add the smallest number of each set together. Use the <code>min</code> function and your function defined above to compute this. Assign your answer to <code>set_sum</code>.\n",
        "\n",
        "*Hint* : start by finding the smallest number in each set, then call the function you made above. </p>\n",
        "*Note* : you do not have to re-define <code>number_sum</code>! Like other variables, functions don't go away after you define them.</p>\n"
      ]
    },
    {
      "cell_type": "code",
      "execution_count": 90,
      "metadata": {
        "deletable": false,
        "id": "PrsQb9EojQqe",
        "nbgrader": {
          "cell_type": "code",
          "checksum": "dc92cfe201fb8583b62c61c8c5c4a222",
          "grade": false,
          "grade_id": "cell-e77e70da0d46f716",
          "locked": false,
          "schema_version": 3,
          "solution": true,
          "task": false
        }
      },
      "outputs": [
        {
          "data": {
            "text/plain": [
              "23"
            ]
          },
          "execution_count": 90,
          "metadata": {},
          "output_type": "execute_result"
        }
      ],
      "source": [
        "set1 = (62, 4, 79, 6)\n",
        "set2 = (23, 54, 16, 11)\n",
        "set3 = (100, 45, 8, 15)\n",
        "\n",
        "# YOUR CODE HERE\n",
        "min_1 = min(set1)\n",
        "min_2 = min(set2)\n",
        "min_3 = min(set3)\n",
        "\n",
        "set_sum = number_sum(min_1,min_2,min_3)\n",
        "set_sum"
      ]
    },
    {
      "cell_type": "code",
      "execution_count": 91,
      "metadata": {
        "deletable": false,
        "editable": false,
        "id": "jVrkSuKh3zr4",
        "nbgrader": {
          "cell_type": "code",
          "checksum": "c030b25a1029ad732dc40758742f0214",
          "grade": true,
          "grade_id": "cell-4ccef097905a1de6",
          "locked": true,
          "points": 8,
          "schema_version": 3,
          "solution": false,
          "task": false
        }
      },
      "outputs": [],
      "source": [
        "#TEST CELL: do not delete!"
      ]
    },
    {
      "cell_type": "markdown",
      "metadata": {
        "deletable": false,
        "editable": false,
        "id": "2AN3B_GIwaa8",
        "nbgrader": {
          "cell_type": "markdown",
          "checksum": "9418be441fcf914a92ebe92205105bda",
          "grade": false,
          "grade_id": "cell-13b8b5b327d377a1",
          "locked": true,
          "schema_version": 3,
          "solution": false,
          "task": false
        }
      },
      "source": [
        "Some more notes about functions:\n",
        "\n",
        "*   The names defined within a function body are only accessible within the function. Once the function is finished executing, every variable that was defined no longer exists. For example, the variable <code>two_sum</code> that we defined above is not accessible outside the function (unless we return it).\n",
        "*   Functions can also take strings, arrays, or tables as arguments and can return them too.\n",
        "\n",
        "\n"
      ]
    },
    {
      "cell_type": "markdown",
      "metadata": {
        "deletable": false,
        "editable": false,
        "id": "KjDguOznB0wW",
        "nbgrader": {
          "cell_type": "markdown",
          "checksum": "a3698c6da461a0f00b10a35abd574d81",
          "grade": false,
          "grade_id": "cell-36629bd211f699b6",
          "locked": true,
          "schema_version": 3,
          "solution": false,
          "task": false
        }
      },
      "source": [
        "## Functions and tables\n",
        "\n",
        "We will now write a function that uses the imdb.csv dataset. Run the cell below."
      ]
    },
    {
      "cell_type": "code",
      "execution_count": 92,
      "metadata": {
        "deletable": false,
        "editable": false,
        "id": "lGjhLV-1kd7q",
        "nbgrader": {
          "cell_type": "code",
          "checksum": "b8ad801c9711b519b8fdba7d399ba398",
          "grade": false,
          "grade_id": "cell-eaf7a963dd481a8c",
          "locked": true,
          "schema_version": 3,
          "solution": false,
          "task": false
        }
      },
      "outputs": [],
      "source": [
        "import pandas as pd\n",
        "import numpy as np\n",
        "\n",
        "movies = pd.read_csv(\"imdb.csv\")"
      ]
    },
    {
      "cell_type": "markdown",
      "metadata": {
        "deletable": false,
        "editable": false,
        "id": "Kby5tdWNCiXZ",
        "nbgrader": {
          "cell_type": "markdown",
          "checksum": "75be9dde76d4bd24e0d50e06d977d1e6",
          "grade": false,
          "grade_id": "cell-3824c9eb93395855",
          "locked": true,
          "schema_version": 3,
          "solution": false,
          "task": false
        }
      },
      "source": [
        "Suppose we want sort the list of movies by alphabetical order and return the first one for a specific year, say 1992. You might write something like this:"
      ]
    },
    {
      "cell_type": "code",
      "execution_count": 93,
      "metadata": {
        "deletable": false,
        "editable": false,
        "id": "NuCJtdSeCccj",
        "nbgrader": {
          "cell_type": "code",
          "checksum": "8242b60133dfaf3c8e9171f9b709e671",
          "grade": false,
          "grade_id": "cell-a96b29ad03b18e0f",
          "locked": true,
          "schema_version": 3,
          "solution": false,
          "task": false
        }
      },
      "outputs": [
        {
          "data": {
            "text/plain": [
              "Poster_Link      https://m.media-amazon.com/images/M/MV5BMmRlZD...\n",
              "Series_Title                                        A Few Good Men\n",
              "Released_Year                                                 1992\n",
              "Certificate                                                      U\n",
              "Runtime                                                    138 min\n",
              "Genre                                              Drama, Thriller\n",
              "IMDB_Rating                                                    7.7\n",
              "Overview         Military lawyer Lieutenant Daniel Kaffee defen...\n",
              "Meta_score                                                    62.0\n",
              "Director                                                Rob Reiner\n",
              "Star1                                                   Tom Cruise\n",
              "Star2                                               Jack Nicholson\n",
              "Star3                                                   Demi Moore\n",
              "Star4                                                  Kevin Bacon\n",
              "No_of_Votes                                                 235388\n",
              "Gross                                                  141,340,178\n",
              "Name: 824, dtype: object"
            ]
          },
          "execution_count": 93,
          "metadata": {},
          "output_type": "execute_result"
        }
      ],
      "source": [
        "movies_1992 = movies[movies[\"Released_Year\"] == 1992]\n",
        "sorted_movies_1992 = movies_1992.sort_values(by='Series_Title')\n",
        "first_alphabetical_movie_1992 = sorted_movies_1992.iloc[0]\n",
        "\n",
        "hardcode_1992 = first_alphabetical_movie_1992\n",
        "hardcode_1992"
      ]
    },
    {
      "cell_type": "markdown",
      "metadata": {
        "deletable": false,
        "editable": false,
        "id": "XdzJzCGuF3N8",
        "nbgrader": {
          "cell_type": "markdown",
          "checksum": "d3ed99a40691b732de281335b8bbb6c8",
          "grade": false,
          "grade_id": "cell-c8d1b237a6428ae4",
          "locked": true,
          "schema_version": 3,
          "solution": false,
          "task": false
        }
      },
      "source": [
        "Note that <code>.iloc[0]</code> selects the first row of the data frame <code>sorted_movies_1992</code>. You can read more about <code>.iloc()</code> and <code>.loc()</code> [here](https://www.geeksforgeeks.org/difference-between-loc-and-iloc-in-pandas-dataframe/)."
      ]
    },
    {
      "cell_type": "markdown",
      "metadata": {
        "deletable": false,
        "editable": false,
        "id": "g99lETzuFegm",
        "nbgrader": {
          "cell_type": "markdown",
          "checksum": "b264ba4b874e6535dbfe4d1ed73435f7",
          "grade": false,
          "grade_id": "cell-497fc544b2e9aac9",
          "locked": true,
          "schema_version": 3,
          "solution": false,
          "task": false
        }
      },
      "source": [
        "You might want to repeat this for multiple different years. However, it doesn't make sense to rewrite the same code multiple times, so instead you write a function."
      ]
    },
    {
      "cell_type": "markdown",
      "metadata": {
        "deletable": false,
        "editable": false,
        "id": "TUlAZMcKGMIe",
        "nbgrader": {
          "cell_type": "markdown",
          "checksum": "7ad71d1a69c88f42e4456a85f3698d69",
          "grade": false,
          "grade_id": "cell-17e26f11fc2b6626",
          "locked": true,
          "schema_version": 3,
          "solution": false,
          "task": false
        }
      },
      "source": [
        "**Question 1.3.** Write a function called <code>print_first_alphabetical_movie</code> that takes the year as its single argument."
      ]
    },
    {
      "cell_type": "code",
      "execution_count": 94,
      "metadata": {
        "deletable": false,
        "id": "r1oxrYnbDei7",
        "nbgrader": {
          "cell_type": "code",
          "checksum": "530e7485070eb808b42ba7bd7ce0fd95",
          "grade": false,
          "grade_id": "cell-e011ed88e35bca7f",
          "locked": false,
          "schema_version": 3,
          "solution": true,
          "task": false
        }
      },
      "outputs": [
        {
          "data": {
            "text/plain": [
              "Poster_Link      https://m.media-amazon.com/images/M/MV5BMmRlZD...\n",
              "Series_Title                                        A Few Good Men\n",
              "Released_Year                                                 1992\n",
              "Certificate                                                      U\n",
              "Runtime                                                    138 min\n",
              "Genre                                              Drama, Thriller\n",
              "IMDB_Rating                                                    7.7\n",
              "Overview         Military lawyer Lieutenant Daniel Kaffee defen...\n",
              "Meta_score                                                    62.0\n",
              "Director                                                Rob Reiner\n",
              "Star1                                                   Tom Cruise\n",
              "Star2                                               Jack Nicholson\n",
              "Star3                                                   Demi Moore\n",
              "Star4                                                  Kevin Bacon\n",
              "No_of_Votes                                                 235388\n",
              "Gross                                                  141,340,178\n",
              "Name: 824, dtype: object"
            ]
          },
          "execution_count": 94,
          "metadata": {},
          "output_type": "execute_result"
        }
      ],
      "source": [
        "# YOUR CODE HERE\n",
        "def print_first_alphabetical_movie(year):\n",
        "    \"Function to sort the list of movies by alphabetical order and return the first one for a specific year\"\n",
        "    movies_year = movies[movies[\"Released_Year\"] == year]\n",
        "    Sort_movies_year = movies_year.sort_values(by='Series_Title')\n",
        "    first_alphabetical_movie_year = Sort_movies_year.iloc[0]\n",
        "\n",
        "    return first_alphabetical_movie_year\n",
        "\n",
        "\n",
        "\n",
        "\n",
        "# the code below makes a call to the function for the year 1992\n",
        "function_1992 = print_first_alphabetical_movie(1992)\n",
        "function_1992"
      ]
    },
    {
      "cell_type": "markdown",
      "metadata": {
        "deletable": false,
        "editable": false,
        "id": "olAj4MG23zr7",
        "nbgrader": {
          "cell_type": "markdown",
          "checksum": "6d2f6c49a976bad802bb42b75e454a81",
          "grade": false,
          "grade_id": "cell-5cf591c5d9a8d95d",
          "locked": true,
          "schema_version": 3,
          "solution": false,
          "task": false
        }
      },
      "source": [
        "The cell below tests to see if the title of the movie matches of the function matches the hardcoded version above."
      ]
    },
    {
      "cell_type": "code",
      "execution_count": 95,
      "metadata": {
        "deletable": false,
        "editable": false,
        "id": "OrMJTODx3zr7",
        "nbgrader": {
          "cell_type": "code",
          "checksum": "238ea7e42ec826c20f9b968ba9910477",
          "grade": true,
          "grade_id": "cell-31b59e79d1b2b946",
          "locked": true,
          "points": 10,
          "schema_version": 3,
          "solution": false,
          "task": false
        }
      },
      "outputs": [],
      "source": [
        "#TEST CELL: do not delete!\n",
        "assert(function_1992.iloc[1] == hardcode_1992.iloc[1])\n"
      ]
    },
    {
      "cell_type": "markdown",
      "metadata": {
        "deletable": false,
        "editable": false,
        "id": "yeKAeyinJK7j",
        "nbgrader": {
          "cell_type": "markdown",
          "checksum": "f67c8b31cf264c4d61ff5158a6e88bcf",
          "grade": false,
          "grade_id": "cell-9f72a3e46b4d1cb0",
          "locked": true,
          "schema_version": 3,
          "solution": false,
          "task": false
        }
      },
      "source": [
        "# 2. Plotting\n",
        "\n",
        "To visualize our data in Python, we will import another library called <code>matplotlib</code>. Run the following cell without changing it:"
      ]
    },
    {
      "cell_type": "code",
      "execution_count": 96,
      "metadata": {
        "deletable": false,
        "editable": false,
        "id": "KkosEio6LctT",
        "nbgrader": {
          "cell_type": "code",
          "checksum": "122737d7c37e852519b89c80f18cb01d",
          "grade": false,
          "grade_id": "cell-fd485bd56bc841c5",
          "locked": true,
          "schema_version": 3,
          "solution": false,
          "task": false
        }
      },
      "outputs": [],
      "source": [
        "import matplotlib\n",
        "%matplotlib inline\n",
        "import matplotlib.pyplot as plt\n",
        "plt.style.use('fivethirtyeight')\n",
        "import warnings\n",
        "warnings.simplefilter('ignore', FutureWarning)\n"
      ]
    },
    {
      "cell_type": "markdown",
      "metadata": {
        "deletable": false,
        "editable": false,
        "id": "vY-xFIIJPkix",
        "nbgrader": {
          "cell_type": "markdown",
          "checksum": "12151852875862a402df755c50c7a18c",
          "grade": false,
          "grade_id": "cell-5c39ee3fc06623c5",
          "locked": true,
          "schema_version": 3,
          "solution": false,
          "task": false
        }
      },
      "source": [
        "<p> Import the dataset titled <code>canada_population.csv</code>. This dataset contains the population of Canada from 2010 to 2024. </p>\n",
        "\n",
        "It may be useful to plot this data to better understand the underlying trends. The code below displays the data using a *line graph*."
      ]
    },
    {
      "cell_type": "code",
      "execution_count": 97,
      "metadata": {
        "deletable": false,
        "editable": false,
        "id": "mRAujy9rLhU9",
        "nbgrader": {
          "cell_type": "code",
          "checksum": "8382ac404c0b5470afad9fc2dc0cb8e2",
          "grade": false,
          "grade_id": "cell-29057da6d7589ec0",
          "locked": true,
          "schema_version": 3,
          "solution": false,
          "task": false
        }
      },
      "outputs": [
        {
          "data": {
            "image/png": "[encoded data removed]",
            "text/plain": [
              "<Figure size 1000x600 with 1 Axes>"
            ]
          },
          "metadata": {},
          "output_type": "display_data"
        }
      ],
      "source": [
        "# create a DataFrame named population_data\n",
        "population_data = pd.read_csv(\"canada_population.csv\")\n",
        "\n",
        "# plotting the data...\n",
        "plt.figure(figsize = (10, 6))\n",
        "plt.plot(population_data['Year'], population_data['Population'], marker = 'o', linestyle = '-', color = 'blue')\n",
        "plt.title('Population of Canada (2010-2024)')\n",
        "plt.xlabel('Year')\n",
        "plt.ylabel('Population')\n",
        "plt.grid(True)\n",
        "plt.show()\n"
      ]
    },
    {
      "cell_type": "markdown",
      "metadata": {
        "deletable": false,
        "editable": false,
        "id": "28P1-TG8ZNEh",
        "nbgrader": {
          "cell_type": "markdown",
          "checksum": "ec995449c6cf4ac3619d8c4c619dc89c",
          "grade": false,
          "grade_id": "cell-f648592fab99adf9",
          "locked": true,
          "schema_version": 3,
          "solution": false,
          "task": false
        }
      },
      "source": [
        "**Question 2.1.** Use the same data above to plot the population of Canada between 2013 and 2020 (inclusive). Make sure you include a proper title and labels."
      ]
    },
    {
      "cell_type": "code",
      "execution_count": 98,
      "metadata": {
        "deletable": false,
        "id": "e4bsaGoLRw9G",
        "nbgrader": {
          "cell_type": "code",
          "checksum": "063c9e460df0c17d6f4169d527a59823",
          "grade": true,
          "grade_id": "cell-a0b73297aafe330a",
          "locked": false,
          "points": 15,
          "schema_version": 3,
          "solution": true,
          "task": false
        }
      },
      "outputs": [
        {
          "data": {
            "image/png": "[encoded data removed]",
            "text/plain": [
              "<Figure size 1000x600 with 1 Axes>"
            ]
          },
          "metadata": {},
          "output_type": "display_data"
        }
      ],
      "source": [
        "# YOUR CODE HERE\n",
        "population_data = pd.read_csv(\"canada_population.csv\")\n",
        "filtered_data = population_data[(population_data['Year']>= 2013) & (population_data['Year']<= 2020)]\n",
        "\n",
        "# plotting the data...\n",
        "plt.figure(figsize = (10, 6))\n",
        "plt.plot(filtered_data['Year'], filtered_data['Population'], marker = 'o', linestyle = '-', color = 'blue')\n",
        "plt.title('Population of Canada (2013-2020)')\n",
        "plt.xlabel('Year')\n",
        "plt.ylabel('Population')\n",
        "plt.grid(True)\n",
        "plt.show()\n"
      ]
    },
    {
      "cell_type": "markdown",
      "metadata": {
        "deletable": false,
        "editable": false,
        "id": "OqDQQVT7Ztxu",
        "nbgrader": {
          "cell_type": "markdown",
          "checksum": "70e31eb7e2ec7af3625c335bd67c4064",
          "grade": false,
          "grade_id": "cell-5410cb22ead0b438",
          "locked": true,
          "schema_version": 3,
          "solution": false,
          "task": false
        }
      },
      "source": [
        "## Histograms\n",
        "\n",
        "Another useful type of graph is called the *histogram*. A histogram is used for showing the distribution of numeric data using bars. The height of a bar indicates the frequency and its width tells us what bin or class it's in. </p>\n",
        "\n",
        "The dataset <code>exam_scores.csv</code> contains fictional math scores across two categories: females and males. Upload the dataset and run the cells below.\n",
        "\n"
      ]
    },
    {
      "cell_type": "code",
      "execution_count": 99,
      "metadata": {
        "deletable": false,
        "editable": false,
        "id": "e4FFGFmSZqqJ",
        "nbgrader": {
          "cell_type": "code",
          "checksum": "e0a45c7b4acf6191e8969369e7a217ff",
          "grade": false,
          "grade_id": "cell-1dd98d75188df07a",
          "locked": true,
          "schema_version": 3,
          "solution": false,
          "task": false
        }
      },
      "outputs": [
        {
          "data": {
            "text/html": [
              "<div>\n",
              "<style scoped>\n",
              "    .dataframe tbody tr th:only-of-type {\n",
              "        vertical-align: middle;\n",
              "    }\n",
              "\n",
              "    .dataframe tbody tr th {\n",
              "        vertical-align: top;\n",
              "    }\n",
              "\n",
              "    .dataframe thead th {\n",
              "        text-align: right;\n",
              "    }\n",
              "</style>\n",
              "<table border=\"1\" class=\"dataframe\">\n",
              "  <thead>\n",
              "    <tr style=\"text-align: right;\">\n",
              "      <th></th>\n",
              "      <th>Unnamed: 0</th>\n",
              "      <th>Gender</th>\n",
              "      <th>MathScore</th>\n",
              "    </tr>\n",
              "  </thead>\n",
              "  <tbody>\n",
              "    <tr>\n",
              "      <th>0</th>\n",
              "      <td>0</td>\n",
              "      <td>female</td>\n",
              "      <td>72</td>\n",
              "    </tr>\n",
              "    <tr>\n",
              "      <th>1</th>\n",
              "      <td>1</td>\n",
              "      <td>female</td>\n",
              "      <td>69</td>\n",
              "    </tr>\n",
              "    <tr>\n",
              "      <th>2</th>\n",
              "      <td>2</td>\n",
              "      <td>female</td>\n",
              "      <td>90</td>\n",
              "    </tr>\n",
              "    <tr>\n",
              "      <th>3</th>\n",
              "      <td>3</td>\n",
              "      <td>male</td>\n",
              "      <td>47</td>\n",
              "    </tr>\n",
              "    <tr>\n",
              "      <th>4</th>\n",
              "      <td>4</td>\n",
              "      <td>male</td>\n",
              "      <td>76</td>\n",
              "    </tr>\n",
              "    <tr>\n",
              "      <th>...</th>\n",
              "      <td>...</td>\n",
              "      <td>...</td>\n",
              "      <td>...</td>\n",
              "    </tr>\n",
              "    <tr>\n",
              "      <th>494</th>\n",
              "      <td>494</td>\n",
              "      <td>female</td>\n",
              "      <td>54</td>\n",
              "    </tr>\n",
              "    <tr>\n",
              "      <th>495</th>\n",
              "      <td>495</td>\n",
              "      <td>male</td>\n",
              "      <td>68</td>\n",
              "    </tr>\n",
              "    <tr>\n",
              "      <th>496</th>\n",
              "      <td>496</td>\n",
              "      <td>female</td>\n",
              "      <td>54</td>\n",
              "    </tr>\n",
              "    <tr>\n",
              "      <th>497</th>\n",
              "      <td>497</td>\n",
              "      <td>female</td>\n",
              "      <td>59</td>\n",
              "    </tr>\n",
              "    <tr>\n",
              "      <th>498</th>\n",
              "      <td>498</td>\n",
              "      <td>female</td>\n",
              "      <td>66</td>\n",
              "    </tr>\n",
              "  </tbody>\n",
              "</table>\n",
              "<p>499 rows × 3 columns</p>\n",
              "</div>"
            ],
            "text/plain": [
              "     Unnamed: 0  Gender  MathScore\n",
              "0             0  female         72\n",
              "1             1  female         69\n",
              "2             2  female         90\n",
              "3             3    male         47\n",
              "4             4    male         76\n",
              "..          ...     ...        ...\n",
              "494         494  female         54\n",
              "495         495    male         68\n",
              "496         496  female         54\n",
              "497         497  female         59\n",
              "498         498  female         66\n",
              "\n",
              "[499 rows x 3 columns]"
            ]
          },
          "execution_count": 99,
          "metadata": {},
          "output_type": "execute_result"
        }
      ],
      "source": [
        "exam_scores = pd.read_csv('exam_scores.csv')\n",
        "exam_scores"
      ]
    },
    {
      "cell_type": "code",
      "execution_count": 100,
      "metadata": {
        "deletable": false,
        "editable": false,
        "id": "WYCLIHYZ3L4F",
        "nbgrader": {
          "cell_type": "code",
          "checksum": "819e0a5709aab30cb2c2765ef22385ed",
          "grade": false,
          "grade_id": "cell-22b6016db572864a",
          "locked": true,
          "schema_version": 3,
          "solution": false,
          "task": false
        }
      },
      "outputs": [
        {
          "data": {
            "image/png": "[encoded data removed]",
            "text/plain": [
              "<Figure size 1000x600 with 1 Axes>"
            ]
          },
          "metadata": {},
          "output_type": "display_data"
        }
      ],
      "source": [
        "math_scores = exam_scores['MathScore']  # the data we are plotting\n",
        "\n",
        "plt.figure(figsize = (10, 6))  # controls the size\n",
        "plt.hist(math_scores, bins = 10, alpha = 0.5, color = 'blue')  # alpha controls the transparency of the bars\n",
        "\n",
        "# plot the titles\n",
        "plt.xlabel('Math Score')\n",
        "plt.ylabel('Frequency of Individuals')\n",
        "plt.title('Distribution of Math Score')\n",
        "\n",
        "plt.show()"
      ]
    },
    {
      "cell_type": "markdown",
      "metadata": {
        "deletable": false,
        "editable": false,
        "id": "tMlMNFvRACoq",
        "nbgrader": {
          "cell_type": "markdown",
          "checksum": "62126c0d75dd83d82b0c72043a349078",
          "grade": false,
          "grade_id": "cell-f56a75f38924a1ed",
          "locked": true,
          "schema_version": 3,
          "solution": false,
          "task": false
        }
      },
      "source": [
        "This histogram is slightly left-skewed with a mode at around 65. We can see that the score with the lowest frequency of individuals is 0-20, while the highest is 60-70."
      ]
    },
    {
      "cell_type": "markdown",
      "metadata": {
        "deletable": false,
        "editable": false,
        "id": "wLKw42xxAl-d",
        "nbgrader": {
          "cell_type": "markdown",
          "checksum": "21bd72b02a33a7841ffd219728b4fdc6",
          "grade": false,
          "grade_id": "cell-842ac2be6787dd2d",
          "locked": true,
          "schema_version": 3,
          "solution": false,
          "task": false
        }
      },
      "source": [
        "**Question 2.2.** Plot a histogram that shows the distribution of female and male scores separately. You can choose how you want to represent the histograms: two separate sub plots side by side, or both on one plot with different colours each, etc.  The axis limits should be same on both plots (same scale) and the plots should have appropriate titles, axis labels, and if needed a legend."
      ]
    },
    {
      "cell_type": "code",
      "execution_count": 101,
      "metadata": {
        "deletable": false,
        "id": "VPxx_TOI9cv2",
        "nbgrader": {
          "cell_type": "code",
          "checksum": "d812f6639b07b74f4cda51c216c04530",
          "grade": true,
          "grade_id": "cell-571b134e74aef1d8",
          "locked": false,
          "points": 15,
          "schema_version": 3,
          "solution": true,
          "task": false
        }
      },
      "outputs": [
        {
          "data": {
            "image/png": "[encoded data removed]",
            "text/plain": [
              "<Figure size 1000x600 with 1 Axes>"
            ]
          },
          "metadata": {},
          "output_type": "display_data"
        }
      ],
      "source": [
        "# YOUR CODE HERE\n",
        "\n",
        "# Filter the DataFrame for male and female students\n",
        "male_math_scores = exam_scores[exam_scores['Gender'] == 'male']['MathScore']\n",
        "female_math_scores = exam_scores[exam_scores['Gender'] == 'female']['MathScore']\n",
        "\n",
        "\n",
        "plt.figure(figsize = (10, 6))  # controls the size\n",
        "plt.hist(male_math_scores, bins = 10, alpha = 0.5, label='Male', color = 'blue')  # alpha controls the transparency of the bars\n",
        "plt.hist(female_math_scores, bins = 10, alpha = 0.5, label='Female', color = 'green')  # alpha controls the transparency of the bars\n",
        "\n",
        "# Set the same axis limits for both histograms\n",
        "plt.xlim(min(exam_scores['MathScore']), max(exam_scores['MathScore']))\n",
        "plt.ylim(0, max(max(male_math_scores.value_counts()), max(female_math_scores.value_counts())))\n",
        "\n",
        "# plot the titles\n",
        "plt.xlabel('Math Score')\n",
        "plt.ylabel('Frequency of Individuals')\n",
        "plt.title('Distribution of Math Score by Gender')\n",
        "\n",
        "\n",
        "plt.legend(loc='upper right')\n",
        "plt.grid(True)\n",
        "\n",
        "plt.show()"
      ]
    },
    {
      "cell_type": "markdown",
      "metadata": {
        "deletable": false,
        "editable": false,
        "id": "CvmAlI7C3zr-",
        "nbgrader": {
          "cell_type": "markdown",
          "checksum": "f65ed77ea90653dd05abd6365a392354",
          "grade": false,
          "grade_id": "cell-4d9271d0affc409a",
          "locked": true,
          "schema_version": 3,
          "solution": false,
          "task": false
        }
      },
      "source": [
        "**Question 2.3.** Describe the overall shape of your histogram and what it means. What differences do you see between genders? What are their similarities?"
      ]
    },
    {
      "cell_type": "markdown",
      "metadata": {
        "deletable": false,
        "id": "qLqybBL13zr-",
        "nbgrader": {
          "cell_type": "markdown",
          "checksum": "8fe98f0bce52e949a45e125f25ee2425",
          "grade": true,
          "grade_id": "cell-f8a2cbeb45ab9434",
          "locked": false,
          "points": 5,
          "schema_version": 3,
          "solution": true,
          "task": false
        }
      },
      "source": [
        "YOUR ANSWER HERE: The histogram shows that most math scores cluster around higher values (above 80), with few low scores (below 40). Female scores are more spread out, ranging from 0 to 100, with more frequent low scores (20–40). Male scores are concentrated at higher values (80+), with fewer low scores. Both genders have high performers (scores up to 100) and most individuals performed well overall."
      ]
    },
    {
      "cell_type": "markdown",
      "metadata": {
        "deletable": false,
        "editable": false,
        "id": "SQP_x1FhCk8b",
        "nbgrader": {
          "cell_type": "markdown",
          "checksum": "ed41e99d0c87520f0df23f27d9f70a9c",
          "grade": false,
          "grade_id": "cell-4857a06815c8141e",
          "locked": true,
          "schema_version": 3,
          "solution": false,
          "task": false
        }
      },
      "source": [
        "# 3. Randomness and Probabilities\n",
        "\n",
        "Suppose you have a bag of poker chips where one is blue, one is red, one is black, and one is green. We can use NumPy to simulate picking a chip out of the bag at random by using the function <code>np.random.choice(...)</code>. Run the code below multiple times to see the different choices that the function prints."
      ]
    },
    {
      "cell_type": "code",
      "execution_count": 102,
      "metadata": {
        "deletable": false,
        "editable": false,
        "id": "FbrUwTJBBn9I",
        "nbgrader": {
          "cell_type": "code",
          "checksum": "2882994d3a6eb3091db511ba998c3bd5",
          "grade": false,
          "grade_id": "cell-017e53d5464bd1b3",
          "locked": true,
          "schema_version": 3,
          "solution": false,
          "task": false
        }
      },
      "outputs": [
        {
          "data": {
            "text/plain": [
              "'black'"
            ]
          },
          "execution_count": 102,
          "metadata": {},
          "output_type": "execute_result"
        }
      ],
      "source": [
        "# bag is an array that holds our different colored chips\n",
        "bag = ['blue', 'red', 'black', 'green']\n",
        "np.random.choice(bag)\n"
      ]
    },
    {
      "cell_type": "markdown",
      "metadata": {
        "deletable": false,
        "editable": false,
        "id": "UJx-EJqQKH5I",
        "nbgrader": {
          "cell_type": "markdown",
          "checksum": "fdfa1719fdfb998cc95264d77e50520f",
          "grade": false,
          "grade_id": "cell-730332409bebc388",
          "locked": true,
          "schema_version": 3,
          "solution": false,
          "task": false
        }
      },
      "source": [
        "Adding a second argument to the function will give us a new array with a number of random choices."
      ]
    },
    {
      "cell_type": "code",
      "execution_count": 103,
      "metadata": {
        "deletable": false,
        "editable": false,
        "id": "33GDUjGwJyti",
        "nbgrader": {
          "cell_type": "code",
          "checksum": "49295fdfe33feb874f6e7a3a749910ca",
          "grade": false,
          "grade_id": "cell-099365689baac319",
          "locked": true,
          "schema_version": 3,
          "solution": false,
          "task": false
        }
      },
      "outputs": [
        {
          "data": {
            "text/plain": [
              "array(['red', 'green', 'black', 'black', 'red', 'black', 'green', 'blue',\n",
              "       'red', 'red'], dtype='<U5')"
            ]
          },
          "execution_count": 103,
          "metadata": {},
          "output_type": "execute_result"
        }
      ],
      "source": [
        "np.random.choice(bag, 10)"
      ]
    },
    {
      "cell_type": "markdown",
      "metadata": {
        "deletable": false,
        "editable": false,
        "id": "oaaHF3AYK4ut",
        "nbgrader": {
          "cell_type": "markdown",
          "checksum": "06720983be0b85797bf057c8368d72f3",
          "grade": false,
          "grade_id": "cell-b6bd3e994e2ef0ce",
          "locked": true,
          "schema_version": 3,
          "solution": false,
          "task": false
        }
      },
      "source": [
        "The function <code>np.count_nonzero</code> counts the number of non-zero values that appear in an array. In Python, the boolean value <code>True</code> is coded as 1 and the boolean value <code>False</code> is coded as 0. </p>\n",
        "\n",
        "Run the next cell to see how <code>np.count_nonzero</code> works."
      ]
    },
    {
      "cell_type": "code",
      "execution_count": 104,
      "metadata": {
        "deletable": false,
        "editable": false,
        "id": "u2u5SGSRKGxq",
        "nbgrader": {
          "cell_type": "code",
          "checksum": "b307749bfc20e7dcb35685a1a6643241",
          "grade": false,
          "grade_id": "cell-bb7d45b57144fd88",
          "locked": true,
          "schema_version": 3,
          "solution": false,
          "task": false
        }
      },
      "outputs": [
        {
          "data": {
            "text/plain": [
              "4"
            ]
          },
          "execution_count": 104,
          "metadata": {},
          "output_type": "execute_result"
        }
      ],
      "source": [
        "an_array = [True, False, False, True, False, True, True]\n",
        "np.count_nonzero(an_array)"
      ]
    },
    {
      "cell_type": "markdown",
      "metadata": {
        "deletable": false,
        "editable": false,
        "id": "Fkpd6pxwMQ-4",
        "nbgrader": {
          "cell_type": "markdown",
          "checksum": "075fde487305caa592999ffd347bac34",
          "grade": false,
          "grade_id": "cell-8d687e49f5b97e93",
          "locked": true,
          "schema_version": 3,
          "solution": false,
          "task": false
        }
      },
      "source": [
        "**Question 3.1.** Suppose that we have a bigger bag of poker chips that have multiples of each color. We use <code>np.array</code> so that we can use comparison operators on every element in the array. Find the number of red chips in the bigger bag using a comparison operator (e.g.<code>=</code>, <code><</code>, ...) and the <code>np.count_nonzero</code> function. Assign your answer to <code>number_red</code>. Do NOT hardcode the answer!"
      ]
    },
    {
      "cell_type": "code",
      "execution_count": 105,
      "metadata": {
        "deletable": false,
        "id": "mAK3W2bkMhdl",
        "nbgrader": {
          "cell_type": "code",
          "checksum": "8292085c48ef582ed28af6086c259e11",
          "grade": false,
          "grade_id": "cell-b299b6b2bbbd16d4",
          "locked": false,
          "schema_version": 3,
          "solution": true,
          "task": false
        }
      },
      "outputs": [
        {
          "data": {
            "text/plain": [
              "7"
            ]
          },
          "execution_count": 105,
          "metadata": {},
          "output_type": "execute_result"
        }
      ],
      "source": [
        "bigger_bag = np.array(['red', 'black', 'red', 'green', 'blue', 'blue', 'black', 'red',\n",
        "       'red', 'black', 'red', 'red', 'red', 'blue', 'green'])\n",
        "\n",
        "# YOUR CODE HERE\n",
        "number_red = np.count_nonzero(bigger_bag == 'red')\n",
        "number_red"
      ]
    },
    {
      "cell_type": "code",
      "execution_count": 106,
      "metadata": {
        "deletable": false,
        "editable": false,
        "id": "SIRcf7ni3zsI",
        "nbgrader": {
          "cell_type": "code",
          "checksum": "972453eb1c79a0b6fb6ec72fab98f1fb",
          "grade": true,
          "grade_id": "cell-d9182cab5edc3e7c",
          "locked": true,
          "points": 5,
          "schema_version": 3,
          "solution": false,
          "task": false
        }
      },
      "outputs": [],
      "source": [
        "#TEST CELL: do not delete!"
      ]
    },
    {
      "cell_type": "markdown",
      "metadata": {
        "deletable": false,
        "editable": false,
        "id": "txZOMUfl3zsI",
        "nbgrader": {
          "cell_type": "markdown",
          "checksum": "20d09bf0fffbf432f43ca4c195776b24",
          "grade": false,
          "grade_id": "cell-20cff039ceaecb2d",
          "locked": true,
          "schema_version": 3,
          "solution": false,
          "task": false
        }
      },
      "source": [
        "## Distributions\n",
        "\n",
        "We can use our poker chip example to learn more about distrbutuions. Distributions tell us the 'behaviour' of a variable and the probability of an event happening under a certain distribution. We will focus on three different types:\n",
        "\n",
        "1. **Uniform distribution**: When a variable has a uniform distibution, it means that every event has an equal probability of happening. Visually, the graph of this variable is flat across all categories.\n",
        "2. **Normal / Gaussian distribution**: Normal distributions often have a bell shape where most of the values are concentrated at the center (mean), with fewer values at the extremes. The graph of this distribution is symmetric, meaning that it isn't skewed in any direction. Usually, we define the theoretical mean ($\\mu$) as 0 and the theoretical variance ($\\sigma$) as 1.\n",
        "3. **Binomial / Bernoulli distribution**: The distribution of a variable is Bernoulli when the outcomes are *binary* (only two possible outcomes). Examples include flipping a coin where the only outcomes are heads or tails, or taking a class that's pass or fail. The graph of this distribution only has two bars representing the two outcomes."
      ]
    },
    {
      "cell_type": "markdown",
      "metadata": {
        "deletable": false,
        "editable": false,
        "id": "2rTFdcNY3zsJ",
        "nbgrader": {
          "cell_type": "markdown",
          "checksum": "2a89f3d576c94eac2a715ed7a00e36d5",
          "grade": false,
          "grade_id": "cell-6c94b441812d9e6f",
          "locked": true,
          "schema_version": 3,
          "solution": false,
          "task": false
        }
      },
      "source": [
        "Run the code below to visualize the different distributions:"
      ]
    },
    {
      "cell_type": "code",
      "execution_count": 107,
      "metadata": {
        "deletable": false,
        "editable": false,
        "id": "GTND9qAg3zsJ",
        "nbgrader": {
          "cell_type": "code",
          "checksum": "91685723f6206687ebd13f2e65d23bec",
          "grade": false,
          "grade_id": "cell-ce77721bc6380bfd",
          "locked": true,
          "schema_version": 3,
          "solution": false,
          "task": false
        }
      },
      "outputs": [
        {
          "data": {
            "image/png": "[encoded data removed]",
            "text/plain": [
              "<Figure size 1500x600 with 1 Axes>"
            ]
          },
          "metadata": {},
          "output_type": "display_data"
        }
      ],
      "source": [
        "chip_colors = ['Red', 'Blue', 'Green', 'Black', 'White']\n",
        "chip_counts = [5, 5, 5, 5, 5]\n",
        "\n",
        "plt.figure(figsize=(15, 6))\n",
        "plt.bar(chip_colors, chip_counts, color=['red', 'blue', 'green', 'black', 'grey'])\n",
        "plt.xlabel('Chip Color')\n",
        "plt.ylabel('Count')\n",
        "plt.title('Uniform Distribution of Poker Chip Colors')\n",
        "plt.show()"
      ]
    },
    {
      "cell_type": "markdown",
      "metadata": {
        "deletable": false,
        "editable": false,
        "id": "0V0vlo1z3zsJ",
        "nbgrader": {
          "cell_type": "markdown",
          "checksum": "36289bade20b8efd5be45e6ee398ff39",
          "grade": false,
          "grade_id": "cell-6850bc93f2dba2d9",
          "locked": true,
          "schema_version": 3,
          "solution": false,
          "task": false
        }
      },
      "source": [
        "Since each color of chip has the same count, the distribution is uniform. </p>\n",
        "\n",
        "When the distribution is uniform, the probability of choosing any color is the the same across all categories. To calculate the probability, divide the count of the color by the total count. We can write: </p>\n",
        "\n",
        "P(Red) = P(Blue) = P(Green) = P(Black) = P(White) = $\\frac{5}{25}$ = 0.2."
      ]
    },
    {
      "cell_type": "code",
      "execution_count": 108,
      "metadata": {
        "deletable": false,
        "editable": false,
        "id": "98FEvBUA3zsJ",
        "nbgrader": {
          "cell_type": "code",
          "checksum": "c193003db07b35df81fba2da7985a771",
          "grade": false,
          "grade_id": "cell-486432ada27d898f",
          "locked": true,
          "schema_version": 3,
          "solution": false,
          "task": false
        }
      },
      "outputs": [
        {
          "data": {
            "image/png": "[encoded data removed]",
            "text/plain": [
              "<Figure size 1500x600 with 1 Axes>"
            ]
          },
          "metadata": {},
          "output_type": "display_data"
        }
      ],
      "source": [
        "chip_colors = ['Red', 'Blue', 'Green', 'Black', 'White']\n",
        "chip_counts = [5, 10, 15, 10, 5]\n",
        "\n",
        "plt.figure(figsize=(15, 6))\n",
        "plt.bar(chip_colors, chip_counts, color=['red', 'blue', 'green', 'black', 'grey'])\n",
        "plt.xlabel('Chip Color')\n",
        "plt.ylabel('Count')\n",
        "plt.title('Normal Distribution of Poker Chip Colors')\n",
        "plt.show()"
      ]
    },
    {
      "cell_type": "markdown",
      "metadata": {
        "deletable": false,
        "editable": false,
        "id": "VAHCMxUC3zsK",
        "nbgrader": {
          "cell_type": "markdown",
          "checksum": "6981c1fadbbbde3d83cf6fc4f9194d09",
          "grade": false,
          "grade_id": "cell-e80774f637ea6d6d",
          "locked": true,
          "schema_version": 3,
          "solution": false,
          "task": false
        }
      },
      "source": [
        "Since the graph is symmetrical around the center, the distribution is Normal. </p>\n",
        "\n",
        "Calculating the probabilities follows the same steps for uniform, however, the probabilities won't be the same for every color."
      ]
    },
    {
      "cell_type": "markdown",
      "metadata": {
        "deletable": false,
        "editable": false,
        "id": "YoiumXiP3zsK",
        "nbgrader": {
          "cell_type": "markdown",
          "checksum": "f5575c96e193853f696d86f9b680e3fe",
          "grade": false,
          "grade_id": "cell-7fda01723063fbd9",
          "locked": true,
          "schema_version": 3,
          "solution": false,
          "task": false
        }
      },
      "source": [
        "**Question 3.2.** What is the probability of choosing a green chip out of the bag with the normal distribution? What is the probability of choosing a black chip **or** a blue chip out of the bag with the normal distribution? Assign your answers to <code>prob_green</code> and <code>prob_black_or_blue</code> repectively. Do not round your answer."
      ]
    },
    {
      "cell_type": "code",
      "execution_count": 109,
      "metadata": {
        "deletable": false,
        "id": "NAC4BBsU3zsK",
        "nbgrader": {
          "cell_type": "code",
          "checksum": "bd20a695a8f160d4b91a1e558f58bf7e",
          "grade": false,
          "grade_id": "cell-c5034ea9282dfd72",
          "locked": false,
          "schema_version": 3,
          "solution": true,
          "task": false
        }
      },
      "outputs": [
        {
          "name": "stdout",
          "output_type": "stream",
          "text": [
            "0.3333333333333333\n",
            "0.4444444444444444\n"
          ]
        }
      ],
      "source": [
        "# YOUR CODE HERE\n",
        "\n",
        "total_sum = sum(chip_counts)\n",
        "\n",
        "prob_green = chip_counts[2] / total_sum\n",
        "prob_black_or_blue =  (chip_counts[3] + chip_counts[1]) / total_sum\n",
        "\n",
        "\n",
        "print(prob_green)\n",
        "print(prob_black_or_blue)"
      ]
    },
    {
      "cell_type": "code",
      "execution_count": 110,
      "metadata": {
        "deletable": false,
        "editable": false,
        "id": "mtmwp6HP3zsK",
        "nbgrader": {
          "cell_type": "code",
          "checksum": "fd5833e86ea4edfde543dece5b0f995b",
          "grade": true,
          "grade_id": "cell-5a215cb420f01f09",
          "locked": true,
          "points": 6,
          "schema_version": 3,
          "solution": false,
          "task": false
        }
      },
      "outputs": [],
      "source": [
        "#TEST CELL: do not delete!"
      ]
    },
    {
      "cell_type": "markdown",
      "metadata": {
        "deletable": false,
        "editable": false,
        "id": "pH1JlO9l3zsL",
        "nbgrader": {
          "cell_type": "markdown",
          "checksum": "eee299e4db142de183bc7fd5be1e3edd",
          "grade": false,
          "grade_id": "cell-562f0d2855bb6b93",
          "locked": true,
          "schema_version": 3,
          "solution": false,
          "task": false
        }
      },
      "source": [
        "Since Binomial only has two outcomes, we will simulate only having two colors of chips in the bag:"
      ]
    },
    {
      "cell_type": "code",
      "execution_count": 111,
      "metadata": {
        "deletable": false,
        "editable": false,
        "id": "1C9w5HNo3zsL",
        "nbgrader": {
          "cell_type": "code",
          "checksum": "c761cb9604cf2ef34c5486ca3f0ad0e9",
          "grade": false,
          "grade_id": "cell-ea461714c988a075",
          "locked": true,
          "schema_version": 3,
          "solution": false,
          "task": false
        }
      },
      "outputs": [
        {
          "data": {
            "image/png": "[encoded data removed]",
            "text/plain": [
              "<Figure size 800x500 with 1 Axes>"
            ]
          },
          "metadata": {},
          "output_type": "display_data"
        }
      ],
      "source": [
        "chip_colors = ['Red', 'Blue']\n",
        "chip_counts = [10, 4]\n",
        "\n",
        "plt.figure(figsize=(8, 5))\n",
        "plt.bar(chip_colors, chip_counts, color=['red', 'blue'])\n",
        "plt.xlabel('Chip Color')\n",
        "plt.ylabel('Count')\n",
        "plt.title('Binomial Distribution of Poker Chip Colors')\n",
        "plt.show()"
      ]
    },
    {
      "cell_type": "markdown",
      "metadata": {
        "deletable": false,
        "editable": false,
        "id": "wXV3uNIC3zsL",
        "nbgrader": {
          "cell_type": "markdown",
          "checksum": "c568fdf5349eb2526ad745adfa2cdc08",
          "grade": false,
          "grade_id": "cell-354d53ab82384b02",
          "locked": true,
          "schema_version": 3,
          "solution": false,
          "task": false
        }
      },
      "source": [
        "A key characteristic of probabilities is that the sum of each individual probability is always one. Therefore, for Bernoulli distributions, if we know the probability of one event happening, we can simply subtract that value from one to find the other probability. Written mathematically, </p>\n",
        "\n",
        "P(success) = p </p>\n",
        "P(failure) = 1 - p"
      ]
    },
    {
      "cell_type": "markdown",
      "metadata": {
        "deletable": false,
        "editable": false,
        "id": "_oe6ldty3zsM",
        "nbgrader": {
          "cell_type": "markdown",
          "checksum": "04eeb6bcded6be18a12c156e2efa739c",
          "grade": false,
          "grade_id": "cell-32a23169c0f34d40",
          "locked": true,
          "schema_version": 3,
          "solution": false,
          "task": false
        }
      },
      "source": [
        "**Question 3.3.** Let a random variable, X, follow a Bernoulli distribution. If we know that P(failure) = 0.65, what is P(success)? Assign your answer to <code>prob_success</code>."
      ]
    },
    {
      "cell_type": "code",
      "execution_count": 112,
      "metadata": {
        "deletable": false,
        "id": "tZnj49X53zsM",
        "nbgrader": {
          "cell_type": "code",
          "checksum": "23db8417bc506d681f6d562b0b4ded31",
          "grade": false,
          "grade_id": "cell-685d02242724ac60",
          "locked": false,
          "schema_version": 3,
          "solution": true,
          "task": false
        }
      },
      "outputs": [
        {
          "name": "stdout",
          "output_type": "stream",
          "text": [
            "0.35\n"
          ]
        }
      ],
      "source": [
        "# YOUR CODE HERE\n",
        "# Given probability of failure\n",
        "prob_failure = 0.65\n",
        "\n",
        "# Calculate probability of success\n",
        "prob_success = 1 - prob_failure\n",
        "\n",
        "# Print the result\n",
        "print(prob_success)\n"
      ]
    },
    {
      "cell_type": "code",
      "execution_count": 113,
      "metadata": {
        "deletable": false,
        "editable": false,
        "id": "uifwE0T63zsM",
        "nbgrader": {
          "cell_type": "code",
          "checksum": "0d5b3fae0339b50ab77c5ba57743d61c",
          "grade": true,
          "grade_id": "cell-128ac55423f5eb18",
          "locked": true,
          "points": 5,
          "schema_version": 3,
          "solution": false,
          "task": false
        }
      },
      "outputs": [],
      "source": [
        "#TEST CELL: do not delete!"
      ]
    },
    {
      "cell_type": "markdown",
      "metadata": {
        "deletable": false,
        "editable": false,
        "id": "zs7hdK1tNQJw",
        "nbgrader": {
          "cell_type": "markdown",
          "checksum": "ed0b68e842f0e1848a81524757172636",
          "grade": false,
          "grade_id": "cell-06ce3b03b718a3d6",
          "locked": true,
          "schema_version": 3,
          "solution": false,
          "task": false
        }
      },
      "source": [
        "## Conditional Statements\n",
        "\n",
        "A conditional statement is a multi-line statement that depends on if something is True or False. Python uses an <code>if</code>, <code>elif</code>, <code>else</code> structure. </p>\n",
        "\n",
        "Below is a simple example that uses <code>type</code> to see if the argument is an integer."
      ]
    },
    {
      "cell_type": "code",
      "execution_count": 114,
      "metadata": {
        "deletable": false,
        "editable": false,
        "id": "Rmf7ZePGOQZl",
        "nbgrader": {
          "cell_type": "code",
          "checksum": "a38e9a57b41cff094dec36ebd831fd9a",
          "grade": false,
          "grade_id": "cell-4cb1e8a789e86519",
          "locked": true,
          "schema_version": 3,
          "solution": false,
          "task": false
        }
      },
      "outputs": [
        {
          "name": "stdout",
          "output_type": "stream",
          "text": [
            "4 is an integer.\n",
            "Hello is not an integer.\n"
          ]
        }
      ],
      "source": [
        "def is_integer(x):\n",
        "  if type(x) == int:\n",
        "    print(x, \"is an integer.\")\n",
        "  else:\n",
        "    print(x, \"is not an integer.\")\n",
        "\n",
        "is_integer(4)\n",
        "is_integer('Hello')"
      ]
    },
    {
      "cell_type": "markdown",
      "metadata": {
        "deletable": false,
        "editable": false,
        "id": "-r8Vn6c8Py27",
        "nbgrader": {
          "cell_type": "markdown",
          "checksum": "05787e1c6f3c89b9062e49e67b3497cb",
          "grade": false,
          "grade_id": "cell-44495d5cae05c122",
          "locked": true,
          "schema_version": 3,
          "solution": false,
          "task": false
        }
      },
      "source": [
        "When x is an integer, Python executes the code after the <code>if</code> statement. If x is not an integer, Python continues to the <code>else</code> statement and executes the code that follows it. </p>\n",
        "\n",
        "We can have nested if-else statements. The statement that follows the first <code>if</code> statement is called an <code>elif</code> statement."
      ]
    },
    {
      "cell_type": "code",
      "execution_count": 115,
      "metadata": {
        "deletable": false,
        "editable": false,
        "id": "NB4B5a3YOp4V",
        "nbgrader": {
          "cell_type": "code",
          "checksum": "8451447c47ae8da7b62a514f737868a1",
          "grade": false,
          "grade_id": "cell-e1eb4eacd36cc523",
          "locked": true,
          "schema_version": 3,
          "solution": false,
          "task": false
        }
      },
      "outputs": [
        {
          "name": "stdout",
          "output_type": "stream",
          "text": [
            "4 is an integer.\n",
            "Hello is a string.\n",
            "56.7 is a float.\n",
            "True is not an integer, string, or float.\n"
          ]
        }
      ],
      "source": [
        "def is_integer(x):\n",
        "  if type(x) == int:\n",
        "    print(x, \"is an integer.\")\n",
        "  elif type(x) == str:\n",
        "    print(x, \"is a string.\")\n",
        "  elif type(x) == float:\n",
        "     print(x, \"is a float.\")\n",
        "  else:\n",
        "     print(x, \"is not an integer, string, or float.\")\n",
        "\n",
        "is_integer(4)\n",
        "is_integer('Hello')\n",
        "is_integer(56.7)\n",
        "is_integer(True)"
      ]
    },
    {
      "cell_type": "markdown",
      "metadata": {
        "deletable": false,
        "editable": false,
        "id": "8CxVpS8_QulF",
        "nbgrader": {
          "cell_type": "markdown",
          "checksum": "037f74ebd10e3396e41cfc23fd16cc66",
          "grade": false,
          "grade_id": "cell-cfbb17949bf4f946",
          "locked": true,
          "schema_version": 3,
          "solution": false,
          "task": false
        }
      },
      "source": [
        "Nested conditional statements are executed top-down (in the order that they appear). If every if and elif statement is executed and none of them hold, the else statement is executed."
      ]
    },
    {
      "cell_type": "markdown",
      "metadata": {
        "deletable": false,
        "editable": false,
        "id": "FyddRs_2RVOG",
        "nbgrader": {
          "cell_type": "markdown",
          "checksum": "2836787d906455705ebeb904472e673d",
          "grade": false,
          "grade_id": "cell-37bf06853a919e1a",
          "locked": true,
          "schema_version": 3,
          "solution": false,
          "task": false
        }
      },
      "source": [
        "**Question 3.4.** Complete the conditional statement below that prints <code>\"There are 7 or more red chips!\"</code> if there are 7 or more red chips in the bigger bag (use your definition of <code>number_red</code> from question 3.1., you do NOT have to redefine it)."
      ]
    },
    {
      "cell_type": "code",
      "execution_count": 116,
      "metadata": {
        "deletable": false,
        "id": "oiG4JoPoR3Xy",
        "nbgrader": {
          "cell_type": "code",
          "checksum": "9380b0c7432f56515a41ec47d8720116",
          "grade": false,
          "grade_id": "cell-bb241a2910f1f336",
          "locked": false,
          "schema_version": 3,
          "solution": true,
          "task": false
        }
      },
      "outputs": [
        {
          "name": "stdout",
          "output_type": "stream",
          "text": [
            "There are 7 or more red chips!\n"
          ]
        }
      ],
      "source": [
        "\n",
        "\n",
        "#Complete the if statement below\n",
        "# YOUR CODE HERE\n",
        "if number_red >= 7:\n",
        "\n",
        "  statement = \"There are 7 or more red chips!\"  #this is the body of the if statement\n",
        "print(statement)"
      ]
    },
    {
      "cell_type": "code",
      "execution_count": 117,
      "metadata": {
        "deletable": false,
        "editable": false,
        "id": "nq2yEx5P3zsO",
        "nbgrader": {
          "cell_type": "code",
          "checksum": "c185bffc07e12ffd7d4eb7c6830a4345",
          "grade": true,
          "grade_id": "cell-3de286ecdbdfc804",
          "locked": true,
          "points": 3,
          "schema_version": 3,
          "solution": false,
          "task": false
        }
      },
      "outputs": [],
      "source": [
        "#TEST CELL: do not delete!"
      ]
    },
    {
      "cell_type": "markdown",
      "metadata": {
        "deletable": false,
        "editable": false,
        "id": "C46BC6UNSNpe",
        "nbgrader": {
          "cell_type": "markdown",
          "checksum": "603dfe679a1d30082a13ccaf3dc4e943",
          "grade": false,
          "grade_id": "cell-0a88cd321ec4aa07",
          "locked": true,
          "schema_version": 3,
          "solution": false,
          "task": false
        }
      },
      "source": [
        "**Question 3.5.** In poker, each chip is worth a different value. Say that a red chip is worth 5 points, blue is worth 10 points, green is worth 25 points, and black is worth 100 points. Write a function that takes in a color (as a string) and returns how many points that color is worth."
      ]
    },
    {
      "cell_type": "code",
      "execution_count": 118,
      "metadata": {
        "deletable": false,
        "id": "VpuYmsQJSAC5",
        "nbgrader": {
          "cell_type": "code",
          "checksum": "2eeaf8632033f9836a55d0e7e27ee137",
          "grade": false,
          "grade_id": "cell-bc4301fdbc98e864",
          "locked": false,
          "schema_version": 3,
          "solution": true,
          "task": false
        }
      },
      "outputs": [
        {
          "data": {
            "text/plain": [
              "'Blue is worth 10 points.'"
            ]
          },
          "execution_count": 118,
          "metadata": {},
          "output_type": "execute_result"
        }
      ],
      "source": [
        "\n",
        "\n",
        "# YOUR CODE HERE\n",
        "def chip_value(color):\n",
        "    if color == 'red':\n",
        "        return('Red is worth 5 points.')\n",
        "    elif color == 'blue':\n",
        "        return('Blue is worth 10 points.')\n",
        "    elif color == 'green':\n",
        "        return('Green is worth 25 points.')\n",
        "    elif color == 'black':\n",
        "        return('Black is worth 100 points.')\n",
        "\n",
        "\n",
        "# example call\n",
        "blue = chip_value('blue')\n",
        "blue"
      ]
    },
    {
      "cell_type": "code",
      "execution_count": 119,
      "metadata": {
        "deletable": false,
        "editable": false,
        "id": "Hfl3ZN3T3zsP",
        "nbgrader": {
          "cell_type": "code",
          "checksum": "d9b029d66612b55c28de26e12837907c",
          "grade": true,
          "grade_id": "cell-1df056e6d06cef7d",
          "locked": true,
          "points": 6,
          "schema_version": 3,
          "solution": false,
          "task": false
        }
      },
      "outputs": [],
      "source": [
        "#TEST CELL: do not delete!\n",
        "### TESTS\n",
        "assert(chip_value('blue') == 'Blue is worth 10 points.')\n",
        "assert(chip_value('red') == 'Red is worth 5 points.')\n"
      ]
    },
    {
      "cell_type": "markdown",
      "metadata": {
        "deletable": false,
        "editable": false,
        "id": "X1XKFMrRTxBU",
        "nbgrader": {
          "cell_type": "markdown",
          "checksum": "2afcb32e072c01caf5bb404933d92b8b",
          "grade": false,
          "grade_id": "cell-eae73c4889881f87",
          "locked": true,
          "schema_version": 3,
          "solution": false,
          "task": false
        }
      },
      "source": [
        "## Simulations and Probabilities\n",
        "\n",
        "We can also use probabilities to ask questions about the data in our tables. </p>\n",
        "\n",
        "Suppose we have a survey where participants rate their satisfaction with a product as \"High\", \"Medium\", or \"Low\". The participants are put into age groups labelled \"Young\", \"Middle-aged\", or \"Elderly\". Run the cell below to load the data.\n"
      ]
    },
    {
      "cell_type": "code",
      "execution_count": 120,
      "metadata": {
        "deletable": false,
        "editable": false,
        "id": "8O28oBOjZWBe",
        "nbgrader": {
          "cell_type": "code",
          "checksum": "1c8ee192a964f5c1bd9aee194e9b52e3",
          "grade": false,
          "grade_id": "cell-65c2c677be690571",
          "locked": true,
          "schema_version": 3,
          "solution": false,
          "task": false
        }
      },
      "outputs": [
        {
          "data": {
            "text/html": [
              "<div>\n",
              "<style scoped>\n",
              "    .dataframe tbody tr th:only-of-type {\n",
              "        vertical-align: middle;\n",
              "    }\n",
              "\n",
              "    .dataframe tbody tr th {\n",
              "        vertical-align: top;\n",
              "    }\n",
              "\n",
              "    .dataframe thead th {\n",
              "        text-align: right;\n",
              "    }\n",
              "</style>\n",
              "<table border=\"1\" class=\"dataframe\">\n",
              "  <thead>\n",
              "    <tr style=\"text-align: right;\">\n",
              "      <th></th>\n",
              "      <th>Satisfaction Level</th>\n",
              "      <th>Age Group</th>\n",
              "    </tr>\n",
              "  </thead>\n",
              "  <tbody>\n",
              "    <tr>\n",
              "      <th>0</th>\n",
              "      <td>Medium</td>\n",
              "      <td>Middle-aged</td>\n",
              "    </tr>\n",
              "    <tr>\n",
              "      <th>1</th>\n",
              "      <td>Low</td>\n",
              "      <td>Middle-aged</td>\n",
              "    </tr>\n",
              "    <tr>\n",
              "      <th>2</th>\n",
              "      <td>High</td>\n",
              "      <td>Elderly</td>\n",
              "    </tr>\n",
              "    <tr>\n",
              "      <th>3</th>\n",
              "      <td>High</td>\n",
              "      <td>Middle-aged</td>\n",
              "    </tr>\n",
              "    <tr>\n",
              "      <th>4</th>\n",
              "      <td>Medium</td>\n",
              "      <td>Young</td>\n",
              "    </tr>\n",
              "    <tr>\n",
              "      <th>...</th>\n",
              "      <td>...</td>\n",
              "      <td>...</td>\n",
              "    </tr>\n",
              "    <tr>\n",
              "      <th>110</th>\n",
              "      <td>Low</td>\n",
              "      <td>Elderly</td>\n",
              "    </tr>\n",
              "    <tr>\n",
              "      <th>111</th>\n",
              "      <td>High</td>\n",
              "      <td>Middle-aged</td>\n",
              "    </tr>\n",
              "    <tr>\n",
              "      <th>112</th>\n",
              "      <td>Low</td>\n",
              "      <td>Middle-aged</td>\n",
              "    </tr>\n",
              "    <tr>\n",
              "      <th>113</th>\n",
              "      <td>High</td>\n",
              "      <td>Young</td>\n",
              "    </tr>\n",
              "    <tr>\n",
              "      <th>114</th>\n",
              "      <td>Low</td>\n",
              "      <td>Middle-aged</td>\n",
              "    </tr>\n",
              "  </tbody>\n",
              "</table>\n",
              "<p>115 rows × 2 columns</p>\n",
              "</div>"
            ],
            "text/plain": [
              "    Satisfaction Level    Age Group\n",
              "0               Medium  Middle-aged\n",
              "1                  Low  Middle-aged\n",
              "2                 High      Elderly\n",
              "3                 High  Middle-aged\n",
              "4               Medium        Young\n",
              "..                 ...          ...\n",
              "110                Low      Elderly\n",
              "111               High  Middle-aged\n",
              "112                Low  Middle-aged\n",
              "113               High        Young\n",
              "114                Low  Middle-aged\n",
              "\n",
              "[115 rows x 2 columns]"
            ]
          },
          "execution_count": 120,
          "metadata": {},
          "output_type": "execute_result"
        }
      ],
      "source": [
        "satisfaction = np.random.choice(['High', 'Medium', 'Low'], 115)\n",
        "age_group = np.random.choice(['Young', 'Middle-aged', 'Elderly'], 115)\n",
        "\n",
        "survey_data = pd.DataFrame({\n",
        "    'Satisfaction Level': satisfaction,\n",
        "    'Age Group': age_group\n",
        "})\n",
        "\n",
        "survey_data"
      ]
    },
    {
      "cell_type": "markdown",
      "metadata": {
        "deletable": false,
        "editable": false,
        "id": "c_zBHPF1fTFE",
        "nbgrader": {
          "cell_type": "markdown",
          "checksum": "0784f5d81cf6268a5cf2d7ef7a6e5264",
          "grade": false,
          "grade_id": "cell-a94b677c5c594aba",
          "locked": true,
          "schema_version": 3,
          "solution": false,
          "task": false
        }
      },
      "source": [
        "**Question 3.6.** Calculate the probability that a participant is Middle-aged and rated the product as Medium. Assign the probability to <code>middle _aged_medium_probability</code>."
      ]
    },
    {
      "cell_type": "code",
      "execution_count": 121,
      "metadata": {
        "deletable": false,
        "id": "SLUIQhAqgPD0",
        "nbgrader": {
          "cell_type": "code",
          "checksum": "84b1240fb16c2bee8995313cc2b38ecd",
          "grade": false,
          "grade_id": "cell-bce69d071c773a2f",
          "locked": false,
          "schema_version": 3,
          "solution": true,
          "task": false
        }
      },
      "outputs": [
        {
          "name": "stdout",
          "output_type": "stream",
          "text": [
            "Probability of being Middle-aged and having Medium satisfaction level: 0.10434782608695652\n"
          ]
        }
      ],
      "source": [
        "# YOUR CODE HERE\n",
        "# Filter the dataframe for Middle-aged participants with Medium satisfaction\n",
        "middle_aged_medium = survey_data[(survey_data['Age Group'] == 'Middle-aged') & (survey_data['Satisfaction Level'] == 'Medium')]\n",
        "\n",
        "# Total number of rows in the dframe\n",
        "total_participants = len(survey_data)\n",
        "\n",
        "# Number of Middle-aged participants with Medium satisfaction\n",
        "middle_aged_medium_count = len(middle_aged_medium)\n",
        "\n",
        "# To Calculate the probability\n",
        "middle_aged_medium_probability = middle_aged_medium_count / total_participants\n",
        "\n",
        "# Print the result\n",
        "print(\"Probability of being Middle-aged and having Medium satisfaction level:\", middle_aged_medium_probability)\n"
      ]
    },
    {
      "cell_type": "code",
      "execution_count": 122,
      "metadata": {
        "deletable": false,
        "editable": false,
        "id": "GKyHq239gc_z",
        "nbgrader": {
          "cell_type": "code",
          "checksum": "f13096258b9dfa17135736bd04c8885a",
          "grade": true,
          "grade_id": "cell-ddedb09334d01f33",
          "locked": true,
          "points": 9,
          "schema_version": 3,
          "solution": false,
          "task": false
        }
      },
      "outputs": [],
      "source": [
        "#TEST CELL: do not delete!"
      ]
    },
    {
      "cell_type": "markdown",
      "metadata": {
        "deletable": false,
        "editable": false,
        "id": "KIQsu-Sr3zsQ",
        "nbgrader": {
          "cell_type": "markdown",
          "checksum": "92ff39dd40aef31db5eae3b7e7b3c9f2",
          "grade": false,
          "grade_id": "cell-08a6e36ef25fc71e",
          "locked": true,
          "schema_version": 3,
          "solution": false,
          "task": false
        }
      },
      "source": [
        "# Rubric\n",
        "\n",
        "| Question | Points|\n",
        "|----------|----------|\n",
        "| 1.1.   | 8   |\n",
        "| 1.2.    | 8   |\n",
        "| 1.3.    | 10   |\n",
        "| 2.1.   | 15   |\n",
        "| 2.2.    | 15  |\n",
        "| 2.3.   | 5   |\n",
        "| 3.1.    | 5   |\n",
        "| 3.2.    | 6   |\n",
        "| 3.3.   | 5   |\n",
        "| 3.4.    | 3  |\n",
        "| 3.5.   | 6   |\n",
        "| 3.6.   | 9  |\n",
        "| Total:    | 95   |\n"
      ]
    }
  ],
  "metadata": {
    "colab": {
      "provenance": []
    },
    "kernelspec": {
      "display_name": "base",
      "language": "python",
      "name": "python3"
    },
    "language_info": {
      "codemirror_mode": {
        "name": "ipython",
        "version": 3
      },
      "file_extension": ".py",
      "mimetype": "text/x-python",
      "name": "python",
      "nbconvert_exporter": "python",
      "pygments_lexer": "ipython3",
      "version": "3.12.2"
    }
  },
  "nbformat": 4,
  "nbformat_minor": 0
}
