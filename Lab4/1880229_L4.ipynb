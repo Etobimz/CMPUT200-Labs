{
  "cells": [
    {
      "cell_type": "markdown",
      "metadata": {
        "deletable": false,
        "editable": false,
        "id": "sxnX1WJu4ecc",
        "nbgrader": {
          "cell_type": "markdown",
          "checksum": "6a6493793a096f6b148435a8ff525d1b",
          "grade": false,
          "grade_id": "cell-85cb841f3b71186f",
          "locked": true,
          "schema_version": 3,
          "solution": false,
          "task": false
        }
      },
      "source": [
        "<!-- # CMPUT 200 Winter 2023  Ethics of Data Science and AI\n",
        " -->\n",
        "# Lab 4:  Applying Basic Data Science Methods"
      ]
    },
    {
      "cell_type": "markdown",
      "metadata": {
        "id": "yinkkJGK4ece"
      },
      "source": [
        "***\n",
        "- **FIRST name**: Abimbola\n",
        "- **LAST name**: Olarinde\n",
        "- **Student ID**: 1880229\n",
        "\n",
        "Leave blank if individual:\n",
        "- **Collaborator names**:\n",
        "- **Collaborator student IDs**:\n",
        "***"
      ]
    },
    {
      "cell_type": "markdown",
      "metadata": {
        "deletable": false,
        "editable": false,
        "id": "UrYqRo8N4ecf",
        "nbgrader": {
          "cell_type": "markdown",
          "checksum": "a78e96ba50547d030f307fb45d710974",
          "grade": false,
          "grade_id": "cell-bf66c4e7dbffa494",
          "locked": true,
          "schema_version": 3,
          "solution": false,
          "task": false
        },
        "tags": [
          "parameters"
        ]
      },
      "source": [
        "In today's lab, you will learn how to:\n",
        "1. apply the data science methods learnt in labs 1-3.\n",
        "\n",
        "For this lab, you will need four datasets: <code>population.csv</code>, <code>child_mortality.csv</code>, <code>fertility.csv</code>, and <code>life_expectancy.csv</code>. To upload them to your notebook, click on the **Files** button on the left side of your screen. Next click on the **Upload** icon near the top and select the two datasets.\n",
        "\n",
        "### Instructions\n",
        "\n",
        "- **Collaboration**: You must submit your own work. The collaboration policy for the labs is Consultation Collaboration. You may verbally discuss concepts with your classmates, without exchanging written text, code, or detailed advice. You must develop your own solution and submit your own work. All sources of information used including books, websites, students you talked to, must be cited in the submission. Please see the course FAQ document for details on this collaboration policy. We will adhere to current Faculty of Science guidelines on dealing with suspected cases of plagiarism.\n",
        "- **Software**: We highly recommend that students use Google Colab for completing labs and assignments. This is the software used by the TAs in the course, and we can guarantee that there will be no issues with incompatible environments or imports.\n",
        "- **Filling out the Notebook**: You must use this notebook to complete your lab. You will execute the questions in the notebook. The questions might ask for a short answer in text form or for you to write and execute a piece of code. Make sure you enter your answer in either case only in the cell provided.\n",
        "- **Important**:  Do not use a different cell, do not delete cells, and do not create a new cell. Creating new cells for your code is not compatible with the auto-grading system we are using and thus your assignment will not get grading properly and you will lose marks for that question. As a reminder you must remove the raise NotImplementedError() statements from each question when answering.\n",
        "- **Rules for Datasets**: Any datasets used in the lab cannot be imported from cloud storage, e.g google drive, and must be read from a file either on your local computer or uploaded to the google colab notebook. Importing from cloud storage will result in a zero.\n",
        "- **Submission Formatting**: When you are done, you will submit your work from the notebook. Make sure to save your notebook before running it, and then submit on Canvas the notebook file with your work completed. Name your file with your Student ID number, followed by an underscore and L plus the lab number (ex: 1234567_L4.ipynb). Failure to do so will result in your final score being reduced by 50%! Finally your name must be written at the top of the lab or assignment document."
      ]
    },
    {
      "cell_type": "code",
      "execution_count": 99,
      "metadata": {
        "deletable": false,
        "editable": false,
        "id": "ypOiYN5G4ecg",
        "nbgrader": {
          "cell_type": "code",
          "checksum": "b612f2b2a645984be2bcb918f9efcf53",
          "grade": false,
          "grade_id": "cell-0dc3ce7e70d5f3f6",
          "locked": true,
          "schema_version": 3,
          "solution": false,
          "task": false
        }
      },
      "outputs": [],
      "source": [
        "# Run this cell to set up; Please don't change this cell.\n",
        "\n",
        "import numpy as np\n",
        "from numpy.random import default_rng\n",
        "rng = default_rng()\n",
        "import pandas as pd\n",
        "\n",
        "from scipy.optimize import minimize\n",
        "\n",
        "# These lines do some fancy plotting magic.\n",
        "import matplotlib\n",
        "# This is a magic function that renders the figure in the notebook, instead of displaying a dump of the figure object.\n",
        "%matplotlib inline\n",
        "import matplotlib.pyplot as plt\n",
        "plt.style.use('fivethirtyeight')\n",
        "import warnings\n",
        "warnings.simplefilter('ignore', FutureWarning)"
      ]
    },
    {
      "cell_type": "markdown",
      "metadata": {
        "deletable": false,
        "editable": false,
        "id": "CPSK1J7f4eci",
        "nbgrader": {
          "cell_type": "markdown",
          "checksum": "5160e7b6aae03ef66a062336ed97a3de",
          "grade": false,
          "grade_id": "cell-7c937b0b6dd4862c",
          "locked": true,
          "schema_version": 3,
          "solution": false,
          "task": false
        }
      },
      "source": [
        "## Part 1:  Population\n",
        "\n",
        "The global population of humans reached 1 billion around 1800, 3 billion around 1960, and 7 billion around 2011. The potential impact of exponential population growth has concerned scientists, economists, and politicians alike.\n",
        "\n",
        "The UN Population Division estimates that the world population will likely continue to grow throughout the 21st century, but at a slower rate, perhaps reaching 11 billion by 2100. However, the UN does not rule out scenarios of more extreme growth.\n",
        "\n",
        "\n",
        "In this section, we will examine some of the factors that influence population growth and how they are changing around the world.\n",
        "\n",
        "The first dataframe we will consider is the total population of each country over time. Run the cell below."
      ]
    },
    {
      "cell_type": "code",
      "execution_count": 100,
      "metadata": {
        "deletable": false,
        "editable": false,
        "id": "0IMzO2ND4eci",
        "nbgrader": {
          "cell_type": "code",
          "checksum": "842e28514bde952e5273c8547c56c47f",
          "grade": false,
          "grade_id": "cell-9a1579125766c11b",
          "locked": true,
          "schema_version": 3,
          "solution": false,
          "task": false
        },
        "tags": []
      },
      "outputs": [
        {
          "data": {
            "text/plain": [
              "(43537, 3)"
            ]
          },
          "execution_count": 100,
          "metadata": {},
          "output_type": "execute_result"
        }
      ],
      "source": [
        "population = pd.read_csv('population.csv', header=0)\n",
        "population.drop(population.index[(population[\"time\"] >= 2021)],axis=0,inplace=True)\n",
        "population.shape"
      ]
    },
    {
      "cell_type": "markdown",
      "metadata": {
        "deletable": false,
        "editable": false,
        "id": "dHL0exO-4ecj",
        "nbgrader": {
          "cell_type": "markdown",
          "checksum": "7426366ca828a0a5c7e90543546925a1",
          "grade": false,
          "grade_id": "cell-60cdd02cf05d625b",
          "locked": true,
          "schema_version": 3,
          "solution": false,
          "task": false
        }
      },
      "source": [
        "### Haiti\n",
        "\n",
        "In the `population` dataframe, the `geo` column contains three-letter codes established by the [International Organization for Standardization](https://en.wikipedia.org/wiki/International_Organization_for_Standardization) (ISO) in the [Alpha-3](https://en.wikipedia.org/wiki/ISO_3166-1_alpha-3#Current_codes) standard. We will begin by taking a close look at Haiti. Use the ISO link to find the 3-letter code for Haiti."
      ]
    },
    {
      "cell_type": "markdown",
      "metadata": {
        "deletable": false,
        "editable": false,
        "id": "2Th5ql6m4eck",
        "nbgrader": {
          "cell_type": "markdown",
          "checksum": "02e680ab25543a703ae54e2c29a1400e",
          "grade": false,
          "grade_id": "cell-117d5bc0fc4a2ada",
          "locked": true,
          "schema_version": 3,
          "solution": false,
          "task": false
        },
        "tags": []
      },
      "source": [
        "**Question 1.** Create a dataframe called `h_pop` that has two columns labeled `time` and `population_total`. The first column should contain the years from 1970 through 2020 (including both 1970 and 2020) and the second should contain the population of Haiti in each of those years."
      ]
    },
    {
      "cell_type": "code",
      "execution_count": 101,
      "metadata": {
        "deletable": false,
        "id": "OoKhJfto4ecl",
        "nbgrader": {
          "cell_type": "code",
          "checksum": "959bf9710f8eb3645375299eac9a77a0",
          "grade": false,
          "grade_id": "cell-03b21af0a44f6265",
          "locked": false,
          "schema_version": 3,
          "solution": true,
          "task": false
        }
      },
      "outputs": [
        {
          "data": {
            "text/html": [
              "<div>\n",
              "<style scoped>\n",
              "    .dataframe tbody tr th:only-of-type {\n",
              "        vertical-align: middle;\n",
              "    }\n",
              "\n",
              "    .dataframe tbody tr th {\n",
              "        vertical-align: top;\n",
              "    }\n",
              "\n",
              "    .dataframe thead th {\n",
              "        text-align: right;\n",
              "    }\n",
              "</style>\n",
              "<table border=\"1\" class=\"dataframe\">\n",
              "  <thead>\n",
              "    <tr style=\"text-align: right;\">\n",
              "      <th></th>\n",
              "      <th>time</th>\n",
              "      <th>population_total</th>\n",
              "    </tr>\n",
              "  </thead>\n",
              "  <tbody>\n",
              "    <tr>\n",
              "      <th>23046</th>\n",
              "      <td>1970</td>\n",
              "      <td>4676237</td>\n",
              "    </tr>\n",
              "    <tr>\n",
              "      <th>23047</th>\n",
              "      <td>1971</td>\n",
              "      <td>4757175</td>\n",
              "    </tr>\n",
              "    <tr>\n",
              "      <th>23048</th>\n",
              "      <td>1972</td>\n",
              "      <td>4837334</td>\n",
              "    </tr>\n",
              "    <tr>\n",
              "      <th>23049</th>\n",
              "      <td>1973</td>\n",
              "      <td>4918625</td>\n",
              "    </tr>\n",
              "    <tr>\n",
              "      <th>23050</th>\n",
              "      <td>1974</td>\n",
              "      <td>5003708</td>\n",
              "    </tr>\n",
              "    <tr>\n",
              "      <th>23051</th>\n",
              "      <td>1975</td>\n",
              "      <td>5094570</td>\n",
              "    </tr>\n",
              "    <tr>\n",
              "      <th>23052</th>\n",
              "      <td>1976</td>\n",
              "      <td>5191637</td>\n",
              "    </tr>\n",
              "    <tr>\n",
              "      <th>23053</th>\n",
              "      <td>1977</td>\n",
              "      <td>5294625</td>\n",
              "    </tr>\n",
              "    <tr>\n",
              "      <th>23054</th>\n",
              "      <td>1978</td>\n",
              "      <td>5404020</td>\n",
              "    </tr>\n",
              "    <tr>\n",
              "      <th>23055</th>\n",
              "      <td>1979</td>\n",
              "      <td>5520187</td>\n",
              "    </tr>\n",
              "    <tr>\n",
              "      <th>23056</th>\n",
              "      <td>1980</td>\n",
              "      <td>5643175</td>\n",
              "    </tr>\n",
              "    <tr>\n",
              "      <th>23057</th>\n",
              "      <td>1981</td>\n",
              "      <td>5773367</td>\n",
              "    </tr>\n",
              "    <tr>\n",
              "      <th>23058</th>\n",
              "      <td>1982</td>\n",
              "      <td>5910223</td>\n",
              "    </tr>\n",
              "    <tr>\n",
              "      <th>23059</th>\n",
              "      <td>1983</td>\n",
              "      <td>6051617</td>\n",
              "    </tr>\n",
              "    <tr>\n",
              "      <th>23060</th>\n",
              "      <td>1984</td>\n",
              "      <td>6194686</td>\n",
              "    </tr>\n",
              "    <tr>\n",
              "      <th>23061</th>\n",
              "      <td>1985</td>\n",
              "      <td>6337275</td>\n",
              "    </tr>\n",
              "    <tr>\n",
              "      <th>23062</th>\n",
              "      <td>1986</td>\n",
              "      <td>6478537</td>\n",
              "    </tr>\n",
              "    <tr>\n",
              "      <th>23063</th>\n",
              "      <td>1987</td>\n",
              "      <td>6618742</td>\n",
              "    </tr>\n",
              "    <tr>\n",
              "      <th>23064</th>\n",
              "      <td>1988</td>\n",
              "      <td>6758222</td>\n",
              "    </tr>\n",
              "    <tr>\n",
              "      <th>23065</th>\n",
              "      <td>1989</td>\n",
              "      <td>6897755</td>\n",
              "    </tr>\n",
              "    <tr>\n",
              "      <th>23066</th>\n",
              "      <td>1990</td>\n",
              "      <td>7037915</td>\n",
              "    </tr>\n",
              "    <tr>\n",
              "      <th>23067</th>\n",
              "      <td>1991</td>\n",
              "      <td>7178611</td>\n",
              "    </tr>\n",
              "    <tr>\n",
              "      <th>23068</th>\n",
              "      <td>1992</td>\n",
              "      <td>7319491</td>\n",
              "    </tr>\n",
              "    <tr>\n",
              "      <th>23069</th>\n",
              "      <td>1993</td>\n",
              "      <td>7460684</td>\n",
              "    </tr>\n",
              "    <tr>\n",
              "      <th>23070</th>\n",
              "      <td>1994</td>\n",
              "      <td>7602318</td>\n",
              "    </tr>\n",
              "    <tr>\n",
              "      <th>23071</th>\n",
              "      <td>1995</td>\n",
              "      <td>7744509</td>\n",
              "    </tr>\n",
              "    <tr>\n",
              "      <th>23072</th>\n",
              "      <td>1996</td>\n",
              "      <td>7887312</td>\n",
              "    </tr>\n",
              "    <tr>\n",
              "      <th>23073</th>\n",
              "      <td>1997</td>\n",
              "      <td>8030721</td>\n",
              "    </tr>\n",
              "    <tr>\n",
              "      <th>23074</th>\n",
              "      <td>1998</td>\n",
              "      <td>8174680</td>\n",
              "    </tr>\n",
              "    <tr>\n",
              "      <th>23075</th>\n",
              "      <td>1999</td>\n",
              "      <td>8319070</td>\n",
              "    </tr>\n",
              "    <tr>\n",
              "      <th>23076</th>\n",
              "      <td>2000</td>\n",
              "      <td>8463802</td>\n",
              "    </tr>\n",
              "    <tr>\n",
              "      <th>23077</th>\n",
              "      <td>2001</td>\n",
              "      <td>8608810</td>\n",
              "    </tr>\n",
              "    <tr>\n",
              "      <th>23078</th>\n",
              "      <td>2002</td>\n",
              "      <td>8754148</td>\n",
              "    </tr>\n",
              "    <tr>\n",
              "      <th>23079</th>\n",
              "      <td>2003</td>\n",
              "      <td>8900108</td>\n",
              "    </tr>\n",
              "    <tr>\n",
              "      <th>23080</th>\n",
              "      <td>2004</td>\n",
              "      <td>9047082</td>\n",
              "    </tr>\n",
              "    <tr>\n",
              "      <th>23081</th>\n",
              "      <td>2005</td>\n",
              "      <td>9195289</td>\n",
              "    </tr>\n",
              "    <tr>\n",
              "      <th>23082</th>\n",
              "      <td>2006</td>\n",
              "      <td>9344784</td>\n",
              "    </tr>\n",
              "    <tr>\n",
              "      <th>23083</th>\n",
              "      <td>2007</td>\n",
              "      <td>9495336</td>\n",
              "    </tr>\n",
              "    <tr>\n",
              "      <th>23084</th>\n",
              "      <td>2008</td>\n",
              "      <td>9646570</td>\n",
              "    </tr>\n",
              "    <tr>\n",
              "      <th>23085</th>\n",
              "      <td>2009</td>\n",
              "      <td>9798046</td>\n",
              "    </tr>\n",
              "    <tr>\n",
              "      <th>23086</th>\n",
              "      <td>2010</td>\n",
              "      <td>9949318</td>\n",
              "    </tr>\n",
              "    <tr>\n",
              "      <th>23087</th>\n",
              "      <td>2011</td>\n",
              "      <td>10100320</td>\n",
              "    </tr>\n",
              "    <tr>\n",
              "      <th>23088</th>\n",
              "      <td>2012</td>\n",
              "      <td>10250922</td>\n",
              "    </tr>\n",
              "    <tr>\n",
              "      <th>23089</th>\n",
              "      <td>2013</td>\n",
              "      <td>10400672</td>\n",
              "    </tr>\n",
              "    <tr>\n",
              "      <th>23090</th>\n",
              "      <td>2014</td>\n",
              "      <td>10549007</td>\n",
              "    </tr>\n",
              "    <tr>\n",
              "      <th>23091</th>\n",
              "      <td>2015</td>\n",
              "      <td>10695540</td>\n",
              "    </tr>\n",
              "    <tr>\n",
              "      <th>23092</th>\n",
              "      <td>2016</td>\n",
              "      <td>10839976</td>\n",
              "    </tr>\n",
              "    <tr>\n",
              "      <th>23093</th>\n",
              "      <td>2017</td>\n",
              "      <td>10982367</td>\n",
              "    </tr>\n",
              "    <tr>\n",
              "      <th>23094</th>\n",
              "      <td>2018</td>\n",
              "      <td>11123183</td>\n",
              "    </tr>\n",
              "    <tr>\n",
              "      <th>23095</th>\n",
              "      <td>2019</td>\n",
              "      <td>11263079</td>\n",
              "    </tr>\n",
              "    <tr>\n",
              "      <th>23096</th>\n",
              "      <td>2020</td>\n",
              "      <td>11402533</td>\n",
              "    </tr>\n",
              "  </tbody>\n",
              "</table>\n",
              "</div>"
            ],
            "text/plain": [
              "       time  population_total\n",
              "23046  1970           4676237\n",
              "23047  1971           4757175\n",
              "23048  1972           4837334\n",
              "23049  1973           4918625\n",
              "23050  1974           5003708\n",
              "23051  1975           5094570\n",
              "23052  1976           5191637\n",
              "23053  1977           5294625\n",
              "23054  1978           5404020\n",
              "23055  1979           5520187\n",
              "23056  1980           5643175\n",
              "23057  1981           5773367\n",
              "23058  1982           5910223\n",
              "23059  1983           6051617\n",
              "23060  1984           6194686\n",
              "23061  1985           6337275\n",
              "23062  1986           6478537\n",
              "23063  1987           6618742\n",
              "23064  1988           6758222\n",
              "23065  1989           6897755\n",
              "23066  1990           7037915\n",
              "23067  1991           7178611\n",
              "23068  1992           7319491\n",
              "23069  1993           7460684\n",
              "23070  1994           7602318\n",
              "23071  1995           7744509\n",
              "23072  1996           7887312\n",
              "23073  1997           8030721\n",
              "23074  1998           8174680\n",
              "23075  1999           8319070\n",
              "23076  2000           8463802\n",
              "23077  2001           8608810\n",
              "23078  2002           8754148\n",
              "23079  2003           8900108\n",
              "23080  2004           9047082\n",
              "23081  2005           9195289\n",
              "23082  2006           9344784\n",
              "23083  2007           9495336\n",
              "23084  2008           9646570\n",
              "23085  2009           9798046\n",
              "23086  2010           9949318\n",
              "23087  2011          10100320\n",
              "23088  2012          10250922\n",
              "23089  2013          10400672\n",
              "23090  2014          10549007\n",
              "23091  2015          10695540\n",
              "23092  2016          10839976\n",
              "23093  2017          10982367\n",
              "23094  2018          11123183\n",
              "23095  2019          11263079\n",
              "23096  2020          11402533"
            ]
          },
          "execution_count": 101,
          "metadata": {},
          "output_type": "execute_result"
        }
      ],
      "source": [
        "# YOUR CODE HERE\n",
        "filtered_column = population[(population['geo'] == 'hti') & (population['time'] >= 1970 ) & (population['time'] <= 2020 )]\n",
        "h_pop = filtered_column[['time', 'population_total']]\n",
        "#h_pop.drop(h_pop.index[((h_pop['time'] < 1970) | (h_pop['time'] > 2020)) & (h_pop['geo'] != 'hti')], inplace=True)\n",
        "h_pop.shape\n",
        "h_pop\n"
      ]
    },
    {
      "cell_type": "code",
      "execution_count": 102,
      "metadata": {
        "deletable": false,
        "editable": false,
        "id": "ErhNS7nx4ecm",
        "nbgrader": {
          "cell_type": "code",
          "checksum": "a78ae295441a415a98ae9056fc904c09",
          "grade": true,
          "grade_id": "cell-df062aa8b71e4f27",
          "locked": true,
          "points": 5,
          "schema_version": 3,
          "solution": false,
          "task": false
        }
      },
      "outputs": [],
      "source": [
        "#TEST CELL: do not delete!"
      ]
    },
    {
      "cell_type": "markdown",
      "metadata": {
        "deletable": false,
        "editable": false,
        "id": "EnxVYRPW4ecm",
        "nbgrader": {
          "cell_type": "markdown",
          "checksum": "1862ef45c7e8163b9d472f26fcd93868",
          "grade": false,
          "grade_id": "cell-84e70288b5aa22bb",
          "locked": true,
          "schema_version": 3,
          "solution": false,
          "task": false
        },
        "tags": []
      },
      "source": [
        "Run the following cell to create a dataframe called `h_decade` that has the population of Haiti for every ten years starting in 1970 and going up to 2020. At a glance, it appears that the population of Haiti has been growing quickly indeed!"
      ]
    },
    {
      "cell_type": "code",
      "execution_count": 103,
      "metadata": {
        "deletable": false,
        "editable": false,
        "id": "ee8n4xx34ecm",
        "nbgrader": {
          "cell_type": "code",
          "checksum": "bbf6d2afacfbe73692bed1ed817ce19e",
          "grade": false,
          "grade_id": "cell-1286084e2f0e7be5",
          "locked": true,
          "schema_version": 3,
          "solution": false,
          "task": false
        }
      },
      "outputs": [
        {
          "data": {
            "text/html": [
              "<div>\n",
              "<style scoped>\n",
              "    .dataframe tbody tr th:only-of-type {\n",
              "        vertical-align: middle;\n",
              "    }\n",
              "\n",
              "    .dataframe tbody tr th {\n",
              "        vertical-align: top;\n",
              "    }\n",
              "\n",
              "    .dataframe thead th {\n",
              "        text-align: right;\n",
              "    }\n",
              "</style>\n",
              "<table border=\"1\" class=\"dataframe\">\n",
              "  <thead>\n",
              "    <tr style=\"text-align: right;\">\n",
              "      <th></th>\n",
              "      <th>time</th>\n",
              "      <th>population_total</th>\n",
              "    </tr>\n",
              "  </thead>\n",
              "  <tbody>\n",
              "    <tr>\n",
              "      <th>23046</th>\n",
              "      <td>1970</td>\n",
              "      <td>4676237</td>\n",
              "    </tr>\n",
              "    <tr>\n",
              "      <th>23056</th>\n",
              "      <td>1980</td>\n",
              "      <td>5643175</td>\n",
              "    </tr>\n",
              "    <tr>\n",
              "      <th>23066</th>\n",
              "      <td>1990</td>\n",
              "      <td>7037915</td>\n",
              "    </tr>\n",
              "    <tr>\n",
              "      <th>23076</th>\n",
              "      <td>2000</td>\n",
              "      <td>8463802</td>\n",
              "    </tr>\n",
              "    <tr>\n",
              "      <th>23086</th>\n",
              "      <td>2010</td>\n",
              "      <td>9949318</td>\n",
              "    </tr>\n",
              "    <tr>\n",
              "      <th>23096</th>\n",
              "      <td>2020</td>\n",
              "      <td>11402533</td>\n",
              "    </tr>\n",
              "  </tbody>\n",
              "</table>\n",
              "</div>"
            ],
            "text/plain": [
              "       time  population_total\n",
              "23046  1970           4676237\n",
              "23056  1980           5643175\n",
              "23066  1990           7037915\n",
              "23076  2000           8463802\n",
              "23086  2010           9949318\n",
              "23096  2020          11402533"
            ]
          },
          "execution_count": 103,
          "metadata": {},
          "output_type": "execute_result"
        }
      ],
      "source": [
        "tens = np.arange(1970,2021,10)\n",
        "h_decade = h_pop.loc[h_pop['time'].isin(tens)]\n",
        "h_decade"
      ]
    },
    {
      "cell_type": "markdown",
      "metadata": {
        "deletable": false,
        "editable": false,
        "id": "ZfLw7F1k4ecn",
        "nbgrader": {
          "cell_type": "markdown",
          "checksum": "758d6349c815b61003abef34af42101d",
          "grade": false,
          "grade_id": "cell-5dc7e4f737257073",
          "locked": true,
          "schema_version": 3,
          "solution": false,
          "task": false
        }
      },
      "source": [
        "**Question 2.** Assign `initial` to an array that contains the population for every ten year interval from 1970 to 2010. Then, assign `changed` to an array that contains the population for every ten year interval from 1980 to 2020. You should use the `h_decade` table to create both arrays, first filtering the table to only contain the relevant years.\n",
        "\n",
        "The annual growth rate for a time period is equal to:\n",
        "\n",
        "$$(\\frac{\\text{Population at end of period}}{\\text{Population at start of period}}^{\\frac{1}{\\text{number of years}}} )-1$$\n",
        "\n",
        "We have provided the code below that uses  `initial` and `changed` in order to add a column to `h_decade` called `annual_growth`. Don't worry about the calculation of the growth rates; run the test below to test your solution."
      ]
    },
    {
      "cell_type": "code",
      "execution_count": 104,
      "metadata": {
        "deletable": false,
        "id": "HJ0O8Q0r4ecn",
        "nbgrader": {
          "cell_type": "code",
          "checksum": "27d6e23c7da0eeadb980f971cae55395",
          "grade": false,
          "grade_id": "cell-53503e6836fc6903",
          "locked": false,
          "schema_version": 3,
          "solution": true,
          "task": false
        }
      },
      "outputs": [],
      "source": [
        "# YOUR CODE HERE\n",
        "tens_inital = np.arange(1970,2011,10) # to get the range from 1970 to 2010\n",
        "tens_changed = np.arange(1980,2021,10) # to get the range from 1980 to 2020\n",
        "filtered_initial = h_decade[h_decade['time'].isin(tens_inital)] \n",
        "filtered_changed = h_decade[h_decade['time'].isin(tens_changed)]\n",
        "\n",
        "\n",
        "initial = filtered_initial['population_total'].values # an initial array with the population values\n",
        "changed = filtered_changed['population_total'].values # an changed array with the population values\n",
        "\n",
        "growth_rates = ((changed/initial)**0.1)-1\n",
        "\n",
        "h_1970_through_2010 = h_decade.loc[h_decade['time'] <= 2010]\n",
        "h_decade_growth = h_1970_through_2010.assign(annual_growth = growth_rates)"
      ]
    },
    {
      "cell_type": "code",
      "execution_count": 105,
      "metadata": {
        "deletable": false,
        "editable": false,
        "id": "aC-ULeDF4eco",
        "nbgrader": {
          "cell_type": "code",
          "checksum": "299ae84602f4248783592533c49f6fff",
          "grade": true,
          "grade_id": "cell-dffa7c9d5a1fadb6",
          "locked": true,
          "points": 10,
          "schema_version": 3,
          "solution": false,
          "task": false
        }
      },
      "outputs": [],
      "source": [
        "#TEST CELL: do not delete!"
      ]
    },
    {
      "cell_type": "markdown",
      "metadata": {
        "deletable": false,
        "editable": false,
        "id": "jVXntOLo4eco",
        "nbgrader": {
          "cell_type": "markdown",
          "checksum": "7f1e72f00d80c7d554f8c1e3c04149e4",
          "grade": false,
          "grade_id": "cell-ce5ebd32114bf9c7",
          "locked": true,
          "schema_version": 3,
          "solution": false,
          "task": false
        }
      },
      "source": [
        "While the population has grown every decade since 1970, the annual growth rate decreased dramatically from 1980 to 2020. Let's look at some other information in order to develop a possible explanation. Run the next cell to load three additional dataframes of measurements about countries over time."
      ]
    },
    {
      "cell_type": "code",
      "execution_count": 106,
      "metadata": {
        "deletable": false,
        "editable": false,
        "id": "HwnB3dgE4eco",
        "nbgrader": {
          "cell_type": "code",
          "checksum": "d82e14d49763c36bc6d2f1078ad65966",
          "grade": false,
          "grade_id": "cell-ccabb327448140ae",
          "locked": true,
          "schema_version": 3,
          "solution": false,
          "task": false
        }
      },
      "outputs": [],
      "source": [
        "life_expectancy = pd.read_csv('life_expectancy.csv', header=0)\n",
        "life_expectancy.drop(life_expectancy.loc[life_expectancy['time'] >= 2021].index, inplace=True)\n",
        "\n",
        "child_mortality = pd.read_csv('child_mortality.csv', header=0)\n",
        "child_mortality.drop(child_mortality.loc[child_mortality['time'] >= 2021].index, inplace=True)\n",
        "child_mortality.rename(columns={\"child_mortality_0_5_year_olds_dying_per_1000_born\":\"child_mortality_under_5_per_1000_born\"}, inplace=True)\n",
        "\n",
        "fertility = pd.read_csv('fertility.csv', header=0)\n",
        "fertility.drop(fertility.loc[fertility['time'] >= 2021].index, inplace=True)"
      ]
    },
    {
      "cell_type": "markdown",
      "metadata": {
        "deletable": false,
        "editable": false,
        "id": "7C7EjW6o4ecp",
        "nbgrader": {
          "cell_type": "markdown",
          "checksum": "74678a203cf422d4aba8fd557288fb8b",
          "grade": false,
          "grade_id": "cell-238c6fe4efcc4793",
          "locked": true,
          "schema_version": 3,
          "solution": false,
          "task": false
        }
      },
      "source": [
        "The `life_expectancy` table contains a statistic that is often used to measure how long people live, called *life expectancy at birth*. This number, for a country in a given year, [does not measure how long babies born in that year are expected to live](http://blogs.worldbank.org/opendata/what-does-life-expectancy-birth-really-mean). Instead, it measures how long someone would live, on average, if the *mortality conditions* in that year persisted throughout their lifetime. These \"mortality conditions\" describe what fraction of people at each age survived the year. So, it is a way of measuring the proportion of people that are staying alive, aggregated over different age groups in the population."
      ]
    },
    {
      "cell_type": "markdown",
      "metadata": {
        "deletable": false,
        "editable": false,
        "id": "VSm2RnEj4ecp",
        "nbgrader": {
          "cell_type": "markdown",
          "checksum": "7e74ef548bc37f37f18947da284f85e0",
          "grade": false,
          "grade_id": "cell-54489d8ef5d6da4c",
          "locked": true,
          "schema_version": 3,
          "solution": false,
          "task": false
        }
      },
      "source": [
        "Run the following cells below to see `life_expectancy`, `child_mortality`, and `fertility`. Refer back to these tables as they will be helpful for answering further questions!"
      ]
    },
    {
      "cell_type": "code",
      "execution_count": 107,
      "metadata": {
        "deletable": false,
        "editable": false,
        "id": "AQAtAgDR4ecp",
        "nbgrader": {
          "cell_type": "code",
          "checksum": "ef39f47ad746e4a9b8092f93f85247c8",
          "grade": false,
          "grade_id": "cell-89cef65a9ef018aa",
          "locked": true,
          "schema_version": 3,
          "solution": false,
          "task": false
        }
      },
      "outputs": [
        {
          "data": {
            "text/html": [
              "<div>\n",
              "<style scoped>\n",
              "    .dataframe tbody tr th:only-of-type {\n",
              "        vertical-align: middle;\n",
              "    }\n",
              "\n",
              "    .dataframe tbody tr th {\n",
              "        vertical-align: top;\n",
              "    }\n",
              "\n",
              "    .dataframe thead th {\n",
              "        text-align: right;\n",
              "    }\n",
              "</style>\n",
              "<table border=\"1\" class=\"dataframe\">\n",
              "  <thead>\n",
              "    <tr style=\"text-align: right;\">\n",
              "      <th></th>\n",
              "      <th>geo</th>\n",
              "      <th>time</th>\n",
              "      <th>life_expectancy_years</th>\n",
              "    </tr>\n",
              "  </thead>\n",
              "  <tbody>\n",
              "    <tr>\n",
              "      <th>0</th>\n",
              "      <td>afg</td>\n",
              "      <td>1800</td>\n",
              "      <td>28.21</td>\n",
              "    </tr>\n",
              "    <tr>\n",
              "      <th>1</th>\n",
              "      <td>afg</td>\n",
              "      <td>1801</td>\n",
              "      <td>28.20</td>\n",
              "    </tr>\n",
              "    <tr>\n",
              "      <th>2</th>\n",
              "      <td>afg</td>\n",
              "      <td>1802</td>\n",
              "      <td>28.19</td>\n",
              "    </tr>\n",
              "    <tr>\n",
              "      <th>3</th>\n",
              "      <td>afg</td>\n",
              "      <td>1803</td>\n",
              "      <td>28.18</td>\n",
              "    </tr>\n",
              "    <tr>\n",
              "      <th>4</th>\n",
              "      <td>afg</td>\n",
              "      <td>1804</td>\n",
              "      <td>28.17</td>\n",
              "    </tr>\n",
              "    <tr>\n",
              "      <th>...</th>\n",
              "      <td>...</td>\n",
              "      <td>...</td>\n",
              "      <td>...</td>\n",
              "    </tr>\n",
              "    <tr>\n",
              "      <th>56045</th>\n",
              "      <td>zwe</td>\n",
              "      <td>2016</td>\n",
              "      <td>60.52</td>\n",
              "    </tr>\n",
              "    <tr>\n",
              "      <th>56046</th>\n",
              "      <td>zwe</td>\n",
              "      <td>2017</td>\n",
              "      <td>61.35</td>\n",
              "    </tr>\n",
              "    <tr>\n",
              "      <th>56047</th>\n",
              "      <td>zwe</td>\n",
              "      <td>2018</td>\n",
              "      <td>61.74</td>\n",
              "    </tr>\n",
              "    <tr>\n",
              "      <th>56048</th>\n",
              "      <td>zwe</td>\n",
              "      <td>2019</td>\n",
              "      <td>62.04</td>\n",
              "    </tr>\n",
              "    <tr>\n",
              "      <th>56049</th>\n",
              "      <td>zwe</td>\n",
              "      <td>2020</td>\n",
              "      <td>62.29</td>\n",
              "    </tr>\n",
              "  </tbody>\n",
              "</table>\n",
              "<p>41250 rows × 3 columns</p>\n",
              "</div>"
            ],
            "text/plain": [
              "       geo  time  life_expectancy_years\n",
              "0      afg  1800                  28.21\n",
              "1      afg  1801                  28.20\n",
              "2      afg  1802                  28.19\n",
              "3      afg  1803                  28.18\n",
              "4      afg  1804                  28.17\n",
              "...    ...   ...                    ...\n",
              "56045  zwe  2016                  60.52\n",
              "56046  zwe  2017                  61.35\n",
              "56047  zwe  2018                  61.74\n",
              "56048  zwe  2019                  62.04\n",
              "56049  zwe  2020                  62.29\n",
              "\n",
              "[41250 rows x 3 columns]"
            ]
          },
          "execution_count": 107,
          "metadata": {},
          "output_type": "execute_result"
        }
      ],
      "source": [
        "life_expectancy"
      ]
    },
    {
      "cell_type": "code",
      "execution_count": 108,
      "metadata": {
        "deletable": false,
        "editable": false,
        "id": "OKe18boL4ecp",
        "nbgrader": {
          "cell_type": "code",
          "checksum": "a78fa088cda88bbbe5cb615025e12957",
          "grade": false,
          "grade_id": "cell-22be0776a202029a",
          "locked": true,
          "schema_version": 3,
          "solution": false,
          "task": false
        }
      },
      "outputs": [
        {
          "data": {
            "text/html": [
              "<div>\n",
              "<style scoped>\n",
              "    .dataframe tbody tr th:only-of-type {\n",
              "        vertical-align: middle;\n",
              "    }\n",
              "\n",
              "    .dataframe tbody tr th {\n",
              "        vertical-align: top;\n",
              "    }\n",
              "\n",
              "    .dataframe thead th {\n",
              "        text-align: right;\n",
              "    }\n",
              "</style>\n",
              "<table border=\"1\" class=\"dataframe\">\n",
              "  <thead>\n",
              "    <tr style=\"text-align: right;\">\n",
              "      <th></th>\n",
              "      <th>geo</th>\n",
              "      <th>time</th>\n",
              "      <th>child_mortality_under_5_per_1000_born</th>\n",
              "    </tr>\n",
              "  </thead>\n",
              "  <tbody>\n",
              "    <tr>\n",
              "      <th>0</th>\n",
              "      <td>afg</td>\n",
              "      <td>1800</td>\n",
              "      <td>468.58</td>\n",
              "    </tr>\n",
              "    <tr>\n",
              "      <th>1</th>\n",
              "      <td>afg</td>\n",
              "      <td>1801</td>\n",
              "      <td>468.58</td>\n",
              "    </tr>\n",
              "    <tr>\n",
              "      <th>2</th>\n",
              "      <td>afg</td>\n",
              "      <td>1802</td>\n",
              "      <td>468.58</td>\n",
              "    </tr>\n",
              "    <tr>\n",
              "      <th>3</th>\n",
              "      <td>afg</td>\n",
              "      <td>1803</td>\n",
              "      <td>468.58</td>\n",
              "    </tr>\n",
              "    <tr>\n",
              "      <th>4</th>\n",
              "      <td>afg</td>\n",
              "      <td>1804</td>\n",
              "      <td>468.58</td>\n",
              "    </tr>\n",
              "    <tr>\n",
              "      <th>...</th>\n",
              "      <td>...</td>\n",
              "      <td>...</td>\n",
              "      <td>...</td>\n",
              "    </tr>\n",
              "    <tr>\n",
              "      <th>57412</th>\n",
              "      <td>zwe</td>\n",
              "      <td>2016</td>\n",
              "      <td>50.36</td>\n",
              "    </tr>\n",
              "    <tr>\n",
              "      <th>57413</th>\n",
              "      <td>zwe</td>\n",
              "      <td>2017</td>\n",
              "      <td>49.31</td>\n",
              "    </tr>\n",
              "    <tr>\n",
              "      <th>57414</th>\n",
              "      <td>zwe</td>\n",
              "      <td>2018</td>\n",
              "      <td>46.23</td>\n",
              "    </tr>\n",
              "    <tr>\n",
              "      <th>57415</th>\n",
              "      <td>zwe</td>\n",
              "      <td>2019</td>\n",
              "      <td>44.43</td>\n",
              "    </tr>\n",
              "    <tr>\n",
              "      <th>57416</th>\n",
              "      <td>zwe</td>\n",
              "      <td>2020</td>\n",
              "      <td>43.06</td>\n",
              "    </tr>\n",
              "  </tbody>\n",
              "</table>\n",
              "<p>41737 rows × 3 columns</p>\n",
              "</div>"
            ],
            "text/plain": [
              "       geo  time  child_mortality_under_5_per_1000_born\n",
              "0      afg  1800                                 468.58\n",
              "1      afg  1801                                 468.58\n",
              "2      afg  1802                                 468.58\n",
              "3      afg  1803                                 468.58\n",
              "4      afg  1804                                 468.58\n",
              "...    ...   ...                                    ...\n",
              "57412  zwe  2016                                  50.36\n",
              "57413  zwe  2017                                  49.31\n",
              "57414  zwe  2018                                  46.23\n",
              "57415  zwe  2019                                  44.43\n",
              "57416  zwe  2020                                  43.06\n",
              "\n",
              "[41737 rows x 3 columns]"
            ]
          },
          "execution_count": 108,
          "metadata": {},
          "output_type": "execute_result"
        }
      ],
      "source": [
        "child_mortality"
      ]
    },
    {
      "cell_type": "code",
      "execution_count": 109,
      "metadata": {
        "deletable": false,
        "editable": false,
        "id": "iWmRRm-A4ecq",
        "nbgrader": {
          "cell_type": "code",
          "checksum": "776f7e2bb471421ea89bb22d4b7251aa",
          "grade": false,
          "grade_id": "cell-34dd7d26be33fa50",
          "locked": true,
          "schema_version": 3,
          "solution": false,
          "task": false
        }
      },
      "outputs": [
        {
          "data": {
            "text/html": [
              "<div>\n",
              "<style scoped>\n",
              "    .dataframe tbody tr th:only-of-type {\n",
              "        vertical-align: middle;\n",
              "    }\n",
              "\n",
              "    .dataframe tbody tr th {\n",
              "        vertical-align: top;\n",
              "    }\n",
              "\n",
              "    .dataframe thead th {\n",
              "        text-align: right;\n",
              "    }\n",
              "</style>\n",
              "<table border=\"1\" class=\"dataframe\">\n",
              "  <thead>\n",
              "    <tr style=\"text-align: right;\">\n",
              "      <th></th>\n",
              "      <th>geo</th>\n",
              "      <th>time</th>\n",
              "      <th>children_per_woman_total_fertility</th>\n",
              "    </tr>\n",
              "  </thead>\n",
              "  <tbody>\n",
              "    <tr>\n",
              "      <th>0</th>\n",
              "      <td>abw</td>\n",
              "      <td>1800</td>\n",
              "      <td>5.64</td>\n",
              "    </tr>\n",
              "    <tr>\n",
              "      <th>1</th>\n",
              "      <td>abw</td>\n",
              "      <td>1801</td>\n",
              "      <td>5.64</td>\n",
              "    </tr>\n",
              "    <tr>\n",
              "      <th>2</th>\n",
              "      <td>abw</td>\n",
              "      <td>1802</td>\n",
              "      <td>5.64</td>\n",
              "    </tr>\n",
              "    <tr>\n",
              "      <th>3</th>\n",
              "      <td>abw</td>\n",
              "      <td>1803</td>\n",
              "      <td>5.64</td>\n",
              "    </tr>\n",
              "    <tr>\n",
              "      <th>4</th>\n",
              "      <td>abw</td>\n",
              "      <td>1804</td>\n",
              "      <td>5.64</td>\n",
              "    </tr>\n",
              "    <tr>\n",
              "      <th>...</th>\n",
              "      <td>...</td>\n",
              "      <td>...</td>\n",
              "      <td>...</td>\n",
              "    </tr>\n",
              "    <tr>\n",
              "      <th>60630</th>\n",
              "      <td>zwe</td>\n",
              "      <td>2016</td>\n",
              "      <td>3.76</td>\n",
              "    </tr>\n",
              "    <tr>\n",
              "      <th>60631</th>\n",
              "      <td>zwe</td>\n",
              "      <td>2017</td>\n",
              "      <td>3.68</td>\n",
              "    </tr>\n",
              "    <tr>\n",
              "      <th>60632</th>\n",
              "      <td>zwe</td>\n",
              "      <td>2018</td>\n",
              "      <td>3.61</td>\n",
              "    </tr>\n",
              "    <tr>\n",
              "      <th>60633</th>\n",
              "      <td>zwe</td>\n",
              "      <td>2019</td>\n",
              "      <td>3.53</td>\n",
              "    </tr>\n",
              "    <tr>\n",
              "      <th>60634</th>\n",
              "      <td>zwe</td>\n",
              "      <td>2020</td>\n",
              "      <td>3.47</td>\n",
              "    </tr>\n",
              "  </tbody>\n",
              "</table>\n",
              "<p>44635 rows × 3 columns</p>\n",
              "</div>"
            ],
            "text/plain": [
              "       geo  time  children_per_woman_total_fertility\n",
              "0      abw  1800                                5.64\n",
              "1      abw  1801                                5.64\n",
              "2      abw  1802                                5.64\n",
              "3      abw  1803                                5.64\n",
              "4      abw  1804                                5.64\n",
              "...    ...   ...                                 ...\n",
              "60630  zwe  2016                                3.76\n",
              "60631  zwe  2017                                3.68\n",
              "60632  zwe  2018                                3.61\n",
              "60633  zwe  2019                                3.53\n",
              "60634  zwe  2020                                3.47\n",
              "\n",
              "[44635 rows x 3 columns]"
            ]
          },
          "execution_count": 109,
          "metadata": {},
          "output_type": "execute_result"
        }
      ],
      "source": [
        "fertility"
      ]
    },
    {
      "cell_type": "markdown",
      "metadata": {
        "deletable": false,
        "editable": false,
        "id": "A5neSpXz4ecq",
        "nbgrader": {
          "cell_type": "markdown",
          "checksum": "a01688a1a4130f3fc86fcccd18e98f1b",
          "grade": false,
          "grade_id": "cell-0749527f20bd8cc4",
          "locked": true,
          "schema_version": 3,
          "solution": false,
          "task": false
        }
      },
      "source": [
        "**Question 3.** Perhaps population is growing more slowly because people aren't living as long. Use the `life_expectancy` table to draw a line graph with the years 1970 and later on the horizontal axis that shows how the *life expectancy at birth* has changed in Haiti.\n",
        "\n",
        "<!--\n",
        "BEGIN QUESTION\n",
        "name: q1_3\n",
        "manual: true\n",
        "-->\n",
        "<!-- EXPORT TO PDF -->"
      ]
    },
    {
      "cell_type": "code",
      "execution_count": 110,
      "metadata": {
        "deletable": false,
        "export_pdf": true,
        "id": "3HHW28CO4ecq",
        "manual_grade": true,
        "manual_problem_id": "global_pop_3",
        "nbgrader": {
          "cell_type": "code",
          "checksum": "a59b871f7ec151846c813d63d324aff2",
          "grade": true,
          "grade_id": "cell-4376a936d551c633",
          "locked": false,
          "points": 10,
          "schema_version": 3,
          "solution": true,
          "task": false
        }
      },
      "outputs": [
        {
          "data": {
            "image/png": "[encoded data removed]",
            "text/plain": [
              "<Figure size 1000x600 with 1 Axes>"
            ]
          },
          "metadata": {},
          "output_type": "display_data"
        }
      ],
      "source": [
        "# YOUR CODE HERE\n",
        "needed_column = life_expectancy[(life_expectancy['geo']=='hti') & (life_expectancy['time'] >= 1970)] \n",
        "# Plot the line graph\n",
        "plt.figure(figsize=(10, 6))\n",
        "plt.plot(needed_column['time'], needed_column['life_expectancy_years'], marker='o', linestyle='-', color='b', label='life expectancy')\n",
        "plt.xlabel('Time')\n",
        "plt.ylabel('Life Expectancy (Years)')\n",
        "plt.title('Life Expectancy Over Time in Haiti')\n",
        "plt.legend()\n",
        "plt.grid(True)\n",
        "plt.show()\n",
        " "
      ]
    },
    {
      "cell_type": "markdown",
      "metadata": {
        "deletable": false,
        "editable": false,
        "id": "XVHXoVPo4ecr",
        "nbgrader": {
          "cell_type": "markdown",
          "checksum": "5088da42870c334707042147faae1a2e",
          "grade": false,
          "grade_id": "cell-95744c4446399060",
          "locked": true,
          "schema_version": 3,
          "solution": false,
          "task": false
        }
      },
      "source": [
        "**Question 4.** Assuming everything else stays the same, do the trends in life expectancy in the graph above directly explain why the population growth rate decreased from 1980 to 2020 in Haiti? Why or why not?\n",
        "\n",
        "Hint: What happened in Haiti in 2010, and does that event explain the overall change in population growth rate?\n",
        "\n",
        "<!--\n",
        "BEGIN QUESTION\n",
        "name: q1_4\n",
        "manual: true\n",
        "-->\n",
        "<!-- EXPORT TO PDF -->"
      ]
    },
    {
      "cell_type": "markdown",
      "metadata": {
        "deletable": false,
        "export_pdf": true,
        "id": "0u-nRnjV4ecr",
        "manual_grade": true,
        "manual_problem_id": "global_pop_4",
        "nbgrader": {
          "cell_type": "markdown",
          "checksum": "fc586c48e45682a9f03e75d3db41053e",
          "grade": true,
          "grade_id": "cell-5226ec9e89f91f33",
          "locked": false,
          "points": 10,
          "schema_version": 3,
          "solution": true,
          "task": false
        }
      },
      "source": [
        "YOUR ANSWER HERE::\n",
        "\n",
        "\n",
        "No, the trends in life expectancy alone do not directly explain why the population growth rate decreased from 1980 to 2020 in Haiti. Life expectancy is only one factor influencing population growth; other factors such as birth rates, migration, and external events also play a role. \n",
        "\n",
        "The graph shows a sharp drop in life expectancy around 2010, which aligns with the devastating earthquake that struck Haiti that year. This event likely caused a temporary decline in population due to high mortality rates. However, the overall decline in population growth rate over the decades is more likely due to say demographic trends, such as decreasing birth rates in the country, economic conditions, just changes in life expectancy."
      ]
    },
    {
      "cell_type": "markdown",
      "metadata": {
        "deletable": false,
        "editable": false,
        "id": "r04QyiLG4ecr",
        "nbgrader": {
          "cell_type": "markdown",
          "checksum": "070a3bb60fcf66b70ee2085ecad7e337",
          "grade": false,
          "grade_id": "cell-3e9005db0d2cc298",
          "locked": true,
          "schema_version": 3,
          "solution": false,
          "task": false
        }
      },
      "source": [
        "The `fertility` data contains a statistic that is often used to measure how many babies are being born, the *total fertility rate*. This number describes the [number of children a woman would have in her lifetime](https://www.measureevaluation.org/prh/rh_indicators/specific/fertility/total-fertility-rate), on average, if the current rates of birth by age of the mother persisted throughout her child bearing years, assuming she survived through age 49."
      ]
    },
    {
      "cell_type": "markdown",
      "metadata": {
        "deletable": false,
        "editable": false,
        "id": "YZoQhBvj4ecr",
        "nbgrader": {
          "cell_type": "markdown",
          "checksum": "df6a0f5751b18b3e91336d5eec999118",
          "grade": false,
          "grade_id": "cell-9beda1de603b46d2",
          "locked": true,
          "schema_version": 3,
          "solution": false,
          "task": false
        }
      },
      "source": [
        "**Question 5.** Write a function `fertility_over_time` that takes the Alpha-3 code of a `country` and a `start` year. The function will be used to generate a line chart of the country's fertility rate each year, starting at the `start` year. The plot should include the `start` year and all later years that appear in the `fertility` table.\n"
      ]
    },
    {
      "cell_type": "code",
      "execution_count": 111,
      "metadata": {
        "deletable": false,
        "id": "7IX3zwsm4ecs",
        "nbgrader": {
          "cell_type": "code",
          "checksum": "e3a5a242ba26590adf9f156297ad21ac",
          "grade": false,
          "grade_id": "cell-8bdb871b35bc06ff",
          "locked": false,
          "schema_version": 3,
          "solution": true,
          "task": false
        }
      },
      "outputs": [],
      "source": [
        "def fertility_over_time(country, start):\n",
        "    # YOUR CODE HERE\n",
        "    \"\"\" Function that takes the Alpha-3 code of a `country` and a `start` year. The function is used to generate a line chart of the country's fertility rate each year, starting at the `start` year\n",
        "    param;\n",
        "    country(str); Alpha-3 code of the country\n",
        "    start(int);  Start year\n",
        "\n",
        "    returns;\n",
        "    Returns filtered fertility data for the given country and start year.\n",
        "\n",
        "    \"\"\"\n",
        "\n",
        "    \n",
        "    return fertility[(fertility['geo'] == country) & (fertility['time'] >= start)]\n",
        "    \n"
      ]
    },
    {
      "cell_type": "code",
      "execution_count": 112,
      "metadata": {
        "deletable": false,
        "editable": false,
        "id": "0IAnAObz4ecs",
        "nbgrader": {
          "cell_type": "code",
          "checksum": "94e1c9ec30c538bc2d210a16590b8cfe",
          "grade": true,
          "grade_id": "cell-53ad9a1908bbfeb6",
          "locked": true,
          "points": 15,
          "schema_version": 3,
          "solution": false,
          "task": false
        }
      },
      "outputs": [],
      "source": [
        "#TEST CELL: do not delete!"
      ]
    },
    {
      "cell_type": "markdown",
      "metadata": {
        "deletable": false,
        "editable": false,
        "id": "xVJIIyub4ecs",
        "nbgrader": {
          "cell_type": "markdown",
          "checksum": "b27b64e7fc0fc87e3e569a0c2ac2246a",
          "grade": false,
          "grade_id": "cell-df231bd4abf6f9ea",
          "locked": true,
          "schema_version": 3,
          "solution": false,
          "task": false
        }
      },
      "source": [
        "**Question 5.1.**Then, in the next cell, call your `fertility_over_time` function on the Alpha-3 code for Haiti and the year 1970 in order to plot how Haiti's fertility rate has changed since 1970. Note that the function `fertility_over_time` should not return the plot itself. **The expression that draws the line plot is provided for you; please don't change it.**"
      ]
    },
    {
      "cell_type": "code",
      "execution_count": 113,
      "metadata": {
        "deletable": false,
        "id": "uU_TSE864ecs",
        "nbgrader": {
          "cell_type": "code",
          "checksum": "d6c7c2b079a1d649793ebd13f97023c3",
          "grade": true,
          "grade_id": "cell-7fc8fef18e6c94bc",
          "locked": false,
          "points": 5,
          "schema_version": 3,
          "solution": true,
          "task": false
        }
      },
      "outputs": [
        {
          "data": {
            "text/plain": [
              "<Axes: xlabel='geo'>"
            ]
          },
          "execution_count": 113,
          "metadata": {},
          "output_type": "execute_result"
        },
        {
          "data": {
            "image/png": "[encoded data removed]",
            "text/plain": [
              "<Figure size 640x480 with 1 Axes>"
            ]
          },
          "metadata": {},
          "output_type": "display_data"
        }
      ],
      "source": [
        "# YOUR CODE HERE\n",
        "haiti_code = \"hti\"\n",
        "\n",
        "\n",
        "fertility_over_time(haiti_code, 1970).plot(0, 1) # You should *not* change this line."
      ]
    },
    {
      "cell_type": "markdown",
      "metadata": {
        "deletable": false,
        "editable": false,
        "id": "aZJ384cs4ect",
        "nbgrader": {
          "cell_type": "markdown",
          "checksum": "eb9f9c5714138bfdbf3209b2719d8caf",
          "grade": false,
          "grade_id": "cell-8089128af17f4c98",
          "locked": true,
          "schema_version": 3,
          "solution": false,
          "task": false
        }
      },
      "source": [
        "It has been observed that lower fertility rates are often associated with lower child mortality rates. The link has been attributed to family planning: if parents can expect that their children will all survive into adulthood, then they will choose to have fewer children. We can see if this association is evident in Haiti by plotting the relationship between total fertility rate and [child mortality rate per 1000 children](https://en.wikipedia.org/wiki/Child_mortality)."
      ]
    },
    {
      "cell_type": "markdown",
      "metadata": {
        "deletable": false,
        "editable": false,
        "id": "oGRjDRL94ect",
        "nbgrader": {
          "cell_type": "markdown",
          "checksum": "74720ab3d5d2b6f36bd783a85407641f",
          "grade": false,
          "grade_id": "cell-26721b3c85061f20",
          "locked": true,
          "schema_version": 3,
          "solution": false,
          "task": false
        }
      },
      "source": [
        "**Question 6.** Using both the `fertility` and `child_mortality` data, draw a scatter diagram that has Haiti's total fertility on the horizontal axis and its child mortality on the vertical axis with one point for each year, starting with 1970.\n",
        "\n",
        "**The expression that draws the scatter diagram is provided for you; please don't change it.** Instead, create a dataframe called `post_1969_fertility_and_child_mortality` with the appropriate column labels and data in order to generate the chart correctly."
      ]
    },
    {
      "cell_type": "code",
      "execution_count": 116,
      "metadata": {
        "deletable": false,
        "id": "0E1V2Ipc4ect",
        "nbgrader": {
          "cell_type": "code",
          "checksum": "bc67191ea13bbacf53bea995a19e4e1e",
          "grade": true,
          "grade_id": "cell-f5e64dc086ea8cd4",
          "locked": false,
          "points": 15,
          "schema_version": 3,
          "solution": true,
          "task": false
        }
      },
      "outputs": [
        {
          "data": {
            "text/plain": [
              "<Axes: xlabel='Children per Woman', ylabel='Child Deaths per 100 Born'>"
            ]
          },
          "execution_count": 116,
          "metadata": {},
          "output_type": "execute_result"
        },
        {
          "data": {
            "image/png": "[encoded data removed]",
            "text/plain": [
              "<Figure size 640x480 with 1 Axes>"
            ]
          },
          "metadata": {},
          "output_type": "display_data"
        }
      ],
      "source": [
        "# YOUR CODE HER\n",
        "needed_column_fertility= fertility[(fertility['geo']=='hti') & (fertility['time'] >= 1970)]\n",
        "needed_column_child_mortality= child_mortality[(child_mortality['geo'] == 'hti') & (child_mortality['time'] >= 1970)]\n",
        "# To merge both filters with the common coloumn creiteria 'geo' = 'hti' and 'time' >= '1970'\n",
        "post_1969_fertility_and_child_mortality = pd.merge(needed_column_fertility, needed_column_child_mortality, on=['geo', 'time'])\n",
        "# Don't change this line!\n",
        "post_1969_fertility_and_child_mortality.plot.scatter(\n",
        "    \"children_per_woman_total_fertility\",\n",
        "    \"child_mortality_under_5_per_1000_born\",\n",
        "    xlabel=\"Children per Woman\",\n",
        "    ylabel=\"Child Deaths per 100 Born\"\n",
        ")\n"
      ]
    },
    {
      "cell_type": "markdown",
      "metadata": {
        "deletable": false,
        "editable": false,
        "id": "ItQhmDs84ect",
        "nbgrader": {
          "cell_type": "markdown",
          "checksum": "44c7944b7da99b5c88171fc014df0571",
          "grade": false,
          "grade_id": "cell-e7b66236b255afef",
          "locked": true,
          "schema_version": 3,
          "solution": false,
          "task": false
        }
      },
      "source": [
        "**Question 7.** In one or two sentences, describe the association (if any) that is illustrated by this scatter diagram. Does the diagram show that reduced child mortality causes parents to choose to have fewer children? Beyond the general association, are there any irregularities or odd points that would be worth investigating?\n"
      ]
    },
    {
      "cell_type": "markdown",
      "metadata": {
        "deletable": false,
        "export_pdf": true,
        "id": "HdtoTEsN4ecu",
        "manual_grade": true,
        "manual_problem_id": "global_pop_8",
        "nbgrader": {
          "cell_type": "markdown",
          "checksum": "e9328f637b6b2f567d69df44e6ad4067",
          "grade": true,
          "grade_id": "cell-33797eacd2c7c51e",
          "locked": false,
          "points": 5,
          "schema_version": 3,
          "solution": true,
          "task": false
        }
      },
      "source": [
        "YOUR ANSWER HERE:\n",
        "\n",
        "The scatter plot shows a positive correlation between child mortality and birth rates, but it does not prove causation. Other factors may influence both, and outliers should be examined."
      ]
    },
    {
      "cell_type": "markdown",
      "metadata": {
        "deletable": false,
        "editable": false,
        "id": "FgLdiiBn4ecu",
        "nbgrader": {
          "cell_type": "markdown",
          "checksum": "a8808fcbdbfd0d036d30acfb1f1a240f",
          "grade": false,
          "grade_id": "cell-2f4b01062f4f41a3",
          "locked": true,
          "schema_version": 3,
          "solution": false,
          "task": false
        }
      },
      "source": [
        "# Rubric\n",
        "\n",
        "| Question | Points|\n",
        "|----------|----------|\n",
        "| 1.   | 5   |\n",
        "| 2.    | 10   |\n",
        "| 3.    | 10   |\n",
        "| 4.   | 10   |\n",
        "| 5.    | 15  |\n",
        "| 5.1    | 5  |\n",
        "| 6.    | 15   |\n",
        "| 7.   | 5   |\n",
        "| Total  | 75   |\n",
        "\n"
      ]
    },
    {
      "cell_type": "markdown",
      "metadata": {
        "deletable": false,
        "editable": false,
        "id": "VLldCQFl4ecu",
        "nbgrader": {
          "cell_type": "markdown",
          "checksum": "9c67ebdb43a14fecc36a715281aae6c4",
          "grade": false,
          "grade_id": "cell-f73366e1069e655c",
          "locked": true,
          "schema_version": 3,
          "solution": false,
          "task": false
        }
      },
      "source": [
        "Population data: [Systema Globalis](https://github.com/open-numbers/ddf--gapminder--systema_globalis/blob/master/README.md)."
      ]
    }
  ],
  "metadata": {
    "colab": {
      "provenance": []
    },
    "kernelspec": {
      "display_name": "base",
      "language": "python",
      "name": "python3"
    },
    "language_info": {
      "codemirror_mode": {
        "name": "ipython",
        "version": 3
      },
      "file_extension": ".py",
      "mimetype": "text/x-python",
      "name": "python",
      "nbconvert_exporter": "python",
      "pygments_lexer": "ipython3",
      "version": "3.12.2"
    }
  },
  "nbformat": 4,
  "nbformat_minor": 0
}
