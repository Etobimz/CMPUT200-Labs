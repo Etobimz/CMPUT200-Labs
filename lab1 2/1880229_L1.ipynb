{
 "cells": [
  {
   "cell_type": "markdown",
   "metadata": {
    "deletable": false,
    "editable": false,
    "id": "bvE0AyRBdBCi",
    "nbgrader": {
     "cell_type": "markdown",
     "checksum": "86bb11bc9d7e6339c5c27e28cdb156de",
     "grade": false,
     "grade_id": "cell-intro",
     "locked": true,
     "schema_version": 3,
     "solution": false,
     "task": false
    }
   },
   "source": [
    "# Lab 1: Python Basics"
   ]
  },
  {
   "cell_type": "markdown",
   "metadata": {
    "id": "c8kXTpUe_acK"
   },
   "source": [
    "***\n",
    "- **FIRST name**: Abimbola\n",
    "- **LAST name**: Olarinde\n",
    "- **Student ID**: 1880229\n",
    "\n",
    "Leave blank if individual:\n",
    "- **Collaborator names**:\n",
    "- **Collaborator student IDs**:\n",
    "***"
   ]
  },
  {
   "cell_type": "markdown",
   "metadata": {
    "deletable": false,
    "editable": false,
    "id": "s3e9nxZK_acK",
    "nbgrader": {
     "cell_type": "markdown",
     "checksum": "6f542c191eb80f277a255693fe22b673",
     "grade": false,
     "grade_id": "cell-e022428efa6b9a34",
     "locked": true,
     "schema_version": 3,
     "solution": false,
     "task": false
    }
   },
   "source": [
    "In today's lab, you will learn how to:\n",
    "\n",
    "1.   navigate Google Colab notebooks;\n",
    "2.   write and evaluate *expressions* in Python;\n",
    "3.   call *functions* that other people have written;\n",
    "4.   break down and understand smaller parts of Python code.\n",
    "\n",
    "### Instructions\n",
    "\n",
    "- **Collaboration**: You must submit your own work. The collaboration policy for the labs is Consultation Collaboration. You may verbally discuss concepts with your classmates, without exchanging written text, code, or detailed advice. You must develop your own solution and submit your own work. All sources of information used including books, websites, students you talked to, must be cited in the submission. Please see the course FAQ document for details on this collaboration policy. We will adhere to current Faculty of Science guidelines on dealing with suspected cases of plagiarism.\n",
    "- **Software**: We highly recommend that students use Google Colab for completing labs and assignments. This is the software used by the TAs in the course, and we can guarantee that there will be no issues with incompatible environments or imports.\n",
    "- **Filling out the Notebook**: You must use this notebook to complete your lab. You will execute the questions in the notebook. The questions might ask for a short answer in text form or for you to write and execute a piece of code. Make sure you enter your answer in either case only in the cell provided.\n",
    "\n",
    "- **Important**:  Do not use a different cell, do not delete cells, and do not create a new cell. Creating new cells for your code is not compatible with the auto-grading system we are using and thus your assignment will not get grading properly and you will lose marks for that question. As a reminder you must remove the raise NotImplementedError() statements from each question when answering.\n",
    "\n",
    "- **Rules for Datasets**: Any datasets used in the lab cannot be imported from cloud storage, e.g google drive, and must be read from a file either on your local computer or uploaded to the google collab notebook. Importing from cloud storage will result in a zero.\n",
    "\n",
    "- **Submission Formatting**: When you are done, you will submit your work from the notebook. Make sure to save your notebook before running it, and then submit on Canvas the notebook file with your work completed. Name your file with your Student ID number, followed by an underscore and L plus the lab number (ex: 1234567_L1.ipynb). Failure to do so will result in your final score being reduced by 50%! Finally your name must be written at the top of the lab or assignment document.\n"
   ]
  },
  {
   "cell_type": "markdown",
   "metadata": {
    "deletable": false,
    "editable": false,
    "id": "zDtGzrqQfk9-",
    "nbgrader": {
     "cell_type": "markdown",
     "checksum": "765f39cb65657e0112f8c207dec71130",
     "grade": false,
     "grade_id": "cell-851688e82f27aa49",
     "locked": true,
     "schema_version": 3,
     "solution": false,
     "task": false
    }
   },
   "source": [
    "# 1. Google Colab notebooks\n",
    "This webpage is called a Google Colab notebook. It uses a Jupyter environment to write and run code. It can also write text using a format called [Markdown](https://www.markdownguide.org/basic-syntax/).\n",
    "\n",
    "## Text cells\n",
    "Each block containing code or text is called a *cell*. To add a cell, hover your mouse above or below an existing cell and select which type you need.\n",
    "\n",
    "\n",
    "<p> Text cells (like this one) can be edited by double-clicking on them. The window on the right shows you what the Markdown text will look like as you edit. </p>\n",
    "\n"
   ]
  },
  {
   "cell_type": "markdown",
   "metadata": {
    "deletable": false,
    "editable": false,
    "id": "o5FtjU8tg9Bp",
    "nbgrader": {
     "cell_type": "markdown",
     "checksum": "ed4d83199fa1dec3d96955f77c87a3f1",
     "grade": false,
     "grade_id": "cell-c7dea917183e784c",
     "locked": true,
     "schema_version": 3,
     "solution": false,
     "task": false
    }
   },
   "source": [
    "## Code cells\n",
    "<p> Other cells contain code in Python 3 language. Running a code cell will execute all of the code within it. </p>\n",
    "\n",
    "To run a code cell, hover your mouse over the code. You will see a play button appear on the left side of the block. Either press this button, or hold down <code> shift </code> + <code> return </code>.\n",
    "\n",
    "<p> Try running this cell: </p>"
   ]
  },
  {
   "cell_type": "code",
   "execution_count": 1,
   "metadata": {
    "deletable": false,
    "editable": false,
    "id": "XwRU6Bm5fq_I",
    "nbgrader": {
     "cell_type": "code",
     "checksum": "b62f0261174c84a937d2708710672987",
     "grade": false,
     "grade_id": "cell-ed592b09e6911261",
     "locked": true,
     "schema_version": 3,
     "solution": false,
     "task": false
    }
   },
   "outputs": [
    {
     "name": "stdout",
     "output_type": "stream",
     "text": [
      "Hello, World!\n"
     ]
    }
   ],
   "source": [
    "print(\"Hello, World!\")"
   ]
  },
  {
   "cell_type": "markdown",
   "metadata": {
    "deletable": false,
    "editable": false,
    "id": "HTnr8tuXivHH",
    "nbgrader": {
     "cell_type": "markdown",
     "checksum": "7c453731e12e7a6fbe19465338a108c0",
     "grade": false,
     "grade_id": "cell-c09891bbd08df684",
     "locked": true,
     "schema_version": 3,
     "solution": false,
     "task": false
    }
   },
   "source": [
    "We can assign our message to a variable named <code>message</code>. To print the message, simply write the variable's name underneath."
   ]
  },
  {
   "cell_type": "code",
   "execution_count": 5,
   "metadata": {
    "deletable": false,
    "editable": false,
    "id": "EQXzR3KjiarT",
    "nbgrader": {
     "cell_type": "code",
     "checksum": "f5c24fdbdd2fcadcca623f6106be26c0",
     "grade": false,
     "grade_id": "cell-ddfc954d25308d07",
     "locked": true,
     "schema_version": 3,
     "solution": false,
     "task": false
    }
   },
   "outputs": [
    {
     "data": {
      "text/plain": [
       "'Hello World!'"
      ]
     },
     "execution_count": 5,
     "metadata": {},
     "output_type": "execute_result"
    }
   ],
   "source": [
    "message = \"Hello World!\"\n",
    "message"
   ]
  },
  {
   "cell_type": "markdown",
   "metadata": {
    "deletable": false,
    "editable": false,
    "id": "qo1C0a45DxOU",
    "nbgrader": {
     "cell_type": "markdown",
     "checksum": "a3ab1fefc1c23f8cdcfdd388362ffd41",
     "grade": false,
     "grade_id": "cell-9bc72658da70f203",
     "locked": true,
     "schema_version": 3,
     "solution": false,
     "task": false
    }
   },
   "source": [
    "**Question 1.1.** Fill in the code block below so that you print the message 'Welcome to CMPUT 200!'. Replace the line \"<code>raise NotImplementedError()</code>\" with your answer. Assign your symbols to the variable name <code>new_message</code>."
   ]
  },
  {
   "cell_type": "code",
   "execution_count": 4,
   "metadata": {
    "deletable": false,
    "id": "FQSrr1DeETqU",
    "nbgrader": {
     "cell_type": "code",
     "checksum": "3b2695bb988508e72ca167790e54bb88",
     "grade": false,
     "grade_id": "cell-aabd28dc3352353f",
     "locked": false,
     "schema_version": 3,
     "solution": true,
     "task": false
    }
   },
   "outputs": [
    {
     "data": {
      "text/plain": [
       "'Welcome to CMPUT 200!'"
      ]
     },
     "execution_count": 4,
     "metadata": {},
     "output_type": "execute_result"
    }
   ],
   "source": [
    "# YOUR CODE HERE\n",
    "\n",
    "new_message = 'Welcome to CMPUT 200!'\n",
    "new_message"
   ]
  },
  {
   "cell_type": "code",
   "execution_count": null,
   "metadata": {
    "deletable": false,
    "editable": false,
    "id": "53X_aBrH_acM",
    "nbgrader": {
     "cell_type": "code",
     "checksum": "f8e92fcd3e6080410a45012288ce065c",
     "grade": true,
     "grade_id": "cell-4750dd89a8bf933b",
     "locked": true,
     "points": 5,
     "schema_version": 3,
     "solution": false,
     "task": false
    }
   },
   "outputs": [],
   "source": []
  },
  {
   "cell_type": "markdown",
   "metadata": {
    "deletable": false,
    "editable": false,
    "id": "dDdkECasjfwE",
    "nbgrader": {
     "cell_type": "markdown",
     "checksum": "31d2e300076a089dec1090cc2319c0d8",
     "grade": false,
     "grade_id": "cell-aba41dca1ef43c99",
     "locked": true,
     "schema_version": 3,
     "solution": false,
     "task": false
    }
   },
   "source": [
    "## Errors\n",
    "<p> Python is a language and has rules just like any human language. As you code throughout the semester, you will become comfortable with the basic types of errors. </p>\n",
    "\n",
    "Python's error documentation can be found [here](https://docs.python.org/3/tutorial/errors.html). You do not have to memorize every type of error, but it helps to be familiar with them when you're debugging.\n"
   ]
  },
  {
   "cell_type": "markdown",
   "metadata": {
    "deletable": false,
    "editable": false,
    "id": "-gbsPwUQpCQC",
    "nbgrader": {
     "cell_type": "markdown",
     "checksum": "2a8cd79e806b9654dceb3f45ad386f2e",
     "grade": false,
     "grade_id": "cell-6ecafab8944fb90d",
     "locked": true,
     "schema_version": 3,
     "solution": false,
     "task": false
    }
   },
   "source": [
    "A common type of error is called a <code>SyntaxError</code>. This happens when your code is missing a character, such as a parenthesis or a colon. In the code below, there is a missing parenthesis. Run the cell and see what happens."
   ]
  },
  {
   "cell_type": "code",
   "execution_count": null,
   "metadata": {
    "deletable": false,
    "editable": false,
    "id": "9J4sgcoVjGeh",
    "nbgrader": {
     "cell_type": "code",
     "checksum": "c796536abfe90b652da593090ba20929",
     "grade": false,
     "grade_id": "cell-fd2bee5f8015c12e",
     "locked": true,
     "schema_version": 3,
     "solution": false,
     "task": false
    }
   },
   "outputs": [],
   "source": [
    "print(\"This line has a SyntaxError!\""
   ]
  },
  {
   "cell_type": "markdown",
   "metadata": {
    "deletable": false,
    "editable": false,
    "id": "kwHe9NrgGmNU",
    "nbgrader": {
     "cell_type": "markdown",
     "checksum": "95ff4d1dbcbd69903024b1719f584fbc",
     "grade": false,
     "grade_id": "cell-05841087e5083618",
     "locked": true,
     "schema_version": 3,
     "solution": false,
     "task": false
    }
   },
   "source": [
    "**Question 1.2.** How would you fix the error above? Replace the line \"<code>raise NotImplementedError()</code>\" with the correct code."
   ]
  },
  {
   "cell_type": "code",
   "execution_count": 6,
   "metadata": {
    "deletable": false,
    "id": "N6sBd4T2_acN",
    "nbgrader": {
     "cell_type": "code",
     "checksum": "4012ab7a7b02392cb95842893bcbf481",
     "grade": true,
     "grade_id": "cell-b620af50a1a4db5b",
     "locked": false,
     "points": 5,
     "schema_version": 3,
     "solution": true,
     "task": false
    }
   },
   "outputs": [
    {
     "name": "stdout",
     "output_type": "stream",
     "text": [
      "This line has a SyntaxError!\n"
     ]
    }
   ],
   "source": [
    "# YOUR CODE HERE\n",
    "print(\"This line has a SyntaxError!\")"
   ]
  },
  {
   "cell_type": "markdown",
   "metadata": {
    "deletable": false,
    "editable": false,
    "id": "AfzaiDMsqZ5P",
    "nbgrader": {
     "cell_type": "markdown",
     "checksum": "156104cc6a65cacb5b1a8d6cc6a63d69",
     "grade": false,
     "grade_id": "cell-dab9b7587f1c04c9",
     "locked": true,
     "schema_version": 3,
     "solution": false,
     "task": false
    }
   },
   "source": [
    "# 2. Numbers\n",
    "Data science largely deals with quantitative information. It is important to understand the two distinctions that Python makes between quantitavtive data: <code>int</code> and <code>float</code>.\n",
    "\n",
    "- Integers are called <code>int</code> values in Python. Only whole numbers (negative, positive, or zero) with no decimal points are of this type.\n",
    "- Real numbers are called <code>float</code> values in Python. They can represent whole numbers or numbers with a fractional component (negative, positive, or zero). They will always have a decimal point."
   ]
  },
  {
   "cell_type": "markdown",
   "metadata": {
    "deletable": false,
    "editable": false,
    "id": "prYSTyimsAVf",
    "nbgrader": {
     "cell_type": "markdown",
     "checksum": "7fdc236f94e187db19bda79cc143014c",
     "grade": false,
     "grade_id": "cell-b349739319bcba82",
     "locked": true,
     "schema_version": 3,
     "solution": false,
     "task": false
    }
   },
   "source": [
    "## Arithmetic\n",
    "\n",
    "Programs are made of *expressions*, which tells the computer to combine two or more values using different operators. For example, <code>2 + 5</code> is an arithmetic expression which evaluates to <code>7</code>. The <code>+</code> symbol is called an *operator*. This is shown in the cell below."
   ]
  },
  {
   "cell_type": "code",
   "execution_count": null,
   "metadata": {
    "deletable": false,
    "editable": false,
    "id": "5TBKm4Mnr_hx",
    "nbgrader": {
     "cell_type": "code",
     "checksum": "f2a16821a20a4190b98650564cbc1ea6",
     "grade": false,
     "grade_id": "cell-4465f2f01c367cf7",
     "locked": true,
     "schema_version": 3,
     "solution": false,
     "task": false
    }
   },
   "outputs": [],
   "source": [
    "2 + 5"
   ]
  },
  {
   "cell_type": "markdown",
   "metadata": {
    "deletable": false,
    "editable": false,
    "id": "ZllcsoCbsofX",
    "nbgrader": {
     "cell_type": "markdown",
     "checksum": "05bdda48b4283ec4a5a4f6cc14d95038",
     "grade": false,
     "grade_id": "cell-df42756ca4323af9",
     "locked": true,
     "schema_version": 3,
     "solution": false,
     "task": false
    }
   },
   "source": [
    "Many basic arithmetic operations are built into Python. For example, to raise one number to the power of another number, the operator used is <code> ** </code>. For example, <code>2 ** 3</code> represents 2<sup>3</sup> which evaluates to 8."
   ]
  },
  {
   "cell_type": "code",
   "execution_count": null,
   "metadata": {
    "deletable": false,
    "editable": false,
    "id": "328C-D6HsfqP",
    "nbgrader": {
     "cell_type": "code",
     "checksum": "8c0a4d2eb1050ee9d4c7dc5e91a7dc3c",
     "grade": false,
     "grade_id": "cell-16cf8bb76cf25914",
     "locked": true,
     "schema_version": 3,
     "solution": false,
     "task": false
    }
   },
   "outputs": [],
   "source": [
    "2 ** 3"
   ]
  },
  {
   "cell_type": "markdown",
   "metadata": {
    "deletable": false,
    "editable": false,
    "id": "BmK0K2vEuBHB",
    "nbgrader": {
     "cell_type": "markdown",
     "checksum": "d9853c6f4a63ff3f3bcdce93d98e3451",
     "grade": false,
     "grade_id": "cell-78f0b0cb10d4741d",
     "locked": true,
     "schema_version": 3,
     "solution": false,
     "task": false
    }
   },
   "source": [
    "Python follows the order of operations (PEDMAS). Compare the outputs of the two cells below:"
   ]
  },
  {
   "cell_type": "code",
   "execution_count": null,
   "metadata": {
    "deletable": false,
    "editable": false,
    "id": "FeeIQP92t_ly",
    "nbgrader": {
     "cell_type": "code",
     "checksum": "578df587274ecb5b9692448f316c27ec",
     "grade": false,
     "grade_id": "cell-ab24df688c2dd611",
     "locked": true,
     "schema_version": 3,
     "solution": false,
     "task": false
    }
   },
   "outputs": [],
   "source": [
    "1 + 2 * 3 / 4 ** 5 - 6"
   ]
  },
  {
   "cell_type": "code",
   "execution_count": null,
   "metadata": {
    "deletable": false,
    "editable": false,
    "id": "4vBbBBcDuU97",
    "nbgrader": {
     "cell_type": "code",
     "checksum": "3abe33eece3466eeda4855b5e75b71fe",
     "grade": false,
     "grade_id": "cell-532d40e2e4a322f1",
     "locked": true,
     "schema_version": 3,
     "solution": false,
     "task": false
    }
   },
   "outputs": [],
   "source": [
    "1 + (2 * 3 / 4) ** 5 - 6"
   ]
  },
  {
   "cell_type": "markdown",
   "metadata": {
    "deletable": false,
    "editable": false,
    "id": "mFYy9LjcudoM",
    "nbgrader": {
     "cell_type": "markdown",
     "checksum": "a2e9490ae6c340325688a88e7c3ec1e7",
     "grade": false,
     "grade_id": "cell-5ed46bca26986ccb",
     "locked": true,
     "schema_version": 3,
     "solution": false,
     "task": false
    }
   },
   "source": [
    "# 3. Names\n",
    "\n",
    "In Python, we can quickly reference complicated concepts using one word. We do this with an *assignment statement*. An assignment statement has a name on the left side, followed by an <code>=</code> sign and an expression to be evaluated on the right.\n"
   ]
  },
  {
   "cell_type": "code",
   "execution_count": null,
   "metadata": {
    "deletable": false,
    "editable": false,
    "id": "RlFjHDZmvB4-",
    "nbgrader": {
     "cell_type": "code",
     "checksum": "588377046e541dcea7d2e5dd10060c49",
     "grade": false,
     "grade_id": "cell-bb194d3ed1c2839c",
     "locked": true,
     "schema_version": 3,
     "solution": false,
     "task": false
    }
   },
   "outputs": [],
   "source": [
    "nineteen = 5 * 2 + 9"
   ]
  },
  {
   "cell_type": "markdown",
   "metadata": {
    "deletable": false,
    "editable": false,
    "id": "Ij8L-vmovLaV",
    "nbgrader": {
     "cell_type": "markdown",
     "checksum": "169a18fd1c01bf142e957211cf848a2e",
     "grade": false,
     "grade_id": "cell-5962f95dc9659ba9",
     "locked": true,
     "schema_version": 3,
     "solution": false,
     "task": false
    }
   },
   "source": [
    "When the cell above is executed, Python first computes the expression on the right side (<code>5 * 2 + 9</code>), which is 19. Next, it assigns the value to the name <code>nineteen</code>. After you run the cell, the value 19 is now bound to <code>nineteen</code>:"
   ]
  },
  {
   "cell_type": "code",
   "execution_count": null,
   "metadata": {
    "deletable": false,
    "editable": false,
    "id": "8enNIs07vHjh",
    "nbgrader": {
     "cell_type": "code",
     "checksum": "621527993a67129f3a95f4fa2b9bd70e",
     "grade": false,
     "grade_id": "cell-2fbf2efecef7aa29",
     "locked": true,
     "schema_version": 3,
     "solution": false,
     "task": false
    }
   },
   "outputs": [],
   "source": [
    "nineteen"
   ]
  },
  {
   "cell_type": "markdown",
   "metadata": {
    "deletable": false,
    "editable": false,
    "id": "6vJ-HIlySudW",
    "nbgrader": {
     "cell_type": "markdown",
     "checksum": "c64721a7997cdf7bce45f1e7ba48f4d7",
     "grade": false,
     "grade_id": "cell-92cb73c3f05b278b",
     "locked": true,
     "schema_version": 3,
     "solution": false,
     "task": false
    }
   },
   "source": [
    "**Question 3.1.** Try writing code that uses the name <code>ten</code>, which hasn't been assigned to anything yet. You should get a <code>NameError</code> error."
   ]
  },
  {
   "cell_type": "code",
   "execution_count": 7,
   "metadata": {
    "deletable": false,
    "id": "xQpuYJ4FS6vT",
    "nbgrader": {
     "cell_type": "code",
     "checksum": "2aaa99ca7c0165a784850f6bf5e1d72e",
     "grade": true,
     "grade_id": "cell-5ae4441d377c8b7a",
     "locked": false,
     "points": 5,
     "schema_version": 3,
     "solution": true,
     "task": false
    }
   },
   "outputs": [
    {
     "ename": "NameError",
     "evalue": "name 'ten' is not defined",
     "output_type": "error",
     "traceback": [
      "\u001b[0;31m---------------------------------------------------------------------------\u001b[0m",
      "\u001b[0;31mNameError\u001b[0m                                 Traceback (most recent call last)",
      "Cell \u001b[0;32mIn[7], line 2\u001b[0m\n\u001b[1;32m      1\u001b[0m \u001b[38;5;66;03m# YOUR CODE HERE\u001b[39;00m\n\u001b[0;32m----> 2\u001b[0m \u001b[38;5;28mprint\u001b[39m(\u001b[43mten\u001b[49m)\n",
      "\u001b[0;31mNameError\u001b[0m: name 'ten' is not defined"
     ]
    }
   ],
   "source": [
    "# YOUR CODE HERE\n",
    "print(ten)"
   ]
  },
  {
   "cell_type": "markdown",
   "metadata": {
    "deletable": false,
    "editable": false,
    "id": "mCj9r2SWwFgI",
    "nbgrader": {
     "cell_type": "markdown",
     "checksum": "e108924f46ed55193953d3f07db36292",
     "grade": false,
     "grade_id": "cell-4b99e76812d3dca5",
     "locked": true,
     "schema_version": 3,
     "solution": false,
     "task": false
    }
   },
   "source": [
    "We can include multiple expressions in one cell to compute intermediates:"
   ]
  },
  {
   "cell_type": "code",
   "execution_count": null,
   "metadata": {
    "deletable": false,
    "editable": false,
    "id": "tKlzS5mX5byq",
    "nbgrader": {
     "cell_type": "code",
     "checksum": "ea4d669261fa5f3973f8c37f44a919b6",
     "grade": false,
     "grade_id": "cell-a88d56ff2ec0166d",
     "locked": true,
     "schema_version": 3,
     "solution": false,
     "task": false
    }
   },
   "outputs": [],
   "source": [
    "semimonthly_salary = 841.25\n",
    "monthly_salary = 2 * semimonthly_salary\n",
    "number_of_months_in_a_year = 12\n",
    "yearly_salary = number_of_months_in_a_year * monthly_salary\n",
    "yearly_salary"
   ]
  },
  {
   "cell_type": "markdown",
   "metadata": {
    "deletable": false,
    "editable": false,
    "id": "HGk-bJer5-W0",
    "nbgrader": {
     "cell_type": "markdown",
     "checksum": "779080d9ce10f47f4fd9065aac8689dd",
     "grade": false,
     "grade_id": "cell-e70e209599e7b72c",
     "locked": true,
     "schema_version": 3,
     "solution": false,
     "task": false
    }
   },
   "source": [
    "Names can contain letters and numbers, but it must start with a letter. Spaces are not allowed; instead, use the underscore character <code>_</code>. The name you choose must be decriptive enough to understand what is happening in your code, e.g. the code below is harder to understand:\n"
   ]
  },
  {
   "cell_type": "code",
   "execution_count": null,
   "metadata": {
    "deletable": false,
    "editable": false,
    "id": "XsPSW5KF5zKk",
    "nbgrader": {
     "cell_type": "code",
     "checksum": "a4cb0a56c43052449d0512d1d689f9dc",
     "grade": false,
     "grade_id": "cell-535b17394fd1c220",
     "locked": true,
     "schema_version": 3,
     "solution": false,
     "task": false
    }
   },
   "outputs": [],
   "source": [
    "a = 841.25\n",
    "b = 2 * a\n",
    "c = 12\n",
    "d = c * b\n",
    "d"
   ]
  },
  {
   "cell_type": "markdown",
   "metadata": {
    "deletable": false,
    "editable": false,
    "id": "DpwVQw0A6fso",
    "nbgrader": {
     "cell_type": "markdown",
     "checksum": "d928df2032e7f370ed36a3ac96dac4fc",
     "grade": false,
     "grade_id": "cell-b98c4128c611d4cc",
     "locked": true,
     "schema_version": 3,
     "solution": false,
     "task": false
    }
   },
   "source": [
    "# 4. Calling functions\n",
    "\n",
    "Python has [built-in functions](https://docs.python.org/3/library/functions.html) that make combining and manupulating values easier. These function perform like common operators.\n",
    "\n",
    "<p> For example, the <code>abs</code> function takes a single argument and returns its absolute value: </p>"
   ]
  },
  {
   "cell_type": "code",
   "execution_count": null,
   "metadata": {
    "deletable": false,
    "editable": false,
    "id": "4yJpGzPl7hB5",
    "nbgrader": {
     "cell_type": "code",
     "checksum": "5b8ad79c1eed4195c498e73e4bab66bd",
     "grade": false,
     "grade_id": "cell-e63891c38e12d2ea",
     "locked": true,
     "schema_version": 3,
     "solution": false,
     "task": false
    }
   },
   "outputs": [],
   "source": [
    "abs(2)"
   ]
  },
  {
   "cell_type": "code",
   "execution_count": 8,
   "metadata": {
    "deletable": false,
    "editable": false,
    "id": "N7hm3k4b7iGx",
    "nbgrader": {
     "cell_type": "code",
     "checksum": "edb46f415b07a9b0533707e0ca3b2088",
     "grade": false,
     "grade_id": "cell-c5e77c3f724814f7",
     "locked": true,
     "schema_version": 3,
     "solution": false,
     "task": false
    }
   },
   "outputs": [
    {
     "data": {
      "text/plain": [
       "2"
      ]
     },
     "execution_count": 8,
     "metadata": {},
     "output_type": "execute_result"
    }
   ],
   "source": [
    "abs(-2)"
   ]
  },
  {
   "cell_type": "markdown",
   "metadata": {
    "deletable": false,
    "editable": false,
    "id": "0EXTjy_c7mO4",
    "nbgrader": {
     "cell_type": "markdown",
     "checksum": "39cbb01c3913cb93a51b3a32404cb50c",
     "grade": false,
     "grade_id": "cell-456e7e5e42774fa3",
     "locked": true,
     "schema_version": 3,
     "solution": false,
     "task": false
    }
   },
   "source": [
    "**Question 4.1.** Explore the site linked above. How would you add the numbers <code>1, 15, 789, -46, 78, 3, 190, -394</code> together only using one function? Assign your answer to the name <code>add_numbers</code>."
   ]
  },
  {
   "cell_type": "code",
   "execution_count": 10,
   "metadata": {
    "deletable": false,
    "id": "AVCGB_lV_acO",
    "nbgrader": {
     "cell_type": "code",
     "checksum": "36c2c3cf66dc15e1131940a5b5c34f88",
     "grade": false,
     "grade_id": "cell-6280afb18cc6d99f",
     "locked": false,
     "schema_version": 3,
     "solution": true,
     "task": false
    }
   },
   "outputs": [
    {
     "name": "stdout",
     "output_type": "stream",
     "text": [
      "636\n"
     ]
    }
   ],
   "source": [
    "numbers = [1, 15, 789, -46, 78, 3, 190, -394]\n",
    "\n",
    "# YOUR CODE HERE\n",
    "\n",
    "add_numbers = sum(numbers)\n",
    "print(add_numbers)"
   ]
  },
  {
   "cell_type": "code",
   "execution_count": null,
   "metadata": {
    "deletable": false,
    "editable": false,
    "id": "aS6Rbj9M8OmG",
    "nbgrader": {
     "cell_type": "code",
     "checksum": "a689e63dae8d1b5d23c8259c3de0a7e3",
     "grade": true,
     "grade_id": "cell-a265e4d8b5007cb1",
     "locked": true,
     "points": 10,
     "schema_version": 3,
     "solution": false,
     "task": false
    }
   },
   "outputs": [],
   "source": []
  },
  {
   "cell_type": "markdown",
   "metadata": {
    "deletable": false,
    "editable": false,
    "id": "foCJDeqF8wrn",
    "nbgrader": {
     "cell_type": "markdown",
     "checksum": "cad70e5f3040f9201c6eeed86500f54c",
     "grade": false,
     "grade_id": "cell-7e401f1ca6e430c9",
     "locked": true,
     "schema_version": 3,
     "solution": false,
     "task": false
    }
   },
   "source": [
    "#### Multiple arguments\n",
    "Some functions take in multiple arguments, separated by commas. For example, the <code>max</code> function returns the maximum argument. Notice how expressions can be used as arguments (<code>16 + 7</code>)."
   ]
  },
  {
   "cell_type": "code",
   "execution_count": null,
   "metadata": {
    "deletable": false,
    "editable": false,
    "id": "KzREoBt_9Px-",
    "nbgrader": {
     "cell_type": "code",
     "checksum": "addf118cf21ac71a3466735e431f18cc",
     "grade": false,
     "grade_id": "cell-87eadd67db8f8728",
     "locked": true,
     "schema_version": 3,
     "solution": false,
     "task": false
    }
   },
   "outputs": [],
   "source": [
    "max(4, -68, 16 + 7, 6)"
   ]
  },
  {
   "cell_type": "markdown",
   "metadata": {
    "deletable": false,
    "editable": false,
    "id": "QCfzbf5t9nHV",
    "nbgrader": {
     "cell_type": "markdown",
     "checksum": "a71b8bc570d16d1c894781e57ba85346",
     "grade": false,
     "grade_id": "cell-69bded822ee5be21",
     "locked": true,
     "schema_version": 3,
     "solution": false,
     "task": false
    }
   },
   "source": [
    "# 5. Nested expressions\n",
    "\n",
    " In the last example, we saw that functions can contain expressions. This is called a *nested expression*. These expressions can look complicated, but we can break it down into smaller pieces just like we would for a math problem.\n",
    "\n",
    " <p> Suppose we want to calculate how much someone's height deviates from average. Let the average human height be 1.70m, and an individual's height be 1.45m. To calculate the difference between the two heights, we would compute |1.45 - 1.70|. In Python, this would look like: </p>"
   ]
  },
  {
   "cell_type": "code",
   "execution_count": 14,
   "metadata": {
    "deletable": false,
    "editable": false,
    "id": "OV1Kd0ee_gtm",
    "nbgrader": {
     "cell_type": "code",
     "checksum": "dee888daf1f91ac3b75c51ecd7f54724",
     "grade": false,
     "grade_id": "cell-f1b6f79e694cc556",
     "locked": true,
     "schema_version": 3,
     "solution": false,
     "task": false
    }
   },
   "outputs": [
    {
     "data": {
      "text/plain": [
       "0.25"
      ]
     },
     "execution_count": 14,
     "metadata": {},
     "output_type": "execute_result"
    }
   ],
   "source": [
    "abs(1.45-1.70)"
   ]
  },
  {
   "cell_type": "markdown",
   "metadata": {
    "deletable": false,
    "editable": false,
    "id": "XX-QtrzP_lws",
    "nbgrader": {
     "cell_type": "markdown",
     "checksum": "5585791b6313e7d1091f66a920f434c3",
     "grade": false,
     "grade_id": "cell-c15948a9d0a8e47b",
     "locked": true,
     "schema_version": 3,
     "solution": false,
     "task": false
    }
   },
   "source": [
    "If we break this nested expression down, the argument is computed first: <code>1.45 - 1.70 = -0.25</code>. That value is then passed to the <code>abs</code> function: <code>abs(-0.25)</code>. The final value returned is <code>0.25</code>."
   ]
  },
  {
   "cell_type": "markdown",
   "metadata": {
    "deletable": false,
    "editable": false,
    "id": "7z0nuzpeAM68",
    "nbgrader": {
     "cell_type": "markdown",
     "checksum": "21db0c8e87c0ea1e42eedac6c5e2e03e",
     "grade": false,
     "grade_id": "cell-c94cba7995dad447",
     "locked": true,
     "schema_version": 3,
     "solution": false,
     "task": false
    }
   },
   "source": [
    "**Question 5.1.** Say another individual's height is 2.12m. How would you use the <code>abs</code> function to compute the difference in average height? Use the name <code>distance_from_average</code> in your answer."
   ]
  },
  {
   "cell_type": "code",
   "execution_count": 27,
   "metadata": {
    "deletable": false,
    "id": "bR8AYjrz_jt4",
    "nbgrader": {
     "cell_type": "code",
     "checksum": "f760b8f577fed2afada26cb1dec6b7e5",
     "grade": false,
     "grade_id": "cell-4cbe302e70977e89",
     "locked": false,
     "schema_version": 3,
     "solution": true,
     "task": false
    }
   },
   "outputs": [
    {
     "name": "stdout",
     "output_type": "stream",
     "text": [
      "0.42000000000000015\n"
     ]
    }
   ],
   "source": [
    "# YOUR CODE HERE\n",
    "\n",
    "distance_from_average = abs(2.12 - 1.70)\n",
    "\n",
    "print(distance_from_average)"
   ]
  },
  {
   "cell_type": "code",
   "execution_count": null,
   "metadata": {
    "deletable": false,
    "editable": false,
    "id": "gYeDTmkM_acV",
    "nbgrader": {
     "cell_type": "code",
     "checksum": "8b934f4c7cdf7d358c339b103342e8ad",
     "grade": true,
     "grade_id": "cell-2e2c6a32af60d11d",
     "locked": true,
     "points": 10,
     "schema_version": 3,
     "solution": false,
     "task": false
    }
   },
   "outputs": [],
   "source": []
  },
  {
   "cell_type": "markdown",
   "metadata": {
    "deletable": false,
    "editable": false,
    "id": "n4qQ-ZOdBX6D",
    "nbgrader": {
     "cell_type": "markdown",
     "checksum": "6cae2e5930fb5e2194ce04398a1af25e",
     "grade": false,
     "grade_id": "cell-b34ac83ee45ad216",
     "locked": true,
     "schema_version": 3,
     "solution": false,
     "task": false
    }
   },
   "source": [
    "## More nesting\n",
    "\n",
    "Now say that we want to compute the largest difference between the two heights. To do that, we can use the <code>max</code> function along with the <code>abs</code> function. Run the cell below to see how this is done."
   ]
  },
  {
   "cell_type": "code",
   "execution_count": 23,
   "metadata": {
    "deletable": false,
    "editable": false,
    "id": "rSIw1NC9Bpm-",
    "nbgrader": {
     "cell_type": "code",
     "checksum": "1b546c84380fd1068c5e5a63f7ef526c",
     "grade": false,
     "grade_id": "cell-ec3e42140825ae73",
     "locked": true,
     "schema_version": 3,
     "solution": false,
     "task": false
    }
   },
   "outputs": [
    {
     "data": {
      "text/plain": [
       "0.42000000000000015"
      ]
     },
     "execution_count": 23,
     "metadata": {},
     "output_type": "execute_result"
    }
   ],
   "source": [
    "height_1 = 1.45\n",
    "height_2 = 2.12\n",
    "average_height = 1.70\n",
    "\n",
    "largest_difference = max(abs(height_1-average_height), abs(height_2-average_height))\n",
    "\n",
    "largest_difference"
   ]
  },
  {
   "cell_type": "markdown",
   "metadata": {
    "deletable": false,
    "editable": false,
    "id": "t9_gXXRfCI2w",
    "nbgrader": {
     "cell_type": "markdown",
     "checksum": "5c5b492ee9279086c54ea54bd0616ff9",
     "grade": false,
     "grade_id": "cell-cb2a96eb4ff91961",
     "locked": true,
     "schema_version": 3,
     "solution": false,
     "task": false
    }
   },
   "source": [
    "Try breaking down this nested expression just like how we did above for <code>abs(1.45-1.70)</code>"
   ]
  },
  {
   "cell_type": "markdown",
   "metadata": {
    "deletable": false,
    "editable": false,
    "id": "3NqOYn0tCZ5V",
    "nbgrader": {
     "cell_type": "markdown",
     "checksum": "8c43936fe201cfbbae13df5b9309c10f",
     "grade": false,
     "grade_id": "cell-85e46fd94767841c",
     "locked": true,
     "schema_version": 3,
     "solution": false,
     "task": false
    }
   },
   "source": [
    "**Question 5.2.** Given the heights of players from the Golden State Warriors, write an expression that computes the smallest difference between the three heights. Your expression shouldn't have any numbers in it, only function calls and the names klay, steph, and dangelo. Give the value of your expression the name <code>min_height_difference</code>. Try looking [here](https://docs.python.org/3/library/functions.html) again if you get stuck."
   ]
  },
  {
   "cell_type": "code",
   "execution_count": 28,
   "metadata": {
    "deletable": false,
    "id": "kiLqr-gbCnS0",
    "nbgrader": {
     "cell_type": "code",
     "checksum": "da5b29fa91193afbd04038c359c54ea3",
     "grade": false,
     "grade_id": "cell-10654f641f1d1006",
     "locked": false,
     "schema_version": 3,
     "solution": true,
     "task": false
    }
   },
   "outputs": [
    {
     "name": "stdout",
     "output_type": "stream",
     "text": [
      "0.040000000000000036\n"
     ]
    }
   ],
   "source": [
    "# the three players' heights in meters\n",
    "klay = 2.01\n",
    "steph = 1.91\n",
    "dangelo = 1.95\n",
    "\n",
    "# YOUR CODE HERE\n",
    "\n",
    "\n",
    "min_height_difference = min(abs(klay - steph), abs(klay - dangelo), abs(steph - dangelo))\n",
    "\n",
    "print(min_height_difference)"
   ]
  },
  {
   "cell_type": "code",
   "execution_count": null,
   "metadata": {
    "deletable": false,
    "editable": false,
    "id": "QPz4ZyWk_acW",
    "nbgrader": {
     "cell_type": "code",
     "checksum": "32dd262ef54fae1cd07a36bab37969d0",
     "grade": true,
     "grade_id": "cell-5304d2f74baf37b4",
     "locked": true,
     "points": 15,
     "schema_version": 3,
     "solution": false,
     "task": false
    }
   },
   "outputs": [],
   "source": []
  },
  {
   "cell_type": "markdown",
   "metadata": {
    "deletable": false,
    "editable": false,
    "id": "AipsGeoo_acW",
    "nbgrader": {
     "cell_type": "markdown",
     "checksum": "2b617a21568f7a21be8ea7c9595acbf9",
     "grade": false,
     "grade_id": "cell-081d9b2db33c8fce",
     "locked": true,
     "schema_version": 3,
     "solution": false,
     "task": false
    }
   },
   "source": [
    "# Rubric\n",
    "\n",
    "| Question | Points|\n",
    "|----------|----------|\n",
    "| 1.1.    | 5   |\n",
    "| 1.2.    | 5   |\n",
    "| 3.1.    | 5   |\n",
    "| 4.1.    | 10   |\n",
    "| 5.1.    | 10   |\n",
    "| 5.2.    | 15   |\n",
    "| Total:    | 50   |\n"
   ]
  }
 ],
 "metadata": {
  "colab": {
   "provenance": []
  },
  "kernelspec": {
   "display_name": "base",
   "language": "python",
   "name": "python3"
  },
  "language_info": {
   "codemirror_mode": {
    "name": "ipython",
    "version": 3
   },
   "file_extension": ".py",
   "mimetype": "text/x-python",
   "name": "python",
   "nbconvert_exporter": "python",
   "pygments_lexer": "ipython3",
   "version": "3.12.2"
  }
 },
 "nbformat": 4,
 "nbformat_minor": 0
}
