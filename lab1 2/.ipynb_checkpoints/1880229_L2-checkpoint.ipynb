{
 "cells": [
  {
   "cell_type": "markdown",
   "metadata": {
    "deletable": false,
    "editable": false,
    "id": "BuFKUjIOTzQV",
    "nbgrader": {
     "cell_type": "markdown",
     "checksum": "4b489f83ebcfd17182f9608e2274a116",
     "grade": false,
     "grade_id": "cell-121804da3032f710",
     "locked": true,
     "schema_version": 3,
     "solution": false,
     "task": false
    }
   },
   "source": [
    "# Lab 2: NumPy and Pandas"
   ]
  },
  {
   "cell_type": "markdown",
   "metadata": {
    "id": "pqskjRvj2h0y"
   },
   "source": [
    "***\n",
    "- **FIRST name**: Abimbola\n",
    "- **LAST name**: Olarinde\n",
    "- **Student ID**: 1880229\n",
    "\n",
    "Leave blank if individual:\n",
    "- **Collaborator names**:\n",
    "- **Collaborator student IDs**:\n",
    "***"
   ]
  },
  {
   "cell_type": "markdown",
   "metadata": {
    "deletable": false,
    "editable": false,
    "id": "z3l55C3D2h0z",
    "nbgrader": {
     "cell_type": "markdown",
     "checksum": "fe6d82f14af9731d59b6e46a537a617c",
     "grade": false,
     "grade_id": "cell-f25cc5d57256072e",
     "locked": true,
     "schema_version": 3,
     "solution": false,
     "task": false
    }
   },
   "source": [
    "In today's lab, you will learn how to:\n",
    "\n",
    "1.   import code;\n",
    "2.   what NumPy and Pandas are and how to use them;\n",
    "3.   table operations;\n",
    "4.   how to analyze data.\n",
    "\n",
    "For this lab, you will need two datasets: <code>farmers_markets.csv</code> and <code>imdb.csv</code>. To upload them to your notebook, click on the **Files** button on the left side of your screen. Next click on the **Upload** icon near the top and select the two datasets.\n",
    "\n",
    "### Instructions\n",
    "\n",
    "- **Collaboration**: You must submit your own work. The collaboration policy for the labs is Consultation Collaboration. You may verbally discuss concepts with your classmates, without exchanging written text, code, or detailed advice. You must develop your own solution and submit your own work. All sources of information used including books, websites, students you talked to, must be cited in the submission. Please see the course FAQ document for details on this collaboration policy. We will adhere to current Faculty of Science guidelines on dealing with suspected cases of plagiarism.\n",
    "- **Software**: We highly recommend that students use Google Colab for completing labs and assignments. This is the software used by the TAs in the course, and we can guarantee that there will be no issues with incompatible environments or imports.\n",
    "- **Filling out the Notebook**: You must use this notebook to complete your lab. You will execute the questions in the notebook. The questions might ask for a short answer in text form or for you to write and execute a piece of code. Make sure you enter your answer in either case only in the cell provided.\n",
    "\n",
    "- **Important**:  Do not use a different cell, do not delete cells, and do not create a new cell. Creating new cells for your code is not compatible with the auto-grading system we are using and thus your assignment will not get grading properly and you will lose marks for that question. As a reminder you must remove the raise NotImplementedError() statements from each question when answering.\n",
    "\n",
    "- **Rules for Datasets**: Any datasets used in the lab cannot be imported from cloud storage, e.g google drive, and must be read from a file either on your local computer or uploaded to the google collab notebook. Importing from cloud storage will result in a zero.\n",
    "\n",
    "- **Submission Formatting**: When you are done, you will submit your work from the notebook. Make sure to save your notebook before running it, and then submit on Canvas the notebook file with your work completed. Name your file with your Student ID number, followed by an underscore and L plus the lab number (ex: 1234567_L1.ipynb). Failure to do so will result in your final score being reduced by 50%! Finally your name must be written at the top of the lab or assignment document.\n"
   ]
  },
  {
   "cell_type": "markdown",
   "metadata": {
    "deletable": false,
    "editable": false,
    "id": "kVkVO6mrUnFl",
    "nbgrader": {
     "cell_type": "markdown",
     "checksum": "525b0238699001d2a4991477024b8a1a",
     "grade": false,
     "grade_id": "cell-48dd28ce2f7c2f0f",
     "locked": true,
     "schema_version": 3,
     "solution": false,
     "task": false
    }
   },
   "source": [
    "# 1. Importing code\n",
    "\n",
    "Most of the programming that we will do in this course will involve work that's already been done before. In this case, it's handy to rely on others' published code rather than writing it all ourselves. Rather than copying and pasting, Python allows us to import **modules**. A module is a file with Python code that contains defined variables and functions. By importing a module, we can use its code in our own notebook."
   ]
  },
  {
   "cell_type": "markdown",
   "metadata": {
    "deletable": false,
    "editable": false,
    "id": "CbAUuGXiWcCw",
    "nbgrader": {
     "cell_type": "markdown",
     "checksum": "32f8f558e06e5d9acefa357b98992a2b",
     "grade": false,
     "grade_id": "cell-f4f75de2c11fdc86",
     "locked": true,
     "schema_version": 3,
     "solution": false,
     "task": false
    }
   },
   "source": [
    "A common module that's used in data science is the <code>math</code> module. Suppose we want to accurately calculate the circumference of a circle. For π, we can use the math module, which already has pi defined for us:"
   ]
  },
  {
   "cell_type": "code",
   "execution_count": null,
   "metadata": {
    "deletable": false,
    "editable": false,
    "id": "_VqawHOPUltP",
    "nbgrader": {
     "cell_type": "code",
     "checksum": "bf7cdb31a51c7ef9827fa9a4bf72320f",
     "grade": false,
     "grade_id": "cell-c1d83e58338499ba",
     "locked": true,
     "schema_version": 3,
     "solution": false,
     "task": false
    }
   },
   "outputs": [],
   "source": [
    "import math\n",
    "radius = 4\n",
    "circumference_circle = 2 * radius * math.pi\n",
    "circumference_circle"
   ]
  },
  {
   "cell_type": "markdown",
   "metadata": {
    "deletable": false,
    "editable": false,
    "id": "pTG5h0G9XNoq",
    "nbgrader": {
     "cell_type": "markdown",
     "checksum": "014ee2c592ac0558c0f7b5fe919549ed",
     "grade": false,
     "grade_id": "cell-b18c9c261fe169e7",
     "locked": true,
     "schema_version": 3,
     "solution": false,
     "task": false
    }
   },
   "source": [
    "<p> In the code above, we access the module using the line <code>import math</code>. We can then use any function or variable defined within <code>math</code> by typing the name of the module folllowed by a dot, followed by the name of the variable or function that we want. </p>\n",
    "\n",
    "<code> (module name).(name) </code>"
   ]
  },
  {
   "cell_type": "markdown",
   "metadata": {
    "deletable": false,
    "editable": false,
    "id": "VcZK1jw6XNn6",
    "nbgrader": {
     "cell_type": "markdown",
     "checksum": "e5012712a23334fa3d1297eb12fbc7ba",
     "grade": false,
     "grade_id": "cell-14d2ea978e7e518f",
     "locked": true,
     "schema_version": 3,
     "solution": false,
     "task": false
    }
   },
   "source": [
    "**Question 1.1.** The module <code>math</code> also provides the name e for the base of the natural logarithm, which is roughly 2.71. Compute e<sup>π</sup>-π giving it the name <code>near_twenty</code>."
   ]
  },
  {
   "cell_type": "code",
   "execution_count": null,
   "metadata": {
    "deletable": false,
    "id": "NrcaTHMMadw-",
    "nbgrader": {
     "cell_type": "code",
     "checksum": "90befd9d031a0fe556b57a9f2bfff832",
     "grade": false,
     "grade_id": "cell-26949f46914f6c51",
     "locked": false,
     "schema_version": 3,
     "solution": true,
     "task": false
    }
   },
   "outputs": [],
   "source": [
    "# YOUR CODE HERE\n",
    "raise NotImplementedError()\n",
    "\n",
    "near_twenty"
   ]
  },
  {
   "cell_type": "code",
   "execution_count": null,
   "metadata": {
    "deletable": false,
    "editable": false,
    "id": "gKjiUmIF2h04",
    "nbgrader": {
     "cell_type": "code",
     "checksum": "338efa72579a79a919c357c64ccaf16a",
     "grade": true,
     "grade_id": "cell-0cf5f9c9570cdc30",
     "locked": true,
     "points": 3,
     "schema_version": 3,
     "solution": false,
     "task": false
    }
   },
   "outputs": [],
   "source": [
    "#TEST CELL: do not delete!"
   ]
  },
  {
   "cell_type": "markdown",
   "metadata": {
    "deletable": false,
    "editable": false,
    "id": "V_6WzsuhawWH",
    "nbgrader": {
     "cell_type": "markdown",
     "checksum": "7aa5e8cd43d64e5a9c96f86d9f5c478e",
     "grade": false,
     "grade_id": "cell-c62751d70d80d744",
     "locked": true,
     "schema_version": 3,
     "solution": false,
     "task": false
    }
   },
   "source": [
    "## Accessing functions\n",
    "\n",
    "In the question above, you used variables from the <code>math</code> module.\n",
    "\n",
    "<p> Modules also define functions. For example, <code>math</code> defines the name <code>cos</code> for the cos function. Since we've already imported <code>math</code>, we can write <code>math.cos(1)</code> to compute the cos of 1 (note that this cos function assumes its argument to be in radians). </p>\n"
   ]
  },
  {
   "cell_type": "markdown",
   "metadata": {
    "deletable": false,
    "editable": false,
    "id": "OfNm8O-aepfd",
    "nbgrader": {
     "cell_type": "markdown",
     "checksum": "c2e48485a3af565d6384af3e740ab2cd",
     "grade": false,
     "grade_id": "cell-51dbb0691e1c6001",
     "locked": true,
     "schema_version": 3,
     "solution": false,
     "task": false
    }
   },
   "source": [
    " **Question 1.2.** A $\\frac{\\pi}{4}$-radian (45 degree) angle forms at a right triangle with equal base and height. If the hypotenuse is 1, then the base is cos($\\frac{\\pi}{4}$). Compute the value of cos($\\frac{\\pi}{4}$) using <code>cos</code> and <code>pi</code> from the <code>math</code> module below. Assign your answer the name <code>cos_pi_over_four</code>."
   ]
  },
  {
   "cell_type": "code",
   "execution_count": null,
   "metadata": {
    "deletable": false,
    "id": "2ZYc8yF9dpqm",
    "nbgrader": {
     "cell_type": "code",
     "checksum": "ea7f72a05c831324d6768ab1be189ea1",
     "grade": false,
     "grade_id": "cell-575feade5aa92b41",
     "locked": false,
     "schema_version": 3,
     "solution": true,
     "task": false
    }
   },
   "outputs": [],
   "source": [
    "# YOUR CODE HERE\n",
    "raise NotImplementedError()\n",
    "\n",
    "cos_pi_over_four"
   ]
  },
  {
   "cell_type": "code",
   "execution_count": null,
   "metadata": {
    "deletable": false,
    "editable": false,
    "id": "PE0OUNE_2h06",
    "nbgrader": {
     "cell_type": "code",
     "checksum": "d98d91e1b46edc13c79afaaf0f9cc071",
     "grade": true,
     "grade_id": "cell-5bb079f34b41e928",
     "locked": true,
     "points": 5,
     "schema_version": 3,
     "solution": false,
     "task": false
    }
   },
   "outputs": [],
   "source": [
    "#TEST CELL: do not delete!"
   ]
  },
  {
   "cell_type": "markdown",
   "metadata": {
    "deletable": false,
    "editable": false,
    "id": "_pohiPBhe3UG",
    "nbgrader": {
     "cell_type": "markdown",
     "checksum": "46e2673991983700d51bb971a02bc101",
     "grade": false,
     "grade_id": "cell-36a27c582793016f",
     "locked": true,
     "schema_version": 3,
     "solution": false,
     "task": false
    }
   },
   "source": [
    "Different functions take in a different number of arguments. Refer to this [documentation](https://docs.python.org/3/library/math.html) for all of the functions provided by <code>math</code> and how to use them."
   ]
  },
  {
   "cell_type": "markdown",
   "metadata": {
    "deletable": false,
    "editable": false,
    "id": "A9oG091vfcH4",
    "nbgrader": {
     "cell_type": "markdown",
     "checksum": "2836b1db1af421ca14f3bca035433e59",
     "grade": false,
     "grade_id": "cell-d482b3e7dd794ef7",
     "locked": true,
     "schema_version": 3,
     "solution": false,
     "task": false
    }
   },
   "source": [
    "# 2. Using NumPy and Pandas\n",
    "\n"
   ]
  },
  {
   "cell_type": "markdown",
   "metadata": {
    "deletable": false,
    "editable": false,
    "id": "LxMbnES18Ngk",
    "nbgrader": {
     "cell_type": "markdown",
     "checksum": "ae7bb45231fb597b6c7c051045547bd3",
     "grade": false,
     "grade_id": "cell-aeb8ad26efe4e018",
     "locked": true,
     "schema_version": 3,
     "solution": false,
     "task": false
    }
   },
   "source": [
    "NumPy and Pandas are two very popular libraries in Python that are largely used for data science. Pandas helps when working with large amounts of data. It provides us with a data structure called a <code>DataFrame</code>, which is like a table or spreadsheet. The rows and columns in a DataFrame are indexed so that we can perform operations on them.\n",
    "\n",
    "<p> NumPy is a dependency of Pandas. Its main purpose is to perform calculations and manipulations on large sets of data. </p>"
   ]
  },
  {
   "cell_type": "markdown",
   "metadata": {
    "deletable": false,
    "editable": false,
    "id": "_JERVemKtd1M",
    "nbgrader": {
     "cell_type": "markdown",
     "checksum": "a417a601aae9b0b06fade8a4bca54306",
     "grade": false,
     "grade_id": "cell-807dfadfec92f38f",
     "locked": true,
     "schema_version": 3,
     "solution": false,
     "task": false
    }
   },
   "source": [
    "The table <code>farmers_markets.csv</code> contains data on farmers' markets in the United States. Each row represents an individual market.\n",
    "\n",
    "<p> The following cell imports NumPy and Pandas as np and pd respectively. The last line loads the csv file and creates a DataFrame named <code>farmers_market</code>. </p>\n"
   ]
  },
  {
   "cell_type": "code",
   "execution_count": null,
   "metadata": {
    "deletable": false,
    "editable": false,
    "id": "G4z0KITKsW9Q",
    "nbgrader": {
     "cell_type": "code",
     "checksum": "4ecae3a8fba1466684b2f09f5f329697",
     "grade": false,
     "grade_id": "cell-a7b4a1cebe3451e7",
     "locked": true,
     "schema_version": 3,
     "solution": false,
     "task": false
    }
   },
   "outputs": [],
   "source": [
    "import numpy as np\n",
    "import pandas as pd\n",
    "\n",
    "farmers_markets = pd.read_csv('farmers_markets.csv')"
   ]
  },
  {
   "cell_type": "markdown",
   "metadata": {
    "deletable": false,
    "editable": false,
    "id": "XAa2MYrPwebJ",
    "nbgrader": {
     "cell_type": "markdown",
     "checksum": "18300fb477420c2b0461c1fb8487757e",
     "grade": false,
     "grade_id": "cell-e3d4e2236f94e401",
     "locked": true,
     "schema_version": 3,
     "solution": false,
     "task": false
    }
   },
   "source": [
    "**Question 2.1.** Use the method <code>head</code> to display the first 5 rows of <code>farmers_market</code>. You can read the documentation [here](https://pandas.pydata.org/docs/reference/api/pandas.DataFrame.head.html)."
   ]
  },
  {
   "cell_type": "code",
   "execution_count": null,
   "metadata": {
    "deletable": false,
    "id": "QNft54CdssIW",
    "nbgrader": {
     "cell_type": "code",
     "checksum": "be5b8ab817d94b792e6b3d7118273c5e",
     "grade": true,
     "grade_id": "cell-79ae605d3447412c",
     "locked": false,
     "points": 2,
     "schema_version": 3,
     "solution": true,
     "task": false
    }
   },
   "outputs": [],
   "source": [
    "# YOUR CODE HERE\n",
    "raise NotImplementedError()"
   ]
  },
  {
   "cell_type": "markdown",
   "metadata": {
    "deletable": false,
    "editable": false,
    "id": "-IhBaYcNxBmY",
    "nbgrader": {
     "cell_type": "markdown",
     "checksum": "3c7e9a81716bc50f04dcca506c1662e2",
     "grade": false,
     "grade_id": "cell-bd9a0c4f1cf677d5",
     "locked": true,
     "schema_version": 3,
     "solution": false,
     "task": false
    }
   },
   "source": [
    "Notice how some values are 'NaN'. This means that the value is missing or it's not applicable."
   ]
  },
  {
   "cell_type": "markdown",
   "metadata": {
    "deletable": false,
    "editable": false,
    "id": "V_yaA3C7xr-7",
    "nbgrader": {
     "cell_type": "markdown",
     "checksum": "0896fd60c568ca91bf5a688b7fc8788d",
     "grade": false,
     "grade_id": "cell-acbf28642ef7218d",
     "locked": true,
     "schema_version": 3,
     "solution": false,
     "task": false
    }
   },
   "source": [
    "### Columns & Rows\n",
    "\n",
    "We can find the number of columns that a dataset has by using <code>len</code> (short for length) and <code>.columns</code>:"
   ]
  },
  {
   "cell_type": "code",
   "execution_count": null,
   "metadata": {
    "deletable": false,
    "editable": false,
    "id": "hG-5v5eEtMJS",
    "nbgrader": {
     "cell_type": "code",
     "checksum": "9e3b380aee0721fb0acd8af4ea0f9230",
     "grade": false,
     "grade_id": "cell-c0583d5d686f2fd4",
     "locked": true,
     "schema_version": 3,
     "solution": false,
     "task": false
    }
   },
   "outputs": [],
   "source": [
    "num_farmers_columns = len(farmers_markets.columns)\n",
    "num_farmers_columns"
   ]
  },
  {
   "cell_type": "markdown",
   "metadata": {
    "deletable": false,
    "editable": false,
    "id": "mGDFpEvbyfnl",
    "nbgrader": {
     "cell_type": "markdown",
     "checksum": "7defd3c0e5c8e0fa461e742b4ab9642f",
     "grade": false,
     "grade_id": "cell-2c9f1da8e4b250b6",
     "locked": true,
     "schema_version": 3,
     "solution": false,
     "task": false
    }
   },
   "source": [
    "**Question 2.2.** Find the number of rows that <code>farmers_markets</code> has by using similar functions as the ones above. Assign your answer to <code>num_farmers_rows</code>.  \n",
    "\n",
    "*Hint*: <code>.rows</code> does not exist like it does for columns since the number of rows is really just the length of the dataset! </p>"
   ]
  },
  {
   "cell_type": "code",
   "execution_count": null,
   "metadata": {
    "deletable": false,
    "id": "5Zsu9593yOQF",
    "nbgrader": {
     "cell_type": "code",
     "checksum": "4b24278bae9af30dbd26f61e4dd30af2",
     "grade": false,
     "grade_id": "cell-78d6a7c0d4d70fe8",
     "locked": false,
     "schema_version": 3,
     "solution": true,
     "task": false
    }
   },
   "outputs": [],
   "source": [
    "# YOUR CODE HERE\n",
    "raise NotImplementedError()\n",
    "\n",
    "print(\"The table has\", num_farmers_rows, \"rows in it\")"
   ]
  },
  {
   "cell_type": "code",
   "execution_count": null,
   "metadata": {
    "deletable": false,
    "editable": false,
    "id": "xzM7bFVT2h09",
    "nbgrader": {
     "cell_type": "code",
     "checksum": "21cdec297ab58362de09802b8a10463b",
     "grade": true,
     "grade_id": "cell-e26bd60f40fb3e0d",
     "locked": true,
     "points": 5,
     "schema_version": 3,
     "solution": false,
     "task": false
    }
   },
   "outputs": [],
   "source": [
    "#TEST CELL: do not delete!"
   ]
  },
  {
   "cell_type": "markdown",
   "metadata": {
    "deletable": false,
    "editable": false,
    "id": "YVxNNHJqzH3o",
    "nbgrader": {
     "cell_type": "markdown",
     "checksum": "f012fbb4099663f53af27862d73a3ff0",
     "grade": false,
     "grade_id": "cell-ec7a447bb9a1dd0d",
     "locked": true,
     "schema_version": 3,
     "solution": false,
     "task": false
    }
   },
   "source": [
    "### Selecting\n",
    "\n",
    "Sometimes, datasets will contain columns that we don't need in our analysis. In this case, we use square brackets around the columns that we want to keep. This creates a new table.\n",
    "\n"
   ]
  },
  {
   "cell_type": "code",
   "execution_count": null,
   "metadata": {
    "deletable": false,
    "editable": false,
    "id": "j5SEQN1Wy3Dj",
    "nbgrader": {
     "cell_type": "code",
     "checksum": "8756dbd5bf3f0672c7142de06ea8f6e9",
     "grade": false,
     "grade_id": "cell-d656aba7a3c533f4",
     "locked": true,
     "schema_version": 3,
     "solution": false,
     "task": false
    }
   },
   "outputs": [],
   "source": [
    "farmers_markets_locations = farmers_markets[[\"MarketName\", \"State\"]]\n",
    "farmers_markets_locations"
   ]
  },
  {
   "cell_type": "markdown",
   "metadata": {
    "deletable": false,
    "editable": false,
    "id": "czlGekFd1I2C",
    "nbgrader": {
     "cell_type": "markdown",
     "checksum": "e88d10e0247b87e4350650a10caf15ba",
     "grade": false,
     "grade_id": "cell-742bf65e0076c3c8",
     "locked": true,
     "schema_version": 3,
     "solution": false,
     "task": false
    }
   },
   "source": [
    "Notice how there are two sets of brackets when selecting multiple columns. If we only wanted to select one column, we would only need one set of brackets."
   ]
  },
  {
   "cell_type": "markdown",
   "metadata": {
    "deletable": false,
    "editable": false,
    "id": "L-gTRK3G1jDZ",
    "nbgrader": {
     "cell_type": "markdown",
     "checksum": "5b8b3bae887be4f273e2e884a92008ca",
     "grade": false,
     "grade_id": "cell-5f2bd59a4fa23594",
     "locked": true,
     "schema_version": 3,
     "solution": false,
     "task": false
    }
   },
   "source": [
    "**Question 2.3.** Suppose we want to display market locations using coordinates instead of states. Create a table with only <code>MarketName</code>, longitude <code>x</code>, and latitude <code>y</code>. Assign your table to <code>farmers_markets_coords</code>."
   ]
  },
  {
   "cell_type": "code",
   "execution_count": null,
   "metadata": {
    "deletable": false,
    "id": "VOi4Zvwx0auS",
    "nbgrader": {
     "cell_type": "code",
     "checksum": "10291cde7bd2c530b75d276dfaa09cf0",
     "grade": false,
     "grade_id": "cell-f0ad7f14cb6dacfe",
     "locked": false,
     "schema_version": 3,
     "solution": true,
     "task": false
    }
   },
   "outputs": [],
   "source": [
    "# YOUR CODE HERE\n",
    "raise NotImplementedError()\n",
    "\n",
    "farmers_markets_coords"
   ]
  },
  {
   "cell_type": "code",
   "execution_count": null,
   "metadata": {
    "deletable": false,
    "editable": false,
    "id": "41sPBljX2h0_",
    "nbgrader": {
     "cell_type": "code",
     "checksum": "7ac5eaf9e3156c79c6060e24b994a4f1",
     "grade": true,
     "grade_id": "cell-c1ca6b70e90e05dd",
     "locked": true,
     "points": 5,
     "schema_version": 3,
     "solution": false,
     "task": false
    }
   },
   "outputs": [],
   "source": [
    "#TEST CELL: do not delete!"
   ]
  },
  {
   "cell_type": "markdown",
   "metadata": {
    "deletable": false,
    "editable": false,
    "id": "YFkUGGHsDt-4",
    "nbgrader": {
     "cell_type": "markdown",
     "checksum": "f5f91a9c8397efe0d7dc8617acc155e2",
     "grade": false,
     "grade_id": "cell-dd60090331402b43",
     "locked": true,
     "schema_version": 3,
     "solution": false,
     "task": false
    }
   },
   "source": [
    "We can also select the markets that are located in California only. The <code>==</code> symbol is called a *comparison operator*. In this case, the comparison operator looks at every value in the State column and only adds it to the DataFrame if it's equal to California."
   ]
  },
  {
   "cell_type": "code",
   "execution_count": null,
   "metadata": {
    "deletable": false,
    "editable": false,
    "id": "KFizKHcyD__m",
    "nbgrader": {
     "cell_type": "code",
     "checksum": "50121db5e2dc12a2c49dd176efef4aa7",
     "grade": false,
     "grade_id": "cell-38b9648a2fa9f2d4",
     "locked": true,
     "schema_version": 3,
     "solution": false,
     "task": false
    }
   },
   "outputs": [],
   "source": [
    "california_farmers_markets = farmers_markets[farmers_markets['State'] == 'California']\n",
    "california_farmers_markets"
   ]
  },
  {
   "cell_type": "markdown",
   "metadata": {
    "deletable": false,
    "editable": false,
    "id": "V7e8B5Mp2_kr",
    "nbgrader": {
     "cell_type": "markdown",
     "checksum": "ae7c06a9b241a1fe05d8652053870acd",
     "grade": false,
     "grade_id": "cell-56d35c38be7f090a",
     "locked": true,
     "schema_version": 3,
     "solution": false,
     "task": false
    }
   },
   "source": [
    "### Drop\n",
    "\n",
    "<p> The <code>drop</code> method is similar to selecting, but it takes away the columns that are provided. <code>drop</code> also creates a new table. </p>\n",
    "\n",
    "Suppose we did not want <code>FMID</code> and <code>updateTime</code> in our <code>farmers_markets</code> table:"
   ]
  },
  {
   "cell_type": "code",
   "execution_count": null,
   "metadata": {
    "deletable": false,
    "editable": false,
    "id": "Zh6lfuiz2lvf",
    "nbgrader": {
     "cell_type": "code",
     "checksum": "9102a682a6cdda7bb4b8c28a3681de96",
     "grade": false,
     "grade_id": "cell-51fd1a1c421556ab",
     "locked": true,
     "schema_version": 3,
     "solution": false,
     "task": false
    }
   },
   "outputs": [],
   "source": [
    "farmers_markets_without_fmid = farmers_markets.drop(columns = [\"FMID\", \"updateTime\"])\n",
    "farmers_markets_without_fmid"
   ]
  },
  {
   "cell_type": "markdown",
   "metadata": {
    "deletable": false,
    "editable": false,
    "id": "FcX9ieyW5-41",
    "nbgrader": {
     "cell_type": "markdown",
     "checksum": "17354cfe365bc0752f0a8e60313e9be4",
     "grade": false,
     "grade_id": "cell-8a303e7e550a0fc4",
     "locked": true,
     "schema_version": 3,
     "solution": false,
     "task": false
    }
   },
   "source": [
    "**Question 2.4.** Create a table that does not contain the <code>Website</code>, <code>Facebook</code>, <code>Twitter</code>, <code>Youtube</code>, and <code>OtherMedia</code> columns. Assign your table to <code>farmers_markets_without_media</code>."
   ]
  },
  {
   "cell_type": "code",
   "execution_count": null,
   "metadata": {
    "deletable": false,
    "id": "o6cIcy9754CC",
    "nbgrader": {
     "cell_type": "code",
     "checksum": "076feb0ee3389387d07db4d6904fb445",
     "grade": false,
     "grade_id": "cell-68f77eb9b8d60340",
     "locked": false,
     "schema_version": 3,
     "solution": true,
     "task": false
    }
   },
   "outputs": [],
   "source": [
    "# YOUR CODE HERE\n",
    "raise NotImplementedError()\n",
    "\n",
    "farmers_markets_without_media"
   ]
  },
  {
   "cell_type": "code",
   "execution_count": null,
   "metadata": {
    "deletable": false,
    "editable": false,
    "id": "MRgtZVIf2h1I",
    "nbgrader": {
     "cell_type": "code",
     "checksum": "9c75d37e4a7063e8f58e286c2591417e",
     "grade": true,
     "grade_id": "cell-97ee5a175d9ee375",
     "locked": true,
     "points": 5,
     "schema_version": 3,
     "solution": false,
     "task": false
    }
   },
   "outputs": [],
   "source": [
    "#TEST CELL: do not delete!"
   ]
  },
  {
   "cell_type": "markdown",
   "metadata": {
    "deletable": false,
    "editable": false,
    "id": "jE87NqeO905_",
    "nbgrader": {
     "cell_type": "markdown",
     "checksum": "c293c836c83873700cdfe9e737fa05d7",
     "grade": false,
     "grade_id": "cell-0c991af4f48d8aba",
     "locked": true,
     "schema_version": 3,
     "solution": false,
     "task": false
    }
   },
   "source": [
    "### Sort\n",
    "\n",
    "<p> We can sort the contents of a desired column using the <code>sort_values</code> method. </p>\n",
    "\n",
    "When using sort, keep these points in mind:\n",
    "\n",
    "1.   The of the first argument is the name of the column that's being sorted\n",
    "2.   If the column has text in it, its contents will be sorted alphabetically. If the column has numbers in it, its contents will be sorted numerically\n",
    "3.   <code>sort_values</code> makes a new table (the contents of the original table will not be sorted)\n",
    "4.   Rows will always stick together when a column is being sorted.\n",
    "\n"
   ]
  },
  {
   "cell_type": "markdown",
   "metadata": {
    "deletable": false,
    "editable": false,
    "id": "QeNQbb6f_1Hp",
    "nbgrader": {
     "cell_type": "markdown",
     "checksum": "c96d6ff2f6c87c37f737f2e21eeeed85",
     "grade": false,
     "grade_id": "cell-f655a48624f3e275",
     "locked": true,
     "schema_version": 3,
     "solution": false,
     "task": false
    }
   },
   "source": [
    "For example, suppose we wanted to sort the markets in alphabetical order by city:"
   ]
  },
  {
   "cell_type": "code",
   "execution_count": null,
   "metadata": {
    "deletable": false,
    "editable": false,
    "id": "iqR6v-3u6khH",
    "nbgrader": {
     "cell_type": "code",
     "checksum": "d89226f15b84a72039f54044cc4755ae",
     "grade": false,
     "grade_id": "cell-e1f053645d414d95",
     "locked": true,
     "schema_version": 3,
     "solution": false,
     "task": false
    }
   },
   "outputs": [],
   "source": [
    "farmers_markets_state_sorted = farmers_markets.sort_values(by = [\"city\"])\n",
    "farmers_markets_state_sorted"
   ]
  },
  {
   "cell_type": "markdown",
   "metadata": {
    "deletable": false,
    "editable": false,
    "id": "YHA8AYzuBOr0",
    "nbgrader": {
     "cell_type": "markdown",
     "checksum": "ad2908496d18c26acd78963bcfaf8a94",
     "grade": false,
     "grade_id": "cell-6295fe800f451a3b",
     "locked": true,
     "schema_version": 3,
     "solution": false,
     "task": false
    }
   },
   "source": [
    "If we wanted to sort by reverse alphabetical order, we would include <code>ascending=False</code> as an argument:"
   ]
  },
  {
   "cell_type": "code",
   "execution_count": null,
   "metadata": {
    "deletable": false,
    "editable": false,
    "id": "ikpuKVOtAbpw",
    "nbgrader": {
     "cell_type": "code",
     "checksum": "aeaa36b9b98aa21424a5c26f063401a3",
     "grade": false,
     "grade_id": "cell-61498824fe04fa1a",
     "locked": true,
     "schema_version": 3,
     "solution": false,
     "task": false
    }
   },
   "outputs": [],
   "source": [
    "farmers_markets_state_sorted = farmers_markets.sort_values(by = [\"city\"], ascending=False)\n",
    "farmers_markets_state_sorted"
   ]
  },
  {
   "cell_type": "markdown",
   "metadata": {
    "deletable": false,
    "editable": false,
    "id": "aiXH3pRNBlhh",
    "nbgrader": {
     "cell_type": "markdown",
     "checksum": "ae819261ef6952d7b1a0fab430f1aac5",
     "grade": false,
     "grade_id": "cell-60dcd86f80ae04a8",
     "locked": true,
     "schema_version": 3,
     "solution": false,
     "task": false
    }
   },
   "source": [
    "**Question 2.5.** Now, sort <code>farmers_markets</code> by **longitude (<code>x</code>)** in descending order. Assign your table to <code>farmers_markets_locations_by_longitude</code>."
   ]
  },
  {
   "cell_type": "code",
   "execution_count": null,
   "metadata": {
    "deletable": false,
    "id": "uaDjPS5JBfbe",
    "nbgrader": {
     "cell_type": "code",
     "checksum": "bdfd044584d007657e6af82c8dddaff4",
     "grade": false,
     "grade_id": "cell-aa638c9d9a5600e2",
     "locked": false,
     "schema_version": 3,
     "solution": true,
     "task": false
    }
   },
   "outputs": [],
   "source": [
    "# YOUR CODE HERE\n",
    "raise NotImplementedError()\n",
    "\n",
    "farmers_markets_locations_by_longitude"
   ]
  },
  {
   "cell_type": "code",
   "execution_count": null,
   "metadata": {
    "deletable": false,
    "editable": false,
    "id": "LQvqIBxt2h1K",
    "nbgrader": {
     "cell_type": "code",
     "checksum": "4b61c105cdeaefe28a14b1deebe144c4",
     "grade": true,
     "grade_id": "cell-f05c95483a811196",
     "locked": true,
     "points": 5,
     "schema_version": 3,
     "solution": false,
     "task": false
    }
   },
   "outputs": [],
   "source": [
    "#TEST CELL: do not delete!"
   ]
  },
  {
   "cell_type": "markdown",
   "metadata": {
    "deletable": false,
    "editable": false,
    "id": "zpzIYX9cFwfu",
    "nbgrader": {
     "cell_type": "markdown",
     "checksum": "41cd0266d5cca2523ddc1011cb0f9ec8",
     "grade": false,
     "grade_id": "cell-93a63764a970e04f",
     "locked": true,
     "schema_version": 3,
     "solution": false,
     "task": false
    }
   },
   "source": [
    "# 3. Analyzing a dataset\n",
    "\n",
    "<p> We are now going to use the concepts discussed above to analyze a new dataset. </p>  \n",
    "\n",
    "Run the cell below to make a new DataFrame named <code>imdb</code>. The DataFrame contains the top 1000 highest-reated movies on IMDb. Notice the `.dropna()` function at the end, this removes all rows that contain NaN."
   ]
  },
  {
   "cell_type": "code",
   "execution_count": null,
   "metadata": {
    "deletable": false,
    "editable": false,
    "id": "0kSz4MxGbwsv",
    "nbgrader": {
     "cell_type": "code",
     "checksum": "b03f477f318be73eeb2ee85d091bf0cb",
     "grade": false,
     "grade_id": "cell-be851243a48db3e4",
     "locked": true,
     "schema_version": 3,
     "solution": false,
     "task": false
    }
   },
   "outputs": [],
   "source": [
    "imdb = pd.read_csv(\"imdb.csv\").dropna()\n",
    "imdb.head(3)"
   ]
  },
  {
   "cell_type": "markdown",
   "metadata": {
    "deletable": false,
    "editable": false,
    "id": "82CLpOm-iCSa",
    "nbgrader": {
     "cell_type": "markdown",
     "checksum": "3c41921d433774d7e281b7b17f97922c",
     "grade": false,
     "grade_id": "cell-259aea4481dc4252",
     "locked": true,
     "schema_version": 3,
     "solution": false,
     "task": false
    }
   },
   "source": [
    "*Comparison operators* are used to filter our data so that we're only left with the values that we want. For example, the code <code>imdb[imdb['IMDB_Rating'] >= 6.5]</code> only includes ratings equal or greater than 6.5 in the DataFrame."
   ]
  },
  {
   "cell_type": "markdown",
   "metadata": {
    "deletable": false,
    "editable": false,
    "id": "DKL3lNVNmTvV",
    "nbgrader": {
     "cell_type": "markdown",
     "checksum": "07e9985189e81f42067d69d1217aa53b",
     "grade": false,
     "grade_id": "cell-4d7aded307a78bb2",
     "locked": true,
     "schema_version": 3,
     "solution": false,
     "task": false
    }
   },
   "source": [
    "**Question 3.1.** Create a table of movies released between 2015 and 2020 inclusive with ratings above 7. The table should only include the columns <code>Released_Year</code>, <code>Series_Title</code>, and <code>IMDB_Rating</code> **in that order**.\n",
    "\n",
    "*Hint*: you may create intermediate tables for each step that's needed, but make sure that your final table is assigned to <code>rating_over_7</code>. </p>"
   ]
  },
  {
   "cell_type": "code",
   "execution_count": null,
   "metadata": {
    "deletable": false,
    "id": "ujoDDGWeb5iK",
    "nbgrader": {
     "cell_type": "code",
     "checksum": "8681891396477e34bca58e03c1ad10a5",
     "grade": false,
     "grade_id": "cell-b8a9d82b464d3b2a",
     "locked": false,
     "schema_version": 3,
     "solution": true,
     "task": false
    }
   },
   "outputs": [],
   "source": [
    "# YOUR CODE HERE\n",
    "raise NotImplementedError()\n",
    "\n",
    "rating_over_7"
   ]
  },
  {
   "cell_type": "code",
   "execution_count": null,
   "metadata": {
    "deletable": false,
    "editable": false,
    "id": "2tTNbeyG2h1M",
    "nbgrader": {
     "cell_type": "code",
     "checksum": "62ec04a10e7c4452a341340fbc9f6ca4",
     "grade": true,
     "grade_id": "cell-f35d52e6869cc7ec",
     "locked": true,
     "points": 10,
     "schema_version": 3,
     "solution": false,
     "task": false
    }
   },
   "outputs": [],
   "source": [
    "#TEST CELL: do not delete!"
   ]
  },
  {
   "cell_type": "markdown",
   "metadata": {
    "deletable": false,
    "editable": false,
    "id": "jSfenlvRBlMD",
    "nbgrader": {
     "cell_type": "markdown",
     "checksum": "dcca621fafb76c86cf8b32564417d081",
     "grade": false,
     "grade_id": "cell-d3deb29f0db687e8",
     "locked": true,
     "schema_version": 3,
     "solution": false,
     "task": false
    }
   },
   "source": [
    "**Question 3.2.** Use the techniques mentioned above to calculate the *percent* of movies made in the 20th century (1900-1999) and the 21st century (2000 and later). Assign your answers to <code>percent_20th_century</code> and <code>percent_21st_century</code>. You do NOT have to round your answer.\n",
    "\n",
    "*Hint*: The percent of movies release in the 20th century is the number of movies released between 1900-1999 divided by the total number of movies, times 100%."
   ]
  },
  {
   "cell_type": "code",
   "execution_count": null,
   "metadata": {
    "deletable": false,
    "id": "l3gAox9CAJEX",
    "nbgrader": {
     "cell_type": "code",
     "checksum": "e6292a7ee3828d8d9e254e0361150306",
     "grade": false,
     "grade_id": "cell-d888391846ff557f",
     "locked": false,
     "schema_version": 3,
     "solution": true,
     "task": false
    }
   },
   "outputs": [],
   "source": [
    "# YOUR CODE HERE\n",
    "raise NotImplementedError()\n",
    "print(\"Percent released in 20th century:\", percent_20th_century, \"%\")\n",
    "print(\"Percent released in 21st century:\", percent_21st_century, \"%\")"
   ]
  },
  {
   "cell_type": "code",
   "execution_count": null,
   "metadata": {
    "deletable": false,
    "editable": false,
    "id": "aoEJrtj_2h1N",
    "nbgrader": {
     "cell_type": "code",
     "checksum": "f53c3c7b427dac70840abbcf16a9bde2",
     "grade": true,
     "grade_id": "cell-17fcf392428c54ab",
     "locked": true,
     "points": 10,
     "schema_version": 3,
     "solution": false,
     "task": false
    }
   },
   "outputs": [],
   "source": [
    "#TEST CELL: do not delete!"
   ]
  },
  {
   "cell_type": "markdown",
   "metadata": {
    "deletable": false,
    "editable": false,
    "id": "xjp0pvtr2h1N",
    "nbgrader": {
     "cell_type": "markdown",
     "checksum": "6c51ebd56e39a6dfd8b8f6ea186f1c49",
     "grade": false,
     "grade_id": "cell-9ebadf0a20593e29",
     "locked": true,
     "schema_version": 3,
     "solution": false,
     "task": false
    }
   },
   "source": [
    "# Rubric\n",
    "\n",
    "| Question | Points |\n",
    "|----------|----------|\n",
    "| 1.1.    | 3  |\n",
    "| 1.2.    | 5   |\n",
    "| 2.1.    | 2   |\n",
    "| 2.2.    | 5  |\n",
    "| 2.3.    | 5   |\n",
    "| 2.4.    | 5   |\n",
    "| 2.5.    | 5  |\n",
    "| 3.1.    | 10   |\n",
    "| 3.2.    | 10   |\n",
    "| Total:    | 50   |\n"
   ]
  }
 ],
 "metadata": {
  "colab": {
   "provenance": []
  },
  "kernelspec": {
   "display_name": "Python 3 (ipykernel)",
   "language": "python",
   "name": "python3"
  },
  "language_info": {
   "codemirror_mode": {
    "name": "ipython",
    "version": 3
   },
   "file_extension": ".py",
   "mimetype": "text/x-python",
   "name": "python",
   "nbconvert_exporter": "python",
   "pygments_lexer": "ipython3",
   "version": "3.13.0"
  }
 },
 "nbformat": 4,
 "nbformat_minor": 4
}
