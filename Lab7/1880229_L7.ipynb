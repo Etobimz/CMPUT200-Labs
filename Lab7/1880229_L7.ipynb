{
  "cells": [
    {
      "cell_type": "markdown",
      "id": "c8be7cd7-8ce4-4742-a7c3-60930f33184e",
      "metadata": {
        "deletable": false,
        "editable": false,
        "id": "c8be7cd7-8ce4-4742-a7c3-60930f33184e",
        "nbgrader": {
          "cell_type": "markdown",
          "checksum": "00acb7fcd0e2a4feeef94523c8ae5736",
          "grade": false,
          "grade_id": "cell-962bb44b817b427d",
          "locked": true,
          "schema_version": 3,
          "solution": false,
          "task": false
        }
      },
      "source": [
        "# Lab 7: Logistic Regression"
      ]
    },
    {
      "cell_type": "markdown",
      "id": "ab886c88-eea1-4c87-9630-7cad4d4114c8",
      "metadata": {
        "id": "ab886c88-eea1-4c87-9630-7cad4d4114c8"
      },
      "source": [
        "***\n",
        "- **FIRST name**: Abimbola\n",
        "- **LAST name**: Olarinde\n",
        "- **Student ID**: 1880229\n",
        "\n",
        "Leave blank if individual:\n",
        "- **Collaborator names**:\n",
        "- **Collaborator student IDs**:\n",
        "***"
      ]
    },
    {
      "cell_type": "markdown",
      "id": "c3862352-c237-44ad-80d0-94ae6630b287",
      "metadata": {
        "deletable": false,
        "editable": false,
        "id": "c3862352-c237-44ad-80d0-94ae6630b287",
        "nbgrader": {
          "cell_type": "markdown",
          "checksum": "b0fc0aca0a9339b6fd1ba9ee94c5ad61",
          "grade": false,
          "grade_id": "cell-1dcc60f976d67042",
          "locked": true,
          "schema_version": 3,
          "solution": false,
          "task": false
        }
      },
      "source": [
        "In today's lab, you will learn:\n",
        "\n",
        "1.   Using sklearn's logistic regression model;\n",
        "2.   Using sklearn's pipeline;\n",
        "3.   Using sklearn's confusion matrix.\n",
        "\n",
        "For this lab, you'll need the dataset `iris.csv`.\n",
        "\n",
        "*It is recommended to review chapter 3.1. of the course notes before proceeding with this lab.*\n",
        "\n",
        "### Instructions\n",
        "\n",
        "- **Collaboration**: You must submit your own work. The collaboration policy for the labs is Consultation Collaboration. You may verbally discuss concepts with your classmates, without exchanging written text, code, or detailed advice. You must develop your own solution and submit your own work. All sources of information used including books, websites, students you talked to, must be cited in the submission. Please see the course FAQ document for details on this collaboration policy. We will adhere to current Faculty of Science guidelines on dealing with suspected cases of plagiarism.\n",
        "- **Software**: We highly recommend that students use Google Colab for completing labs and assignments. This is the software used by the TAs in the course, and we can guarantee that there will be no issues with incompatible environments or imports.\n",
        "- **Filling out the Notebook**: You must use this notebook to complete your lab. You will execute the questions in the notebook. The questions might ask for a short answer in text form or for you to write and execute a piece of code. Make sure you enter your answer in either case only in the cell provided.\n",
        "- **Important**:  Do not use a different cell, do not delete cells, and do not create a new cell. Creating new cells for your code is not compatible with the auto-grading system we are using and thus your assignment will not get grading properly and you will lose marks for that question. As a reminder you must remove the raise NotImplementedError() statements from each question when answering.\n",
        "- **Rules for Datasets**: Any datasets used in the lab cannot be imported from cloud storage, e.g google drive, and must be read from a file either on your local computer or uploaded to the google colab notebook. Importing from cloud storage will result in a zero.\n",
        "- **Submission Formatting**: When you are done, you will submit your work from the notebook. Make sure to save your notebook before running it, and then submit on Canvas the notebook file with your work completed. Name your file with your Student ID number, followed by an underscore and L plus the lab number (ex: 1234567_L7.ipynb). Failure to do so will result in your final score being reduced by 50%! Finally your name must be written at the top of the lab or assignment document."
      ]
    },
    {
      "cell_type": "code",
      "execution_count": 92,
      "id": "e0675794-08ef-4ee2-a8da-ace0626f50a4",
      "metadata": {
        "deletable": false,
        "editable": false,
        "id": "e0675794-08ef-4ee2-a8da-ace0626f50a4",
        "nbgrader": {
          "cell_type": "code",
          "checksum": "ac99a6fea94dc6939d276fd7d795e01b",
          "grade": false,
          "grade_id": "cell-1749414a9f901003",
          "locked": true,
          "schema_version": 3,
          "solution": false,
          "task": false
        }
      },
      "outputs": [],
      "source": [
        "#run this cell\n",
        "import numpy as np\n",
        "import pandas as pd\n",
        "import matplotlib.pyplot as plt\n",
        "import seaborn as sns\n"
      ]
    },
    {
      "cell_type": "markdown",
      "id": "49217ead-9e37-4d1a-9be3-a044a7df00b5",
      "metadata": {
        "deletable": false,
        "editable": false,
        "id": "49217ead-9e37-4d1a-9be3-a044a7df00b5",
        "nbgrader": {
          "cell_type": "markdown",
          "checksum": "eab8af3e0434bc891b72ed286f4ce4d4",
          "grade": false,
          "grade_id": "cell-7c7a486082a3c928",
          "locked": true,
          "schema_version": 3,
          "solution": false,
          "task": false
        }
      },
      "source": [
        "# 1. Pre-processing the Data\n",
        "\n",
        "In lab 6, you learned about *linear regression* and how it's used to make predictions on data. You may have noticed that the data used for lab 6 (child height) was continuous. For data where the outcomes are discrete, we use *logistic regression*.\n",
        "\n",
        "**Question 1.1.** In the cell below, import the dataset `iris.csv` and assign it to `iris_df`. Print its first 5 values."
      ]
    },
    {
      "cell_type": "code",
      "execution_count": 93,
      "id": "0f748d33-3d86-4ceb-bcad-259e93578125",
      "metadata": {
        "deletable": false,
        "id": "0f748d33-3d86-4ceb-bcad-259e93578125",
        "nbgrader": {
          "cell_type": "code",
          "checksum": "a46f406684c0933ffdec37d23a13e060",
          "grade": false,
          "grade_id": "cell-5242329f85e15bd3",
          "locked": false,
          "schema_version": 3,
          "solution": true,
          "task": false
        }
      },
      "outputs": [
        {
          "name": "stdout",
          "output_type": "stream",
          "text": [
            "   Id  SepalLengthCm  SepalWidthCm  PetalLengthCm  PetalWidthCm      Species\n",
            "0   1            5.1           3.5            1.4           0.2  Iris-setosa\n",
            "1   2            4.9           3.0            1.4           0.2  Iris-setosa\n",
            "2   3            4.7           3.2            1.3           0.2  Iris-setosa\n",
            "3   4            4.6           3.1            1.5           0.2  Iris-setosa\n",
            "4   5            5.0           3.6            1.4           0.2  Iris-setosa\n"
          ]
        },
        {
          "data": {
            "text/plain": [
              "(150, 6)"
            ]
          },
          "execution_count": 93,
          "metadata": {},
          "output_type": "execute_result"
        }
      ],
      "source": [
        "# YOUR CODE HERE\n",
        "iris_df = pd.read_csv('iris.csv')\n",
        "print(iris_df.head())\n",
        "iris_df.shape\n",
        "#iris_df.head()"
      ]
    },
    {
      "cell_type": "code",
      "execution_count": 94,
      "id": "9f510067-e5e9-4b54-9c52-d0a0fd3cd3c1",
      "metadata": {
        "deletable": false,
        "editable": false,
        "id": "9f510067-e5e9-4b54-9c52-d0a0fd3cd3c1",
        "nbgrader": {
          "cell_type": "code",
          "checksum": "58b6c2a039f52f4de52178628a2b64f5",
          "grade": true,
          "grade_id": "cell-3d8bceb83eb932c1",
          "locked": true,
          "points": 5,
          "schema_version": 3,
          "solution": false,
          "task": false
        }
      },
      "outputs": [],
      "source": [
        "# TEST CELL: do not delete!"
      ]
    },
    {
      "cell_type": "markdown",
      "id": "cd4cdf2c-ed39-49f3-938b-27db502e562c",
      "metadata": {
        "deletable": false,
        "editable": false,
        "id": "cd4cdf2c-ed39-49f3-938b-27db502e562c",
        "nbgrader": {
          "cell_type": "markdown",
          "checksum": "6e9d8f93955845892543778a3d064a7a",
          "grade": false,
          "grade_id": "cell-62c48b57e29a0c5b",
          "locked": true,
          "schema_version": 3,
          "solution": false,
          "task": false
        }
      },
      "source": [
        "This dataset contains three iris species: setosa, versicolor, and virginica. It also contains the flower's petal length, petal width, sepal length, and sepal width. Our goal is to use logistic regression so that we can predict what species of iris we have given its measurements.\n",
        "\n",
        "**Question 1.2.** Recall that we denote `X` as our features and `Y` as our target. Separate the dataset into its features and target."
      ]
    },
    {
      "cell_type": "code",
      "execution_count": 95,
      "id": "2511eb75-9d7f-4ee6-a12a-659b05548f53",
      "metadata": {
        "deletable": false,
        "id": "2511eb75-9d7f-4ee6-a12a-659b05548f53",
        "nbgrader": {
          "cell_type": "code",
          "checksum": "d417cf52fc20c6c3e5c4743ca0c9d837",
          "grade": false,
          "grade_id": "cell-a7d5ba8f60bccb47",
          "locked": false,
          "schema_version": 3,
          "solution": true,
          "task": false
        }
      },
      "outputs": [],
      "source": [
        "# YOUR CODE HERE\n",
        "X = iris_df.drop(columns=['Id','Species']) # Features\n",
        "Y = iris_df['Species'] # Target\n"
      ]
    },
    {
      "cell_type": "code",
      "execution_count": 96,
      "id": "66d9c882-29d1-4068-858c-679abb3ed4bd",
      "metadata": {
        "deletable": false,
        "editable": false,
        "id": "66d9c882-29d1-4068-858c-679abb3ed4bd",
        "nbgrader": {
          "cell_type": "code",
          "checksum": "11d598200b7fd72f12f61451041c9977",
          "grade": true,
          "grade_id": "cell-9fb3d5d48ca9dad6",
          "locked": true,
          "points": 10,
          "schema_version": 3,
          "solution": false,
          "task": false
        }
      },
      "outputs": [],
      "source": [
        "# TEST CELL: do not delete!"
      ]
    },
    {
      "cell_type": "markdown",
      "id": "515a0e91-e845-4043-b63f-65ce0beef9ab",
      "metadata": {
        "deletable": false,
        "editable": false,
        "id": "515a0e91-e845-4043-b63f-65ce0beef9ab",
        "nbgrader": {
          "cell_type": "markdown",
          "checksum": "f21bbb6254c6d047920e711a02e6b4e2",
          "grade": false,
          "grade_id": "cell-804522c77f321cef",
          "locked": true,
          "schema_version": 3,
          "solution": false,
          "task": false
        }
      },
      "source": [
        "Luckily, we don't have to make our own logistic regression model from scratch. We can import a library called `sklearn` that has the functions we need to make predictions on our iris data. However, for the functions to work, our target data must be numerical. To convert categorical data to numerical, we encode the target labels with values between 0 and n-1, where n is the number of classes. For our iris data, we will use sklearn's [LabelEncoder](https://scikit-learn.org/stable/modules/generated/sklearn.preprocessing.LabelEncoder.html).\n",
        "\n",
        "**Question 1.3.** First import sklearn's LabelEncoder, then convert the targets from categorical to numerical. Assign your answer to `Y`. Consult the link above for help."
      ]
    },
    {
      "cell_type": "code",
      "execution_count": 97,
      "id": "8f2c567a",
      "metadata": {},
      "outputs": [],
      "source": [
        "import pandas as pd\n",
        "import numpy as np\n",
        "from sklearn.preprocessing import LabelEncoder\n",
        "\n",
        "# Load dataset\n",
        "iris_df = pd.read_csv('iris.csv')\n",
        "\n",
        "\n",
        "encoder = LabelEncoder()\n",
        "Y = encoder.fit_transform(Y)  \n",
        "\n",
        " \n"
      ]
    },
    {
      "cell_type": "code",
      "execution_count": 98,
      "id": "1839e6b1-db40-4bf0-b3a4-2b2725a2c0ec",
      "metadata": {
        "deletable": false,
        "editable": false,
        "id": "1839e6b1-db40-4bf0-b3a4-2b2725a2c0ec",
        "nbgrader": {
          "cell_type": "code",
          "checksum": "a2051bda2ece2428e248c1eb576c1aa2",
          "grade": true,
          "grade_id": "cell-8be607f247525e6d",
          "locked": true,
          "points": 10,
          "schema_version": 3,
          "solution": false,
          "task": false
        }
      },
      "outputs": [],
      "source": [
        "# TEST CELL: do not delete!"
      ]
    },
    {
      "cell_type": "markdown",
      "id": "da1a0bbc-a986-44de-9879-65040caaeb86",
      "metadata": {
        "deletable": false,
        "editable": false,
        "id": "da1a0bbc-a986-44de-9879-65040caaeb86",
        "nbgrader": {
          "cell_type": "markdown",
          "checksum": "535c54c6d975af42ec2170ad766a7ad1",
          "grade": false,
          "grade_id": "cell-aec62e842e112565",
          "locked": true,
          "schema_version": 3,
          "solution": false,
          "task": false
        }
      },
      "source": [
        "# 2. Pipeline\n",
        "\n",
        "Before we learn what the Pipeline does, we have to split our X and Y datasets in two:\n",
        "1. Training set: this subset is used to train the model. It usually makes up 80% of the data;\n",
        "2. Testing set: this subset is used to test the model to see how it performs. It usually makes up 20% of the data.\n",
        "\n",
        "This is done for the features and the targets separately. It's important that the test data is not used to train the model because it could lead to memorizing the data (aka 'overfitting').\n",
        "\n",
        "**Question 2.1.** First import sklearn's [train_test_split](https://scikit-learn.org/stable/modules/generated/sklearn.model_selection.train_test_split.html), then split the data into `X_train`, `X_test`. `Y_train`, and `Y_test` respectively. The parameter `test_size` sets the proportion of data for the testing subset (set to 0.2). The `random_state` parameter controls how much the data is shuffled before being split."
      ]
    },
    {
      "cell_type": "code",
      "execution_count": 99,
      "id": "27071f7f-1750-40a1-8780-df5a6df6ed7b",
      "metadata": {
        "deletable": false,
        "id": "27071f7f-1750-40a1-8780-df5a6df6ed7b",
        "nbgrader": {
          "cell_type": "code",
          "checksum": "e6a603581a5d9ca88dd1300461290373",
          "grade": true,
          "grade_id": "cell-cb98b994e6a03db1",
          "locked": false,
          "points": 10,
          "schema_version": 3,
          "solution": true,
          "task": false
        }
      },
      "outputs": [],
      "source": [
        "# YOUR CODE HERE\n",
        "from sklearn.model_selection import train_test_split\n",
        "\n",
        "# Split the data into training and testing sets\n",
        "X_train, X_test, Y_train, Y_test = train_test_split(X, Y, test_size=0.2, random_state=32)\n",
        "\n"
      ]
    },
    {
      "cell_type": "markdown",
      "id": "1866035d-9a12-472a-9d20-b83c21a0f97a",
      "metadata": {
        "deletable": false,
        "editable": false,
        "id": "1866035d-9a12-472a-9d20-b83c21a0f97a",
        "nbgrader": {
          "cell_type": "markdown",
          "checksum": "97a4a19b2f1fb88385e7e959688c035c",
          "grade": false,
          "grade_id": "cell-3422c6248633c290",
          "locked": true,
          "schema_version": 3,
          "solution": false,
          "task": false
        }
      },
      "source": [
        "The purpose of using the [Pipeline](https://scikit-learn.org/stable/modules/generated/sklearn.pipeline.Pipeline.html) function is to chain multiple steps into a single object. For this lab, we're going to go through two steps in our pipeline:\n",
        "1. **Standard Scalar**: this standardizes the features by removing the mean and scaling to a standard deviation of one;\n",
        "2. **Logistic Regression**: this fits a logistic regression model to the data.\n",
        "\n",
        "**Question 2.2.** Import the appropriate functions for the pipeline, logistic regression, and standard scalar. Next, use the pipeline function to assemble the steps 'scalar' and 'classifier'. For the function `LogisticRegression`, set the parameter `max_iter` to 200. Assign your answer to `pipeline`."
      ]
    },
    {
      "cell_type": "code",
      "execution_count": 100,
      "id": "e5d5ed0d-18bd-4ef3-8b2e-07dd5e1cbf13",
      "metadata": {
        "deletable": false,
        "id": "e5d5ed0d-18bd-4ef3-8b2e-07dd5e1cbf13",
        "nbgrader": {
          "cell_type": "code",
          "checksum": "e1cff80336114126e78e929aa6b7269a",
          "grade": true,
          "grade_id": "cell-b521e8fae359af30",
          "locked": false,
          "points": 15,
          "schema_version": 3,
          "solution": true,
          "task": false
        }
      },
      "outputs": [],
      "source": [
        "# YOUR CODE HERE\n",
        "from sklearn.pipeline import Pipeline\n",
        "from sklearn.preprocessing import StandardScaler\n",
        "from sklearn.linear_model import LogisticRegression\n",
        "\n",
        "# Create the pipeline\n",
        "pipeline = Pipeline([\n",
        "    ('scaler', StandardScaler()), \n",
        "    ('classifier', LogisticRegression(max_iter=200))])\n",
        "\n"
      ]
    },
    {
      "cell_type": "markdown",
      "id": "0ecdf91b-bbdd-49d9-88f9-0146995c4fb0",
      "metadata": {
        "deletable": false,
        "editable": false,
        "id": "0ecdf91b-bbdd-49d9-88f9-0146995c4fb0",
        "nbgrader": {
          "cell_type": "markdown",
          "checksum": "6b8b21f6fbd999f7caaec3d9c2088b46",
          "grade": false,
          "grade_id": "cell-2ecb6b31c0e38295",
          "locked": true,
          "schema_version": 3,
          "solution": false,
          "task": false
        }
      },
      "source": [
        "**Question 2.3.** Now, use the `.fit` method to fit the training data to our pipeline. The output will be a diagram that shows each step our pipeline takes to transform and fit the data to the logistic regression model. Click on the steps to expand them."
      ]
    },
    {
      "cell_type": "code",
      "execution_count": 101,
      "id": "7e4ac9f0-a7ca-4469-bfa6-9652573ce8a4",
      "metadata": {
        "deletable": false,
        "id": "7e4ac9f0-a7ca-4469-bfa6-9652573ce8a4",
        "nbgrader": {
          "cell_type": "code",
          "checksum": "567e40045262b2cf77eab08b630ca939",
          "grade": true,
          "grade_id": "cell-71881d8cdf4fbfd3",
          "locked": false,
          "points": 5,
          "schema_version": 3,
          "solution": true,
          "task": false
        }
      },
      "outputs": [
        {
          "data": {
            "text/html": [
              "<style>#sk-container-id-4 {\n",
              "  /* Definition of color scheme common for light and dark mode */\n",
              "  --sklearn-color-text: #000;\n",
              "  --sklearn-color-text-muted: #666;\n",
              "  --sklearn-color-line: gray;\n",
              "  /* Definition of color scheme for unfitted estimators */\n",
              "  --sklearn-color-unfitted-level-0: #fff5e6;\n",
              "  --sklearn-color-unfitted-level-1: #f6e4d2;\n",
              "  --sklearn-color-unfitted-level-2: #ffe0b3;\n",
              "  --sklearn-color-unfitted-level-3: chocolate;\n",
              "  /* Definition of color scheme for fitted estimators */\n",
              "  --sklearn-color-fitted-level-0: #f0f8ff;\n",
              "  --sklearn-color-fitted-level-1: #d4ebff;\n",
              "  --sklearn-color-fitted-level-2: #b3dbfd;\n",
              "  --sklearn-color-fitted-level-3: cornflowerblue;\n",
              "\n",
              "  /* Specific color for light theme */\n",
              "  --sklearn-color-text-on-default-background: var(--sg-text-color, var(--theme-code-foreground, var(--jp-content-font-color1, black)));\n",
              "  --sklearn-color-background: var(--sg-background-color, var(--theme-background, var(--jp-layout-color0, white)));\n",
              "  --sklearn-color-border-box: var(--sg-text-color, var(--theme-code-foreground, var(--jp-content-font-color1, black)));\n",
              "  --sklearn-color-icon: #696969;\n",
              "\n",
              "  @media (prefers-color-scheme: dark) {\n",
              "    /* Redefinition of color scheme for dark theme */\n",
              "    --sklearn-color-text-on-default-background: var(--sg-text-color, var(--theme-code-foreground, var(--jp-content-font-color1, white)));\n",
              "    --sklearn-color-background: var(--sg-background-color, var(--theme-background, var(--jp-layout-color0, #111)));\n",
              "    --sklearn-color-border-box: var(--sg-text-color, var(--theme-code-foreground, var(--jp-content-font-color1, white)));\n",
              "    --sklearn-color-icon: #878787;\n",
              "  }\n",
              "}\n",
              "\n",
              "#sk-container-id-4 {\n",
              "  color: var(--sklearn-color-text);\n",
              "}\n",
              "\n",
              "#sk-container-id-4 pre {\n",
              "  padding: 0;\n",
              "}\n",
              "\n",
              "#sk-container-id-4 input.sk-hidden--visually {\n",
              "  border: 0;\n",
              "  clip: rect(1px 1px 1px 1px);\n",
              "  clip: rect(1px, 1px, 1px, 1px);\n",
              "  height: 1px;\n",
              "  margin: -1px;\n",
              "  overflow: hidden;\n",
              "  padding: 0;\n",
              "  position: absolute;\n",
              "  width: 1px;\n",
              "}\n",
              "\n",
              "#sk-container-id-4 div.sk-dashed-wrapped {\n",
              "  border: 1px dashed var(--sklearn-color-line);\n",
              "  margin: 0 0.4em 0.5em 0.4em;\n",
              "  box-sizing: border-box;\n",
              "  padding-bottom: 0.4em;\n",
              "  background-color: var(--sklearn-color-background);\n",
              "}\n",
              "\n",
              "#sk-container-id-4 div.sk-container {\n",
              "  /* jupyter's `normalize.less` sets `[hidden] { display: none; }`\n",
              "     but bootstrap.min.css set `[hidden] { display: none !important; }`\n",
              "     so we also need the `!important` here to be able to override the\n",
              "     default hidden behavior on the sphinx rendered scikit-learn.org.\n",
              "     See: https://github.com/scikit-learn/scikit-learn/issues/21755 */\n",
              "  display: inline-block !important;\n",
              "  position: relative;\n",
              "}\n",
              "\n",
              "#sk-container-id-4 div.sk-text-repr-fallback {\n",
              "  display: none;\n",
              "}\n",
              "\n",
              "div.sk-parallel-item,\n",
              "div.sk-serial,\n",
              "div.sk-item {\n",
              "  /* draw centered vertical line to link estimators */\n",
              "  background-image: linear-gradient(var(--sklearn-color-text-on-default-background), var(--sklearn-color-text-on-default-background));\n",
              "  background-size: 2px 100%;\n",
              "  background-repeat: no-repeat;\n",
              "  background-position: center center;\n",
              "}\n",
              "\n",
              "/* Parallel-specific style estimator block */\n",
              "\n",
              "#sk-container-id-4 div.sk-parallel-item::after {\n",
              "  content: \"\";\n",
              "  width: 100%;\n",
              "  border-bottom: 2px solid var(--sklearn-color-text-on-default-background);\n",
              "  flex-grow: 1;\n",
              "}\n",
              "\n",
              "#sk-container-id-4 div.sk-parallel {\n",
              "  display: flex;\n",
              "  align-items: stretch;\n",
              "  justify-content: center;\n",
              "  background-color: var(--sklearn-color-background);\n",
              "  position: relative;\n",
              "}\n",
              "\n",
              "#sk-container-id-4 div.sk-parallel-item {\n",
              "  display: flex;\n",
              "  flex-direction: column;\n",
              "}\n",
              "\n",
              "#sk-container-id-4 div.sk-parallel-item:first-child::after {\n",
              "  align-self: flex-end;\n",
              "  width: 50%;\n",
              "}\n",
              "\n",
              "#sk-container-id-4 div.sk-parallel-item:last-child::after {\n",
              "  align-self: flex-start;\n",
              "  width: 50%;\n",
              "}\n",
              "\n",
              "#sk-container-id-4 div.sk-parallel-item:only-child::after {\n",
              "  width: 0;\n",
              "}\n",
              "\n",
              "/* Serial-specific style estimator block */\n",
              "\n",
              "#sk-container-id-4 div.sk-serial {\n",
              "  display: flex;\n",
              "  flex-direction: column;\n",
              "  align-items: center;\n",
              "  background-color: var(--sklearn-color-background);\n",
              "  padding-right: 1em;\n",
              "  padding-left: 1em;\n",
              "}\n",
              "\n",
              "\n",
              "/* Toggleable style: style used for estimator/Pipeline/ColumnTransformer box that is\n",
              "clickable and can be expanded/collapsed.\n",
              "- Pipeline and ColumnTransformer use this feature and define the default style\n",
              "- Estimators will overwrite some part of the style using the `sk-estimator` class\n",
              "*/\n",
              "\n",
              "/* Pipeline and ColumnTransformer style (default) */\n",
              "\n",
              "#sk-container-id-4 div.sk-toggleable {\n",
              "  /* Default theme specific background. It is overwritten whether we have a\n",
              "  specific estimator or a Pipeline/ColumnTransformer */\n",
              "  background-color: var(--sklearn-color-background);\n",
              "}\n",
              "\n",
              "/* Toggleable label */\n",
              "#sk-container-id-4 label.sk-toggleable__label {\n",
              "  cursor: pointer;\n",
              "  display: flex;\n",
              "  width: 100%;\n",
              "  margin-bottom: 0;\n",
              "  padding: 0.5em;\n",
              "  box-sizing: border-box;\n",
              "  text-align: center;\n",
              "  align-items: start;\n",
              "  justify-content: space-between;\n",
              "  gap: 0.5em;\n",
              "}\n",
              "\n",
              "#sk-container-id-4 label.sk-toggleable__label .caption {\n",
              "  font-size: 0.6rem;\n",
              "  font-weight: lighter;\n",
              "  color: var(--sklearn-color-text-muted);\n",
              "}\n",
              "\n",
              "#sk-container-id-4 label.sk-toggleable__label-arrow:before {\n",
              "  /* Arrow on the left of the label */\n",
              "  content: \"▸\";\n",
              "  float: left;\n",
              "  margin-right: 0.25em;\n",
              "  color: var(--sklearn-color-icon);\n",
              "}\n",
              "\n",
              "#sk-container-id-4 label.sk-toggleable__label-arrow:hover:before {\n",
              "  color: var(--sklearn-color-text);\n",
              "}\n",
              "\n",
              "/* Toggleable content - dropdown */\n",
              "\n",
              "#sk-container-id-4 div.sk-toggleable__content {\n",
              "  max-height: 0;\n",
              "  max-width: 0;\n",
              "  overflow: hidden;\n",
              "  text-align: left;\n",
              "  /* unfitted */\n",
              "  background-color: var(--sklearn-color-unfitted-level-0);\n",
              "}\n",
              "\n",
              "#sk-container-id-4 div.sk-toggleable__content.fitted {\n",
              "  /* fitted */\n",
              "  background-color: var(--sklearn-color-fitted-level-0);\n",
              "}\n",
              "\n",
              "#sk-container-id-4 div.sk-toggleable__content pre {\n",
              "  margin: 0.2em;\n",
              "  border-radius: 0.25em;\n",
              "  color: var(--sklearn-color-text);\n",
              "  /* unfitted */\n",
              "  background-color: var(--sklearn-color-unfitted-level-0);\n",
              "}\n",
              "\n",
              "#sk-container-id-4 div.sk-toggleable__content.fitted pre {\n",
              "  /* unfitted */\n",
              "  background-color: var(--sklearn-color-fitted-level-0);\n",
              "}\n",
              "\n",
              "#sk-container-id-4 input.sk-toggleable__control:checked~div.sk-toggleable__content {\n",
              "  /* Expand drop-down */\n",
              "  max-height: 200px;\n",
              "  max-width: 100%;\n",
              "  overflow: auto;\n",
              "}\n",
              "\n",
              "#sk-container-id-4 input.sk-toggleable__control:checked~label.sk-toggleable__label-arrow:before {\n",
              "  content: \"▾\";\n",
              "}\n",
              "\n",
              "/* Pipeline/ColumnTransformer-specific style */\n",
              "\n",
              "#sk-container-id-4 div.sk-label input.sk-toggleable__control:checked~label.sk-toggleable__label {\n",
              "  color: var(--sklearn-color-text);\n",
              "  background-color: var(--sklearn-color-unfitted-level-2);\n",
              "}\n",
              "\n",
              "#sk-container-id-4 div.sk-label.fitted input.sk-toggleable__control:checked~label.sk-toggleable__label {\n",
              "  background-color: var(--sklearn-color-fitted-level-2);\n",
              "}\n",
              "\n",
              "/* Estimator-specific style */\n",
              "\n",
              "/* Colorize estimator box */\n",
              "#sk-container-id-4 div.sk-estimator input.sk-toggleable__control:checked~label.sk-toggleable__label {\n",
              "  /* unfitted */\n",
              "  background-color: var(--sklearn-color-unfitted-level-2);\n",
              "}\n",
              "\n",
              "#sk-container-id-4 div.sk-estimator.fitted input.sk-toggleable__control:checked~label.sk-toggleable__label {\n",
              "  /* fitted */\n",
              "  background-color: var(--sklearn-color-fitted-level-2);\n",
              "}\n",
              "\n",
              "#sk-container-id-4 div.sk-label label.sk-toggleable__label,\n",
              "#sk-container-id-4 div.sk-label label {\n",
              "  /* The background is the default theme color */\n",
              "  color: var(--sklearn-color-text-on-default-background);\n",
              "}\n",
              "\n",
              "/* On hover, darken the color of the background */\n",
              "#sk-container-id-4 div.sk-label:hover label.sk-toggleable__label {\n",
              "  color: var(--sklearn-color-text);\n",
              "  background-color: var(--sklearn-color-unfitted-level-2);\n",
              "}\n",
              "\n",
              "/* Label box, darken color on hover, fitted */\n",
              "#sk-container-id-4 div.sk-label.fitted:hover label.sk-toggleable__label.fitted {\n",
              "  color: var(--sklearn-color-text);\n",
              "  background-color: var(--sklearn-color-fitted-level-2);\n",
              "}\n",
              "\n",
              "/* Estimator label */\n",
              "\n",
              "#sk-container-id-4 div.sk-label label {\n",
              "  font-family: monospace;\n",
              "  font-weight: bold;\n",
              "  display: inline-block;\n",
              "  line-height: 1.2em;\n",
              "}\n",
              "\n",
              "#sk-container-id-4 div.sk-label-container {\n",
              "  text-align: center;\n",
              "}\n",
              "\n",
              "/* Estimator-specific */\n",
              "#sk-container-id-4 div.sk-estimator {\n",
              "  font-family: monospace;\n",
              "  border: 1px dotted var(--sklearn-color-border-box);\n",
              "  border-radius: 0.25em;\n",
              "  box-sizing: border-box;\n",
              "  margin-bottom: 0.5em;\n",
              "  /* unfitted */\n",
              "  background-color: var(--sklearn-color-unfitted-level-0);\n",
              "}\n",
              "\n",
              "#sk-container-id-4 div.sk-estimator.fitted {\n",
              "  /* fitted */\n",
              "  background-color: var(--sklearn-color-fitted-level-0);\n",
              "}\n",
              "\n",
              "/* on hover */\n",
              "#sk-container-id-4 div.sk-estimator:hover {\n",
              "  /* unfitted */\n",
              "  background-color: var(--sklearn-color-unfitted-level-2);\n",
              "}\n",
              "\n",
              "#sk-container-id-4 div.sk-estimator.fitted:hover {\n",
              "  /* fitted */\n",
              "  background-color: var(--sklearn-color-fitted-level-2);\n",
              "}\n",
              "\n",
              "/* Specification for estimator info (e.g. \"i\" and \"?\") */\n",
              "\n",
              "/* Common style for \"i\" and \"?\" */\n",
              "\n",
              ".sk-estimator-doc-link,\n",
              "a:link.sk-estimator-doc-link,\n",
              "a:visited.sk-estimator-doc-link {\n",
              "  float: right;\n",
              "  font-size: smaller;\n",
              "  line-height: 1em;\n",
              "  font-family: monospace;\n",
              "  background-color: var(--sklearn-color-background);\n",
              "  border-radius: 1em;\n",
              "  height: 1em;\n",
              "  width: 1em;\n",
              "  text-decoration: none !important;\n",
              "  margin-left: 0.5em;\n",
              "  text-align: center;\n",
              "  /* unfitted */\n",
              "  border: var(--sklearn-color-unfitted-level-1) 1pt solid;\n",
              "  color: var(--sklearn-color-unfitted-level-1);\n",
              "}\n",
              "\n",
              ".sk-estimator-doc-link.fitted,\n",
              "a:link.sk-estimator-doc-link.fitted,\n",
              "a:visited.sk-estimator-doc-link.fitted {\n",
              "  /* fitted */\n",
              "  border: var(--sklearn-color-fitted-level-1) 1pt solid;\n",
              "  color: var(--sklearn-color-fitted-level-1);\n",
              "}\n",
              "\n",
              "/* On hover */\n",
              "div.sk-estimator:hover .sk-estimator-doc-link:hover,\n",
              ".sk-estimator-doc-link:hover,\n",
              "div.sk-label-container:hover .sk-estimator-doc-link:hover,\n",
              ".sk-estimator-doc-link:hover {\n",
              "  /* unfitted */\n",
              "  background-color: var(--sklearn-color-unfitted-level-3);\n",
              "  color: var(--sklearn-color-background);\n",
              "  text-decoration: none;\n",
              "}\n",
              "\n",
              "div.sk-estimator.fitted:hover .sk-estimator-doc-link.fitted:hover,\n",
              ".sk-estimator-doc-link.fitted:hover,\n",
              "div.sk-label-container:hover .sk-estimator-doc-link.fitted:hover,\n",
              ".sk-estimator-doc-link.fitted:hover {\n",
              "  /* fitted */\n",
              "  background-color: var(--sklearn-color-fitted-level-3);\n",
              "  color: var(--sklearn-color-background);\n",
              "  text-decoration: none;\n",
              "}\n",
              "\n",
              "/* Span, style for the box shown on hovering the info icon */\n",
              ".sk-estimator-doc-link span {\n",
              "  display: none;\n",
              "  z-index: 9999;\n",
              "  position: relative;\n",
              "  font-weight: normal;\n",
              "  right: .2ex;\n",
              "  padding: .5ex;\n",
              "  margin: .5ex;\n",
              "  width: min-content;\n",
              "  min-width: 20ex;\n",
              "  max-width: 50ex;\n",
              "  color: var(--sklearn-color-text);\n",
              "  box-shadow: 2pt 2pt 4pt #999;\n",
              "  /* unfitted */\n",
              "  background: var(--sklearn-color-unfitted-level-0);\n",
              "  border: .5pt solid var(--sklearn-color-unfitted-level-3);\n",
              "}\n",
              "\n",
              ".sk-estimator-doc-link.fitted span {\n",
              "  /* fitted */\n",
              "  background: var(--sklearn-color-fitted-level-0);\n",
              "  border: var(--sklearn-color-fitted-level-3);\n",
              "}\n",
              "\n",
              ".sk-estimator-doc-link:hover span {\n",
              "  display: block;\n",
              "}\n",
              "\n",
              "/* \"?\"-specific style due to the `<a>` HTML tag */\n",
              "\n",
              "#sk-container-id-4 a.estimator_doc_link {\n",
              "  float: right;\n",
              "  font-size: 1rem;\n",
              "  line-height: 1em;\n",
              "  font-family: monospace;\n",
              "  background-color: var(--sklearn-color-background);\n",
              "  border-radius: 1rem;\n",
              "  height: 1rem;\n",
              "  width: 1rem;\n",
              "  text-decoration: none;\n",
              "  /* unfitted */\n",
              "  color: var(--sklearn-color-unfitted-level-1);\n",
              "  border: var(--sklearn-color-unfitted-level-1) 1pt solid;\n",
              "}\n",
              "\n",
              "#sk-container-id-4 a.estimator_doc_link.fitted {\n",
              "  /* fitted */\n",
              "  border: var(--sklearn-color-fitted-level-1) 1pt solid;\n",
              "  color: var(--sklearn-color-fitted-level-1);\n",
              "}\n",
              "\n",
              "/* On hover */\n",
              "#sk-container-id-4 a.estimator_doc_link:hover {\n",
              "  /* unfitted */\n",
              "  background-color: var(--sklearn-color-unfitted-level-3);\n",
              "  color: var(--sklearn-color-background);\n",
              "  text-decoration: none;\n",
              "}\n",
              "\n",
              "#sk-container-id-4 a.estimator_doc_link.fitted:hover {\n",
              "  /* fitted */\n",
              "  background-color: var(--sklearn-color-fitted-level-3);\n",
              "}\n",
              "</style><div id=\"sk-container-id-4\" class=\"sk-top-container\"><div class=\"sk-text-repr-fallback\"><pre>Pipeline(steps=[(&#x27;scaler&#x27;, StandardScaler()),\n",
              "                (&#x27;classifier&#x27;, LogisticRegression(max_iter=200))])</pre><b>In a Jupyter environment, please rerun this cell to show the HTML representation or trust the notebook. <br />On GitHub, the HTML representation is unable to render, please try loading this page with nbviewer.org.</b></div><div class=\"sk-container\" hidden><div class=\"sk-item sk-dashed-wrapped\"><div class=\"sk-label-container\"><div class=\"sk-label fitted sk-toggleable\"><input class=\"sk-toggleable__control sk-hidden--visually\" id=\"sk-estimator-id-10\" type=\"checkbox\" ><label for=\"sk-estimator-id-10\" class=\"sk-toggleable__label fitted sk-toggleable__label-arrow\"><div><div>Pipeline</div></div><div><a class=\"sk-estimator-doc-link fitted\" rel=\"noreferrer\" target=\"_blank\" href=\"https://scikit-learn.org/1.6/modules/generated/sklearn.pipeline.Pipeline.html\">?<span>Documentation for Pipeline</span></a><span class=\"sk-estimator-doc-link fitted\">i<span>Fitted</span></span></div></label><div class=\"sk-toggleable__content fitted\"><pre>Pipeline(steps=[(&#x27;scaler&#x27;, StandardScaler()),\n",
              "                (&#x27;classifier&#x27;, LogisticRegression(max_iter=200))])</pre></div> </div></div><div class=\"sk-serial\"><div class=\"sk-item\"><div class=\"sk-estimator fitted sk-toggleable\"><input class=\"sk-toggleable__control sk-hidden--visually\" id=\"sk-estimator-id-11\" type=\"checkbox\" ><label for=\"sk-estimator-id-11\" class=\"sk-toggleable__label fitted sk-toggleable__label-arrow\"><div><div>StandardScaler</div></div><div><a class=\"sk-estimator-doc-link fitted\" rel=\"noreferrer\" target=\"_blank\" href=\"https://scikit-learn.org/1.6/modules/generated/sklearn.preprocessing.StandardScaler.html\">?<span>Documentation for StandardScaler</span></a></div></label><div class=\"sk-toggleable__content fitted\"><pre>StandardScaler()</pre></div> </div></div><div class=\"sk-item\"><div class=\"sk-estimator fitted sk-toggleable\"><input class=\"sk-toggleable__control sk-hidden--visually\" id=\"sk-estimator-id-12\" type=\"checkbox\" ><label for=\"sk-estimator-id-12\" class=\"sk-toggleable__label fitted sk-toggleable__label-arrow\"><div><div>LogisticRegression</div></div><div><a class=\"sk-estimator-doc-link fitted\" rel=\"noreferrer\" target=\"_blank\" href=\"https://scikit-learn.org/1.6/modules/generated/sklearn.linear_model.LogisticRegression.html\">?<span>Documentation for LogisticRegression</span></a></div></label><div class=\"sk-toggleable__content fitted\"><pre>LogisticRegression(max_iter=200)</pre></div> </div></div></div></div></div></div>"
            ],
            "text/plain": [
              "Pipeline(steps=[('scaler', StandardScaler()),\n",
              "                ('classifier', LogisticRegression(max_iter=200))])"
            ]
          },
          "execution_count": 101,
          "metadata": {},
          "output_type": "execute_result"
        }
      ],
      "source": [
        "# YOUR CODE HERE\n",
        "pipeline.fit(X_train, Y_train)\n"
      ]
    },
    {
      "cell_type": "markdown",
      "id": "6e690034-4bb1-4cc7-953f-ca32b0dd50ae",
      "metadata": {
        "deletable": false,
        "editable": false,
        "id": "6e690034-4bb1-4cc7-953f-ca32b0dd50ae",
        "nbgrader": {
          "cell_type": "markdown",
          "checksum": "4ea56e2c2034b1d62d729d9e886ec1a5",
          "grade": false,
          "grade_id": "cell-b3a73f00ccae7045",
          "locked": true,
          "schema_version": 3,
          "solution": false,
          "task": false
        }
      },
      "source": [
        "# 3. Predicting and Assessing\n",
        "\n",
        "Now that we have our pipeline, we can start making predictions on our iris data.\n",
        "\n",
        "**Question 3.1.** Use the `.predict` method to make predictions and assign your answer to `Y_pred`. Make sure you use the right feature subset (training vs. testing)!"
      ]
    },
    {
      "cell_type": "code",
      "execution_count": 102,
      "id": "66f1dc5f-2517-4516-956d-c26a353a633b",
      "metadata": {
        "deletable": false,
        "id": "66f1dc5f-2517-4516-956d-c26a353a633b",
        "nbgrader": {
          "cell_type": "code",
          "checksum": "c0900a530d400be927d06ebe6c99289c",
          "grade": true,
          "grade_id": "cell-9153f96c4e41e37f",
          "locked": false,
          "points": 5,
          "schema_version": 3,
          "solution": true,
          "task": false
        }
      },
      "outputs": [
        {
          "name": "stdout",
          "output_type": "stream",
          "text": [
            "     SepalLengthCm  SepalWidthCm  PetalLengthCm  PetalWidthCm\n",
            "55             5.7           2.8            4.5           1.3\n",
            "22             4.6           3.6            1.0           0.2\n",
            "26             5.0           3.4            1.6           0.4\n",
            "56             6.3           3.3            4.7           1.6\n",
            "134            6.1           2.6            5.6           1.4\n",
            "131            7.9           3.8            6.4           2.0\n",
            "23             5.1           3.3            1.7           0.5\n",
            "34             4.9           3.1            1.5           0.1\n",
            "85             6.0           3.4            4.5           1.6\n",
            "21             5.1           3.7            1.5           0.4\n",
            "76             6.8           2.8            4.8           1.4\n",
            "115            6.4           3.2            5.3           2.3\n",
            "60             5.0           2.0            3.5           1.0\n",
            "67             5.8           2.7            4.1           1.0\n",
            "147            6.5           3.0            5.2           2.0\n",
            "113            5.7           2.5            5.0           2.0\n",
            "66             5.6           3.0            4.5           1.5\n",
            "123            6.3           2.7            4.9           1.8\n",
            "69             5.6           2.5            3.9           1.1\n",
            "10             5.4           3.7            1.5           0.2\n",
            "44             5.1           3.8            1.9           0.4\n",
            "107            7.3           2.9            6.3           1.8\n",
            "138            6.0           3.0            4.8           1.8\n",
            "12             4.8           3.0            1.4           0.1\n",
            "13             4.3           3.0            1.1           0.1\n",
            "95             5.7           3.0            4.2           1.2\n",
            "16             5.4           3.9            1.3           0.4\n",
            "140            6.7           3.1            5.6           2.4\n",
            "27             5.2           3.5            1.5           0.2\n",
            "39             5.1           3.4            1.5           0.2\n",
            "\n",
            "Y_pred:  [1 0 0 1 1 2 0 0 1 0 1 2 1 1 2 2 1 2 1 0 0 2 2 0 0 1 0 2 0 0]\n"
          ]
        }
      ],
      "source": [
        "# YOUR CODE HERE\n",
        "Y_pred = pipeline.predict(X_test)\n",
        "print(X_test)\n",
        "print(\"\\nY_pred: \", Y_pred)"
      ]
    },
    {
      "cell_type": "markdown",
      "id": "ca470663-784e-4ac2-ba83-f6646058c23e",
      "metadata": {
        "deletable": false,
        "editable": false,
        "id": "ca470663-784e-4ac2-ba83-f6646058c23e",
        "nbgrader": {
          "cell_type": "markdown",
          "checksum": "ae8e806540aec0f1b1b0e123b92a485e",
          "grade": false,
          "grade_id": "cell-5402e5054b631f02",
          "locked": true,
          "schema_version": 3,
          "solution": false,
          "task": false
        }
      },
      "source": [
        "We print the X_test subset and Y_pred to better understand what's going on. X_test contains 30 random flowers and their metrics. Y_pred is an array of 30 predictions where 0 denotes setosa, 1 denotes versicolor, and 2 denotes verginica.\n",
        "\n",
        "Now let's assess the performance of our predictor. The first tool that we can use is the [confusion matrix](https://scikit-learn.org/stable/modules/generated/sklearn.metrics.confusion_matrix.html) to get the true positive, true negative, false positive, and false negative of our predictor.\n",
        "\n",
        "**Question 3.2.** Import the confusion matrix function from `sklearn` and test the predictions made above. Assign your answer to `conf_matrix`."
      ]
    },
    {
      "cell_type": "code",
      "execution_count": 103,
      "id": "c265f724-d7e8-4273-9201-e5d1d1e477bb",
      "metadata": {
        "deletable": false,
        "id": "c265f724-d7e8-4273-9201-e5d1d1e477bb",
        "nbgrader": {
          "cell_type": "code",
          "checksum": "eb1ada817f38f04e4c0b195c68373670",
          "grade": true,
          "grade_id": "cell-c853d9f8a1e33def",
          "locked": false,
          "points": 6,
          "schema_version": 3,
          "solution": true,
          "task": false
        }
      },
      "outputs": [
        {
          "name": "stdout",
          "output_type": "stream",
          "text": [
            "Confusion Matrix:\n",
            " [[12  0  0]\n",
            " [ 0  9  0]\n",
            " [ 0  1  8]]\n"
          ]
        }
      ],
      "source": [
        "# YOUR CODE HERE\n",
        "from sklearn.metrics import confusion_matrix\n",
        "\n",
        "# Calculate the confusion matrix\n",
        "conf_matrix = confusion_matrix(Y_test, Y_pred)\n",
        "\n",
        "print(\"Confusion Matrix:\\n\", conf_matrix)"
      ]
    },
    {
      "cell_type": "markdown",
      "id": "15b603aa-5736-4a63-a9dc-492643ff624f",
      "metadata": {
        "deletable": false,
        "editable": false,
        "id": "15b603aa-5736-4a63-a9dc-492643ff624f",
        "nbgrader": {
          "cell_type": "markdown",
          "checksum": "8f4cf1e7adbeee951e77a891e726f63c",
          "grade": false,
          "grade_id": "cell-fe1ba56299262990",
          "locked": true,
          "schema_version": 3,
          "solution": false,
          "task": false
        }
      },
      "source": [
        "Now, run the cell below to better visualize the confusion matrix:"
      ]
    },
    {
      "cell_type": "code",
      "execution_count": 104,
      "id": "cd561745-610e-43c5-a7e1-75620c3a5867",
      "metadata": {
        "deletable": false,
        "editable": false,
        "id": "cd561745-610e-43c5-a7e1-75620c3a5867",
        "nbgrader": {
          "cell_type": "code",
          "checksum": "290cccb20819245176cec58f56da60d7",
          "grade": false,
          "grade_id": "cell-2c1bbf2d953c2b70",
          "locked": true,
          "schema_version": 3,
          "solution": false,
          "task": false
        }
      },
      "outputs": [
        {
          "data": {
            "image/png": "[encoded data removed]",
            "text/plain": [
              "<Figure size 800x600 with 2 Axes>"
            ]
          },
          "metadata": {},
          "output_type": "display_data"
        }
      ],
      "source": [
        "# Plot the confusion matrix\n",
        "plt.figure(figsize=(8, 6))\n",
        "sns.heatmap(conf_matrix, annot=True, fmt='d', cmap='Blues', xticklabels=encoder.classes_, yticklabels=encoder.classes_)\n",
        "plt.xlabel('Predicted')\n",
        "plt.ylabel('Actual')\n",
        "plt.title('Confusion Matrix')\n",
        "plt.show()"
      ]
    },
    {
      "cell_type": "markdown",
      "id": "2fedc8b6-4b9e-4e6b-9148-fe092cb36b9e",
      "metadata": {
        "deletable": false,
        "editable": false,
        "id": "2fedc8b6-4b9e-4e6b-9148-fe092cb36b9e",
        "nbgrader": {
          "cell_type": "markdown",
          "checksum": "f55a895c98fd5a4e0469800f7d3e874e",
          "grade": false,
          "grade_id": "cell-460c496f22f791a8",
          "locked": true,
          "schema_version": 3,
          "solution": false,
          "task": false
        }
      },
      "source": [
        "`sklearn` provides a function called [classification report](https://scikit-learn.org/stable/modules/generated/sklearn.metrics.classification_report.html), which calculates the precision, recall, F1-score, and support of a predictor. The support is how many samples there are in each class.\n",
        "\n",
        "**Question 3.3.** Import the classification report from `sklearn` and use it to assess the performance of your predictions. Assign your answer to `class_report`."
      ]
    },
    {
      "cell_type": "code",
      "execution_count": 105,
      "id": "e9cbf0fe-79e1-488b-9010-e02ec28dc81c",
      "metadata": {
        "deletable": false,
        "id": "e9cbf0fe-79e1-488b-9010-e02ec28dc81c",
        "nbgrader": {
          "cell_type": "code",
          "checksum": "9a274e2f317f04783cd032a7036b2532",
          "grade": true,
          "grade_id": "cell-2e5e790cb2cbd8be",
          "locked": false,
          "points": 8,
          "schema_version": 3,
          "solution": true,
          "task": false
        }
      },
      "outputs": [
        {
          "name": "stdout",
          "output_type": "stream",
          "text": [
            "\n",
            "Classification Report:\n",
            "               precision    recall  f1-score   support\n",
            "\n",
            "           0       1.00      1.00      1.00        12\n",
            "           1       0.90      1.00      0.95         9\n",
            "           2       1.00      0.89      0.94         9\n",
            "\n",
            "    accuracy                           0.97        30\n",
            "   macro avg       0.97      0.96      0.96        30\n",
            "weighted avg       0.97      0.97      0.97        30\n",
            "\n"
          ]
        }
      ],
      "source": [
        "# YOUR CODE HERE\n",
        "from sklearn.metrics import classification_report\n",
        "class_report = classification_report(Y_test, Y_pred)\n",
        "\n",
        "print(\"\\nClassification Report:\\n\", class_report)"
      ]
    },
    {
      "cell_type": "markdown",
      "id": "4d9d331a-5726-47c2-b725-54e02a080a75",
      "metadata": {
        "deletable": false,
        "editable": false,
        "id": "4d9d331a-5726-47c2-b725-54e02a080a75",
        "nbgrader": {
          "cell_type": "markdown",
          "checksum": "7d2b6aaab14007f36aff78cd7355c5b1",
          "grade": false,
          "grade_id": "cell-07f743c66faaafba",
          "locked": true,
          "schema_version": 3,
          "solution": false,
          "task": false
        }
      },
      "source": [
        "**Question 3.4.** What is the precision, recall, and F1-score of each iris species? What does this tell us about the performance of the predictor?"
      ]
    },
    {
      "cell_type": "markdown",
      "id": "263d72ae-707a-4d2e-994a-663d2f07b948",
      "metadata": {
        "deletable": false,
        "id": "263d72ae-707a-4d2e-994a-663d2f07b948",
        "nbgrader": {
          "cell_type": "markdown",
          "checksum": "f9c43910221b32e7186602ccb096bf1f",
          "grade": true,
          "grade_id": "cell-0a779bad95e90247",
          "locked": false,
          "points": 6,
          "schema_version": 3,
          "solution": true,
          "task": false
        }
      },
      "source": [
        "YOUR ANSWER HERE\n",
        "\n",
        "The classification report reveals that for class 0, precision, recall, and F1-score all hit 1.00, showing flawless predictions for this category. For class 1, precision stands at 0.90, recall at 1.00, and F1-score at 0.95, suggesting some false positives but perfect capture of all true class 1 cases. For class 2, precision is 1.00, recall is 0.89, and F1-score is 0.94, indicating all predicted class 2 instances were accurate, though a few real class 2 samples were missed. Overall, the model shows a 97% accuracy, reflecting a good performance with just a few errors."
      ]
    },
    {
      "cell_type": "markdown",
      "id": "5360de4e-aa72-412c-b322-c588eec53490",
      "metadata": {
        "deletable": false,
        "editable": false,
        "id": "5360de4e-aa72-412c-b322-c588eec53490",
        "nbgrader": {
          "cell_type": "markdown",
          "checksum": "de81cef10afdb51082d84c611196a349",
          "grade": false,
          "grade_id": "cell-8629210e98202357",
          "locked": true,
          "schema_version": 3,
          "solution": false,
          "task": false
        }
      },
      "source": [
        "# Rubric\n",
        "\n",
        "| Question | Points|\n",
        "|----------|----------|\n",
        "| 1.1.    | 5   |\n",
        "| 1.2.    | 10   |\n",
        "| 1.3.    | 10   |\n",
        "| 2.1.    | 10   |\n",
        "| 2.2.    | 15   |\n",
        "| 2.3.    | 5   |\n",
        "| 3.1.    | 5   |\n",
        "| 3.2.    | 6   |\n",
        "| 3.3.    | 8   |\n",
        "| 3.4.    | 6   |\n",
        "| Total:    | 80   |"
      ]
    },
    {
      "cell_type": "markdown",
      "id": "8096f217-0b32-4ba9-a497-d5a7c2809514",
      "metadata": {
        "deletable": false,
        "editable": false,
        "id": "8096f217-0b32-4ba9-a497-d5a7c2809514",
        "nbgrader": {
          "cell_type": "markdown",
          "checksum": "4960ed274b200fe782628f0cebaf6b15",
          "grade": false,
          "grade_id": "cell-77ac85ec219d90b0",
          "locked": true,
          "schema_version": 3,
          "solution": false,
          "task": false
        }
      },
      "source": [
        "iris: https://www.kaggle.com/datasets/uciml/iris"
      ]
    }
  ],
  "metadata": {
    "colab": {
      "provenance": []
    },
    "kernelspec": {
      "display_name": "base",
      "language": "python",
      "name": "python3"
    },
    "language_info": {
      "codemirror_mode": {
        "name": "ipython",
        "version": 3
      },
      "file_extension": ".py",
      "mimetype": "text/x-python",
      "name": "python",
      "nbconvert_exporter": "python",
      "pygments_lexer": "ipython3",
      "version": "3.12.2"
    }
  },
  "nbformat": 4,
  "nbformat_minor": 5
}
