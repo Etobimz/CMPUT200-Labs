{
 "cells": [
  {
   "cell_type": "markdown",
   "metadata": {
    "deletable": false,
    "editable": false,
    "id": "ep00oJgxqd5g",
    "nbgrader": {
     "cell_type": "markdown",
     "checksum": "73b9d0f8353278a80406b009f66e792e",
     "grade": false,
     "grade_id": "cell-6b41e468dc7e0421",
     "locked": true,
     "schema_version": 3,
     "solution": false,
     "task": false
    }
   },
   "source": [
    "# Lab 5: Randomized Response"
   ]
  },
  {
   "cell_type": "markdown",
   "metadata": {
    "id": "TK8CmfOU6Vm6"
   },
   "source": [
    "***\n",
    "- **FIRST name**: Abimbola\n",
    "- **LAST name**: Olarinde\n",
    "- **Student ID**: 1880229\n",
    "\n",
    "Leave blank if individual:\n",
    "- **Collaborator names**:\n",
    "- **Collaborator student IDs**:\n",
    "***"
   ]
  },
  {
   "cell_type": "markdown",
   "metadata": {
    "deletable": false,
    "editable": false,
    "id": "WsHhIpKa6Vm7",
    "nbgrader": {
     "cell_type": "markdown",
     "checksum": "3acf44847f1178ff30929d6b86244037",
     "grade": false,
     "grade_id": "cell-06f4fcb5136b8276",
     "locked": true,
     "schema_version": 3,
     "solution": false,
     "task": false
    }
   },
   "source": [
    "In today's lab, you will learn:\n",
    "\n",
    "1. apply randomized response mechanisms;\n",
    "2. obtain the estimated count of true responses;\n",
    "3. apply biased randomized response mechanisms;\n",
    "4. calculate the relative error.\n",
    "\n",
    "For this lab, you'll need the dataset `adult.csv`."
   ]
  },
  {
   "cell_type": "markdown",
   "metadata": {
    "deletable": false,
    "editable": false,
    "id": "cncf0n6H6Vm8",
    "nbgrader": {
     "cell_type": "markdown",
     "checksum": "e28c5148a67089233aa17a29231223de",
     "grade": false,
     "grade_id": "cell-d4f157dd61916404",
     "locked": true,
     "schema_version": 3,
     "solution": false,
     "task": false
    }
   },
   "source": [
    "### Instructions\n",
    "\n",
    "- **Collaboration**: You must submit your own work. The collaboration policy for the labs is Consultation Collaboration. You may verbally discuss concepts with your classmates, without exchanging written text, code, or detailed advice. You must develop your own solution and submit your own work. All sources of information used including books, websites, students you talked to, must be cited in the submission. Please see the course FAQ document for details on this collaboration policy. We will adhere to current Faculty of Science guidelines on dealing with suspected cases of plagiarism.\n",
    "- **Software**: We highly recommend that students use Google Colab for completing labs and assignments. This is the software used by the TAs in the course, and we can guarantee that there will be no issues with incompatible environments or imports.\n",
    "- **Filling out the Notebook**: You must use this notebook to complete your lab. You will execute the questions in the notebook. The questions might ask for a short answer in text form or for you to write and execute a piece of code. Make sure you enter your answer in either case only in the cell provided.\n",
    "- **Important**:  Do not use a different cell, do not delete cells, and do not create a new cell. Creating new cells for your code is not compatible with the auto-grading system we are using and thus your assignment will not get grading properly and you will lose marks for that question. As a reminder you must remove the raise NotImplementedError() statements from each question when answering.\n",
    "- **Rules for Datasets**: Any datasets used in the lab cannot be imported from cloud storage, e.g google drive, and must be read from a file either on your local computer or uploaded to the google colab notebook. Importing from cloud storage will result in a zero.\n",
    "- **Submission Formatting**: When you are done, you will submit your work from the notebook. Make sure to save your notebook before running it, and then submit on Canvas the notebook file with your work completed. Name your file with your Student ID number, followed by an underscore and L plus the lab number (ex: 1234567_L5.ipynb). Failure to do so will result in your final score being reduced by 50%! Finally your name must be written at the top of the lab or assignment document."
   ]
  },
  {
   "cell_type": "code",
   "execution_count": 79,
   "metadata": {
    "deletable": false,
    "editable": false,
    "id": "ZfrPg4x30DDJ",
    "nbgrader": {
     "cell_type": "code",
     "checksum": "f4b494092d02880c593e24bb7c86c0d5",
     "grade": false,
     "grade_id": "cell-501d6bc74129f170",
     "locked": true,
     "schema_version": 3,
     "solution": false,
     "task": false
    }
   },
   "outputs": [],
   "source": [
    "# Don't change this cell; just run it.\n",
    "import numpy as np\n",
    "from numpy.random import default_rng\n",
    "rng = default_rng()\n",
    "import pandas as pd\n",
    "from scipy.optimize import minimize\n",
    "\n",
    "# These lines do some fancy plotting magic.\n",
    "import matplotlib\n",
    "# This is a magic function that renders the figure in the notebook, instead of displaying a dump of the figure object.\n",
    "%matplotlib inline\n",
    "import matplotlib.pyplot as plt\n",
    "plt.style.use('fivethirtyeight')\n",
    "import warnings\n",
    "warnings.simplefilter('ignore', FutureWarning)"
   ]
  },
  {
   "cell_type": "markdown",
   "metadata": {
    "deletable": false,
    "editable": false,
    "id": "YKsuY7G77YXl",
    "nbgrader": {
     "cell_type": "markdown",
     "checksum": "4bb0ade4b30f4376abca2899cf5ab951",
     "grade": false,
     "grade_id": "cell-980a5498aae3fbee",
     "locked": true,
     "schema_version": 3,
     "solution": false,
     "task": false
    }
   },
   "source": [
    "## Importing and Cleaning Data\n"
   ]
  },
  {
   "cell_type": "markdown",
   "metadata": {
    "deletable": false,
    "editable": false,
    "id": "GNCu-DbP6VnA",
    "nbgrader": {
     "cell_type": "markdown",
     "checksum": "a4028c55639c353021721aaa8c476d3e",
     "grade": false,
     "grade_id": "cell-b59031c822dfb51e",
     "locked": true,
     "schema_version": 3,
     "solution": false,
     "task": false
    }
   },
   "source": [
    "### Question 1\n",
    "Question 1.1. Load the dataset `adult.csv` into a pandas dataframe and drop the missing values."
   ]
  },
  {
   "cell_type": "code",
   "execution_count": 80,
   "metadata": {
    "deletable": false,
    "id": "B5Xeffoi6VnB",
    "nbgrader": {
     "cell_type": "code",
     "checksum": "53912b72b423c311c8484b113fc35593",
     "grade": false,
     "grade_id": "cell-5a358a72a019a009",
     "locked": false,
     "schema_version": 3,
     "solution": true,
     "task": false
    }
   },
   "outputs": [
    {
     "data": {
      "text/html": [
       "<div>\n",
       "<style scoped>\n",
       "    .dataframe tbody tr th:only-of-type {\n",
       "        vertical-align: middle;\n",
       "    }\n",
       "\n",
       "    .dataframe tbody tr th {\n",
       "        vertical-align: top;\n",
       "    }\n",
       "\n",
       "    .dataframe thead th {\n",
       "        text-align: right;\n",
       "    }\n",
       "</style>\n",
       "<table border=\"1\" class=\"dataframe\">\n",
       "  <thead>\n",
       "    <tr style=\"text-align: right;\">\n",
       "      <th></th>\n",
       "      <th>age</th>\n",
       "      <th>workclass</th>\n",
       "      <th>fnlwgt</th>\n",
       "      <th>education</th>\n",
       "      <th>education.num</th>\n",
       "      <th>marital.status</th>\n",
       "      <th>occupation</th>\n",
       "      <th>relationship</th>\n",
       "      <th>race</th>\n",
       "      <th>sex</th>\n",
       "      <th>capital.gain</th>\n",
       "      <th>capital.loss</th>\n",
       "      <th>hours.per.week</th>\n",
       "      <th>native.country</th>\n",
       "      <th>income</th>\n",
       "    </tr>\n",
       "  </thead>\n",
       "  <tbody>\n",
       "    <tr>\n",
       "      <th>0</th>\n",
       "      <td>90</td>\n",
       "      <td>?</td>\n",
       "      <td>77053</td>\n",
       "      <td>HS-grad</td>\n",
       "      <td>9</td>\n",
       "      <td>Widowed</td>\n",
       "      <td>?</td>\n",
       "      <td>Not-in-family</td>\n",
       "      <td>White</td>\n",
       "      <td>Female</td>\n",
       "      <td>0</td>\n",
       "      <td>4356</td>\n",
       "      <td>40</td>\n",
       "      <td>United-States</td>\n",
       "      <td>&lt;=50K</td>\n",
       "    </tr>\n",
       "    <tr>\n",
       "      <th>1</th>\n",
       "      <td>82</td>\n",
       "      <td>Private</td>\n",
       "      <td>132870</td>\n",
       "      <td>HS-grad</td>\n",
       "      <td>9</td>\n",
       "      <td>Widowed</td>\n",
       "      <td>Exec-managerial</td>\n",
       "      <td>Not-in-family</td>\n",
       "      <td>White</td>\n",
       "      <td>Female</td>\n",
       "      <td>0</td>\n",
       "      <td>4356</td>\n",
       "      <td>18</td>\n",
       "      <td>United-States</td>\n",
       "      <td>&lt;=50K</td>\n",
       "    </tr>\n",
       "    <tr>\n",
       "      <th>2</th>\n",
       "      <td>66</td>\n",
       "      <td>?</td>\n",
       "      <td>186061</td>\n",
       "      <td>Some-college</td>\n",
       "      <td>10</td>\n",
       "      <td>Widowed</td>\n",
       "      <td>?</td>\n",
       "      <td>Unmarried</td>\n",
       "      <td>Black</td>\n",
       "      <td>Female</td>\n",
       "      <td>0</td>\n",
       "      <td>4356</td>\n",
       "      <td>40</td>\n",
       "      <td>United-States</td>\n",
       "      <td>&lt;=50K</td>\n",
       "    </tr>\n",
       "    <tr>\n",
       "      <th>3</th>\n",
       "      <td>54</td>\n",
       "      <td>Private</td>\n",
       "      <td>140359</td>\n",
       "      <td>7th-8th</td>\n",
       "      <td>4</td>\n",
       "      <td>Divorced</td>\n",
       "      <td>Machine-op-inspct</td>\n",
       "      <td>Unmarried</td>\n",
       "      <td>White</td>\n",
       "      <td>Female</td>\n",
       "      <td>0</td>\n",
       "      <td>3900</td>\n",
       "      <td>40</td>\n",
       "      <td>United-States</td>\n",
       "      <td>&lt;=50K</td>\n",
       "    </tr>\n",
       "    <tr>\n",
       "      <th>4</th>\n",
       "      <td>41</td>\n",
       "      <td>Private</td>\n",
       "      <td>264663</td>\n",
       "      <td>Some-college</td>\n",
       "      <td>10</td>\n",
       "      <td>Separated</td>\n",
       "      <td>Prof-specialty</td>\n",
       "      <td>Own-child</td>\n",
       "      <td>White</td>\n",
       "      <td>Female</td>\n",
       "      <td>0</td>\n",
       "      <td>3900</td>\n",
       "      <td>40</td>\n",
       "      <td>United-States</td>\n",
       "      <td>&lt;=50K</td>\n",
       "    </tr>\n",
       "  </tbody>\n",
       "</table>\n",
       "</div>"
      ],
      "text/plain": [
       "   age workclass  fnlwgt     education  education.num marital.status  \\\n",
       "0   90         ?   77053       HS-grad              9        Widowed   \n",
       "1   82   Private  132870       HS-grad              9        Widowed   \n",
       "2   66         ?  186061  Some-college             10        Widowed   \n",
       "3   54   Private  140359       7th-8th              4       Divorced   \n",
       "4   41   Private  264663  Some-college             10      Separated   \n",
       "\n",
       "          occupation   relationship   race     sex  capital.gain  \\\n",
       "0                  ?  Not-in-family  White  Female             0   \n",
       "1    Exec-managerial  Not-in-family  White  Female             0   \n",
       "2                  ?      Unmarried  Black  Female             0   \n",
       "3  Machine-op-inspct      Unmarried  White  Female             0   \n",
       "4     Prof-specialty      Own-child  White  Female             0   \n",
       "\n",
       "   capital.loss  hours.per.week native.country income  \n",
       "0          4356              40  United-States  <=50K  \n",
       "1          4356              18  United-States  <=50K  \n",
       "2          4356              40  United-States  <=50K  \n",
       "3          3900              40  United-States  <=50K  \n",
       "4          3900              40  United-States  <=50K  "
      ]
     },
     "execution_count": 80,
     "metadata": {},
     "output_type": "execute_result"
    }
   ],
   "source": [
    "# YOUR CODE HERE\n",
    "adult = pd.read_csv('adult.csv')\n",
    "adult.dropna(inplace=True)\n",
    "adult.head()\n"
   ]
  },
  {
   "cell_type": "code",
   "execution_count": 81,
   "metadata": {
    "deletable": false,
    "editable": false,
    "id": "o8S87XVG6VnC",
    "nbgrader": {
     "cell_type": "code",
     "checksum": "4c332430b8d941ca052d5a72277b6b01",
     "grade": true,
     "grade_id": "cell-7ee9855d19d88844",
     "locked": true,
     "points": 5,
     "schema_version": 3,
     "solution": false,
     "task": false
    }
   },
   "outputs": [],
   "source": [
    "#TEST CELL: do not delete!"
   ]
  },
  {
   "cell_type": "markdown",
   "metadata": {
    "deletable": false,
    "editable": false,
    "id": "YRpcF8L4qd5l",
    "nbgrader": {
     "cell_type": "markdown",
     "checksum": "a4f1cd2700ccbe20f38b762e835a9345",
     "grade": false,
     "grade_id": "cell-2fe745e98922efa3",
     "locked": true,
     "schema_version": 3,
     "solution": false,
     "task": false
    }
   },
   "source": [
    "Question 1.2. Now convert the values in the income column to 1 (>50K) and 0 (<=50K)"
   ]
  },
  {
   "cell_type": "code",
   "execution_count": 82,
   "metadata": {
    "deletable": false,
    "id": "cvYPHJSX6VnD",
    "nbgrader": {
     "cell_type": "code",
     "checksum": "497d9921d8ef2330f9d0ac66d0b1258e",
     "grade": false,
     "grade_id": "cell-cec7ad098ad5dd5a",
     "locked": false,
     "schema_version": 3,
     "solution": true,
     "task": false
    }
   },
   "outputs": [
    {
     "data": {
      "text/html": [
       "<div>\n",
       "<style scoped>\n",
       "    .dataframe tbody tr th:only-of-type {\n",
       "        vertical-align: middle;\n",
       "    }\n",
       "\n",
       "    .dataframe tbody tr th {\n",
       "        vertical-align: top;\n",
       "    }\n",
       "\n",
       "    .dataframe thead th {\n",
       "        text-align: right;\n",
       "    }\n",
       "</style>\n",
       "<table border=\"1\" class=\"dataframe\">\n",
       "  <thead>\n",
       "    <tr style=\"text-align: right;\">\n",
       "      <th></th>\n",
       "      <th>age</th>\n",
       "      <th>workclass</th>\n",
       "      <th>fnlwgt</th>\n",
       "      <th>education</th>\n",
       "      <th>education.num</th>\n",
       "      <th>marital.status</th>\n",
       "      <th>occupation</th>\n",
       "      <th>relationship</th>\n",
       "      <th>race</th>\n",
       "      <th>sex</th>\n",
       "      <th>capital.gain</th>\n",
       "      <th>capital.loss</th>\n",
       "      <th>hours.per.week</th>\n",
       "      <th>native.country</th>\n",
       "      <th>income</th>\n",
       "    </tr>\n",
       "  </thead>\n",
       "  <tbody>\n",
       "    <tr>\n",
       "      <th>0</th>\n",
       "      <td>90</td>\n",
       "      <td>?</td>\n",
       "      <td>77053</td>\n",
       "      <td>HS-grad</td>\n",
       "      <td>9</td>\n",
       "      <td>Widowed</td>\n",
       "      <td>?</td>\n",
       "      <td>Not-in-family</td>\n",
       "      <td>White</td>\n",
       "      <td>Female</td>\n",
       "      <td>0</td>\n",
       "      <td>4356</td>\n",
       "      <td>40</td>\n",
       "      <td>United-States</td>\n",
       "      <td>0</td>\n",
       "    </tr>\n",
       "    <tr>\n",
       "      <th>1</th>\n",
       "      <td>82</td>\n",
       "      <td>Private</td>\n",
       "      <td>132870</td>\n",
       "      <td>HS-grad</td>\n",
       "      <td>9</td>\n",
       "      <td>Widowed</td>\n",
       "      <td>Exec-managerial</td>\n",
       "      <td>Not-in-family</td>\n",
       "      <td>White</td>\n",
       "      <td>Female</td>\n",
       "      <td>0</td>\n",
       "      <td>4356</td>\n",
       "      <td>18</td>\n",
       "      <td>United-States</td>\n",
       "      <td>0</td>\n",
       "    </tr>\n",
       "    <tr>\n",
       "      <th>2</th>\n",
       "      <td>66</td>\n",
       "      <td>?</td>\n",
       "      <td>186061</td>\n",
       "      <td>Some-college</td>\n",
       "      <td>10</td>\n",
       "      <td>Widowed</td>\n",
       "      <td>?</td>\n",
       "      <td>Unmarried</td>\n",
       "      <td>Black</td>\n",
       "      <td>Female</td>\n",
       "      <td>0</td>\n",
       "      <td>4356</td>\n",
       "      <td>40</td>\n",
       "      <td>United-States</td>\n",
       "      <td>0</td>\n",
       "    </tr>\n",
       "    <tr>\n",
       "      <th>3</th>\n",
       "      <td>54</td>\n",
       "      <td>Private</td>\n",
       "      <td>140359</td>\n",
       "      <td>7th-8th</td>\n",
       "      <td>4</td>\n",
       "      <td>Divorced</td>\n",
       "      <td>Machine-op-inspct</td>\n",
       "      <td>Unmarried</td>\n",
       "      <td>White</td>\n",
       "      <td>Female</td>\n",
       "      <td>0</td>\n",
       "      <td>3900</td>\n",
       "      <td>40</td>\n",
       "      <td>United-States</td>\n",
       "      <td>0</td>\n",
       "    </tr>\n",
       "    <tr>\n",
       "      <th>4</th>\n",
       "      <td>41</td>\n",
       "      <td>Private</td>\n",
       "      <td>264663</td>\n",
       "      <td>Some-college</td>\n",
       "      <td>10</td>\n",
       "      <td>Separated</td>\n",
       "      <td>Prof-specialty</td>\n",
       "      <td>Own-child</td>\n",
       "      <td>White</td>\n",
       "      <td>Female</td>\n",
       "      <td>0</td>\n",
       "      <td>3900</td>\n",
       "      <td>40</td>\n",
       "      <td>United-States</td>\n",
       "      <td>0</td>\n",
       "    </tr>\n",
       "    <tr>\n",
       "      <th>...</th>\n",
       "      <td>...</td>\n",
       "      <td>...</td>\n",
       "      <td>...</td>\n",
       "      <td>...</td>\n",
       "      <td>...</td>\n",
       "      <td>...</td>\n",
       "      <td>...</td>\n",
       "      <td>...</td>\n",
       "      <td>...</td>\n",
       "      <td>...</td>\n",
       "      <td>...</td>\n",
       "      <td>...</td>\n",
       "      <td>...</td>\n",
       "      <td>...</td>\n",
       "      <td>...</td>\n",
       "    </tr>\n",
       "    <tr>\n",
       "      <th>32556</th>\n",
       "      <td>22</td>\n",
       "      <td>Private</td>\n",
       "      <td>310152</td>\n",
       "      <td>Some-college</td>\n",
       "      <td>10</td>\n",
       "      <td>Never-married</td>\n",
       "      <td>Protective-serv</td>\n",
       "      <td>Not-in-family</td>\n",
       "      <td>White</td>\n",
       "      <td>Male</td>\n",
       "      <td>0</td>\n",
       "      <td>0</td>\n",
       "      <td>40</td>\n",
       "      <td>United-States</td>\n",
       "      <td>0</td>\n",
       "    </tr>\n",
       "    <tr>\n",
       "      <th>32557</th>\n",
       "      <td>27</td>\n",
       "      <td>Private</td>\n",
       "      <td>257302</td>\n",
       "      <td>Assoc-acdm</td>\n",
       "      <td>12</td>\n",
       "      <td>Married-civ-spouse</td>\n",
       "      <td>Tech-support</td>\n",
       "      <td>Wife</td>\n",
       "      <td>White</td>\n",
       "      <td>Female</td>\n",
       "      <td>0</td>\n",
       "      <td>0</td>\n",
       "      <td>38</td>\n",
       "      <td>United-States</td>\n",
       "      <td>0</td>\n",
       "    </tr>\n",
       "    <tr>\n",
       "      <th>32558</th>\n",
       "      <td>40</td>\n",
       "      <td>Private</td>\n",
       "      <td>154374</td>\n",
       "      <td>HS-grad</td>\n",
       "      <td>9</td>\n",
       "      <td>Married-civ-spouse</td>\n",
       "      <td>Machine-op-inspct</td>\n",
       "      <td>Husband</td>\n",
       "      <td>White</td>\n",
       "      <td>Male</td>\n",
       "      <td>0</td>\n",
       "      <td>0</td>\n",
       "      <td>40</td>\n",
       "      <td>United-States</td>\n",
       "      <td>1</td>\n",
       "    </tr>\n",
       "    <tr>\n",
       "      <th>32559</th>\n",
       "      <td>58</td>\n",
       "      <td>Private</td>\n",
       "      <td>151910</td>\n",
       "      <td>HS-grad</td>\n",
       "      <td>9</td>\n",
       "      <td>Widowed</td>\n",
       "      <td>Adm-clerical</td>\n",
       "      <td>Unmarried</td>\n",
       "      <td>White</td>\n",
       "      <td>Female</td>\n",
       "      <td>0</td>\n",
       "      <td>0</td>\n",
       "      <td>40</td>\n",
       "      <td>United-States</td>\n",
       "      <td>0</td>\n",
       "    </tr>\n",
       "    <tr>\n",
       "      <th>32560</th>\n",
       "      <td>22</td>\n",
       "      <td>Private</td>\n",
       "      <td>201490</td>\n",
       "      <td>HS-grad</td>\n",
       "      <td>9</td>\n",
       "      <td>Never-married</td>\n",
       "      <td>Adm-clerical</td>\n",
       "      <td>Own-child</td>\n",
       "      <td>White</td>\n",
       "      <td>Male</td>\n",
       "      <td>0</td>\n",
       "      <td>0</td>\n",
       "      <td>20</td>\n",
       "      <td>United-States</td>\n",
       "      <td>0</td>\n",
       "    </tr>\n",
       "  </tbody>\n",
       "</table>\n",
       "<p>32561 rows × 15 columns</p>\n",
       "</div>"
      ],
      "text/plain": [
       "       age workclass  fnlwgt     education  education.num      marital.status  \\\n",
       "0       90         ?   77053       HS-grad              9             Widowed   \n",
       "1       82   Private  132870       HS-grad              9             Widowed   \n",
       "2       66         ?  186061  Some-college             10             Widowed   \n",
       "3       54   Private  140359       7th-8th              4            Divorced   \n",
       "4       41   Private  264663  Some-college             10           Separated   \n",
       "...    ...       ...     ...           ...            ...                 ...   \n",
       "32556   22   Private  310152  Some-college             10       Never-married   \n",
       "32557   27   Private  257302    Assoc-acdm             12  Married-civ-spouse   \n",
       "32558   40   Private  154374       HS-grad              9  Married-civ-spouse   \n",
       "32559   58   Private  151910       HS-grad              9             Widowed   \n",
       "32560   22   Private  201490       HS-grad              9       Never-married   \n",
       "\n",
       "              occupation   relationship   race     sex  capital.gain  \\\n",
       "0                      ?  Not-in-family  White  Female             0   \n",
       "1        Exec-managerial  Not-in-family  White  Female             0   \n",
       "2                      ?      Unmarried  Black  Female             0   \n",
       "3      Machine-op-inspct      Unmarried  White  Female             0   \n",
       "4         Prof-specialty      Own-child  White  Female             0   \n",
       "...                  ...            ...    ...     ...           ...   \n",
       "32556    Protective-serv  Not-in-family  White    Male             0   \n",
       "32557       Tech-support           Wife  White  Female             0   \n",
       "32558  Machine-op-inspct        Husband  White    Male             0   \n",
       "32559       Adm-clerical      Unmarried  White  Female             0   \n",
       "32560       Adm-clerical      Own-child  White    Male             0   \n",
       "\n",
       "       capital.loss  hours.per.week native.country  income  \n",
       "0              4356              40  United-States       0  \n",
       "1              4356              18  United-States       0  \n",
       "2              4356              40  United-States       0  \n",
       "3              3900              40  United-States       0  \n",
       "4              3900              40  United-States       0  \n",
       "...             ...             ...            ...     ...  \n",
       "32556             0              40  United-States       0  \n",
       "32557             0              38  United-States       0  \n",
       "32558             0              40  United-States       1  \n",
       "32559             0              40  United-States       0  \n",
       "32560             0              20  United-States       0  \n",
       "\n",
       "[32561 rows x 15 columns]"
      ]
     },
     "execution_count": 82,
     "metadata": {},
     "output_type": "execute_result"
    }
   ],
   "source": [
    "# YOUR CODE HERE\n",
    "\n",
    "adult[\"income\"] = adult[\"income\"].apply(lambda x: 1 if x == \">50K\" else 0)\n",
    "adult\n"
   ]
  },
  {
   "cell_type": "code",
   "execution_count": 83,
   "metadata": {
    "deletable": false,
    "editable": false,
    "id": "l25XTgcx6VnE",
    "nbgrader": {
     "cell_type": "code",
     "checksum": "a271da6cc01a4769d27b923c8b604ea8",
     "grade": true,
     "grade_id": "cell-bef91c43e835296f",
     "locked": true,
     "points": 5,
     "schema_version": 3,
     "solution": false,
     "task": false
    }
   },
   "outputs": [],
   "source": [
    "#TEST CELL: do not delete!"
   ]
  },
  {
   "cell_type": "markdown",
   "metadata": {
    "deletable": false,
    "editable": false,
    "id": "4fxeBd-x7dlO",
    "nbgrader": {
     "cell_type": "markdown",
     "checksum": "bc57a955eaeef790190de925c7aeb8d7",
     "grade": false,
     "grade_id": "cell-377815db7b0ab2be",
     "locked": true,
     "schema_version": 3,
     "solution": false,
     "task": false
    }
   },
   "source": [
    "## Randomized Response\n",
    "\n",
    "Now let's implement a Randomized Response mechanism.  Let's assume the query is about the income being <=50K or >50K.  The value in the `income` column is the true answer."
   ]
  },
  {
   "cell_type": "markdown",
   "metadata": {
    "deletable": false,
    "editable": false,
    "id": "Whc8ZtqB8a4n",
    "nbgrader": {
     "cell_type": "markdown",
     "checksum": "10a14ebc130df01a33f008788e7eaeb7",
     "grade": false,
     "grade_id": "cell-5e3bc13bfcf6b99c",
     "locked": true,
     "schema_version": 3,
     "solution": false,
     "task": false
    }
   },
   "source": [
    "### Question 2\n",
    "Question 2.1. Consider the following randomized response to the query on each row of whether the income is <=50K or >50K.  The reported answer is as follows:\n",
    "\n",
    "Flip a fair coin.\n",
    "- If it's heads, respond truthfully:  the reported answer is the same as the value in `income`.\n",
    "- If it's tails, flip a fair coin again:\n",
    "   - If it's heads, the reported answer has a value of 1.\n",
    "   - If it's tails, the reported answer has a value of 0.\n",
    "  \n",
    "Implement a function for this mechanism in the code cell below.\n",
    "The function should accept a value `0` or `1` and return as output the reported answer according to the randomized response above."
   ]
  },
  {
   "cell_type": "code",
   "execution_count": 84,
   "metadata": {
    "deletable": false,
    "id": "nkE1G8ZA6VnF",
    "nbgrader": {
     "cell_type": "code",
     "checksum": "6372309e07444f8278c1c58dc3a8d49a",
     "grade": false,
     "grade_id": "cell-ed51146fb6b6a81d",
     "locked": false,
     "schema_version": 3,
     "solution": true,
     "task": false
    }
   },
   "outputs": [
    {
     "data": {
      "text/plain": [
       "0        1\n",
       "1        0\n",
       "2        1\n",
       "3        0\n",
       "4        0\n",
       "        ..\n",
       "32556    0\n",
       "32557    0\n",
       "32558    1\n",
       "32559    1\n",
       "32560    1\n",
       "Name: income_rrc1, Length: 32561, dtype: int64"
      ]
     },
     "execution_count": 84,
     "metadata": {},
     "output_type": "execute_result"
    }
   ],
   "source": [
    "import random\n",
    "def rand_resp_c1(x):\n",
    "    \"\"\"\n",
    "    Implements the randomized response mechanism for income data.\n",
    "    \n",
    "    Parameters:\n",
    "    income (int): The true income category (0 for <=50K, 1 for >50K).\n",
    "    \n",
    "    Returns:\n",
    "    int: The reported income after applying the randomized response mechanism\n",
    "\n",
    "    \"\"\"\n",
    "    if random.randint(0, 1) == 1:\n",
    "        return x  # Report the true value\n",
    "    \n",
    "    # Second coin flip  if first was tails\n",
    "    return random.randint(0, 1)  # Randomly return 0 or 1\n",
    "    \n",
    "\n",
    "adult['income_rrc1'] = [rand_resp_c1(x) for x in adult['income']]\n",
    "adult['income_rrc1']"
   ]
  },
  {
   "cell_type": "code",
   "execution_count": 85,
   "metadata": {
    "deletable": false,
    "editable": false,
    "id": "sjhOHbjp6VnF",
    "nbgrader": {
     "cell_type": "code",
     "checksum": "cd046df2e11aaf58c6758da1b08497c6",
     "grade": true,
     "grade_id": "cell-1564556adb3148cc",
     "locked": true,
     "points": 10,
     "schema_version": 3,
     "solution": false,
     "task": false
    }
   },
   "outputs": [],
   "source": [
    "#TEST CELL: do not delete!"
   ]
  },
  {
   "cell_type": "markdown",
   "metadata": {
    "deletable": false,
    "editable": false,
    "id": "KoQQKP9Cqd5o",
    "nbgrader": {
     "cell_type": "markdown",
     "checksum": "657ccde5f00c1c4d2b3fc4fef5b1b8a3",
     "grade": false,
     "grade_id": "cell-916bc53be20b7c65",
     "locked": true,
     "schema_version": 3,
     "solution": false,
     "task": false
    }
   },
   "source": [
    "### Question 3\n",
    "Question 3.1. Now get the **estimate** for the true number of people with income >50K.  Write this result into the variable `est_true_yes`.  Given the number of reported `1`'s (income >50K), we know how to estimate the proportion or number of true `1`'s.\n",
    "\n",
    "Calculate the true number of people with income >50K (the true answer in the data we imported) and write it into the variable `true_yes`.\n",
    "\n",
    "**Hint**: recall the derivations we did in class to analyse our randomized response:\n",
    "- $n$ is the total number of participants\n",
    "- $z$ is the sum of obfuscated answers\n",
    "- $m$ is the sum of true answers\n",
    "\n",
    "<p> Since we usually don't have access to $m$, how could we estimate it using $n$ and $z$? </p>"
   ]
  },
  {
   "cell_type": "code",
   "execution_count": 86,
   "metadata": {
    "deletable": false,
    "id": "sI7UhtDz6VnG",
    "nbgrader": {
     "cell_type": "code",
     "checksum": "c7f7363e827e966db731f809aa2f8c77",
     "grade": false,
     "grade_id": "cell-a4d1a7c84dfd4454",
     "locked": false,
     "schema_version": 3,
     "solution": true,
     "task": false
    }
   },
   "outputs": [
    {
     "name": "stdout",
     "output_type": "stream",
     "text": [
      "Estimated true count of income >50K: 7717.5\n",
      "Actual true count of income >50K: 7841\n"
     ]
    }
   ],
   "source": [
    "# YOUR CODE HERE\n",
    "# Compute the estimates\n",
    "n = len(adult)  # Total number of participants\n",
    "z = adult['income_rrc1'].sum()  # Sum of reported '1's\n",
    "m = adult['income'].sum()  # True count of '1's\n",
    "\n",
    "# Estimate of true '1's (income >50K)\n",
    "est_true_yes = (2 * z - 0.5 * n)\n",
    "true_yes = m\n",
    "\n",
    "print(f\"Estimated true count of income >50K: {est_true_yes}\")\n",
    "print(f\"Actual true count of income >50K: {true_yes}\")\n",
    "\n"
   ]
  },
  {
   "cell_type": "code",
   "execution_count": 87,
   "metadata": {
    "deletable": false,
    "editable": false,
    "id": "OcMxuJ_96VnG",
    "nbgrader": {
     "cell_type": "code",
     "checksum": "22eda366ad0c78feace484ac05eb9be0",
     "grade": true,
     "grade_id": "cell-1a4f0600327dae29",
     "locked": true,
     "points": 10,
     "schema_version": 3,
     "solution": false,
     "task": false
    }
   },
   "outputs": [],
   "source": [
    "#TEST CELL: do not delete!"
   ]
  },
  {
   "cell_type": "markdown",
   "metadata": {
    "deletable": false,
    "editable": false,
    "id": "1xTfnXP_XFjL",
    "nbgrader": {
     "cell_type": "markdown",
     "checksum": "eee07e6a019539e5ff3b42f9b8e1cb28",
     "grade": false,
     "grade_id": "cell-c2eef42d8c0f8894",
     "locked": true,
     "schema_version": 3,
     "solution": false,
     "task": false
    }
   },
   "source": [
    "Question 3.2. Now consider a more general randomized response mechanism to the query on each row of whether the income is <=50K or >50K. This more general mechanism, that takes a parameter `bias` as an argument, is as follows:\n",
    "\n",
    "\n",
    "With probability `1/2 + bias`, respond truthfully.\n",
    "With probability `1/2 - bias`, respond with the opposite of the true answer.\n",
    "\n",
    "Implement a function for this mechanism.\n"
   ]
  },
  {
   "cell_type": "code",
   "execution_count": 88,
   "metadata": {},
   "outputs": [],
   "source": [
    "def rand_resp_cg(x, b):\n",
    "    # YOUR CODE HERE\n",
    "    \"\"\"\n",
    "    Randomized response mechanism.\n",
    "    \n",
    "    Parameters:\n",
    "    x (int): The true value (0 or 1).\n",
    "    b (float): The bias parameter (0 <= b <= 0.5).\n",
    "    \n",
    "    Returns:\n",
    "    int: The randomized response (0 or 1).\n",
    "    \"\"\"\n",
    "    if not (0 <= b <= 0.5):\n",
    "        print(\"Bias must be between 0 and 0.5\")\n",
    "    \n",
    "    prob = 0.5 + b\n",
    "    if random.random() < prob:\n",
    "        return x  # Respond truthfully\n",
    "    else:\n",
    "        return 1 - x  # Respond with the opposite of the true answer\n"
   ]
  },
  {
   "cell_type": "code",
   "execution_count": 89,
   "metadata": {
    "deletable": false,
    "editable": false,
    "id": "IYc17btL6VnH",
    "nbgrader": {
     "cell_type": "code",
     "checksum": "2b4e5ee60d75291ad4a754d4b5926a04",
     "grade": true,
     "grade_id": "cell-a2ba845f030fb704",
     "locked": true,
     "points": 10,
     "schema_version": 3,
     "solution": false,
     "task": false
    }
   },
   "outputs": [],
   "source": [
    "#TEST CELL: do not delete!"
   ]
  },
  {
   "cell_type": "markdown",
   "metadata": {
    "deletable": false,
    "editable": false,
    "id": "E3ghwpl-izl7",
    "nbgrader": {
     "cell_type": "markdown",
     "checksum": "c8bf9fc5822f98b7f9dc4e7b7b77515b",
     "grade": false,
     "grade_id": "cell-76471c631ba39f4c",
     "locked": true,
     "schema_version": 3,
     "solution": false,
     "task": false
    }
   },
   "source": [
    "Now as we did for the coin flip case we want to compare the estimated number of people with income >50K (the responses from the randomized response) with the true number (from the dataset - the `income` column).  The difference between the two values is the error in estimation.\n",
    "\n",
    "For this generalized randomized response function, we have a parameter `b`, the bias, that is a part of the probability of responding truthfully or not - so it is a privacy parameter.  We want to analyze the error in the estimate of the number of people with income >50K, with respect to the privacy parameter, `b`.  \n",
    "\n",
    "Question 3.3. So let's first set up an array, that we will call `bias_values`, to hold various values of `bias` that we will test, `bias` from 0.05 to 0.45.  Let's say we want to test for bias from 0.05 to 0.45 in increments of 0.05."
   ]
  },
  {
   "cell_type": "code",
   "execution_count": 90,
   "metadata": {
    "deletable": false,
    "id": "lpQBBaxG6VnI",
    "nbgrader": {
     "cell_type": "code",
     "checksum": "152ec0ae8a392f9265fde244a31a5a72",
     "grade": false,
     "grade_id": "cell-8e03cfe0f8167512",
     "locked": false,
     "schema_version": 3,
     "solution": true,
     "task": false
    }
   },
   "outputs": [
    {
     "data": {
      "text/plain": [
       "array([0.05, 0.1 , 0.15, 0.2 , 0.25, 0.3 , 0.35, 0.4 , 0.45])"
      ]
     },
     "execution_count": 90,
     "metadata": {},
     "output_type": "execute_result"
    }
   ],
   "source": [
    "# YOUR CODE HERE\n",
    "bias_values = np.arange(0.05, 0.50, 0.05)\n",
    "bias_values"
   ]
  },
  {
   "cell_type": "code",
   "execution_count": 91,
   "metadata": {
    "deletable": false,
    "editable": false,
    "id": "7RObOqAz6VnI",
    "nbgrader": {
     "cell_type": "code",
     "checksum": "7a18bbf045842aa4936780213734edd7",
     "grade": true,
     "grade_id": "cell-994873432256156b",
     "locked": true,
     "points": 5,
     "schema_version": 3,
     "solution": false,
     "task": false
    }
   },
   "outputs": [],
   "source": [
    "#TEST CELL: do not delete!"
   ]
  },
  {
   "cell_type": "markdown",
   "metadata": {
    "deletable": false,
    "editable": false,
    "id": "-HSX8GYzizl7",
    "nbgrader": {
     "cell_type": "markdown",
     "checksum": "6a33ca3f29768eddcc2f758bad125ca1",
     "grade": false,
     "grade_id": "cell-421d690dc8eba3c1",
     "locked": true,
     "schema_version": 3,
     "solution": false,
     "task": false
    }
   },
   "source": [
    "### Question 4\n",
    "Question 4.1. Now write code to calculate the estimated number of true `1` answers for each value of `bias`.  That is, you want to run your function above, `rand_resp_cg(x,b)` on the `income` column (`x`) and for the above values of bias (`b`) in the `bias_values` array.  The 2d array `rrg` will hold the randomized response values for the `income` column for each bias value in the `bias_values` array.  So, the value of `rrg[i]` will be an array of randomized responses from the `income` column that is output from `rand_resp_cg` for bias value `bias_values[i]`.  So, the 2d array `rrg` should have dimensions \"number of bias values you are testing\" and \"number of rows in the cleaned up dataset\".\n",
    "\n",
    "After the first two lines of code in the cell below, write your code to fill `rrg` with the randomized responses and `est_yes` will contain the *estimated* number of true `1` responses for each value of bias.  So `est_yes[0]` will contain the estimated number of true yes responses when the bias is 0.05.\n",
    "\n",
    "**Hint** : this is similar to calculating `est_true_yes` in Question 2, however now you have to consider how to include the bias in your derivation."
   ]
  },
  {
   "cell_type": "code",
   "execution_count": 92,
   "metadata": {
    "deletable": false,
    "id": "sOWQH31h6VnJ",
    "nbgrader": {
     "cell_type": "code",
     "checksum": "330d7a9a88251fa25c627d35c00cc4ee",
     "grade": false,
     "grade_id": "cell-1cb7afcb4e52ec62",
     "locked": false,
     "schema_version": 3,
     "solution": true,
     "task": false
    }
   },
   "outputs": [
    {
     "data": {
      "text/plain": [
       "(array([[1., 0., 1., ..., 0., 0., 0.],\n",
       "        [1., 1., 1., ..., 1., 1., 1.],\n",
       "        [1., 1., 0., ..., 1., 0., 0.],\n",
       "        ...,\n",
       "        [0., 0., 0., ..., 1., 0., 1.],\n",
       "        [0., 0., 0., ..., 1., 0., 1.],\n",
       "        [0., 0., 0., ..., 1., 0., 0.]]),\n",
       " array([8625.5       , 7593.        , 7598.83333333, 8069.25      ,\n",
       "        7955.5       , 7656.33333333, 7954.07142857, 7838.625     ,\n",
       "        7827.72222222]))"
      ]
     },
     "execution_count": 92,
     "metadata": {},
     "output_type": "execute_result"
    }
   ],
   "source": [
    "\n",
    "# YOUR CODE HERE\n",
    "# Initializing  the arrays\n",
    "rrg = np.zeros((len(bias_values), len(adult['income'])))\n",
    "est_yes = np.zeros(len(bias_values))\n",
    "\n",
    "# Fill rrg with randomized responses and calculate est_yes\n",
    "for i, b in enumerate(bias_values):\n",
    "    rrg[i] = adult['income'].apply(lambda x: rand_resp_cg(x, b))\n",
    "    est_yes[i] = (np.sum(rrg[i]) - (0.5 - b) * len(adult['income'])) / (2 * b)\n",
    "\n",
    "# Display the results\n",
    "rrg, est_yes"
   ]
  },
  {
   "cell_type": "code",
   "execution_count": 93,
   "metadata": {
    "deletable": false,
    "editable": false,
    "id": "lzjB4wOn6VnJ",
    "nbgrader": {
     "cell_type": "code",
     "checksum": "5955645f2deb1ec800fdb40ee2d86fd4",
     "grade": true,
     "grade_id": "cell-83837e07af70eb45",
     "locked": true,
     "points": 20,
     "schema_version": 3,
     "solution": false,
     "task": false
    }
   },
   "outputs": [],
   "source": [
    "#TEST CELL: do not delete!"
   ]
  },
  {
   "cell_type": "markdown",
   "metadata": {
    "deletable": false,
    "editable": false,
    "id": "5smm9MO6XFjN",
    "nbgrader": {
     "cell_type": "markdown",
     "checksum": "33fbc9e45ab51a8c3b52db63db50d14e",
     "grade": false,
     "grade_id": "cell-be853b455f67c080",
     "locked": true,
     "schema_version": 3,
     "solution": false,
     "task": false
    }
   },
   "source": [
    "Question 4.2. Implement a function called `rel_error` to calculate the relative error between the true number of `1`s (in the `income` column) and the estimated number (relative to the true number).  The function should accept arrays as input and output an array of relative errors.  (So it should be able to accept arrays of numbers and output an array of the relative errors.)"
   ]
  },
  {
   "cell_type": "code",
   "execution_count": 94,
   "metadata": {
    "deletable": false,
    "id": "aSLhpwva6VnK",
    "nbgrader": {
     "cell_type": "code",
     "checksum": "324945d7e07dada3b7123ebea8125e4a",
     "grade": false,
     "grade_id": "cell-226eea621e48a18d",
     "locked": false,
     "schema_version": 3,
     "solution": true,
     "task": false
    }
   },
   "outputs": [
    {
     "name": "stdout",
     "output_type": "stream",
     "text": [
      "[0.44405414 0.47789314 0.44436726 0.37909741 0.34349728 0.31061288\n",
      " 0.23899049 0.17722001 0.09746083]\n"
     ]
    }
   ],
   "source": [
    "def rel_error(true,estim):\n",
    "    # YOUR CODE HERE\n",
    "    return np.abs(true - estim) / true\n",
    "\n",
    "print(rel_error(np.sum(rrg,1),est_yes))"
   ]
  },
  {
   "cell_type": "code",
   "execution_count": 95,
   "metadata": {
    "deletable": false,
    "editable": false,
    "id": "z5OP_rCi6VnK",
    "nbgrader": {
     "cell_type": "code",
     "checksum": "3b43e8483ddc2f1d4b1669b287780ac5",
     "grade": true,
     "grade_id": "cell-8b97074332b0b8c5",
     "locked": true,
     "points": 5,
     "schema_version": 3,
     "solution": false,
     "task": false
    }
   },
   "outputs": [],
   "source": [
    "#TEST CELL: do not delete!"
   ]
  },
  {
   "cell_type": "markdown",
   "metadata": {
    "deletable": false,
    "editable": false,
    "id": "vofa_KWu6VnK",
    "nbgrader": {
     "cell_type": "markdown",
     "checksum": "8866a5aad3c77889b84b53c4d512add5",
     "grade": false,
     "grade_id": "cell-3da95f0691bbd62b",
     "locked": true,
     "schema_version": 3,
     "solution": false,
     "task": false
    }
   },
   "source": [
    "# Rubric\n",
    "\n",
    "| Question | Points|\n",
    "|----------|----------|\n",
    "| 1.1   |  5  |\n",
    "| 1.2    | 5   |\n",
    "| 2.1    | 10   |\n",
    "| 3.1    | 10   |\n",
    "| 3.2  | 10   |\n",
    "| 3.3    | 5   |\n",
    "| 4.1   | 20   |\n",
    "| 4.2   | 5   |\n",
    "| Total:    | 70   |\n"
   ]
  }
 ],
 "metadata": {
  "colab": {
   "provenance": []
  },
  "kernelspec": {
   "display_name": "base",
   "language": "python",
   "name": "python3"
  },
  "language_info": {
   "codemirror_mode": {
    "name": "ipython",
    "version": 3
   },
   "file_extension": ".py",
   "mimetype": "text/x-python",
   "name": "python",
   "nbconvert_exporter": "python",
   "pygments_lexer": "ipython3",
   "version": "3.12.2"
  }
 },
 "nbformat": 4,
 "nbformat_minor": 0
}
