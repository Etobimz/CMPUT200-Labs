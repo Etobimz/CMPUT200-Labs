{
  "cells": [
    {
      "cell_type": "markdown",
      "id": "28363508-f510-4af0-9ee4-0c6c1d2652a7",
      "metadata": {
        "deletable": false,
        "editable": false,
        "id": "28363508-f510-4af0-9ee4-0c6c1d2652a7",
        "nbgrader": {
          "cell_type": "markdown",
          "checksum": "52a699d5ffb0adfb989eb7cf8a151420",
          "grade": false,
          "grade_id": "cell-2dd6366b47c8d0f6",
          "locked": true,
          "schema_version": 3,
          "solution": false,
          "task": false
        }
      },
      "source": [
        "# Lab 6: Linear Regression"
      ]
    },
    {
      "cell_type": "markdown",
      "id": "b327ae5e-357e-4ea3-a947-3b6b908718c7",
      "metadata": {
        "id": "b327ae5e-357e-4ea3-a947-3b6b908718c7"
      },
      "source": [
        "***\n",
        "- **FIRST name**: Abimbola\n",
        "- **LAST name**: Olarinde\n",
        "- **Student ID**: 1880229\n",
        "\n",
        "Leave blank if individual:\n",
        "- **Collaborator names**:\n",
        "- **Collaborator student IDs**:\n",
        "***"
      ]
    },
    {
      "cell_type": "markdown",
      "id": "41cf6373-016f-418b-a0d0-1c8cfa660d66",
      "metadata": {
        "deletable": false,
        "editable": false,
        "id": "41cf6373-016f-418b-a0d0-1c8cfa660d66",
        "nbgrader": {
          "cell_type": "markdown",
          "checksum": "3862b94015c458a82da6d326c2866093",
          "grade": false,
          "grade_id": "cell-9ae026be34b39acb",
          "locked": true,
          "schema_version": 3,
          "solution": false,
          "task": false
        }
      },
      "source": [
        "In today's lab, you will learn:\n",
        "\n",
        "1.   The process of making predictions;\n",
        "2.   linear regression.\n",
        "\n",
        "For this lab, you'll need the dataset `family_heights.csv`.\n",
        "\n",
        "### Instructions\n",
        "\n",
        "- **Collaboration**: You must submit your own work. The collaboration policy for the labs is Consultation Collaboration. You may verbally discuss concepts with your classmates, without exchanging written text, code, or detailed advice. You must develop your own solution and submit your own work. All sources of information used including books, websites, students you talked to, must be cited in the submission. Please see the course FAQ document for details on this collaboration policy. We will adhere to current Faculty of Science guidelines on dealing with suspected cases of plagiarism.\n",
        "- **Software**: We highly recommend that students use Google Colab for completing labs and assignments. This is the software used by the TAs in the course, and we can guarantee that there will be no issues with incompatible environments or imports.\n",
        "- **Filling out the Notebook**: You must use this notebook to complete your lab. You will execute the questions in the notebook. The questions might ask for a short answer in text form or for you to write and execute a piece of code. Make sure you enter your answer in either case only in the cell provided.\n",
        "- **Important**:  Do not use a different cell, do not delete cells, and do not create a new cell. Creating new cells for your code is not compatible with the auto-grading system we are using and thus your assignment will not get grading properly and you will lose marks for that question. As a reminder you must remove the raise NotImplementedError() statements from each question when answering.\n",
        "- **Rules for Datasets**: Any datasets used in the lab cannot be imported from cloud storage, e.g google drive, and must be read from a file either on your local computer or uploaded to the google colab notebook. Importing from cloud storage will result in a zero.\n",
        "- **Submission Formatting**: When you are done, you will submit your work from the notebook. Make sure to save your notebook before running it, and then submit on Canvas the notebook file with your work completed. Name your file with your Student ID number, followed by an underscore and L plus the lab number (ex: 1234567_L6.ipynb). Failure to do so will result in your final score being reduced by 50%! Finally your name must be written at the top of the lab or assignment document."
      ]
    },
    {
      "cell_type": "code",
      "execution_count": 137,
      "id": "c70e61d4-37ee-4a71-bedf-84aa25823f2e",
      "metadata": {
        "deletable": false,
        "editable": false,
        "id": "c70e61d4-37ee-4a71-bedf-84aa25823f2e",
        "nbgrader": {
          "cell_type": "code",
          "checksum": "9e436fe28eb2698f0a85bfd7537a4778",
          "grade": false,
          "grade_id": "cell-c36480541444f37f",
          "locked": true,
          "schema_version": 3,
          "solution": false,
          "task": false
        }
      },
      "outputs": [],
      "source": [
        "#run this cell\n",
        "import numpy as np\n",
        "import pandas as pd\n",
        "import matplotlib.pyplot as plt"
      ]
    },
    {
      "cell_type": "markdown",
      "id": "ddf94eb3-f0ba-4666-87d5-76ecea1aa000",
      "metadata": {
        "deletable": false,
        "editable": false,
        "id": "ddf94eb3-f0ba-4666-87d5-76ecea1aa000",
        "nbgrader": {
          "cell_type": "markdown",
          "checksum": "2d8bb84b9074f3db45ee8e5a9817052a",
          "grade": false,
          "grade_id": "cell-43621d90140949d1",
          "locked": true,
          "schema_version": 3,
          "solution": false,
          "task": false
        }
      },
      "source": [
        "# 1. Predictions\n",
        "\n",
        "Predictions are an important part of data science because they allow us to make educated guesses based on incomplete data. These guesses are usually in the form of continuous or categorical values. The primary goal of building a predictive model is to make accurate and reliable forecasts based on historical data."
      ]
    },
    {
      "cell_type": "markdown",
      "id": "b98adb6c-d03d-4e75-9ae5-ff6c10eed99b",
      "metadata": {
        "deletable": false,
        "editable": false,
        "id": "b98adb6c-d03d-4e75-9ae5-ff6c10eed99b",
        "nbgrader": {
          "cell_type": "markdown",
          "checksum": "798287d5a1f11a64c0357bd63ae32172",
          "grade": false,
          "grade_id": "cell-5d54cf282a267c58",
          "locked": true,
          "schema_version": 3,
          "solution": false,
          "task": false
        }
      },
      "source": [
        "**Question 1.1.** Load the dataset `family_heights.csv` and assign it to the name `heights`. This dataset contains data on the midparent height and child’s height (all in inches) for a population of 934 adult “children”. The midpoint height is an average of the heights of the two parents."
      ]
    },
    {
      "cell_type": "code",
      "execution_count": 138,
      "id": "298ba573-0682-4134-8534-f8bb94110650",
      "metadata": {
        "deletable": false,
        "id": "298ba573-0682-4134-8534-f8bb94110650",
        "nbgrader": {
          "cell_type": "code",
          "checksum": "b1430696102dedcbf3ff698ab5b7c431",
          "grade": false,
          "grade_id": "cell-befd147bc1746d66",
          "locked": false,
          "schema_version": 3,
          "solution": true,
          "task": false
        }
      },
      "outputs": [
        {
          "data": {
            "text/html": [
              "<div>\n",
              "<style scoped>\n",
              "    .dataframe tbody tr th:only-of-type {\n",
              "        vertical-align: middle;\n",
              "    }\n",
              "\n",
              "    .dataframe tbody tr th {\n",
              "        vertical-align: top;\n",
              "    }\n",
              "\n",
              "    .dataframe thead th {\n",
              "        text-align: right;\n",
              "    }\n",
              "</style>\n",
              "<table border=\"1\" class=\"dataframe\">\n",
              "  <thead>\n",
              "    <tr style=\"text-align: right;\">\n",
              "      <th></th>\n",
              "      <th>family</th>\n",
              "      <th>father</th>\n",
              "      <th>mother</th>\n",
              "      <th>midparentHeight</th>\n",
              "      <th>children</th>\n",
              "      <th>childNum</th>\n",
              "      <th>sex</th>\n",
              "      <th>childHeight</th>\n",
              "    </tr>\n",
              "  </thead>\n",
              "  <tbody>\n",
              "    <tr>\n",
              "      <th>0</th>\n",
              "      <td>1</td>\n",
              "      <td>78.5</td>\n",
              "      <td>67.0</td>\n",
              "      <td>75.43</td>\n",
              "      <td>4</td>\n",
              "      <td>1</td>\n",
              "      <td>male</td>\n",
              "      <td>73.2</td>\n",
              "    </tr>\n",
              "    <tr>\n",
              "      <th>1</th>\n",
              "      <td>1</td>\n",
              "      <td>78.5</td>\n",
              "      <td>67.0</td>\n",
              "      <td>75.43</td>\n",
              "      <td>4</td>\n",
              "      <td>2</td>\n",
              "      <td>female</td>\n",
              "      <td>69.2</td>\n",
              "    </tr>\n",
              "    <tr>\n",
              "      <th>2</th>\n",
              "      <td>1</td>\n",
              "      <td>78.5</td>\n",
              "      <td>67.0</td>\n",
              "      <td>75.43</td>\n",
              "      <td>4</td>\n",
              "      <td>3</td>\n",
              "      <td>female</td>\n",
              "      <td>69.0</td>\n",
              "    </tr>\n",
              "    <tr>\n",
              "      <th>3</th>\n",
              "      <td>1</td>\n",
              "      <td>78.5</td>\n",
              "      <td>67.0</td>\n",
              "      <td>75.43</td>\n",
              "      <td>4</td>\n",
              "      <td>4</td>\n",
              "      <td>female</td>\n",
              "      <td>69.0</td>\n",
              "    </tr>\n",
              "    <tr>\n",
              "      <th>4</th>\n",
              "      <td>2</td>\n",
              "      <td>75.5</td>\n",
              "      <td>66.5</td>\n",
              "      <td>73.66</td>\n",
              "      <td>4</td>\n",
              "      <td>1</td>\n",
              "      <td>male</td>\n",
              "      <td>73.5</td>\n",
              "    </tr>\n",
              "    <tr>\n",
              "      <th>...</th>\n",
              "      <td>...</td>\n",
              "      <td>...</td>\n",
              "      <td>...</td>\n",
              "      <td>...</td>\n",
              "      <td>...</td>\n",
              "      <td>...</td>\n",
              "      <td>...</td>\n",
              "      <td>...</td>\n",
              "    </tr>\n",
              "    <tr>\n",
              "      <th>929</th>\n",
              "      <td>203</td>\n",
              "      <td>62.0</td>\n",
              "      <td>66.0</td>\n",
              "      <td>66.64</td>\n",
              "      <td>3</td>\n",
              "      <td>1</td>\n",
              "      <td>male</td>\n",
              "      <td>64.0</td>\n",
              "    </tr>\n",
              "    <tr>\n",
              "      <th>930</th>\n",
              "      <td>203</td>\n",
              "      <td>62.0</td>\n",
              "      <td>66.0</td>\n",
              "      <td>66.64</td>\n",
              "      <td>3</td>\n",
              "      <td>2</td>\n",
              "      <td>female</td>\n",
              "      <td>62.0</td>\n",
              "    </tr>\n",
              "    <tr>\n",
              "      <th>931</th>\n",
              "      <td>203</td>\n",
              "      <td>62.0</td>\n",
              "      <td>66.0</td>\n",
              "      <td>66.64</td>\n",
              "      <td>3</td>\n",
              "      <td>3</td>\n",
              "      <td>female</td>\n",
              "      <td>61.0</td>\n",
              "    </tr>\n",
              "    <tr>\n",
              "      <th>932</th>\n",
              "      <td>204</td>\n",
              "      <td>62.5</td>\n",
              "      <td>63.0</td>\n",
              "      <td>65.27</td>\n",
              "      <td>2</td>\n",
              "      <td>1</td>\n",
              "      <td>male</td>\n",
              "      <td>66.5</td>\n",
              "    </tr>\n",
              "    <tr>\n",
              "      <th>933</th>\n",
              "      <td>204</td>\n",
              "      <td>62.5</td>\n",
              "      <td>63.0</td>\n",
              "      <td>65.27</td>\n",
              "      <td>2</td>\n",
              "      <td>2</td>\n",
              "      <td>female</td>\n",
              "      <td>57.0</td>\n",
              "    </tr>\n",
              "  </tbody>\n",
              "</table>\n",
              "<p>934 rows × 8 columns</p>\n",
              "</div>"
            ],
            "text/plain": [
              "    family  father  mother  midparentHeight  children  childNum     sex  \\\n",
              "0        1    78.5    67.0            75.43         4         1    male   \n",
              "1        1    78.5    67.0            75.43         4         2  female   \n",
              "2        1    78.5    67.0            75.43         4         3  female   \n",
              "3        1    78.5    67.0            75.43         4         4  female   \n",
              "4        2    75.5    66.5            73.66         4         1    male   \n",
              "..     ...     ...     ...              ...       ...       ...     ...   \n",
              "929    203    62.0    66.0            66.64         3         1    male   \n",
              "930    203    62.0    66.0            66.64         3         2  female   \n",
              "931    203    62.0    66.0            66.64         3         3  female   \n",
              "932    204    62.5    63.0            65.27         2         1    male   \n",
              "933    204    62.5    63.0            65.27         2         2  female   \n",
              "\n",
              "     childHeight  \n",
              "0           73.2  \n",
              "1           69.2  \n",
              "2           69.0  \n",
              "3           69.0  \n",
              "4           73.5  \n",
              "..           ...  \n",
              "929         64.0  \n",
              "930         62.0  \n",
              "931         61.0  \n",
              "932         66.5  \n",
              "933         57.0  \n",
              "\n",
              "[934 rows x 8 columns]"
            ]
          },
          "execution_count": 138,
          "metadata": {},
          "output_type": "execute_result"
        }
      ],
      "source": [
        "# YOUR CODE HERE\n",
        "heights = pd.read_csv('family_heights.csv')\n",
        "heights"
      ]
    },
    {
      "cell_type": "code",
      "execution_count": 139,
      "id": "0813a1da-9768-45e6-8fd4-0e0274571cde",
      "metadata": {
        "deletable": false,
        "editable": false,
        "id": "0813a1da-9768-45e6-8fd4-0e0274571cde",
        "nbgrader": {
          "cell_type": "code",
          "checksum": "17c8d405aca692ec2abedfb1de57d4ae",
          "grade": true,
          "grade_id": "cell-d9782ba6c80e4ba5",
          "locked": true,
          "points": 2,
          "schema_version": 3,
          "solution": false,
          "task": false
        }
      },
      "outputs": [],
      "source": [
        "# TEST CELL: do not delete!"
      ]
    },
    {
      "cell_type": "markdown",
      "id": "f94a6353-56ed-4783-9ba8-eeb13a78b9f4",
      "metadata": {
        "deletable": false,
        "editable": false,
        "id": "f94a6353-56ed-4783-9ba8-eeb13a78b9f4",
        "nbgrader": {
          "cell_type": "markdown",
          "checksum": "5ad3a17a8eeff9c7902f890135e9498c",
          "grade": false,
          "grade_id": "cell-e9489963c094a6f3",
          "locked": true,
          "schema_version": 3,
          "solution": false,
          "task": false
        }
      },
      "source": [
        "**Question 1.2.** Use matplot's `scatter` function to make a scatter plot where `midparentHeight` is the x-axis and `childHeight` is the y-axis. Make sure to include the appropriate labels!"
      ]
    },
    {
      "cell_type": "code",
      "execution_count": 140,
      "id": "2b1a2793-13cb-46dd-839c-44b6ea2d2387",
      "metadata": {
        "deletable": false,
        "id": "2b1a2793-13cb-46dd-839c-44b6ea2d2387",
        "nbgrader": {
          "cell_type": "code",
          "checksum": "353998d22434a3f3008b954d28b26294",
          "grade": true,
          "grade_id": "cell-89b994396aed4b6b",
          "locked": false,
          "points": 10,
          "schema_version": 3,
          "solution": true,
          "task": false
        }
      },
      "outputs": [
        {
          "data": {
            "image/png": "[encoded data removed]",
            "text/plain": [
              "<Figure size 640x480 with 1 Axes>"
            ]
          },
          "metadata": {},
          "output_type": "display_data"
        }
      ],
      "source": [
        "# YOUR CODE HERE\n",
        "childHeight = heights['childHeight']\n",
        "midparentHeight = heights['midparentHeight']\n",
        "# Create a scatter plot\n",
        "plt.scatter(midparentHeight, childHeight)\n",
        "\n",
        "# Add labels to the axes\n",
        "plt.xlabel('midparentHeight')\n",
        "plt.ylabel('childHeight')\n",
        "\n",
        "# Show the plot\n",
        "plt.show()\n",
        "\n"
      ]
    },
    {
      "cell_type": "markdown",
      "id": "d3b12f56-828c-4c23-8db8-c5d7817096f9",
      "metadata": {
        "deletable": false,
        "editable": false,
        "id": "d3b12f56-828c-4c23-8db8-c5d7817096f9",
        "nbgrader": {
          "cell_type": "markdown",
          "checksum": "666d1fe974bb42c3e074db719a4be4bd",
          "grade": false,
          "grade_id": "cell-200b5693fe10502e",
          "locked": true,
          "schema_version": 3,
          "solution": false,
          "task": false
        }
      },
      "source": [
        "The reason for studying this data is to be able to predict the adult height of a child born to parents who are similar to those in the dataset. Suppose there's a new couple that wants to predict their child's height. Let the average height of the couple be 70 inches. How would we make a reasonable prediction? </p>\n",
        "\n",
        "One approach would be to make our prediction based on the parent average around a height of 70 inches, say within .5 inches. The prediction equals the average child's height calculated from those points alone."
      ]
    },
    {
      "cell_type": "markdown",
      "id": "3c3ca38f-ec2e-414c-9ac8-ba54ff74bdce",
      "metadata": {
        "deletable": false,
        "editable": false,
        "id": "3c3ca38f-ec2e-414c-9ac8-ba54ff74bdce",
        "nbgrader": {
          "cell_type": "markdown",
          "checksum": "dbf3b68bcdd74641e54f8ede6968823e",
          "grade": false,
          "grade_id": "cell-36f954a8f1c701f9",
          "locked": true,
          "schema_version": 3,
          "solution": false,
          "task": false
        }
      },
      "source": [
        "**Question 1.3.** Take the parents who have heights between 69.5 and 70.5 inches (inclusive), and compute the average of their children's height. Round your answer to 4 decimal points."
      ]
    },
    {
      "cell_type": "code",
      "execution_count": 141,
      "id": "00353a19-3194-4196-a19b-74a8e106b8c1",
      "metadata": {
        "deletable": false,
        "id": "00353a19-3194-4196-a19b-74a8e106b8c1",
        "nbgrader": {
          "cell_type": "code",
          "checksum": "36ffe40174be9f859959525316418841",
          "grade": false,
          "grade_id": "cell-4cc0fe7b7dbaac3e",
          "locked": false,
          "schema_version": 3,
          "solution": true,
          "task": false
        }
      },
      "outputs": [
        {
          "data": {
            "text/plain": [
              "67.2729"
            ]
          },
          "execution_count": 141,
          "metadata": {},
          "output_type": "execute_result"
        }
      ],
      "source": [
        "# Filter the DataFrame for parents' heights between 69.5 and 70.5 inches\n",
        "close_to_70 = heights[(heights['midparentHeight'] >= 69.5) & (heights['midparentHeight'] <= 70.5)]\n",
        "\n",
        "# Compute the average of their children's height\n",
        "average_child_height = close_to_70['childHeight'].mean()\n",
        "\n",
        "# Round the result to 4 decimal points\n",
        "average_child_height_rounded = round(average_child_height, 4)\n",
        "\n",
        "average_child_height_rounded"
      ]
    },
    {
      "cell_type": "code",
      "execution_count": 142,
      "id": "1961634e-48f6-4157-b6f1-0a43fdd9d960",
      "metadata": {
        "deletable": false,
        "editable": false,
        "id": "1961634e-48f6-4157-b6f1-0a43fdd9d960",
        "nbgrader": {
          "cell_type": "code",
          "checksum": "8ec3b2ecfebbaed226eabe54937cf5c5",
          "grade": true,
          "grade_id": "cell-b9aca2d89736367c",
          "locked": true,
          "points": 10,
          "schema_version": 3,
          "solution": false,
          "task": false
        }
      },
      "outputs": [],
      "source": [
        "# TEST CELL: do not delete!"
      ]
    },
    {
      "cell_type": "markdown",
      "id": "ba00a008-9039-480e-b049-f34c7ad8f08c",
      "metadata": {
        "deletable": false,
        "editable": false,
        "id": "ba00a008-9039-480e-b049-f34c7ad8f08c",
        "nbgrader": {
          "cell_type": "markdown",
          "checksum": "39de407322adb05e1d1f76f6b42b7699",
          "grade": false,
          "grade_id": "cell-16d9e4e0d3856198",
          "locked": true,
          "schema_version": 3,
          "solution": false,
          "task": false
        }
      },
      "source": [
        "Run the cell below. The red lines show us the data points considered in our calculation above. The gold point represents our predicted child height based on the parent's height."
      ]
    },
    {
      "cell_type": "code",
      "execution_count": 143,
      "id": "8887e793-76a2-4f2d-a02c-9aac459df192",
      "metadata": {
        "deletable": false,
        "editable": false,
        "id": "8887e793-76a2-4f2d-a02c-9aac459df192",
        "nbgrader": {
          "cell_type": "code",
          "checksum": "b4ba956ecd8ca6e0e9b4a6d18a19f0c1",
          "grade": false,
          "grade_id": "cell-9a7da97b2d6070ea",
          "locked": true,
          "schema_version": 3,
          "solution": false,
          "task": false
        }
      },
      "outputs": [
        {
          "data": {
            "text/plain": [
              "<matplotlib.collections.PathCollection at 0x17c7a4350>"
            ]
          },
          "execution_count": 143,
          "metadata": {},
          "output_type": "execute_result"
        },
        {
          "data": {
            "image/png": "[encoded data removed]",
            "text/plain": [
              "<Figure size 640x480 with 1 Axes>"
            ]
          },
          "metadata": {},
          "output_type": "display_data"
        }
      ],
      "source": [
        "plt.scatter(midparentHeight, childHeight, s=10)\n",
        "plt.xlabel('Parent Average')\n",
        "plt.ylabel('Child')\n",
        "\n",
        "plt.plot([69.5, 69.5], [50, 85], color='red', lw=2)  # plots red vertical lines\n",
        "plt.plot([70.5, 70.5], [50, 85], color='red', lw=2)\n",
        "plt.scatter(70, average_child_height_rounded, color='gold', s=40)  # plots gold point"
      ]
    },
    {
      "cell_type": "markdown",
      "id": "8c87d47e-6d99-4701-8ef4-384ac2a46847",
      "metadata": {
        "deletable": false,
        "editable": false,
        "id": "8c87d47e-6d99-4701-8ef4-384ac2a46847",
        "nbgrader": {
          "cell_type": "markdown",
          "checksum": "a244fc3d2265f63fcf5bf0420f578889",
          "grade": false,
          "grade_id": "cell-abac1cd46766e22d",
          "locked": true,
          "schema_version": 3,
          "solution": false,
          "task": false
        }
      },
      "source": [
        "Instead of repeating these steps for each point we'd like to predict, we can implement a function instead!"
      ]
    },
    {
      "cell_type": "markdown",
      "id": "242d0e5d-10b9-43ec-91c0-7c431248e00b",
      "metadata": {
        "deletable": false,
        "editable": false,
        "id": "242d0e5d-10b9-43ec-91c0-7c431248e00b",
        "nbgrader": {
          "cell_type": "markdown",
          "checksum": "2e2b0ce07ca85a82028a6d7f980f2b7e",
          "grade": false,
          "grade_id": "cell-cc0eb260186fb1c3",
          "locked": true,
          "schema_version": 3,
          "solution": false,
          "task": false
        }
      },
      "source": [
        "**Question 1.4.** Implement a function called `predict_child` whose only argument is the average height of the parents. The function should return the predicted height of the child, rounded to four decimal points."
      ]
    },
    {
      "cell_type": "code",
      "execution_count": 144,
      "id": "2b5476d1-8736-4e90-8528-48923ff082c9",
      "metadata": {
        "deletable": false,
        "id": "2b5476d1-8736-4e90-8528-48923ff082c9",
        "nbgrader": {
          "cell_type": "code",
          "checksum": "2e375861e9993f632f84bd70c2638f2a",
          "grade": false,
          "grade_id": "cell-e7eb587ecc865daa",
          "locked": false,
          "schema_version": 3,
          "solution": true,
          "task": false
        }
      },
      "outputs": [],
      "source": [
        "# YOUR CODE HERE\n",
        "def predict_child(parent_avg_height):\n",
        "    # Filter the DataFrame for the given range of parent average height\n",
        "    close_to_avg = heights[(heights['midparentHeight'] >= parent_avg_height - 0.5) & \n",
        "                           (heights['midparentHeight'] <= parent_avg_height + 0.5)]\n",
        "    \n",
        "    # Compute the average of their children's height\n",
        "    average_child_height = close_to_avg['childHeight'].mean()\n",
        "    \n",
        "    # Round the result to 4 decimal points\n",
        "    average_child_height_rounded = round(average_child_height, 4)\n",
        "    \n",
        "    return average_child_height_rounded"
      ]
    },
    {
      "cell_type": "code",
      "execution_count": 145,
      "id": "c52dff12-12a5-4fb9-84ea-66c520374b2a",
      "metadata": {
        "deletable": false,
        "editable": false,
        "id": "c52dff12-12a5-4fb9-84ea-66c520374b2a",
        "nbgrader": {
          "cell_type": "code",
          "checksum": "91b6d17b865215e6c6f008eaf8b0e1ef",
          "grade": true,
          "grade_id": "cell-ffd5859e1d7ad753",
          "locked": true,
          "points": 10,
          "schema_version": 3,
          "solution": false,
          "task": false
        }
      },
      "outputs": [],
      "source": [
        "# TEST CELL: do not delete!\n",
        "### VISIBLE TESTS\n",
        "assert(predict_child(70) == 67.2729)"
      ]
    },
    {
      "cell_type": "markdown",
      "id": "e8371421-c849-470d-a649-8f0eea63c14d",
      "metadata": {
        "deletable": false,
        "editable": false,
        "id": "e8371421-c849-470d-a649-8f0eea63c14d",
        "nbgrader": {
          "cell_type": "markdown",
          "checksum": "1e1be077dc744d4e693e7a516aeb0ba0",
          "grade": false,
          "grade_id": "cell-af4a588c0318f491",
          "locked": true,
          "schema_version": 3,
          "solution": false,
          "task": false
        }
      },
      "source": [
        "We can get a sense of how good our predictions are by comparing the predictions with the data we already have. Let's use our function defined above to calculate the predicted child height of each average couple height."
      ]
    },
    {
      "cell_type": "markdown",
      "id": "52deb8f3-0633-4403-aa8a-38bfd4c1633b",
      "metadata": {
        "deletable": false,
        "editable": false,
        "id": "52deb8f3-0633-4403-aa8a-38bfd4c1633b",
        "nbgrader": {
          "cell_type": "markdown",
          "checksum": "32ef6e8a29626bddbb579430508c1512",
          "grade": false,
          "grade_id": "cell-bbd4392af62d2976",
          "locked": true,
          "schema_version": 3,
          "solution": false,
          "task": false
        }
      },
      "source": [
        "**Question 1.5.** Write a `for` loop that goes through each average parent height in `heights` and uses the `child_predictions` function to calculate the child's height. Append each answer to the array `child_predictions`."
      ]
    },
    {
      "cell_type": "code",
      "execution_count": 146,
      "id": "db846e20-e3a6-4888-8d20-31e50d130ce3",
      "metadata": {
        "deletable": false,
        "id": "db846e20-e3a6-4888-8d20-31e50d130ce3",
        "nbgrader": {
          "cell_type": "code",
          "checksum": "fe52ae5282ff54664d2ee01492e78a32",
          "grade": false,
          "grade_id": "cell-8719809a5cb6218c",
          "locked": false,
          "schema_version": 3,
          "solution": true,
          "task": false
        }
      },
      "outputs": [
        {
          "data": {
            "text/html": [
              "<div>\n",
              "<style scoped>\n",
              "    .dataframe tbody tr th:only-of-type {\n",
              "        vertical-align: middle;\n",
              "    }\n",
              "\n",
              "    .dataframe tbody tr th {\n",
              "        vertical-align: top;\n",
              "    }\n",
              "\n",
              "    .dataframe thead th {\n",
              "        text-align: right;\n",
              "    }\n",
              "</style>\n",
              "<table border=\"1\" class=\"dataframe\">\n",
              "  <thead>\n",
              "    <tr style=\"text-align: right;\">\n",
              "      <th></th>\n",
              "      <th>family</th>\n",
              "      <th>father</th>\n",
              "      <th>mother</th>\n",
              "      <th>midparentHeight</th>\n",
              "      <th>children</th>\n",
              "      <th>childNum</th>\n",
              "      <th>sex</th>\n",
              "      <th>childHeight</th>\n",
              "      <th>Predictions</th>\n",
              "    </tr>\n",
              "  </thead>\n",
              "  <tbody>\n",
              "    <tr>\n",
              "      <th>0</th>\n",
              "      <td>1</td>\n",
              "      <td>78.5</td>\n",
              "      <td>67.0</td>\n",
              "      <td>75.43</td>\n",
              "      <td>4</td>\n",
              "      <td>1</td>\n",
              "      <td>male</td>\n",
              "      <td>73.2</td>\n",
              "      <td>70.1000</td>\n",
              "    </tr>\n",
              "    <tr>\n",
              "      <th>1</th>\n",
              "      <td>1</td>\n",
              "      <td>78.5</td>\n",
              "      <td>67.0</td>\n",
              "      <td>75.43</td>\n",
              "      <td>4</td>\n",
              "      <td>2</td>\n",
              "      <td>female</td>\n",
              "      <td>69.2</td>\n",
              "      <td>70.1000</td>\n",
              "    </tr>\n",
              "    <tr>\n",
              "      <th>2</th>\n",
              "      <td>1</td>\n",
              "      <td>78.5</td>\n",
              "      <td>67.0</td>\n",
              "      <td>75.43</td>\n",
              "      <td>4</td>\n",
              "      <td>3</td>\n",
              "      <td>female</td>\n",
              "      <td>69.0</td>\n",
              "      <td>70.1000</td>\n",
              "    </tr>\n",
              "    <tr>\n",
              "      <th>3</th>\n",
              "      <td>1</td>\n",
              "      <td>78.5</td>\n",
              "      <td>67.0</td>\n",
              "      <td>75.43</td>\n",
              "      <td>4</td>\n",
              "      <td>4</td>\n",
              "      <td>female</td>\n",
              "      <td>69.0</td>\n",
              "      <td>70.1000</td>\n",
              "    </tr>\n",
              "    <tr>\n",
              "      <th>4</th>\n",
              "      <td>2</td>\n",
              "      <td>75.5</td>\n",
              "      <td>66.5</td>\n",
              "      <td>73.66</td>\n",
              "      <td>4</td>\n",
              "      <td>1</td>\n",
              "      <td>male</td>\n",
              "      <td>73.5</td>\n",
              "      <td>70.4158</td>\n",
              "    </tr>\n",
              "    <tr>\n",
              "      <th>...</th>\n",
              "      <td>...</td>\n",
              "      <td>...</td>\n",
              "      <td>...</td>\n",
              "      <td>...</td>\n",
              "      <td>...</td>\n",
              "      <td>...</td>\n",
              "      <td>...</td>\n",
              "      <td>...</td>\n",
              "      <td>...</td>\n",
              "    </tr>\n",
              "    <tr>\n",
              "      <th>929</th>\n",
              "      <td>203</td>\n",
              "      <td>62.0</td>\n",
              "      <td>66.0</td>\n",
              "      <td>66.64</td>\n",
              "      <td>3</td>\n",
              "      <td>1</td>\n",
              "      <td>male</td>\n",
              "      <td>64.0</td>\n",
              "      <td>65.1566</td>\n",
              "    </tr>\n",
              "    <tr>\n",
              "      <th>930</th>\n",
              "      <td>203</td>\n",
              "      <td>62.0</td>\n",
              "      <td>66.0</td>\n",
              "      <td>66.64</td>\n",
              "      <td>3</td>\n",
              "      <td>2</td>\n",
              "      <td>female</td>\n",
              "      <td>62.0</td>\n",
              "      <td>65.1566</td>\n",
              "    </tr>\n",
              "    <tr>\n",
              "      <th>931</th>\n",
              "      <td>203</td>\n",
              "      <td>62.0</td>\n",
              "      <td>66.0</td>\n",
              "      <td>66.64</td>\n",
              "      <td>3</td>\n",
              "      <td>3</td>\n",
              "      <td>female</td>\n",
              "      <td>61.0</td>\n",
              "      <td>65.1566</td>\n",
              "    </tr>\n",
              "    <tr>\n",
              "      <th>932</th>\n",
              "      <td>204</td>\n",
              "      <td>62.5</td>\n",
              "      <td>63.0</td>\n",
              "      <td>65.27</td>\n",
              "      <td>2</td>\n",
              "      <td>1</td>\n",
              "      <td>male</td>\n",
              "      <td>66.5</td>\n",
              "      <td>64.2296</td>\n",
              "    </tr>\n",
              "    <tr>\n",
              "      <th>933</th>\n",
              "      <td>204</td>\n",
              "      <td>62.5</td>\n",
              "      <td>63.0</td>\n",
              "      <td>65.27</td>\n",
              "      <td>2</td>\n",
              "      <td>2</td>\n",
              "      <td>female</td>\n",
              "      <td>57.0</td>\n",
              "      <td>64.2296</td>\n",
              "    </tr>\n",
              "  </tbody>\n",
              "</table>\n",
              "<p>934 rows × 9 columns</p>\n",
              "</div>"
            ],
            "text/plain": [
              "    family  father  mother  midparentHeight  children  childNum     sex  \\\n",
              "0        1    78.5    67.0            75.43         4         1    male   \n",
              "1        1    78.5    67.0            75.43         4         2  female   \n",
              "2        1    78.5    67.0            75.43         4         3  female   \n",
              "3        1    78.5    67.0            75.43         4         4  female   \n",
              "4        2    75.5    66.5            73.66         4         1    male   \n",
              "..     ...     ...     ...              ...       ...       ...     ...   \n",
              "929    203    62.0    66.0            66.64         3         1    male   \n",
              "930    203    62.0    66.0            66.64         3         2  female   \n",
              "931    203    62.0    66.0            66.64         3         3  female   \n",
              "932    204    62.5    63.0            65.27         2         1    male   \n",
              "933    204    62.5    63.0            65.27         2         2  female   \n",
              "\n",
              "     childHeight  Predictions  \n",
              "0           73.2      70.1000  \n",
              "1           69.2      70.1000  \n",
              "2           69.0      70.1000  \n",
              "3           69.0      70.1000  \n",
              "4           73.5      70.4158  \n",
              "..           ...          ...  \n",
              "929         64.0      65.1566  \n",
              "930         62.0      65.1566  \n",
              "931         61.0      65.1566  \n",
              "932         66.5      64.2296  \n",
              "933         57.0      64.2296  \n",
              "\n",
              "[934 rows x 9 columns]"
            ]
          },
          "execution_count": 146,
          "metadata": {},
          "output_type": "execute_result"
        }
      ],
      "source": [
        "child_predictions = []\n",
        "\n",
        "# YOUR CODE HERE\n",
        "for avg_height in midparentHeight:\n",
        "    child_height = predict_child(avg_height)\n",
        "    child_predictions.append(child_height)\n",
        "\n",
        "# the code below makes a copy of heights and inserts the Predictions column\n",
        "height_and_prediction = heights.copy()\n",
        "height_and_prediction.insert(8, \"Predictions\", child_predictions, True)\n",
        "height_and_prediction"
      ]
    },
    {
      "cell_type": "code",
      "execution_count": 147,
      "id": "fd9441dd-6b9a-4de7-a73c-62e14fda96d0",
      "metadata": {
        "deletable": false,
        "editable": false,
        "id": "fd9441dd-6b9a-4de7-a73c-62e14fda96d0",
        "nbgrader": {
          "cell_type": "code",
          "checksum": "620d0bacaea1284b1c948d1c52a38f2a",
          "grade": true,
          "grade_id": "cell-1a26fed518da4288",
          "locked": true,
          "points": 5,
          "schema_version": 3,
          "solution": false,
          "task": false
        }
      },
      "outputs": [],
      "source": [
        "# TEST CELL: do not delete!"
      ]
    },
    {
      "cell_type": "markdown",
      "id": "217b4cea-2759-489d-80f0-6e6ed5322356",
      "metadata": {
        "deletable": false,
        "editable": false,
        "id": "217b4cea-2759-489d-80f0-6e6ed5322356",
        "nbgrader": {
          "cell_type": "markdown",
          "checksum": "5331c192453fd0c29721c36fbd7fca5c",
          "grade": false,
          "grade_id": "cell-4fa7c200de110a93",
          "locked": true,
          "schema_version": 3,
          "solution": false,
          "task": false
        }
      },
      "source": [
        "To compare two sets of data, we can scatter two plots on the same set of axes *as long as the x-axis is the same for both datasets*."
      ]
    },
    {
      "cell_type": "markdown",
      "id": "cdfe970b-ddff-4d89-bfdd-b444b12d0afe",
      "metadata": {
        "deletable": false,
        "editable": false,
        "id": "cdfe970b-ddff-4d89-bfdd-b444b12d0afe",
        "nbgrader": {
          "cell_type": "markdown",
          "checksum": "03aaf493d5381b1d3a7f6162ede91c5f",
          "grade": false,
          "grade_id": "cell-2a0dbaede447360f",
          "locked": true,
          "schema_version": 3,
          "solution": false,
          "task": false
        }
      },
      "source": [
        "**Question 1.6.** Scatter the parent average data like you did above, then plot the `Predictions` data that you found. Make sure that both x-axes are the same and include the appropriate labels!"
      ]
    },
    {
      "cell_type": "code",
      "execution_count": 148,
      "id": "bb1c6475-6743-4eca-90cc-c837df9c3211",
      "metadata": {
        "deletable": false,
        "id": "bb1c6475-6743-4eca-90cc-c837df9c3211",
        "nbgrader": {
          "cell_type": "code",
          "checksum": "2ba08539ab670bb25060972a863c0b21",
          "grade": true,
          "grade_id": "cell-f06596ecae9203ec",
          "locked": false,
          "points": 12,
          "schema_version": 3,
          "solution": true,
          "task": false
        }
      },
      "outputs": [
        {
          "data": {
            "image/png": "[encoded data removed]",
            "text/plain": [
              "<Figure size 640x480 with 1 Axes>"
            ]
          },
          "metadata": {},
          "output_type": "display_data"
        }
      ],
      "source": [
        "# YOUR CODE HERE\n",
        "\n",
        "# Scatter plot of the original data\n",
        "plt.scatter(heights['midparentHeight'], heights['childHeight'], s=10, label='Actual Data')\n",
        "plt.xlabel('Parent Average')\n",
        "plt.ylabel('Child Height')\n",
        "\n",
        "# Scatter plot of the predictions\n",
        "plt.scatter(heights['midparentHeight'], child_predictions, color='red', s=10, label='Predictions')\n",
        "\n",
        "# Add legend\n",
        "plt.legend()\n",
        "\n",
        "# Show plot\n",
        "plt.show()"
      ]
    },
    {
      "cell_type": "markdown",
      "id": "9fe88c86-40f9-427b-9a8b-1b28279d4037",
      "metadata": {
        "deletable": false,
        "editable": false,
        "id": "9fe88c86-40f9-427b-9a8b-1b28279d4037",
        "nbgrader": {
          "cell_type": "markdown",
          "checksum": "04f51cb69791d54cfc5b536e2a3abb95",
          "grade": false,
          "grade_id": "cell-ff2c0c62638305af",
          "locked": true,
          "schema_version": 3,
          "solution": false,
          "task": false
        }
      },
      "source": [
        "The graph of predictions is called a *graph of averages* because each dot is the average of a vertical strip (like we did in question 1.3.). Notice how the graph of averages roughly follows a straight line. This line is called the *regression line* and is a common method for making predictions."
      ]
    },
    {
      "cell_type": "markdown",
      "id": "d3bf33e8-4111-4d83-9a2c-bbb6cd0d30b3",
      "metadata": {
        "deletable": false,
        "editable": false,
        "id": "d3bf33e8-4111-4d83-9a2c-bbb6cd0d30b3",
        "nbgrader": {
          "cell_type": "markdown",
          "checksum": "cdbe4c597af4b8e7ee3e3f7493ac75c7",
          "grade": false,
          "grade_id": "cell-2bbbfd686e77fa47",
          "locked": true,
          "schema_version": 3,
          "solution": false,
          "task": false
        }
      },
      "source": [
        "# 2. Regression Models"
      ]
    },
    {
      "cell_type": "markdown",
      "id": "2824a01b-a0ed-4322-9c7c-155decdcb22e",
      "metadata": {
        "deletable": false,
        "editable": false,
        "id": "2824a01b-a0ed-4322-9c7c-155decdcb22e",
        "nbgrader": {
          "cell_type": "markdown",
          "checksum": "5cb0818867ecacece9135dee498b9a7f",
          "grade": false,
          "grade_id": "cell-eb178d5b94cd2494",
          "locked": true,
          "schema_version": 3,
          "solution": false,
          "task": false
        }
      },
      "source": [
        "You may recall from your stats classes the correlation coefficient, $r$, and how it's used to quantify the linear relationship between two variables. It turns out that  $r$ also helps us identify the straight line about which our datapoints are clustered, making useful for linear regression models."
      ]
    },
    {
      "cell_type": "markdown",
      "id": "7d6adfd0-22cc-4717-b29c-481c4dd19d8c",
      "metadata": {
        "deletable": false,
        "editable": false,
        "id": "7d6adfd0-22cc-4717-b29c-481c4dd19d8c",
        "nbgrader": {
          "cell_type": "markdown",
          "checksum": "6fda826cd109f050029540a64858fbdc",
          "grade": false,
          "grade_id": "cell-117b1eaafac37398",
          "locked": true,
          "schema_version": 3,
          "solution": false,
          "task": false
        }
      },
      "source": [
        "**Question 2.1.** Use the `corrcoef` function to calculate the correlation coefficient between the predicted data above and the average parent height. Assign your answer to the name `correlation_coefficient`."
      ]
    },
    {
      "cell_type": "code",
      "execution_count": 149,
      "id": "1ce2d719-a305-4fd6-9bb4-4f7875f95d10",
      "metadata": {
        "deletable": false,
        "id": "1ce2d719-a305-4fd6-9bb4-4f7875f95d10",
        "nbgrader": {
          "cell_type": "code",
          "checksum": "c14581c3b25f40ba817d5280785259a9",
          "grade": false,
          "grade_id": "cell-b4cd34a12549c83a",
          "locked": false,
          "schema_version": 3,
          "solution": true,
          "task": false
        }
      },
      "outputs": [
        {
          "data": {
            "text/plain": [
              "0.9732141181326849"
            ]
          },
          "execution_count": 149,
          "metadata": {},
          "output_type": "execute_result"
        }
      ],
      "source": [
        "# YOUR CODE HERE\n",
        "# Calculate the correlation coefficient\n",
        "correlation_coefficient = np.corrcoef(heights['midparentHeight'], child_predictions)[0, 1]\n",
        "\n",
        "correlation_coefficient"
      ]
    },
    {
      "cell_type": "code",
      "execution_count": 150,
      "id": "832d234b-979d-4871-b316-246052da8d1a",
      "metadata": {
        "deletable": false,
        "editable": false,
        "id": "832d234b-979d-4871-b316-246052da8d1a",
        "nbgrader": {
          "cell_type": "code",
          "checksum": "901ea8d6ea0cdbc948b2e5723f74682d",
          "grade": true,
          "grade_id": "cell-1f1ac502a1bb4681",
          "locked": true,
          "points": 5,
          "schema_version": 3,
          "solution": false,
          "task": false
        }
      },
      "outputs": [],
      "source": [
        "# TEST CELL: do not delete!"
      ]
    },
    {
      "cell_type": "markdown",
      "id": "1c0fdcea-b401-48d9-95a0-8ee4f54958ad",
      "metadata": {
        "deletable": false,
        "editable": false,
        "id": "1c0fdcea-b401-48d9-95a0-8ee4f54958ad",
        "nbgrader": {
          "cell_type": "markdown",
          "checksum": "4d8506b41b916bf86bb906581ee8f7cf",
          "grade": false,
          "grade_id": "cell-5a9e33c987ad25ca",
          "locked": true,
          "schema_version": 3,
          "solution": false,
          "task": false
        }
      },
      "source": [
        "## Standard Units\n",
        "\n",
        "Notice that when we calculate $r$, it doesn't use any units. This is because $r$ is based on *standard units*.  To calculate standard units, subtract the mean from the data point and divide by the standard deviation: $$Z = \\frac{X - \\mu}{\\sigma}$$"
      ]
    },
    {
      "cell_type": "markdown",
      "id": "9cfcb1ec-f878-4a1f-a651-a68b26ecf83f",
      "metadata": {
        "deletable": false,
        "editable": false,
        "id": "9cfcb1ec-f878-4a1f-a651-a68b26ecf83f",
        "nbgrader": {
          "cell_type": "markdown",
          "checksum": "94feb62101c2757d21640e6b4dd25340",
          "grade": false,
          "grade_id": "cell-2bac14ccf53cae68",
          "locked": true,
          "schema_version": 3,
          "solution": false,
          "task": false
        }
      },
      "source": [
        "**Question 2.2.** Create a function that converts an array of numbers to standard units. The function takes one argument which is the original array and returns the converted array. Then, create a new DataFrame that contains the converted data with the columns `MidParent SU` and `Child SU`.   Assign your new DataFrame to `heights_SU`."
      ]
    },
    {
      "cell_type": "code",
      "execution_count": 151,
      "id": "4ac70089-806b-4ddf-81e9-766725b4f266",
      "metadata": {
        "deletable": false,
        "id": "4ac70089-806b-4ddf-81e9-766725b4f266",
        "nbgrader": {
          "cell_type": "code",
          "checksum": "e8b71c92685b2639eb8ab37855f0a147",
          "grade": false,
          "grade_id": "cell-abb9ef863959e4ff",
          "locked": false,
          "schema_version": 3,
          "solution": true,
          "task": false
        }
      },
      "outputs": [
        {
          "data": {
            "text/html": [
              "<div>\n",
              "<style scoped>\n",
              "    .dataframe tbody tr th:only-of-type {\n",
              "        vertical-align: middle;\n",
              "    }\n",
              "\n",
              "    .dataframe tbody tr th {\n",
              "        vertical-align: top;\n",
              "    }\n",
              "\n",
              "    .dataframe thead th {\n",
              "        text-align: right;\n",
              "    }\n",
              "</style>\n",
              "<table border=\"1\" class=\"dataframe\">\n",
              "  <thead>\n",
              "    <tr style=\"text-align: right;\">\n",
              "      <th></th>\n",
              "      <th>MidParent SU</th>\n",
              "      <th>Child SU</th>\n",
              "    </tr>\n",
              "  </thead>\n",
              "  <tbody>\n",
              "    <tr>\n",
              "      <th>0</th>\n",
              "      <td>3.454652</td>\n",
              "      <td>1.804156</td>\n",
              "    </tr>\n",
              "    <tr>\n",
              "      <th>1</th>\n",
              "      <td>3.454652</td>\n",
              "      <td>0.686005</td>\n",
              "    </tr>\n",
              "    <tr>\n",
              "      <th>2</th>\n",
              "      <td>3.454652</td>\n",
              "      <td>0.630097</td>\n",
              "    </tr>\n",
              "    <tr>\n",
              "      <th>3</th>\n",
              "      <td>3.454652</td>\n",
              "      <td>0.630097</td>\n",
              "    </tr>\n",
              "    <tr>\n",
              "      <th>4</th>\n",
              "      <td>2.472085</td>\n",
              "      <td>1.888017</td>\n",
              "    </tr>\n",
              "    <tr>\n",
              "      <th>...</th>\n",
              "      <td>...</td>\n",
              "      <td>...</td>\n",
              "    </tr>\n",
              "    <tr>\n",
              "      <th>929</th>\n",
              "      <td>-1.424873</td>\n",
              "      <td>-0.767591</td>\n",
              "    </tr>\n",
              "    <tr>\n",
              "      <th>930</th>\n",
              "      <td>-1.424873</td>\n",
              "      <td>-1.326667</td>\n",
              "    </tr>\n",
              "    <tr>\n",
              "      <th>931</th>\n",
              "      <td>-1.424873</td>\n",
              "      <td>-1.606205</td>\n",
              "    </tr>\n",
              "    <tr>\n",
              "      <th>932</th>\n",
              "      <td>-2.185390</td>\n",
              "      <td>-0.068747</td>\n",
              "    </tr>\n",
              "    <tr>\n",
              "      <th>933</th>\n",
              "      <td>-2.185390</td>\n",
              "      <td>-2.724356</td>\n",
              "    </tr>\n",
              "  </tbody>\n",
              "</table>\n",
              "<p>934 rows × 2 columns</p>\n",
              "</div>"
            ],
            "text/plain": [
              "     MidParent SU  Child SU\n",
              "0        3.454652  1.804156\n",
              "1        3.454652  0.686005\n",
              "2        3.454652  0.630097\n",
              "3        3.454652  0.630097\n",
              "4        2.472085  1.888017\n",
              "..            ...       ...\n",
              "929     -1.424873 -0.767591\n",
              "930     -1.424873 -1.326667\n",
              "931     -1.424873 -1.606205\n",
              "932     -2.185390 -0.068747\n",
              "933     -2.185390 -2.724356\n",
              "\n",
              "[934 rows x 2 columns]"
            ]
          },
          "execution_count": 151,
          "metadata": {},
          "output_type": "execute_result"
        }
      ],
      "source": [
        "\n",
        "\n",
        "def to_standard_units(arr):\n",
        "    \"\"\"Convert an array of numbers to standard units.\"\"\"\n",
        "    mean = np.mean(arr)\n",
        "    std = np.std(arr)\n",
        "    return (arr - mean) / std\n",
        "\n",
        "# Convert the 'midparentHeight' and 'childHeight' columns to standard units\n",
        "midparent_height_su = to_standard_units(heights['midparentHeight'])\n",
        "child_height_su = to_standard_units(heights['childHeight'])\n",
        "\n",
        "# Create a new DataFrame with the converted data\n",
        "heights_SU = pd.DataFrame({\n",
        "    'MidParent SU': midparent_height_su,\n",
        "    'Child SU': child_height_su\n",
        "})\n",
        "\n",
        "heights_SU"
      ]
    },
    {
      "cell_type": "code",
      "execution_count": 152,
      "id": "981df77c-113e-4ce9-bfda-6645f1149458",
      "metadata": {
        "deletable": false,
        "editable": false,
        "id": "981df77c-113e-4ce9-bfda-6645f1149458",
        "nbgrader": {
          "cell_type": "code",
          "checksum": "36094b60fd80adf4c73c16aaf45387f9",
          "grade": true,
          "grade_id": "cell-782fcfa43e7b0640",
          "locked": true,
          "points": 10,
          "schema_version": 3,
          "solution": false,
          "task": false
        }
      },
      "outputs": [],
      "source": [
        "# TEST CELL: do not delete!"
      ]
    },
    {
      "cell_type": "markdown",
      "id": "268e8188-5a8b-4898-a9a2-8bb6b545e276",
      "metadata": {
        "deletable": false,
        "editable": false,
        "id": "268e8188-5a8b-4898-a9a2-8bb6b545e276",
        "nbgrader": {
          "cell_type": "markdown",
          "checksum": "2f0b2992337fd67592511454d7bee97e",
          "grade": false,
          "grade_id": "cell-8394a47f0a4c84a3",
          "locked": true,
          "schema_version": 3,
          "solution": false,
          "task": false
        }
      },
      "source": [
        "On this scale, we can calculate our predictions exactly as before. But first we have to figure out how to convert our old definition of “close” points to a value on the new scale. We had said that midparent heights were “close” if they were within 0.5 inches of each other. Since standard units measure distances in units of SDs, we have to figure out how many SDs of midparent height correspond to 0.5 inches."
      ]
    },
    {
      "cell_type": "markdown",
      "id": "f6f1078f-469f-4889-81eb-760f770a26f0",
      "metadata": {
        "deletable": false,
        "editable": false,
        "id": "f6f1078f-469f-4889-81eb-760f770a26f0",
        "nbgrader": {
          "cell_type": "markdown",
          "checksum": "607fcfaee604a4fc56e17b6042f7461f",
          "grade": false,
          "grade_id": "cell-b6450f713590ddee",
          "locked": true,
          "schema_version": 3,
          "solution": false,
          "task": false
        }
      },
      "source": [
        "**Question 2.3.** Calculate how many inches **one** SD of midparent heights is. How many SDs would 0.5 inches be? Assign your answers to `sd_midparent` and `close` respectively."
      ]
    },
    {
      "cell_type": "code",
      "execution_count": 153,
      "id": "f8092206-6596-40ea-9408-f294c1b05658",
      "metadata": {
        "deletable": false,
        "id": "f8092206-6596-40ea-9408-f294c1b05658",
        "nbgrader": {
          "cell_type": "code",
          "checksum": "468e3f7a2b47a3facad5d6746603e48c",
          "grade": false,
          "grade_id": "cell-6317ff7126753c15",
          "locked": false,
          "schema_version": 3,
          "solution": true,
          "task": false
        }
      },
      "outputs": [
        {
          "data": {
            "text/plain": [
              "(1.8014050969207576, 0.27756111096536695)"
            ]
          },
          "execution_count": 153,
          "metadata": {},
          "output_type": "execute_result"
        }
      ],
      "source": [
        "# YOUR CODE HERE\n",
        "# # Calculate the standard deviation of midparent heights\n",
        "sd_midparent = np.std(heights['midparentHeight'])\n",
        "\n",
        "# Calculate how many SDs 0.5 inches would be\n",
        "close = 0.5 / sd_midparent\n",
        "\n",
        "sd_midparent, close\n"
      ]
    },
    {
      "cell_type": "code",
      "execution_count": 154,
      "id": "a62f2440-7f8d-40d3-b198-d10752027393",
      "metadata": {
        "deletable": false,
        "editable": false,
        "id": "a62f2440-7f8d-40d3-b198-d10752027393",
        "nbgrader": {
          "cell_type": "code",
          "checksum": "5161bfb76251fbc8997955b0c3417cac",
          "grade": true,
          "grade_id": "cell-c895e7e7e6725473",
          "locked": true,
          "points": 4,
          "schema_version": 3,
          "solution": false,
          "task": false
        }
      },
      "outputs": [],
      "source": [
        "# TEST CELL: do not delete!"
      ]
    },
    {
      "cell_type": "markdown",
      "id": "b000fcb2-36f1-4e21-8cd7-34b190128ced",
      "metadata": {
        "deletable": false,
        "editable": false,
        "id": "b000fcb2-36f1-4e21-8cd7-34b190128ced",
        "nbgrader": {
          "cell_type": "markdown",
          "checksum": "dcbcb2ba1b08507398ef6c515004480b",
          "grade": false,
          "grade_id": "cell-15961e3779f6e835",
          "locked": true,
          "schema_version": 3,
          "solution": false,
          "task": false
        }
      },
      "source": [
        "**Question 2.4.** Now, make a function like you did in question 1.4. but instead of subtracting and adding 0.5, use your `close` variable that you defined above. Name your function `predict_child_SU` and round your answer to 4 decimal points."
      ]
    },
    {
      "cell_type": "code",
      "execution_count": 155,
      "id": "443ea591-d056-4e36-8746-990675bf8d3c",
      "metadata": {
        "deletable": false,
        "id": "443ea591-d056-4e36-8746-990675bf8d3c",
        "nbgrader": {
          "cell_type": "code",
          "checksum": "ed1c4e0e4c4860ae52802a4f6ae47f1f",
          "grade": false,
          "grade_id": "cell-afdea85c4f53e688",
          "locked": false,
          "schema_version": 3,
          "solution": true,
          "task": false
        }
      },
      "outputs": [],
      "source": [
        "# YOUR CODE HERE\n",
        "def predict_child_SU(parent_avg_height):\n",
        "    # Calculate the standard deviation of midparent heights\n",
        "    sd_midparent = np.std(heights['midparentHeight'])\n",
        "    \n",
        "    # Calculate how many SDs 0.5 inches would be\n",
        "    close = 0.5 / sd_midparent\n",
        "    \n",
        "    # Filter the DataFrame for the given range of parent average height using the 'close' variable\n",
        "    close_to_avg = heights[(heights['midparentHeight'] >= parent_avg_height - close * sd_midparent) & \n",
        "                           (heights['midparentHeight'] <= parent_avg_height + close * sd_midparent)]\n",
        "    \n",
        "    # Compute the average of their children's height\n",
        "    average_child_height = close_to_avg['childHeight'].mean()\n",
        "    \n",
        "    # Round the result to 4 decimal points\n",
        "    average_child_height_rounded = round(average_child_height, 4)\n",
        "    \n",
        "    return average_child_height_rounded"
      ]
    },
    {
      "cell_type": "markdown",
      "id": "f142180d-e7eb-442f-932f-e2cad9df74e7",
      "metadata": {
        "deletable": false,
        "editable": false,
        "id": "f142180d-e7eb-442f-932f-e2cad9df74e7",
        "nbgrader": {
          "cell_type": "markdown",
          "checksum": "ff2bd4340152618cc42d5f73b0e49c57",
          "grade": false,
          "grade_id": "cell-f6f54a36a373c12e",
          "locked": true,
          "schema_version": 3,
          "solution": false,
          "task": false
        }
      },
      "source": [
        "Write a for loop that iterates through all of `MidParent SU` and uses `predict_child_SU` to predict the child's SU. Append your answers to `child_predictions_SU`."
      ]
    },
    {
      "cell_type": "code",
      "execution_count": 156,
      "id": "97ec5f00-f254-4459-800f-02487719cd76",
      "metadata": {
        "deletable": false,
        "id": "97ec5f00-f254-4459-800f-02487719cd76",
        "nbgrader": {
          "cell_type": "code",
          "checksum": "1b0b298a4b51226e7ede709cdfded051",
          "grade": false,
          "grade_id": "cell-d48e03c1b4e6a5e0",
          "locked": false,
          "schema_version": 3,
          "solution": true,
          "task": false
        }
      },
      "outputs": [
        {
          "data": {
            "text/html": [
              "<div>\n",
              "<style scoped>\n",
              "    .dataframe tbody tr th:only-of-type {\n",
              "        vertical-align: middle;\n",
              "    }\n",
              "\n",
              "    .dataframe tbody tr th {\n",
              "        vertical-align: top;\n",
              "    }\n",
              "\n",
              "    .dataframe thead th {\n",
              "        text-align: right;\n",
              "    }\n",
              "</style>\n",
              "<table border=\"1\" class=\"dataframe\">\n",
              "  <thead>\n",
              "    <tr style=\"text-align: right;\">\n",
              "      <th></th>\n",
              "      <th>MidParent SU</th>\n",
              "      <th>Child SU</th>\n",
              "      <th>Predictions SU</th>\n",
              "    </tr>\n",
              "  </thead>\n",
              "  <tbody>\n",
              "    <tr>\n",
              "      <th>0</th>\n",
              "      <td>3.454652</td>\n",
              "      <td>1.804156</td>\n",
              "      <td>NaN</td>\n",
              "    </tr>\n",
              "    <tr>\n",
              "      <th>1</th>\n",
              "      <td>3.454652</td>\n",
              "      <td>0.686005</td>\n",
              "      <td>NaN</td>\n",
              "    </tr>\n",
              "    <tr>\n",
              "      <th>2</th>\n",
              "      <td>3.454652</td>\n",
              "      <td>0.630097</td>\n",
              "      <td>NaN</td>\n",
              "    </tr>\n",
              "    <tr>\n",
              "      <th>3</th>\n",
              "      <td>3.454652</td>\n",
              "      <td>0.630097</td>\n",
              "      <td>NaN</td>\n",
              "    </tr>\n",
              "    <tr>\n",
              "      <th>4</th>\n",
              "      <td>2.472085</td>\n",
              "      <td>1.888017</td>\n",
              "      <td>NaN</td>\n",
              "    </tr>\n",
              "    <tr>\n",
              "      <th>...</th>\n",
              "      <td>...</td>\n",
              "      <td>...</td>\n",
              "      <td>...</td>\n",
              "    </tr>\n",
              "    <tr>\n",
              "      <th>929</th>\n",
              "      <td>-1.424873</td>\n",
              "      <td>-0.767591</td>\n",
              "      <td>NaN</td>\n",
              "    </tr>\n",
              "    <tr>\n",
              "      <th>930</th>\n",
              "      <td>-1.424873</td>\n",
              "      <td>-1.326667</td>\n",
              "      <td>NaN</td>\n",
              "    </tr>\n",
              "    <tr>\n",
              "      <th>931</th>\n",
              "      <td>-1.424873</td>\n",
              "      <td>-1.606205</td>\n",
              "      <td>NaN</td>\n",
              "    </tr>\n",
              "    <tr>\n",
              "      <th>932</th>\n",
              "      <td>-2.185390</td>\n",
              "      <td>-0.068747</td>\n",
              "      <td>NaN</td>\n",
              "    </tr>\n",
              "    <tr>\n",
              "      <th>933</th>\n",
              "      <td>-2.185390</td>\n",
              "      <td>-2.724356</td>\n",
              "      <td>NaN</td>\n",
              "    </tr>\n",
              "  </tbody>\n",
              "</table>\n",
              "<p>934 rows × 3 columns</p>\n",
              "</div>"
            ],
            "text/plain": [
              "     MidParent SU  Child SU  Predictions SU\n",
              "0        3.454652  1.804156             NaN\n",
              "1        3.454652  0.686005             NaN\n",
              "2        3.454652  0.630097             NaN\n",
              "3        3.454652  0.630097             NaN\n",
              "4        2.472085  1.888017             NaN\n",
              "..            ...       ...             ...\n",
              "929     -1.424873 -0.767591             NaN\n",
              "930     -1.424873 -1.326667             NaN\n",
              "931     -1.424873 -1.606205             NaN\n",
              "932     -2.185390 -0.068747             NaN\n",
              "933     -2.185390 -2.724356             NaN\n",
              "\n",
              "[934 rows x 3 columns]"
            ]
          },
          "execution_count": 156,
          "metadata": {},
          "output_type": "execute_result"
        }
      ],
      "source": [
        "child_predictions_SU = []\n",
        "\n",
        "# YOUR CODE HERE\n",
        "child_predictions_SU = []\n",
        "\n",
        "# YOUR CODE HERE\n",
        "for avg_height_su in heights_SU['MidParent SU']:\n",
        "    child_height_su = predict_child_SU(avg_height_su)\n",
        "    child_predictions_SU.append(child_height_su)\n",
        "\n",
        "child_predictions_SU\n",
        "\n",
        "# the code below makes a copy of heights_SU and inserts the Predictions SU column\n",
        "height_and_prediction_SU = heights_SU.copy()\n",
        "height_and_prediction_SU.insert(2, \"Predictions SU\", child_predictions_SU, True)\n",
        "height_and_prediction_SU"
      ]
    },
    {
      "cell_type": "code",
      "execution_count": 157,
      "id": "117fff73-32ee-4491-a796-77f180cc682d",
      "metadata": {
        "deletable": false,
        "editable": false,
        "id": "117fff73-32ee-4491-a796-77f180cc682d",
        "nbgrader": {
          "cell_type": "code",
          "checksum": "06564a951c7ec677a18506b81c903fbc",
          "grade": true,
          "grade_id": "cell-c52f03e34fe4a4a4",
          "locked": true,
          "points": 10,
          "schema_version": 3,
          "solution": false,
          "task": false
        }
      },
      "outputs": [],
      "source": [
        "# TEST CELL: do not delete!"
      ]
    },
    {
      "cell_type": "markdown",
      "id": "7d3f94c7-2527-46a3-9ee6-b0d670d5a186",
      "metadata": {
        "deletable": false,
        "editable": false,
        "id": "7d3f94c7-2527-46a3-9ee6-b0d670d5a186",
        "nbgrader": {
          "cell_type": "markdown",
          "checksum": "6c06f64bcdb02e97c21738b1fed69e16",
          "grade": false,
          "grade_id": "cell-10180fc50e532442",
          "locked": true,
          "schema_version": 3,
          "solution": false,
          "task": false
        }
      },
      "source": [
        "**Question 2.5.** Now make a scatter plot of the SU child data and the SU prediction data (similar to how you did in question 1.6.)."
      ]
    },
    {
      "cell_type": "code",
      "execution_count": 158,
      "id": "2d521eeb",
      "metadata": {},
      "outputs": [
        {
          "data": {
            "image/png": "[encoded data removed]",
            "text/plain": [
              "<Figure size 640x480 with 1 Axes>"
            ]
          },
          "metadata": {},
          "output_type": "display_data"
        }
      ],
      "source": [
        "# Scatter plot of the original SU data\n",
        "plt.scatter(heights_SU['MidParent SU'], heights_SU['Child SU'], s=10, label='Actual SU Data')\n",
        "plt.xlabel('MidParent SU')\n",
        "plt.ylabel('Child SU')\n",
        "\n",
        "# Scatter plot of the SU predictions\n",
        "plt.scatter(heights_SU['MidParent SU'], child_predictions_SU, color='red', s=10, label='Predicted SU Data')\n",
        "\n",
        "# Add legend\n",
        "plt.legend()\n",
        "\n",
        "# Show plot\n",
        "plt.show()"
      ]
    },
    {
      "cell_type": "markdown",
      "id": "74655e19-380d-4c8c-9aeb-10bb7336d86d",
      "metadata": {
        "deletable": false,
        "editable": false,
        "id": "74655e19-380d-4c8c-9aeb-10bb7336d86d",
        "nbgrader": {
          "cell_type": "markdown",
          "checksum": "320b81d0ccc97b7fb805dad176fe1884",
          "grade": false,
          "grade_id": "cell-6fca5ed4effdd90f",
          "locked": true,
          "schema_version": 3,
          "solution": false,
          "task": false
        }
      },
      "source": [
        "Notice how the plotted SU data is the exact same as the original data, only the axes are different. This confirms that we can understand the prediction process using standard units."
      ]
    },
    {
      "cell_type": "markdown",
      "id": "009098de-91b2-4d2b-9c64-f60059488836",
      "metadata": {
        "deletable": false,
        "editable": false,
        "id": "009098de-91b2-4d2b-9c64-f60059488836",
        "nbgrader": {
          "cell_type": "markdown",
          "checksum": "4b9dc4cc6c20522e0f498787c3366faa",
          "grade": false,
          "grade_id": "cell-e2e12997156f525a",
          "locked": true,
          "schema_version": 3,
          "solution": false,
          "task": false
        }
      },
      "source": [
        "# 3. The Regression Line\n",
        "\n",
        "In regression, we use the value of one variable, $x$, to predict the value of another, $y$. When the variables are measured in standard units, the regression line for predicting based on has slope $$r * \\frac{SD_y}{SD_x}$$\n",
        " and passes through the origin $$\\bar{y} - slope * \\bar{x}$$"
      ]
    },
    {
      "cell_type": "markdown",
      "id": "03b9cf75-bfbb-4e11-a5f1-ed4a955d480b",
      "metadata": {
        "deletable": false,
        "editable": false,
        "id": "03b9cf75-bfbb-4e11-a5f1-ed4a955d480b",
        "nbgrader": {
          "cell_type": "markdown",
          "checksum": "96b844a419326624684c86cda805f2cf",
          "grade": false,
          "grade_id": "cell-bd41985e4e2af5d9",
          "locked": true,
          "schema_version": 3,
          "solution": false,
          "task": false
        }
      },
      "source": [
        "**Question 3.1.** Write two functions called `slope` and `intercept` that use the equations above. Both functions should have three arguments that take in a Dataframe, label x, and label y."
      ]
    },
    {
      "cell_type": "code",
      "execution_count": 159,
      "id": "17d10b45-1055-431f-9ade-11d7b27c8799",
      "metadata": {
        "deletable": false,
        "id": "17d10b45-1055-431f-9ade-11d7b27c8799",
        "nbgrader": {
          "cell_type": "code",
          "checksum": "6c8925b173be8e2f0679ea797dd634fe",
          "grade": false,
          "grade_id": "cell-57c875d3901815cb",
          "locked": false,
          "schema_version": 3,
          "solution": true,
          "task": false
        }
      },
      "outputs": [],
      "source": [
        "# YOUR CODE HERE\n",
        "import numpy as np\n",
        "\n",
        "def slope(df, x_label, y_label):\n",
        "    \"\"\"Calculate the slope of the regression line.\"\"\"\n",
        "    x = df[x_label]\n",
        "    y = df[y_label]\n",
        "    \n",
        "    # Compute standard deviations\n",
        "    sd_x = np.std(x, ddof=0)  # Population standard deviation\n",
        "    sd_y = np.std(y, ddof=0)\n",
        "    \n",
        "    # Compute correlation coefficient\n",
        "    r = np.corrcoef(x, y)[0, 1]\n",
        "    \n",
        "    return r * (sd_y / sd_x)\n",
        "\n",
        "def intercept(df, x_label, y_label):\n",
        "    \"\"\"Calculate the intercept of the regression line.\"\"\"\n",
        "    x = df[x_label]\n",
        "    y = df[y_label]\n",
        "    \n",
        "    # Compute mean values\n",
        "    mean_x = np.mean(x)\n",
        "    mean_y = np.mean(y)\n",
        "    \n",
        "    # Get slope\n",
        "    b = slope(df, x_label, y_label)\n",
        "    \n",
        "    return mean_y - (b * mean_x)\n"
      ]
    },
    {
      "cell_type": "code",
      "execution_count": 160,
      "id": "728b9c3d-fc11-4e6a-a593-774edf254b9a",
      "metadata": {
        "deletable": false,
        "editable": false,
        "id": "728b9c3d-fc11-4e6a-a593-774edf254b9a",
        "nbgrader": {
          "cell_type": "code",
          "checksum": "0efb83a5962966790ff0aba6019eeb73",
          "grade": false,
          "grade_id": "cell-d4ab24c6f80a3af8",
          "locked": true,
          "schema_version": 3,
          "solution": false,
          "task": false
        }
      },
      "outputs": [
        {
          "data": {
            "text/plain": [
              "(0.6373608969694791, 22.636240549589736)"
            ]
          },
          "execution_count": 160,
          "metadata": {},
          "output_type": "execute_result"
        }
      ],
      "source": [
        "#run this cell\n",
        "family_slope = slope(heights, 'midparentHeight', 'childHeight')\n",
        "family_intercept = intercept(heights, 'midparentHeight', 'childHeight')\n",
        "family_slope, family_intercept"
      ]
    },
    {
      "cell_type": "code",
      "execution_count": 161,
      "id": "f1e7f7dc-9498-4ec9-b136-e2bbadd75823",
      "metadata": {
        "deletable": false,
        "editable": false,
        "id": "f1e7f7dc-9498-4ec9-b136-e2bbadd75823",
        "nbgrader": {
          "cell_type": "code",
          "checksum": "ba871c3b9c1e6f50bde5d336825f1553",
          "grade": true,
          "grade_id": "cell-450631dcec1bfb4c",
          "locked": true,
          "points": 6,
          "schema_version": 3,
          "solution": false,
          "task": false
        }
      },
      "outputs": [],
      "source": [
        "# TEST CELL: do not delete!"
      ]
    },
    {
      "cell_type": "markdown",
      "id": "5d42755e-09ad-48c4-904c-903563c29642",
      "metadata": {
        "deletable": false,
        "editable": false,
        "id": "5d42755e-09ad-48c4-904c-903563c29642",
        "nbgrader": {
          "cell_type": "markdown",
          "checksum": "958b70c7fb9a5fa306014cefe13af694",
          "grade": false,
          "grade_id": "cell-0c432a480a44e62e",
          "locked": true,
          "schema_version": 3,
          "solution": false,
          "task": false
        }
      },
      "source": [
        "The equation for the regression line is $$estimate\\:of\\:child's\\:height = 0.64 * midParent\\:height + 22.64$$ For example, for a midparent height of 70.48 inches, the regression equation predicts the child’s height to be 67.56 inches."
      ]
    },
    {
      "cell_type": "code",
      "execution_count": 162,
      "id": "6a6fc78f-6e25-4167-ab36-68d68e2c85f7",
      "metadata": {
        "deletable": false,
        "editable": false,
        "id": "6a6fc78f-6e25-4167-ab36-68d68e2c85f7",
        "nbgrader": {
          "cell_type": "code",
          "checksum": "01dcb4c14757fbe208b387f5f4b08014",
          "grade": false,
          "grade_id": "cell-1411fa83633b4102",
          "locked": true,
          "schema_version": 3,
          "solution": false,
          "task": false
        }
      },
      "outputs": [
        {
          "data": {
            "text/plain": [
              "67.55743656799862"
            ]
          },
          "execution_count": 162,
          "metadata": {},
          "output_type": "execute_result"
        }
      ],
      "source": [
        "family_slope * 70.48 + family_intercept"
      ]
    },
    {
      "cell_type": "markdown",
      "id": "01c34909-91b8-426a-bf5f-74fd0db28bef",
      "metadata": {
        "deletable": false,
        "editable": false,
        "id": "01c34909-91b8-426a-bf5f-74fd0db28bef",
        "nbgrader": {
          "cell_type": "markdown",
          "checksum": "ea22bc225ca29c3dcdfc68aa1deb03f3",
          "grade": false,
          "grade_id": "cell-4d1a2db61ea6c012",
          "locked": true,
          "schema_version": 3,
          "solution": false,
          "task": false
        }
      },
      "source": [
        "**Question 3.2.** Write a function called `reg_prediction` that takes in one argument as the parent height average and returns the regression equation that predicts the child's height. Then, use that function and a for loop to calculate the regression predictions. Append your answers to `regression_predictions`."
      ]
    },
    {
      "cell_type": "code",
      "execution_count": 163,
      "id": "4df2fc73-4800-4877-b007-576aebcf65c0",
      "metadata": {
        "deletable": false,
        "id": "4df2fc73-4800-4877-b007-576aebcf65c0",
        "nbgrader": {
          "cell_type": "code",
          "checksum": "0cca96fa6f5c2cb2bf73ca61334df283",
          "grade": false,
          "grade_id": "cell-bcea03ff2229def9",
          "locked": false,
          "schema_version": 3,
          "solution": true,
          "task": false
        }
      },
      "outputs": [
        {
          "data": {
            "text/html": [
              "<div>\n",
              "<style scoped>\n",
              "    .dataframe tbody tr th:only-of-type {\n",
              "        vertical-align: middle;\n",
              "    }\n",
              "\n",
              "    .dataframe tbody tr th {\n",
              "        vertical-align: top;\n",
              "    }\n",
              "\n",
              "    .dataframe thead th {\n",
              "        text-align: right;\n",
              "    }\n",
              "</style>\n",
              "<table border=\"1\" class=\"dataframe\">\n",
              "  <thead>\n",
              "    <tr style=\"text-align: right;\">\n",
              "      <th></th>\n",
              "      <th>family</th>\n",
              "      <th>father</th>\n",
              "      <th>mother</th>\n",
              "      <th>midparentHeight</th>\n",
              "      <th>children</th>\n",
              "      <th>childNum</th>\n",
              "      <th>sex</th>\n",
              "      <th>childHeight</th>\n",
              "      <th>Predictions</th>\n",
              "      <th>Regression Predictions</th>\n",
              "    </tr>\n",
              "  </thead>\n",
              "  <tbody>\n",
              "    <tr>\n",
              "      <th>0</th>\n",
              "      <td>1</td>\n",
              "      <td>78.5</td>\n",
              "      <td>67.0</td>\n",
              "      <td>75.43</td>\n",
              "      <td>4</td>\n",
              "      <td>1</td>\n",
              "      <td>male</td>\n",
              "      <td>73.2</td>\n",
              "      <td>70.1000</td>\n",
              "      <td>70.7124</td>\n",
              "    </tr>\n",
              "    <tr>\n",
              "      <th>1</th>\n",
              "      <td>1</td>\n",
              "      <td>78.5</td>\n",
              "      <td>67.0</td>\n",
              "      <td>75.43</td>\n",
              "      <td>4</td>\n",
              "      <td>2</td>\n",
              "      <td>female</td>\n",
              "      <td>69.2</td>\n",
              "      <td>70.1000</td>\n",
              "      <td>70.7124</td>\n",
              "    </tr>\n",
              "    <tr>\n",
              "      <th>2</th>\n",
              "      <td>1</td>\n",
              "      <td>78.5</td>\n",
              "      <td>67.0</td>\n",
              "      <td>75.43</td>\n",
              "      <td>4</td>\n",
              "      <td>3</td>\n",
              "      <td>female</td>\n",
              "      <td>69.0</td>\n",
              "      <td>70.1000</td>\n",
              "      <td>70.7124</td>\n",
              "    </tr>\n",
              "    <tr>\n",
              "      <th>3</th>\n",
              "      <td>1</td>\n",
              "      <td>78.5</td>\n",
              "      <td>67.0</td>\n",
              "      <td>75.43</td>\n",
              "      <td>4</td>\n",
              "      <td>4</td>\n",
              "      <td>female</td>\n",
              "      <td>69.0</td>\n",
              "      <td>70.1000</td>\n",
              "      <td>70.7124</td>\n",
              "    </tr>\n",
              "    <tr>\n",
              "      <th>4</th>\n",
              "      <td>2</td>\n",
              "      <td>75.5</td>\n",
              "      <td>66.5</td>\n",
              "      <td>73.66</td>\n",
              "      <td>4</td>\n",
              "      <td>1</td>\n",
              "      <td>male</td>\n",
              "      <td>73.5</td>\n",
              "      <td>70.4158</td>\n",
              "      <td>69.5842</td>\n",
              "    </tr>\n",
              "    <tr>\n",
              "      <th>...</th>\n",
              "      <td>...</td>\n",
              "      <td>...</td>\n",
              "      <td>...</td>\n",
              "      <td>...</td>\n",
              "      <td>...</td>\n",
              "      <td>...</td>\n",
              "      <td>...</td>\n",
              "      <td>...</td>\n",
              "      <td>...</td>\n",
              "      <td>...</td>\n",
              "    </tr>\n",
              "    <tr>\n",
              "      <th>929</th>\n",
              "      <td>203</td>\n",
              "      <td>62.0</td>\n",
              "      <td>66.0</td>\n",
              "      <td>66.64</td>\n",
              "      <td>3</td>\n",
              "      <td>1</td>\n",
              "      <td>male</td>\n",
              "      <td>64.0</td>\n",
              "      <td>65.1566</td>\n",
              "      <td>65.1100</td>\n",
              "    </tr>\n",
              "    <tr>\n",
              "      <th>930</th>\n",
              "      <td>203</td>\n",
              "      <td>62.0</td>\n",
              "      <td>66.0</td>\n",
              "      <td>66.64</td>\n",
              "      <td>3</td>\n",
              "      <td>2</td>\n",
              "      <td>female</td>\n",
              "      <td>62.0</td>\n",
              "      <td>65.1566</td>\n",
              "      <td>65.1100</td>\n",
              "    </tr>\n",
              "    <tr>\n",
              "      <th>931</th>\n",
              "      <td>203</td>\n",
              "      <td>62.0</td>\n",
              "      <td>66.0</td>\n",
              "      <td>66.64</td>\n",
              "      <td>3</td>\n",
              "      <td>3</td>\n",
              "      <td>female</td>\n",
              "      <td>61.0</td>\n",
              "      <td>65.1566</td>\n",
              "      <td>65.1100</td>\n",
              "    </tr>\n",
              "    <tr>\n",
              "      <th>932</th>\n",
              "      <td>204</td>\n",
              "      <td>62.5</td>\n",
              "      <td>63.0</td>\n",
              "      <td>65.27</td>\n",
              "      <td>2</td>\n",
              "      <td>1</td>\n",
              "      <td>male</td>\n",
              "      <td>66.5</td>\n",
              "      <td>64.2296</td>\n",
              "      <td>64.2368</td>\n",
              "    </tr>\n",
              "    <tr>\n",
              "      <th>933</th>\n",
              "      <td>204</td>\n",
              "      <td>62.5</td>\n",
              "      <td>63.0</td>\n",
              "      <td>65.27</td>\n",
              "      <td>2</td>\n",
              "      <td>2</td>\n",
              "      <td>female</td>\n",
              "      <td>57.0</td>\n",
              "      <td>64.2296</td>\n",
              "      <td>64.2368</td>\n",
              "    </tr>\n",
              "  </tbody>\n",
              "</table>\n",
              "<p>934 rows × 10 columns</p>\n",
              "</div>"
            ],
            "text/plain": [
              "    family  father  mother  midparentHeight  children  childNum     sex  \\\n",
              "0        1    78.5    67.0            75.43         4         1    male   \n",
              "1        1    78.5    67.0            75.43         4         2  female   \n",
              "2        1    78.5    67.0            75.43         4         3  female   \n",
              "3        1    78.5    67.0            75.43         4         4  female   \n",
              "4        2    75.5    66.5            73.66         4         1    male   \n",
              "..     ...     ...     ...              ...       ...       ...     ...   \n",
              "929    203    62.0    66.0            66.64         3         1    male   \n",
              "930    203    62.0    66.0            66.64         3         2  female   \n",
              "931    203    62.0    66.0            66.64         3         3  female   \n",
              "932    204    62.5    63.0            65.27         2         1    male   \n",
              "933    204    62.5    63.0            65.27         2         2  female   \n",
              "\n",
              "     childHeight  Predictions  Regression Predictions  \n",
              "0           73.2      70.1000                 70.7124  \n",
              "1           69.2      70.1000                 70.7124  \n",
              "2           69.0      70.1000                 70.7124  \n",
              "3           69.0      70.1000                 70.7124  \n",
              "4           73.5      70.4158                 69.5842  \n",
              "..           ...          ...                     ...  \n",
              "929         64.0      65.1566                 65.1100  \n",
              "930         62.0      65.1566                 65.1100  \n",
              "931         61.0      65.1566                 65.1100  \n",
              "932         66.5      64.2296                 64.2368  \n",
              "933         57.0      64.2296                 64.2368  \n",
              "\n",
              "[934 rows x 10 columns]"
            ]
          },
          "execution_count": 163,
          "metadata": {},
          "output_type": "execute_result"
        }
      ],
      "source": [
        "# YOUR CODE HERE\n",
        "def reg_prediction(parent_avg_height):\n",
        "    # Calculate the mean and standard deviation of midparent heights and child heights\n",
        "    mean_midparent = np.mean(heights['midparentHeight'])\n",
        "    std_midparent = np.std(heights['midparentHeight'])\n",
        "    mean_child = np.mean(heights['childHeight'])\n",
        "    std_child = np.std(heights['childHeight'])\n",
        "    \n",
        "    # Calculate the correlation coefficient between midparent heights and child heights\n",
        "    r = np.corrcoef(heights['midparentHeight'], heights['childHeight'])[0, 1]\n",
        "    \n",
        "    # Calculate the regression prediction\n",
        "    prediction = mean_child + r * (std_child / std_midparent) * (parent_avg_height - mean_midparent)\n",
        "    \n",
        "    return round(prediction, 4)\n",
        "\n",
        "# Calculate the regression predictions\n",
        "regression_predictions = []\n",
        "\n",
        "for avg_height in heights['midparentHeight']:\n",
        "    prediction = reg_prediction(avg_height)\n",
        "    regression_predictions.append(prediction)\n",
        "\n",
        "# the code below makes a copy of heights and inserts the Predictions column\n",
        "height_and_prediction.insert(9, \"Regression Predictions\", regression_predictions, True)\n",
        "height_and_prediction"
      ]
    },
    {
      "cell_type": "code",
      "execution_count": 164,
      "id": "a283bcdd-39db-400e-a10c-41ed87b86c10",
      "metadata": {
        "deletable": false,
        "editable": false,
        "id": "a283bcdd-39db-400e-a10c-41ed87b86c10",
        "nbgrader": {
          "cell_type": "code",
          "checksum": "f8efe012815ee54ad77d4cdc4fbedd7b",
          "grade": true,
          "grade_id": "cell-466f92eeb9b2200e",
          "locked": true,
          "points": 10,
          "schema_version": 3,
          "solution": false,
          "task": false
        }
      },
      "outputs": [],
      "source": [
        "# TEST CELL: do not delete!"
      ]
    },
    {
      "cell_type": "markdown",
      "id": "82d727a6-212f-430c-8564-f3cb252244c5",
      "metadata": {
        "deletable": false,
        "editable": false,
        "id": "82d727a6-212f-430c-8564-f3cb252244c5",
        "nbgrader": {
          "cell_type": "markdown",
          "checksum": "13f11c0d83e0c6b5123b61e5b5226f60",
          "grade": false,
          "grade_id": "cell-15f721b94c9ffec2",
          "locked": true,
          "schema_version": 3,
          "solution": false,
          "task": false
        }
      },
      "source": [
        "**Question 3.3.** Now, make a scatter plot that includes the original child height data, the predicted data, and the regression prediction data."
      ]
    },
    {
      "cell_type": "code",
      "execution_count": 165,
      "id": "8e843787-2869-41f8-b551-5cdab94d2c87",
      "metadata": {
        "deletable": false,
        "id": "8e843787-2869-41f8-b551-5cdab94d2c87",
        "nbgrader": {
          "cell_type": "code",
          "checksum": "a0cf3b5e8c854457cbc00092c620e68c",
          "grade": true,
          "grade_id": "cell-8134d39b62596452",
          "locked": false,
          "points": 10,
          "schema_version": 3,
          "solution": true,
          "task": false
        }
      },
      "outputs": [
        {
          "data": {
            "image/png": "[encoded data removed]",
            "text/plain": [
              "<Figure size 640x480 with 1 Axes>"
            ]
          },
          "metadata": {},
          "output_type": "display_data"
        }
      ],
      "source": [
        "# YOUR CODE HERE\n",
        "# Scatter plot of the original data\n",
        "plt.scatter(heights['midparentHeight'], heights['childHeight'], s=10, label='Actual Data')\n",
        "plt.xlabel('Parent Average')\n",
        "plt.ylabel('Child Height')\n",
        "\n",
        "# Scatter plot of the predictions\n",
        "plt.scatter(heights['midparentHeight'], child_predictions, color='red', s=10, label='Predictions')\n",
        "\n",
        "# Scatter plot of the regression predictions\n",
        "plt.scatter(heights['midparentHeight'], regression_predictions, color='green', s=10, label='Regression Predictions')\n",
        "\n",
        "# Add legend\n",
        "plt.legend()\n",
        "\n",
        "# Show plot\n",
        "plt.show()"
      ]
    },
    {
      "cell_type": "markdown",
      "id": "5eed6a7c-f13b-454e-b092-8f4f98f6a05a",
      "metadata": {
        "deletable": false,
        "editable": false,
        "id": "5eed6a7c-f13b-454e-b092-8f4f98f6a05a",
        "nbgrader": {
          "cell_type": "markdown",
          "checksum": "dcfb53f86e7931b925d6321d43475a2a",
          "grade": false,
          "grade_id": "cell-51c2dd3350f541d9",
          "locked": true,
          "schema_version": 3,
          "solution": false,
          "task": false
        }
      },
      "source": [
        "# Rubric\n",
        "\n",
        "| Question | Points|\n",
        "|----------|----------|\n",
        "| 1.1.   | 2   |\n",
        "| 1.2.    | 10   |\n",
        "| 1.3.    | 10   |\n",
        "| 1.4.   | 10   |\n",
        "| 1.5.    | 5  |\n",
        "| 1.6.   | 12   |\n",
        "| 2.1.    |5  |\n",
        "| 2.2.   | 10   |\n",
        "| 2.3.   | 4   |\n",
        "| 2.4.    | 10  |\n",
        "| 2.5.   | 12   |\n",
        "| 3.1.    | 6  |\n",
        "| 3.2.   | 10   |\n",
        "| 3.3.  | 10   |    \n",
        "| Total:    | 116   |\n"
      ]
    },
    {
      "cell_type": "markdown",
      "id": "f8d737b8-b6da-4c24-9341-ed47fc71831e",
      "metadata": {
        "deletable": false,
        "editable": false,
        "id": "f8d737b8-b6da-4c24-9341-ed47fc71831e",
        "nbgrader": {
          "cell_type": "markdown",
          "checksum": "8cea6c340752f9fd3bce495bef0d6d41",
          "grade": false,
          "grade_id": "cell-0db5814a4ee1c909",
          "locked": true,
          "schema_version": 3,
          "solution": false,
          "task": false
        }
      },
      "source": [
        "family_heights: data8"
      ]
    }
  ],
  "metadata": {
    "colab": {
      "provenance": []
    },
    "kernelspec": {
      "display_name": "base",
      "language": "python",
      "name": "python3"
    },
    "language_info": {
      "codemirror_mode": {
        "name": "ipython",
        "version": 3
      },
      "file_extension": ".py",
      "mimetype": "text/x-python",
      "name": "python",
      "nbconvert_exporter": "python",
      "pygments_lexer": "ipython3",
      "version": "3.12.2"
    }
  },
  "nbformat": 4,
  "nbformat_minor": 5
}
