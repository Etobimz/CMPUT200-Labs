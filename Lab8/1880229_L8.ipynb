{
  "cells": [
    {
      "cell_type": "markdown",
      "id": "de8920f6-9fc5-4da2-a575-e9af161de679",
      "metadata": {
        "deletable": false,
        "editable": false,
        "id": "de8920f6-9fc5-4da2-a575-e9af161de679",
        "nbgrader": {
          "cell_type": "markdown",
          "checksum": "2e0b015aa412440f4eb10d869fc906d9",
          "grade": false,
          "grade_id": "cell-db0599dc8c67ead5",
          "locked": true,
          "schema_version": 3,
          "solution": false,
          "task": false
        }
      },
      "source": [
        "# Lab 8 Explainability"
      ]
    },
    {
      "cell_type": "markdown",
      "id": "eb4f17c8-4b9e-4d7c-be6b-77768355c96f",
      "metadata": {
        "id": "eb4f17c8-4b9e-4d7c-be6b-77768355c96f"
      },
      "source": [
        "***\n",
        "- **FIRST name**: Abimbola\n",
        "- **LAST name**: Olarinde\n",
        "- **Student ID**: 1880229\n",
        "\n",
        "Leave blank if individual:\n",
        "- **Collaborator names**:\n",
        "- **Collaborator student IDs**:\n",
        "***"
      ]
    },
    {
      "cell_type": "markdown",
      "id": "0beb308c-0c90-498b-a2fc-4f6f7d092c9c",
      "metadata": {
        "deletable": false,
        "editable": false,
        "id": "0beb308c-0c90-498b-a2fc-4f6f7d092c9c",
        "nbgrader": {
          "cell_type": "markdown",
          "checksum": "18b836b9bfb72501cb276129d77e9ec1",
          "grade": false,
          "grade_id": "cell-c66f974ab971ed82",
          "locked": true,
          "schema_version": 3,
          "solution": false,
          "task": false
        }
      },
      "source": [
        "In today's lab, you will learn:\n",
        "\n",
        "1.   Using the LIME package for explanations.\n",
        "\n",
        "For this lab, you'll need the dataset `iris.csv`.\n",
        "\n",
        "### Instructions\n",
        "\n",
        "- **Collaboration**: You must submit your own work. The collaboration policy for the labs is Consultation Collaboration. You may verbally discuss concepts with your classmates, without exchanging written text, code, or detailed advice. You must develop your own solution and submit your own work. All sources of information used including books, websites, students you talked to, must be cited in the submission. Please see the course FAQ document for details on this collaboration policy. We will adhere to current Faculty of Science guidelines on dealing with suspected cases of plagiarism.\n",
        "- **Software**: We highly recommend that students use Google Colab for completing labs and assignments. This is the software used by the TAs in the course, and we can guarantee that there will be no issues with incompatible environments or imports.\n",
        "- **Filling out the Notebook**: You must use this notebook to complete your lab. You will execute the questions in the notebook. The questions might ask for a short answer in text form or for you to write and execute a piece of code. Make sure you enter your answer in either case only in the cell provided.\n",
        "- **Important**:  Do not use a different cell, do not delete cells, and do not create a new cell. Creating new cells for your code is not compatible with the auto-grading system we are using and thus your assignment will not get grading properly and you will lose marks for that question. As a reminder you must remove the raise NotImplementedError() statements from each question when answering.\n",
        "- **Rules for Datasets**: Any datasets used in the lab cannot be imported from cloud storage, e.g google drive, and must be read from a file either on your local computer or uploaded to the google colab notebook. Importing from cloud storage will result in a zero.\n",
        "- **Submission Formatting**: When you are done, you will submit your work from the notebook. Make sure to save your notebook before running it, and then submit on Canvas the notebook file with your work completed. Name your file with your Student ID number, followed by an underscore and L plus the lab number (ex: 1234567_L8.ipynb). Failure to do so will result in your final score being reduced by 50%! Finally your name must be written at the top of the lab or assignment document."
      ]
    },
    {
      "cell_type": "code",
      "execution_count": 225,
      "id": "1fe0fc8d-6e02-49b0-9102-8581fb4ccd98",
      "metadata": {
        "deletable": false,
        "editable": false,
        "id": "1fe0fc8d-6e02-49b0-9102-8581fb4ccd98",
        "nbgrader": {
          "cell_type": "code",
          "checksum": "040d8e7f06ee94c54be104d6bb2ca1c2",
          "grade": false,
          "grade_id": "cell-44ee896b84af9802",
          "locked": true,
          "schema_version": 3,
          "solution": false,
          "task": false
        }
      },
      "outputs": [
        {
          "name": "stdout",
          "output_type": "stream",
          "text": [
            "Requirement already satisfied: lime in /opt/anaconda3/lib/python3.12/site-packages (0.2.0.1)\n",
            "Requirement already satisfied: matplotlib in /opt/anaconda3/lib/python3.12/site-packages (from lime) (3.10.0)\n",
            "Requirement already satisfied: numpy in /opt/anaconda3/lib/python3.12/site-packages (from lime) (1.26.4)\n",
            "Requirement already satisfied: scipy in /opt/anaconda3/lib/python3.12/site-packages (from lime) (1.15.1)\n",
            "Requirement already satisfied: tqdm in /opt/anaconda3/lib/python3.12/site-packages (from lime) (4.66.4)\n",
            "Requirement already satisfied: scikit-learn>=0.18 in /opt/anaconda3/lib/python3.12/site-packages (from lime) (1.6.1)\n",
            "Requirement already satisfied: scikit-image>=0.12 in /opt/anaconda3/lib/python3.12/site-packages (from lime) (0.25.2)\n",
            "Requirement already satisfied: networkx>=3.0 in /opt/anaconda3/lib/python3.12/site-packages (from scikit-image>=0.12->lime) (3.4.2)\n",
            "Requirement already satisfied: pillow>=10.1 in /opt/anaconda3/lib/python3.12/site-packages (from scikit-image>=0.12->lime) (10.3.0)\n",
            "Requirement already satisfied: imageio!=2.35.0,>=2.33 in /opt/anaconda3/lib/python3.12/site-packages (from scikit-image>=0.12->lime) (2.37.0)\n",
            "Requirement already satisfied: tifffile>=2022.8.12 in /opt/anaconda3/lib/python3.12/site-packages (from scikit-image>=0.12->lime) (2025.3.13)\n",
            "Requirement already satisfied: packaging>=21 in /opt/anaconda3/lib/python3.12/site-packages (from scikit-image>=0.12->lime) (23.2)\n",
            "Requirement already satisfied: lazy-loader>=0.4 in /opt/anaconda3/lib/python3.12/site-packages (from scikit-image>=0.12->lime) (0.4)\n",
            "Requirement already satisfied: joblib>=1.2.0 in /opt/anaconda3/lib/python3.12/site-packages (from scikit-learn>=0.18->lime) (1.4.2)\n",
            "Requirement already satisfied: threadpoolctl>=3.1.0 in /opt/anaconda3/lib/python3.12/site-packages (from scikit-learn>=0.18->lime) (3.5.0)\n",
            "Requirement already satisfied: contourpy>=1.0.1 in /opt/anaconda3/lib/python3.12/site-packages (from matplotlib->lime) (1.2.0)\n",
            "Requirement already satisfied: cycler>=0.10 in /opt/anaconda3/lib/python3.12/site-packages (from matplotlib->lime) (0.12.1)\n",
            "Requirement already satisfied: fonttools>=4.22.0 in /opt/anaconda3/lib/python3.12/site-packages (from matplotlib->lime) (4.55.5)\n",
            "Requirement already satisfied: kiwisolver>=1.3.1 in /opt/anaconda3/lib/python3.12/site-packages (from matplotlib->lime) (1.4.8)\n",
            "Requirement already satisfied: pyparsing>=2.3.1 in /opt/anaconda3/lib/python3.12/site-packages (from matplotlib->lime) (3.2.1)\n",
            "Requirement already satisfied: python-dateutil>=2.7 in /opt/anaconda3/lib/python3.12/site-packages (from matplotlib->lime) (2.9.0.post0)\n",
            "Requirement already satisfied: six>=1.5 in /opt/anaconda3/lib/python3.12/site-packages (from python-dateutil>=2.7->matplotlib->lime) (1.16.0)\n"
          ]
        }
      ],
      "source": [
        "#run this cell\n",
        "!pip install lime\n",
        "import sklearn\n",
        "import sklearn.ensemble\n",
        "import numpy as np\n",
        "import pandas as pd\n",
        "import matplotlib.pyplot as plt\n",
        "import seaborn as sns\n",
        "from __future__ import print_function\n",
        "np.random.seed(1)\n",
        "import numpy as np\n",
        "import pandas as pd\n",
        "import matplotlib.pyplot as plt\n",
        "import seaborn as sns\n",
        "from sklearn.datasets import load_iris\n",
        "from sklearn.model_selection import train_test_split\n",
        "from sklearn.preprocessing import StandardScaler\n",
        "from sklearn.ensemble import RandomForestClassifier\n",
        "import lime\n",
        "import lime.lime_tabular\n",
        "\n",
        "np.random.seed(1)"
      ]
    },
    {
      "cell_type": "markdown",
      "id": "222fa798-ea8c-4390-9f98-90ca4161d8dd",
      "metadata": {
        "deletable": false,
        "editable": false,
        "id": "222fa798-ea8c-4390-9f98-90ca4161d8dd",
        "nbgrader": {
          "cell_type": "markdown",
          "checksum": "bab7d250f6cfd2ac207ecc311cdeec0e",
          "grade": false,
          "grade_id": "cell-5be3bc75075107fa",
          "locked": true,
          "schema_version": 3,
          "solution": false,
          "task": false
        }
      },
      "source": [
        "# 1. Pre-processing the Data\n",
        "\n",
        "We will use sklearn's dataset module to load the iris dataset"
      ]
    },
    {
      "cell_type": "code",
      "execution_count": 226,
      "id": "cac4162c-7bd5-4c55-b223-8591dc8d24a4",
      "metadata": {
        "deletable": false,
        "editable": false,
        "id": "cac4162c-7bd5-4c55-b223-8591dc8d24a4",
        "nbgrader": {
          "cell_type": "code",
          "checksum": "95a3fdfcdb405adcab08c57c24ff2d8f",
          "grade": false,
          "grade_id": "cell-0a3776542fbb8cb5",
          "locked": true,
          "schema_version": 3,
          "solution": false,
          "task": false
        }
      },
      "outputs": [
        {
          "name": "stdout",
          "output_type": "stream",
          "text": [
            "   sepal length (cm)  sepal width (cm)  petal length (cm)  petal width (cm)  \\\n",
            "0                5.1               3.5                1.4               0.2   \n",
            "1                4.9               3.0                1.4               0.2   \n",
            "2                4.7               3.2                1.3               0.2   \n",
            "3                4.6               3.1                1.5               0.2   \n",
            "4                5.0               3.6                1.4               0.2   \n",
            "\n",
            "   target  \n",
            "0       0  \n",
            "1       0  \n",
            "2       0  \n",
            "3       0  \n",
            "4       0  \n",
            "(150, 5)\n"
          ]
        }
      ],
      "source": [
        "iris = load_iris()\n",
        "iris_df = pd.DataFrame(iris.data, columns=iris.feature_names)\n",
        "iris_df['target'] = iris.target\n",
        "print(iris_df.head(5))\n",
        "print(iris_df.shape)"
      ]
    },
    {
      "cell_type": "markdown",
      "id": "616369f5-10a5-46e5-b5a9-e7af3c13960a",
      "metadata": {
        "deletable": false,
        "editable": false,
        "id": "616369f5-10a5-46e5-b5a9-e7af3c13960a",
        "nbgrader": {
          "cell_type": "markdown",
          "checksum": "3f6ad188c4843073c0cbbc6814dcfb17",
          "grade": false,
          "grade_id": "cell-bd8c53fb6474ac44",
          "locked": true,
          "schema_version": 3,
          "solution": false,
          "task": false
        }
      },
      "source": [
        "This dataset contains three iris species: setosa, versicolor, and virginica. It also contains the flower's petal length, petal width, sepal length, and sepal width. Our goal in this lab is to use sklearn's Random Forest Classifer to predict what species of iris we have given its measurements.\n",
        "To learn more about Random Forests, see [here](https://www.ibm.com/topics/random-forest).\n",
        "\n",
        "**Question 1.1.** Recall that we denote `X` as our features and `Y` as our target. Separate the dataset into its features and target."
      ]
    },
    {
      "cell_type": "code",
      "execution_count": 227,
      "id": "ab6a7d7e-38f5-4592-a212-ed6281a0cdb0",
      "metadata": {
        "deletable": false,
        "id": "ab6a7d7e-38f5-4592-a212-ed6281a0cdb0",
        "nbgrader": {
          "cell_type": "code",
          "checksum": "e0bf8798c18d9eb58fb371e57cfda990",
          "grade": false,
          "grade_id": "cell-6afb58b4e8a36dba",
          "locked": false,
          "schema_version": 3,
          "solution": true,
          "task": false
        }
      },
      "outputs": [],
      "source": [
        "# YOUR CODE HERE\n",
        "X = pd.DataFrame(iris.data, columns=iris.feature_names)\n",
        "Y = iris_df['target']\n"
      ]
    },
    {
      "cell_type": "code",
      "execution_count": 228,
      "id": "e7bb5c8a-083b-4d62-abf2-f6635c7c4042",
      "metadata": {
        "deletable": false,
        "editable": false,
        "id": "e7bb5c8a-083b-4d62-abf2-f6635c7c4042",
        "nbgrader": {
          "cell_type": "code",
          "checksum": "8a3f72d9e9e10070102ef401806a13d9",
          "grade": true,
          "grade_id": "cell-26582b70e30ab7c9",
          "locked": true,
          "points": 10,
          "schema_version": 3,
          "solution": false,
          "task": false
        }
      },
      "outputs": [],
      "source": [
        "#TEST CELL: do not delete!"
      ]
    },
    {
      "cell_type": "markdown",
      "id": "e05c3032-2773-47c5-a200-2a3b55f35131",
      "metadata": {
        "deletable": false,
        "editable": false,
        "id": "e05c3032-2773-47c5-a200-2a3b55f35131",
        "nbgrader": {
          "cell_type": "markdown",
          "checksum": "286aa4e8adb09533244ca7255edce5a6",
          "grade": false,
          "grade_id": "cell-d9352df3caa10727",
          "locked": true,
          "schema_version": 3,
          "solution": false,
          "task": false
        }
      },
      "source": [
        "# 2. Train\n",
        "\n",
        "We first split our X and Y datasets in two:\n",
        "1. Training set: this subset is used to train the model. It usually makes up 80% of the data;\n",
        "2. Testing set: this subset is used to test the model to see how it performs. It usually makes up 20% of the data.\n",
        "\n",
        "This is done for the features and the targets separately. It's important that the test data is not used to train the model because it could lead to memorizing the data.\n",
        "\n",
        "**Question 2.1.** First import sklearn's [train_test_split](https://scikit-learn.org/stable/modules/generated/sklearn.model_selection.train_test_split.html), then split the data into `X_train`, `X_test`. `Y_train`, and `Y_test` respectively. The parameter `test_size` sets the proportion of data for the testing subset (set to 0.2). The `random_state` parameter controls how much the data is shuffled before being split."
      ]
    },
    {
      "cell_type": "code",
      "execution_count": 229,
      "id": "3b4b9dda-7c5c-46bc-ba96-3d37047689cc",
      "metadata": {
        "deletable": false,
        "id": "3b4b9dda-7c5c-46bc-ba96-3d37047689cc",
        "nbgrader": {
          "cell_type": "code",
          "checksum": "301f9f8cbf5bdfdab2d83a0a84037bf8",
          "grade": true,
          "grade_id": "cell-e22314387eebdded",
          "locked": false,
          "points": 10,
          "schema_version": 3,
          "solution": true,
          "task": false
        }
      },
      "outputs": [],
      "source": [
        "# YOUR CODE HERE\n",
        "X_train, X_test, Y_train, Y_test = train_test_split(X,Y, test_size = 0.2, random_state = 42\n",
        "\n",
        "\n",
        ")"
      ]
    },
    {
      "cell_type": "markdown",
      "id": "4b94462d-3268-422c-b899-c054b27a0113",
      "metadata": {
        "deletable": false,
        "editable": false,
        "id": "4b94462d-3268-422c-b899-c054b27a0113",
        "nbgrader": {
          "cell_type": "markdown",
          "checksum": "ed1b6ec0abc072d3dacc819bfe3757d4",
          "grade": false,
          "grade_id": "cell-7661012db3f24a19",
          "locked": true,
          "schema_version": 3,
          "solution": false,
          "task": false
        }
      },
      "source": [
        "Let's first scale the features"
      ]
    },
    {
      "cell_type": "code",
      "execution_count": 230,
      "id": "725e0c28-5a5b-4692-a8ee-9614a3614261",
      "metadata": {
        "deletable": false,
        "editable": false,
        "id": "725e0c28-5a5b-4692-a8ee-9614a3614261",
        "nbgrader": {
          "cell_type": "code",
          "checksum": "d21bb5b6e57c3919c48e89c563175edf",
          "grade": false,
          "grade_id": "cell-e8c0373f04332663",
          "locked": true,
          "schema_version": 3,
          "solution": false,
          "task": false
        }
      },
      "outputs": [],
      "source": [
        "# Scale features\n",
        "scaler = StandardScaler()\n",
        "X_train_scaled = scaler.fit_transform(X_train)\n",
        "X_test_scaled = scaler.transform(X_test)"
      ]
    },
    {
      "cell_type": "markdown",
      "id": "1c3b190c-5e4d-43b5-900e-07541e395e2b",
      "metadata": {
        "deletable": false,
        "editable": false,
        "id": "1c3b190c-5e4d-43b5-900e-07541e395e2b",
        "nbgrader": {
          "cell_type": "markdown",
          "checksum": "0629cc88a25ac3b08626f5c78832f7b8",
          "grade": false,
          "grade_id": "cell-915c626dee29a00d",
          "locked": true,
          "schema_version": 3,
          "solution": false,
          "task": false
        }
      },
      "source": [
        "## Fit Random Forest model\n",
        "\n",
        "**Question 2.2.** We use the sklearn function `RandomForestClassifer`to fit our random forest classifier.  Set the parameter `n_estimators` to 500 (visit [this link](https://scikit-learn.org/1.5/modules/generated/sklearn.ensemble.RandomForestClassifier.html) if you're having trouble). Assign your answer to `rf_model`."
      ]
    },
    {
      "cell_type": "code",
      "execution_count": 231,
      "id": "d00f4607-1aa6-4bb2-8e84-492c58571efd",
      "metadata": {
        "deletable": false,
        "id": "d00f4607-1aa6-4bb2-8e84-492c58571efd",
        "nbgrader": {
          "cell_type": "code",
          "checksum": "feab4a02452f3d7919138d85df9e7803",
          "grade": true,
          "grade_id": "cell-e87810f790a0d672",
          "locked": false,
          "points": 10,
          "schema_version": 3,
          "solution": true,
          "task": false
        }
      },
      "outputs": [
        {
          "data": {
            "text/html": [
              "<style>#sk-container-id-16 {\n",
              "  /* Definition of color scheme common for light and dark mode */\n",
              "  --sklearn-color-text: #000;\n",
              "  --sklearn-color-text-muted: #666;\n",
              "  --sklearn-color-line: gray;\n",
              "  /* Definition of color scheme for unfitted estimators */\n",
              "  --sklearn-color-unfitted-level-0: #fff5e6;\n",
              "  --sklearn-color-unfitted-level-1: #f6e4d2;\n",
              "  --sklearn-color-unfitted-level-2: #ffe0b3;\n",
              "  --sklearn-color-unfitted-level-3: chocolate;\n",
              "  /* Definition of color scheme for fitted estimators */\n",
              "  --sklearn-color-fitted-level-0: #f0f8ff;\n",
              "  --sklearn-color-fitted-level-1: #d4ebff;\n",
              "  --sklearn-color-fitted-level-2: #b3dbfd;\n",
              "  --sklearn-color-fitted-level-3: cornflowerblue;\n",
              "\n",
              "  /* Specific color for light theme */\n",
              "  --sklearn-color-text-on-default-background: var(--sg-text-color, var(--theme-code-foreground, var(--jp-content-font-color1, black)));\n",
              "  --sklearn-color-background: var(--sg-background-color, var(--theme-background, var(--jp-layout-color0, white)));\n",
              "  --sklearn-color-border-box: var(--sg-text-color, var(--theme-code-foreground, var(--jp-content-font-color1, black)));\n",
              "  --sklearn-color-icon: #696969;\n",
              "\n",
              "  @media (prefers-color-scheme: dark) {\n",
              "    /* Redefinition of color scheme for dark theme */\n",
              "    --sklearn-color-text-on-default-background: var(--sg-text-color, var(--theme-code-foreground, var(--jp-content-font-color1, white)));\n",
              "    --sklearn-color-background: var(--sg-background-color, var(--theme-background, var(--jp-layout-color0, #111)));\n",
              "    --sklearn-color-border-box: var(--sg-text-color, var(--theme-code-foreground, var(--jp-content-font-color1, white)));\n",
              "    --sklearn-color-icon: #878787;\n",
              "  }\n",
              "}\n",
              "\n",
              "#sk-container-id-16 {\n",
              "  color: var(--sklearn-color-text);\n",
              "}\n",
              "\n",
              "#sk-container-id-16 pre {\n",
              "  padding: 0;\n",
              "}\n",
              "\n",
              "#sk-container-id-16 input.sk-hidden--visually {\n",
              "  border: 0;\n",
              "  clip: rect(1px 1px 1px 1px);\n",
              "  clip: rect(1px, 1px, 1px, 1px);\n",
              "  height: 1px;\n",
              "  margin: -1px;\n",
              "  overflow: hidden;\n",
              "  padding: 0;\n",
              "  position: absolute;\n",
              "  width: 1px;\n",
              "}\n",
              "\n",
              "#sk-container-id-16 div.sk-dashed-wrapped {\n",
              "  border: 1px dashed var(--sklearn-color-line);\n",
              "  margin: 0 0.4em 0.5em 0.4em;\n",
              "  box-sizing: border-box;\n",
              "  padding-bottom: 0.4em;\n",
              "  background-color: var(--sklearn-color-background);\n",
              "}\n",
              "\n",
              "#sk-container-id-16 div.sk-container {\n",
              "  /* jupyter's `normalize.less` sets `[hidden] { display: none; }`\n",
              "     but bootstrap.min.css set `[hidden] { display: none !important; }`\n",
              "     so we also need the `!important` here to be able to override the\n",
              "     default hidden behavior on the sphinx rendered scikit-learn.org.\n",
              "     See: https://github.com/scikit-learn/scikit-learn/issues/21755 */\n",
              "  display: inline-block !important;\n",
              "  position: relative;\n",
              "}\n",
              "\n",
              "#sk-container-id-16 div.sk-text-repr-fallback {\n",
              "  display: none;\n",
              "}\n",
              "\n",
              "div.sk-parallel-item,\n",
              "div.sk-serial,\n",
              "div.sk-item {\n",
              "  /* draw centered vertical line to link estimators */\n",
              "  background-image: linear-gradient(var(--sklearn-color-text-on-default-background), var(--sklearn-color-text-on-default-background));\n",
              "  background-size: 2px 100%;\n",
              "  background-repeat: no-repeat;\n",
              "  background-position: center center;\n",
              "}\n",
              "\n",
              "/* Parallel-specific style estimator block */\n",
              "\n",
              "#sk-container-id-16 div.sk-parallel-item::after {\n",
              "  content: \"\";\n",
              "  width: 100%;\n",
              "  border-bottom: 2px solid var(--sklearn-color-text-on-default-background);\n",
              "  flex-grow: 1;\n",
              "}\n",
              "\n",
              "#sk-container-id-16 div.sk-parallel {\n",
              "  display: flex;\n",
              "  align-items: stretch;\n",
              "  justify-content: center;\n",
              "  background-color: var(--sklearn-color-background);\n",
              "  position: relative;\n",
              "}\n",
              "\n",
              "#sk-container-id-16 div.sk-parallel-item {\n",
              "  display: flex;\n",
              "  flex-direction: column;\n",
              "}\n",
              "\n",
              "#sk-container-id-16 div.sk-parallel-item:first-child::after {\n",
              "  align-self: flex-end;\n",
              "  width: 50%;\n",
              "}\n",
              "\n",
              "#sk-container-id-16 div.sk-parallel-item:last-child::after {\n",
              "  align-self: flex-start;\n",
              "  width: 50%;\n",
              "}\n",
              "\n",
              "#sk-container-id-16 div.sk-parallel-item:only-child::after {\n",
              "  width: 0;\n",
              "}\n",
              "\n",
              "/* Serial-specific style estimator block */\n",
              "\n",
              "#sk-container-id-16 div.sk-serial {\n",
              "  display: flex;\n",
              "  flex-direction: column;\n",
              "  align-items: center;\n",
              "  background-color: var(--sklearn-color-background);\n",
              "  padding-right: 1em;\n",
              "  padding-left: 1em;\n",
              "}\n",
              "\n",
              "\n",
              "/* Toggleable style: style used for estimator/Pipeline/ColumnTransformer box that is\n",
              "clickable and can be expanded/collapsed.\n",
              "- Pipeline and ColumnTransformer use this feature and define the default style\n",
              "- Estimators will overwrite some part of the style using the `sk-estimator` class\n",
              "*/\n",
              "\n",
              "/* Pipeline and ColumnTransformer style (default) */\n",
              "\n",
              "#sk-container-id-16 div.sk-toggleable {\n",
              "  /* Default theme specific background. It is overwritten whether we have a\n",
              "  specific estimator or a Pipeline/ColumnTransformer */\n",
              "  background-color: var(--sklearn-color-background);\n",
              "}\n",
              "\n",
              "/* Toggleable label */\n",
              "#sk-container-id-16 label.sk-toggleable__label {\n",
              "  cursor: pointer;\n",
              "  display: flex;\n",
              "  width: 100%;\n",
              "  margin-bottom: 0;\n",
              "  padding: 0.5em;\n",
              "  box-sizing: border-box;\n",
              "  text-align: center;\n",
              "  align-items: start;\n",
              "  justify-content: space-between;\n",
              "  gap: 0.5em;\n",
              "}\n",
              "\n",
              "#sk-container-id-16 label.sk-toggleable__label .caption {\n",
              "  font-size: 0.6rem;\n",
              "  font-weight: lighter;\n",
              "  color: var(--sklearn-color-text-muted);\n",
              "}\n",
              "\n",
              "#sk-container-id-16 label.sk-toggleable__label-arrow:before {\n",
              "  /* Arrow on the left of the label */\n",
              "  content: \"▸\";\n",
              "  float: left;\n",
              "  margin-right: 0.25em;\n",
              "  color: var(--sklearn-color-icon);\n",
              "}\n",
              "\n",
              "#sk-container-id-16 label.sk-toggleable__label-arrow:hover:before {\n",
              "  color: var(--sklearn-color-text);\n",
              "}\n",
              "\n",
              "/* Toggleable content - dropdown */\n",
              "\n",
              "#sk-container-id-16 div.sk-toggleable__content {\n",
              "  max-height: 0;\n",
              "  max-width: 0;\n",
              "  overflow: hidden;\n",
              "  text-align: left;\n",
              "  /* unfitted */\n",
              "  background-color: var(--sklearn-color-unfitted-level-0);\n",
              "}\n",
              "\n",
              "#sk-container-id-16 div.sk-toggleable__content.fitted {\n",
              "  /* fitted */\n",
              "  background-color: var(--sklearn-color-fitted-level-0);\n",
              "}\n",
              "\n",
              "#sk-container-id-16 div.sk-toggleable__content pre {\n",
              "  margin: 0.2em;\n",
              "  border-radius: 0.25em;\n",
              "  color: var(--sklearn-color-text);\n",
              "  /* unfitted */\n",
              "  background-color: var(--sklearn-color-unfitted-level-0);\n",
              "}\n",
              "\n",
              "#sk-container-id-16 div.sk-toggleable__content.fitted pre {\n",
              "  /* unfitted */\n",
              "  background-color: var(--sklearn-color-fitted-level-0);\n",
              "}\n",
              "\n",
              "#sk-container-id-16 input.sk-toggleable__control:checked~div.sk-toggleable__content {\n",
              "  /* Expand drop-down */\n",
              "  max-height: 200px;\n",
              "  max-width: 100%;\n",
              "  overflow: auto;\n",
              "}\n",
              "\n",
              "#sk-container-id-16 input.sk-toggleable__control:checked~label.sk-toggleable__label-arrow:before {\n",
              "  content: \"▾\";\n",
              "}\n",
              "\n",
              "/* Pipeline/ColumnTransformer-specific style */\n",
              "\n",
              "#sk-container-id-16 div.sk-label input.sk-toggleable__control:checked~label.sk-toggleable__label {\n",
              "  color: var(--sklearn-color-text);\n",
              "  background-color: var(--sklearn-color-unfitted-level-2);\n",
              "}\n",
              "\n",
              "#sk-container-id-16 div.sk-label.fitted input.sk-toggleable__control:checked~label.sk-toggleable__label {\n",
              "  background-color: var(--sklearn-color-fitted-level-2);\n",
              "}\n",
              "\n",
              "/* Estimator-specific style */\n",
              "\n",
              "/* Colorize estimator box */\n",
              "#sk-container-id-16 div.sk-estimator input.sk-toggleable__control:checked~label.sk-toggleable__label {\n",
              "  /* unfitted */\n",
              "  background-color: var(--sklearn-color-unfitted-level-2);\n",
              "}\n",
              "\n",
              "#sk-container-id-16 div.sk-estimator.fitted input.sk-toggleable__control:checked~label.sk-toggleable__label {\n",
              "  /* fitted */\n",
              "  background-color: var(--sklearn-color-fitted-level-2);\n",
              "}\n",
              "\n",
              "#sk-container-id-16 div.sk-label label.sk-toggleable__label,\n",
              "#sk-container-id-16 div.sk-label label {\n",
              "  /* The background is the default theme color */\n",
              "  color: var(--sklearn-color-text-on-default-background);\n",
              "}\n",
              "\n",
              "/* On hover, darken the color of the background */\n",
              "#sk-container-id-16 div.sk-label:hover label.sk-toggleable__label {\n",
              "  color: var(--sklearn-color-text);\n",
              "  background-color: var(--sklearn-color-unfitted-level-2);\n",
              "}\n",
              "\n",
              "/* Label box, darken color on hover, fitted */\n",
              "#sk-container-id-16 div.sk-label.fitted:hover label.sk-toggleable__label.fitted {\n",
              "  color: var(--sklearn-color-text);\n",
              "  background-color: var(--sklearn-color-fitted-level-2);\n",
              "}\n",
              "\n",
              "/* Estimator label */\n",
              "\n",
              "#sk-container-id-16 div.sk-label label {\n",
              "  font-family: monospace;\n",
              "  font-weight: bold;\n",
              "  display: inline-block;\n",
              "  line-height: 1.2em;\n",
              "}\n",
              "\n",
              "#sk-container-id-16 div.sk-label-container {\n",
              "  text-align: center;\n",
              "}\n",
              "\n",
              "/* Estimator-specific */\n",
              "#sk-container-id-16 div.sk-estimator {\n",
              "  font-family: monospace;\n",
              "  border: 1px dotted var(--sklearn-color-border-box);\n",
              "  border-radius: 0.25em;\n",
              "  box-sizing: border-box;\n",
              "  margin-bottom: 0.5em;\n",
              "  /* unfitted */\n",
              "  background-color: var(--sklearn-color-unfitted-level-0);\n",
              "}\n",
              "\n",
              "#sk-container-id-16 div.sk-estimator.fitted {\n",
              "  /* fitted */\n",
              "  background-color: var(--sklearn-color-fitted-level-0);\n",
              "}\n",
              "\n",
              "/* on hover */\n",
              "#sk-container-id-16 div.sk-estimator:hover {\n",
              "  /* unfitted */\n",
              "  background-color: var(--sklearn-color-unfitted-level-2);\n",
              "}\n",
              "\n",
              "#sk-container-id-16 div.sk-estimator.fitted:hover {\n",
              "  /* fitted */\n",
              "  background-color: var(--sklearn-color-fitted-level-2);\n",
              "}\n",
              "\n",
              "/* Specification for estimator info (e.g. \"i\" and \"?\") */\n",
              "\n",
              "/* Common style for \"i\" and \"?\" */\n",
              "\n",
              ".sk-estimator-doc-link,\n",
              "a:link.sk-estimator-doc-link,\n",
              "a:visited.sk-estimator-doc-link {\n",
              "  float: right;\n",
              "  font-size: smaller;\n",
              "  line-height: 1em;\n",
              "  font-family: monospace;\n",
              "  background-color: var(--sklearn-color-background);\n",
              "  border-radius: 1em;\n",
              "  height: 1em;\n",
              "  width: 1em;\n",
              "  text-decoration: none !important;\n",
              "  margin-left: 0.5em;\n",
              "  text-align: center;\n",
              "  /* unfitted */\n",
              "  border: var(--sklearn-color-unfitted-level-1) 1pt solid;\n",
              "  color: var(--sklearn-color-unfitted-level-1);\n",
              "}\n",
              "\n",
              ".sk-estimator-doc-link.fitted,\n",
              "a:link.sk-estimator-doc-link.fitted,\n",
              "a:visited.sk-estimator-doc-link.fitted {\n",
              "  /* fitted */\n",
              "  border: var(--sklearn-color-fitted-level-1) 1pt solid;\n",
              "  color: var(--sklearn-color-fitted-level-1);\n",
              "}\n",
              "\n",
              "/* On hover */\n",
              "div.sk-estimator:hover .sk-estimator-doc-link:hover,\n",
              ".sk-estimator-doc-link:hover,\n",
              "div.sk-label-container:hover .sk-estimator-doc-link:hover,\n",
              ".sk-estimator-doc-link:hover {\n",
              "  /* unfitted */\n",
              "  background-color: var(--sklearn-color-unfitted-level-3);\n",
              "  color: var(--sklearn-color-background);\n",
              "  text-decoration: none;\n",
              "}\n",
              "\n",
              "div.sk-estimator.fitted:hover .sk-estimator-doc-link.fitted:hover,\n",
              ".sk-estimator-doc-link.fitted:hover,\n",
              "div.sk-label-container:hover .sk-estimator-doc-link.fitted:hover,\n",
              ".sk-estimator-doc-link.fitted:hover {\n",
              "  /* fitted */\n",
              "  background-color: var(--sklearn-color-fitted-level-3);\n",
              "  color: var(--sklearn-color-background);\n",
              "  text-decoration: none;\n",
              "}\n",
              "\n",
              "/* Span, style for the box shown on hovering the info icon */\n",
              ".sk-estimator-doc-link span {\n",
              "  display: none;\n",
              "  z-index: 9999;\n",
              "  position: relative;\n",
              "  font-weight: normal;\n",
              "  right: .2ex;\n",
              "  padding: .5ex;\n",
              "  margin: .5ex;\n",
              "  width: min-content;\n",
              "  min-width: 20ex;\n",
              "  max-width: 50ex;\n",
              "  color: var(--sklearn-color-text);\n",
              "  box-shadow: 2pt 2pt 4pt #999;\n",
              "  /* unfitted */\n",
              "  background: var(--sklearn-color-unfitted-level-0);\n",
              "  border: .5pt solid var(--sklearn-color-unfitted-level-3);\n",
              "}\n",
              "\n",
              ".sk-estimator-doc-link.fitted span {\n",
              "  /* fitted */\n",
              "  background: var(--sklearn-color-fitted-level-0);\n",
              "  border: var(--sklearn-color-fitted-level-3);\n",
              "}\n",
              "\n",
              ".sk-estimator-doc-link:hover span {\n",
              "  display: block;\n",
              "}\n",
              "\n",
              "/* \"?\"-specific style due to the `<a>` HTML tag */\n",
              "\n",
              "#sk-container-id-16 a.estimator_doc_link {\n",
              "  float: right;\n",
              "  font-size: 1rem;\n",
              "  line-height: 1em;\n",
              "  font-family: monospace;\n",
              "  background-color: var(--sklearn-color-background);\n",
              "  border-radius: 1rem;\n",
              "  height: 1rem;\n",
              "  width: 1rem;\n",
              "  text-decoration: none;\n",
              "  /* unfitted */\n",
              "  color: var(--sklearn-color-unfitted-level-1);\n",
              "  border: var(--sklearn-color-unfitted-level-1) 1pt solid;\n",
              "}\n",
              "\n",
              "#sk-container-id-16 a.estimator_doc_link.fitted {\n",
              "  /* fitted */\n",
              "  border: var(--sklearn-color-fitted-level-1) 1pt solid;\n",
              "  color: var(--sklearn-color-fitted-level-1);\n",
              "}\n",
              "\n",
              "/* On hover */\n",
              "#sk-container-id-16 a.estimator_doc_link:hover {\n",
              "  /* unfitted */\n",
              "  background-color: var(--sklearn-color-unfitted-level-3);\n",
              "  color: var(--sklearn-color-background);\n",
              "  text-decoration: none;\n",
              "}\n",
              "\n",
              "#sk-container-id-16 a.estimator_doc_link.fitted:hover {\n",
              "  /* fitted */\n",
              "  background-color: var(--sklearn-color-fitted-level-3);\n",
              "}\n",
              "</style><div id=\"sk-container-id-16\" class=\"sk-top-container\"><div class=\"sk-text-repr-fallback\"><pre>RandomForestClassifier(n_estimators=500, random_state=42)</pre><b>In a Jupyter environment, please rerun this cell to show the HTML representation or trust the notebook. <br />On GitHub, the HTML representation is unable to render, please try loading this page with nbviewer.org.</b></div><div class=\"sk-container\" hidden><div class=\"sk-item\"><div class=\"sk-estimator fitted sk-toggleable\"><input class=\"sk-toggleable__control sk-hidden--visually\" id=\"sk-estimator-id-16\" type=\"checkbox\" checked><label for=\"sk-estimator-id-16\" class=\"sk-toggleable__label fitted sk-toggleable__label-arrow\"><div><div>RandomForestClassifier</div></div><div><a class=\"sk-estimator-doc-link fitted\" rel=\"noreferrer\" target=\"_blank\" href=\"https://scikit-learn.org/1.6/modules/generated/sklearn.ensemble.RandomForestClassifier.html\">?<span>Documentation for RandomForestClassifier</span></a><span class=\"sk-estimator-doc-link fitted\">i<span>Fitted</span></span></div></label><div class=\"sk-toggleable__content fitted\"><pre>RandomForestClassifier(n_estimators=500, random_state=42)</pre></div> </div></div></div></div>"
            ],
            "text/plain": [
              "RandomForestClassifier(n_estimators=500, random_state=42)"
            ]
          },
          "execution_count": 231,
          "metadata": {},
          "output_type": "execute_result"
        }
      ],
      "source": [
        "# YOUR CODE HERE\n",
        "rf_model = RandomForestClassifier(n_estimators=500, random_state=42)\n",
        "rf_model.fit(X_train, Y_train)\n",
        "\n"
      ]
    },
    {
      "cell_type": "markdown",
      "id": "c39c3b32-7564-4d9b-9ad2-69fa8292f85c",
      "metadata": {
        "deletable": false,
        "editable": false,
        "id": "c39c3b32-7564-4d9b-9ad2-69fa8292f85c",
        "nbgrader": {
          "cell_type": "markdown",
          "checksum": "b3b8b45ba86b96a2bba5b1ae15cc2851",
          "grade": false,
          "grade_id": "cell-5159492a138e959e",
          "locked": true,
          "schema_version": 3,
          "solution": false,
          "task": false
        }
      },
      "source": [
        "# 3. Predicting and Assessing\n",
        "\n",
        "Now that we have our model, we can start making predictions on our iris data.\n",
        "\n",
        "**Question 3.1.** Use the `.predict` method to make predictions and assign your answer to `Y_pred`. Make sure you use the right feature subset (training vs. testing)!"
      ]
    },
    {
      "cell_type": "code",
      "execution_count": 232,
      "id": "38e770f5-a96e-430e-aec1-415f208d6e87",
      "metadata": {
        "deletable": false,
        "id": "38e770f5-a96e-430e-aec1-415f208d6e87",
        "nbgrader": {
          "cell_type": "code",
          "checksum": "9595a6d13e885b6f34e891bb7b0e91f7",
          "grade": true,
          "grade_id": "cell-b12dc213355feb08",
          "locked": false,
          "points": 5,
          "schema_version": 3,
          "solution": true,
          "task": false
        }
      },
      "outputs": [
        {
          "name": "stdout",
          "output_type": "stream",
          "text": [
            "\n",
            "Y_pred:  [1 0 2 1 1 0 1 2 1 1 2 0 0 0 0 1 2 1 1 2 0 2 0 2 2 2 2 2 0 0]\n"
          ]
        }
      ],
      "source": [
        "# YOUR CODE HERE\n",
        "Y_pred = rf_model.predict(X_test)\n",
        "print(\"\\nY_pred: \", Y_pred)"
      ]
    },
    {
      "cell_type": "markdown",
      "id": "2131d2ee-7d8f-4c9b-b2f6-f0a97dc03b65",
      "metadata": {
        "deletable": false,
        "editable": false,
        "id": "2131d2ee-7d8f-4c9b-b2f6-f0a97dc03b65",
        "nbgrader": {
          "cell_type": "markdown",
          "checksum": "16b867953c090e1366ce925d9b78f166",
          "grade": false,
          "grade_id": "cell-6ddb1c637bfc2a90",
          "locked": true,
          "schema_version": 3,
          "solution": false,
          "task": false
        }
      },
      "source": [
        "We print the X_test subset and Y_pred to better understand what's going on. X_test contains 30 random flowers and their metrics. Y_pred is an array of 30 predictions where 0 denotes setosa, 1 denotes versicolor, and 2 denotes verginica."
      ]
    },
    {
      "cell_type": "markdown",
      "id": "1b301f77-d921-4adb-866b-1681661c56ff",
      "metadata": {
        "deletable": false,
        "editable": false,
        "id": "1b301f77-d921-4adb-866b-1681661c56ff",
        "nbgrader": {
          "cell_type": "markdown",
          "checksum": "21db6d426a6844b311a17b4fab0f3a05",
          "grade": false,
          "grade_id": "cell-6fa53dd3d683fd36",
          "locked": true,
          "schema_version": 3,
          "solution": false,
          "task": false
        }
      },
      "source": [
        "## Explainations\n",
        "\n",
        "We first need to create the explainer from the lime module."
      ]
    },
    {
      "cell_type": "code",
      "execution_count": 233,
      "id": "e8d3db13-4621-49dc-914b-4533e40f0eaf",
      "metadata": {
        "deletable": false,
        "editable": false,
        "id": "e8d3db13-4621-49dc-914b-4533e40f0eaf",
        "nbgrader": {
          "cell_type": "code",
          "checksum": "d010c024d6da0ec5624c185dc4666fb3",
          "grade": false,
          "grade_id": "cell-2d6976d2cfbc624f",
          "locked": true,
          "schema_version": 3,
          "solution": false,
          "task": false
        }
      },
      "outputs": [],
      "source": [
        "explainer = lime.lime_tabular.LimeTabularExplainer(\n",
        "    X_train_scaled,\n",
        "    feature_names=X.columns,\n",
        "    class_names=iris.target_names,\n",
        "    mode='classification'\n",
        ")"
      ]
    },
    {
      "cell_type": "markdown",
      "id": "9356dee5-c661-4e86-868e-3976df05406f",
      "metadata": {
        "deletable": false,
        "editable": false,
        "id": "9356dee5-c661-4e86-868e-3976df05406f",
        "nbgrader": {
          "cell_type": "markdown",
          "checksum": "3be707b3784e60e4f7c8d82f87ec786c",
          "grade": false,
          "grade_id": "cell-4022a3c4c8a446df",
          "locked": true,
          "schema_version": 3,
          "solution": false,
          "task": false
        }
      },
      "source": [
        "Now we choose an instance to explain, say the first one in the test set.   "
      ]
    },
    {
      "cell_type": "code",
      "execution_count": 234,
      "id": "288f4f17-742a-4014-b972-613da8acea42",
      "metadata": {
        "id": "288f4f17-742a-4014-b972-613da8acea42"
      },
      "outputs": [
        {
          "name": "stdout",
          "output_type": "stream",
          "text": [
            "Predicted class for instance 0: [0]\n",
            "[ 0.35451684 -0.58505976  0.55777524  0.02224751]\n"
          ]
        },
        {
          "name": "stderr",
          "output_type": "stream",
          "text": [
            "/opt/anaconda3/lib/python3.12/site-packages/sklearn/utils/validation.py:2739: UserWarning: X does not have valid feature names, but RandomForestClassifier was fitted with feature names\n",
            "  warnings.warn(\n"
          ]
        }
      ],
      "source": [
        "instance = X_test_scaled[0]\n",
        "print(\"Predicted class for instance 0:\", rf_model.predict([instance]))\n",
        "print(instance)"
      ]
    },
    {
      "cell_type": "code",
      "execution_count": 235,
      "id": "3f057d42-5986-467d-828f-c9eb8b0b41d9",
      "metadata": {
        "id": "3f057d42-5986-467d-828f-c9eb8b0b41d9"
      },
      "outputs": [
        {
          "name": "stderr",
          "output_type": "stream",
          "text": [
            "/opt/anaconda3/lib/python3.12/site-packages/sklearn/utils/validation.py:2739: UserWarning: X does not have valid feature names, but RandomForestClassifier was fitted with feature names\n",
            "  warnings.warn(\n"
          ]
        },
        {
          "data": {
            "image/png": "[encoded data removed]",
            "text/plain": [
              "<Figure size 640x480 with 1 Axes>"
            ]
          },
          "metadata": {},
          "output_type": "display_data"
        },
        {
          "name": "stdout",
          "output_type": "stream",
          "text": [
            "[('-1.18 < petal width (cm) <= 0.16', -0.11817062382156608), ('-0.07 < sepal length (cm) <= 0.72', -0.010561818900076275), ('sepal width (cm) <= -0.59', 0.0031071096602332277), ('0.30 < petal length (cm) <= 0.79', 0.00240713586060737)]\n"
          ]
        }
      ],
      "source": [
        "exp = explainer.explain_instance(instance, rf_model.predict_proba, num_features=4)\n",
        "\n",
        "# Visualize explanation\n",
        "exp.as_pyplot_figure()\n",
        "plt.show()\n",
        "\n",
        "# Print feature importance\n",
        "print(exp.as_list())"
      ]
    },
    {
      "cell_type": "markdown",
      "id": "ab42b51e-e7b2-4c62-8570-8103619ca593",
      "metadata": {
        "deletable": false,
        "editable": false,
        "id": "ab42b51e-e7b2-4c62-8570-8103619ca593",
        "nbgrader": {
          "cell_type": "markdown",
          "checksum": "682f62031bbcd48c569c582ef4f8fc02",
          "grade": false,
          "grade_id": "cell-b52351c16b8187fa",
          "locked": true,
          "schema_version": 3,
          "solution": false,
          "task": false
        }
      },
      "source": [
        "**Question 3.2**\n",
        "Write an explanation for what you see in the visulatization"
      ]
    },
    {
      "cell_type": "markdown",
      "id": "f26194a1-2308-400f-b7a4-16d7683280c0",
      "metadata": {
        "deletable": false,
        "id": "f26194a1-2308-400f-b7a4-16d7683280c0",
        "nbgrader": {
          "cell_type": "markdown",
          "checksum": "aeb46a6203598541bba13769721c23bd",
          "grade": true,
          "grade_id": "cell-be2c7b152bc2ff9b",
          "locked": false,
          "points": 15,
          "schema_version": 3,
          "solution": true,
          "task": false
        }
      },
      "source": [
        "YOUR ANSWER HERE\n",
        "\n",
        "The model predicted this iris as versicolor for  \"instance = X_test_scaled[2]\", and the visualization explains why. The most influential feature was petal width greater than 0.82, which strongly supported the prediction. Other features like sepal length and petal length had small negative influences but weren’t enough to outweigh the strong positive contribution of petal width. This means the model relied mostly on petal width to make its decision for this specific flower."
      ]
    },
    {
      "cell_type": "markdown",
      "id": "59afa479-9f09-4d9a-b03e-2844a6f4597e",
      "metadata": {
        "deletable": false,
        "editable": false,
        "id": "59afa479-9f09-4d9a-b03e-2844a6f4597e",
        "nbgrader": {
          "cell_type": "markdown",
          "checksum": "ca9edafd399f48ed7445df1340e9094f",
          "grade": false,
          "grade_id": "cell-33bda3ccab6eab27",
          "locked": true,
          "schema_version": 3,
          "solution": false,
          "task": false
        }
      },
      "source": [
        "**Question 3.3** Now get an explanation for another instance and write an explanation of what you see in the visualization."
      ]
    },
    {
      "cell_type": "markdown",
      "id": "9a1f90f1-6299-4ce2-8c1d-42382d60ae25",
      "metadata": {
        "deletable": false,
        "id": "9a1f90f1-6299-4ce2-8c1d-42382d60ae25",
        "nbgrader": {
          "cell_type": "markdown",
          "checksum": "3eb32a249c986ca1b08487d1aa83a3d4",
          "grade": true,
          "grade_id": "cell-f7270575d3d68314",
          "locked": false,
          "points": 15,
          "schema_version": 3,
          "solution": true,
          "task": false
        }
      },
      "source": [
        "YOUR ANSWER HERE\n",
        "\n",
        "\n",
        "The model predicted this iris as versicolor for  \"instance = X_test_scaled[0]\". However, most of the features shown (like petal width and sepal length) had a negative impact on the prediction. The strongest negative factor was petal width between -1.18 and 0.16, which pushed the prediction away from versicolor. Smaller positive contributions came from sepal width and petal length. This tells us that the model predicted versicolor even though most features didn’t strongly support it, which may suggest some ambiguity in the data for this instance."
      ]
    },
    {
      "cell_type": "markdown",
      "id": "220770f8-91c2-46de-be2b-ac4f07e0107d",
      "metadata": {
        "deletable": false,
        "editable": false,
        "id": "220770f8-91c2-46de-be2b-ac4f07e0107d",
        "nbgrader": {
          "cell_type": "markdown",
          "checksum": "3a305983f6523072a373080860958c4b",
          "grade": false,
          "grade_id": "cell-f1d76790c28d9da2",
          "locked": true,
          "schema_version": 3,
          "solution": false,
          "task": false
        }
      },
      "source": [
        "# Rubric\n",
        "\n",
        "| Question | Points|\n",
        "|----------|----------|\n",
        "| 1.1.    | 10   |\n",
        "| 2.1.    | 10   |\n",
        "| 2.2.    | 10   |\n",
        "| 3.1.    | 5   |\n",
        "| 3.2.    | 15   |\n",
        "| 3.3.    | 15   |\n",
        "| Total:    | 65   |"
      ]
    }
  ],
  "metadata": {
    "colab": {
      "provenance": []
    },
    "kernelspec": {
      "display_name": "base",
      "language": "python",
      "name": "python3"
    },
    "language_info": {
      "codemirror_mode": {
        "name": "ipython",
        "version": 3
      },
      "file_extension": ".py",
      "mimetype": "text/x-python",
      "name": "python",
      "nbconvert_exporter": "python",
      "pygments_lexer": "ipython3",
      "version": "3.12.2"
    }
  },
  "nbformat": 4,
  "nbformat_minor": 5
}
